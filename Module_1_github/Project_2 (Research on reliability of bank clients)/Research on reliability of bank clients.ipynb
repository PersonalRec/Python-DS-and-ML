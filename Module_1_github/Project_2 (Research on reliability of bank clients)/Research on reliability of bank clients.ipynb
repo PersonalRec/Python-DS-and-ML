{
 "cells": [
  {
   "cell_type": "markdown",
   "metadata": {},
   "source": [
    "# <mark>Attention!</mark>\n",
    "\n",
    "This project was originally made in the Russian language and was translated using Google translator.I didn't have too much time to check whether everything is super correct.\n",
    "\n",
    "P.S. Most of the projects starting from `Module 2` are made in English."
   ]
  },
  {
   "cell_type": "markdown",
   "metadata": {},
   "source": [
    "# Project description\n",
    "Your project is to prepare a report for a bank’s loan division. You’ll need to find out if a customer’s marital status and number of children have an impact on whether they will default on a loan. The bank already has some data on customers’ credit worthiness.\n",
    "Your report will be considered when building a **credit score** for a potential customer. A **credit score** is used to evaluate the ability of a potential borrower to repay their loan."
   ]
  },
  {
   "cell_type": "markdown",
   "metadata": {},
   "source": [
    "## Step 1. Data overview"
   ]
  },
  {
   "cell_type": "code",
   "execution_count": 1,
   "metadata": {
    "scrolled": false
   },
   "outputs": [
    {
     "data": {
      "text/html": [
       "<div>\n",
       "<style scoped>\n",
       "    .dataframe tbody tr th:only-of-type {\n",
       "        vertical-align: middle;\n",
       "    }\n",
       "\n",
       "    .dataframe tbody tr th {\n",
       "        vertical-align: top;\n",
       "    }\n",
       "\n",
       "    .dataframe thead th {\n",
       "        text-align: right;\n",
       "    }\n",
       "</style>\n",
       "<table border=\"1\" class=\"dataframe\">\n",
       "  <thead>\n",
       "    <tr style=\"text-align: right;\">\n",
       "      <th></th>\n",
       "      <th>children</th>\n",
       "      <th>days_employed</th>\n",
       "      <th>dob_years</th>\n",
       "      <th>education</th>\n",
       "      <th>education_id</th>\n",
       "      <th>family_status</th>\n",
       "      <th>family_status_id</th>\n",
       "      <th>gender</th>\n",
       "      <th>income_type</th>\n",
       "      <th>debt</th>\n",
       "      <th>total_income</th>\n",
       "      <th>purpose</th>\n",
       "    </tr>\n",
       "  </thead>\n",
       "  <tbody>\n",
       "    <tr>\n",
       "      <th>0</th>\n",
       "      <td>1</td>\n",
       "      <td>-8437.673028</td>\n",
       "      <td>42</td>\n",
       "      <td>bachelor's degree</td>\n",
       "      <td>0</td>\n",
       "      <td>married</td>\n",
       "      <td>0</td>\n",
       "      <td>F</td>\n",
       "      <td>employee</td>\n",
       "      <td>0</td>\n",
       "      <td>40620.102</td>\n",
       "      <td>purchase of the house</td>\n",
       "    </tr>\n",
       "    <tr>\n",
       "      <th>1</th>\n",
       "      <td>1</td>\n",
       "      <td>-4024.803754</td>\n",
       "      <td>36</td>\n",
       "      <td>secondary education</td>\n",
       "      <td>1</td>\n",
       "      <td>married</td>\n",
       "      <td>0</td>\n",
       "      <td>F</td>\n",
       "      <td>employee</td>\n",
       "      <td>0</td>\n",
       "      <td>17932.802</td>\n",
       "      <td>car purchase</td>\n",
       "    </tr>\n",
       "    <tr>\n",
       "      <th>2</th>\n",
       "      <td>0</td>\n",
       "      <td>-5623.422610</td>\n",
       "      <td>33</td>\n",
       "      <td>Secondary Education</td>\n",
       "      <td>1</td>\n",
       "      <td>married</td>\n",
       "      <td>0</td>\n",
       "      <td>M</td>\n",
       "      <td>employee</td>\n",
       "      <td>0</td>\n",
       "      <td>23341.752</td>\n",
       "      <td>purchase of the house</td>\n",
       "    </tr>\n",
       "    <tr>\n",
       "      <th>3</th>\n",
       "      <td>3</td>\n",
       "      <td>-4124.747207</td>\n",
       "      <td>32</td>\n",
       "      <td>secondary education</td>\n",
       "      <td>1</td>\n",
       "      <td>married</td>\n",
       "      <td>0</td>\n",
       "      <td>M</td>\n",
       "      <td>employee</td>\n",
       "      <td>0</td>\n",
       "      <td>42820.568</td>\n",
       "      <td>supplementary education</td>\n",
       "    </tr>\n",
       "    <tr>\n",
       "      <th>4</th>\n",
       "      <td>0</td>\n",
       "      <td>340266.072047</td>\n",
       "      <td>53</td>\n",
       "      <td>secondary education</td>\n",
       "      <td>1</td>\n",
       "      <td>civil partnership</td>\n",
       "      <td>1</td>\n",
       "      <td>F</td>\n",
       "      <td>retiree</td>\n",
       "      <td>0</td>\n",
       "      <td>25378.572</td>\n",
       "      <td>to have a wedding</td>\n",
       "    </tr>\n",
       "  </tbody>\n",
       "</table>\n",
       "</div>"
      ],
      "text/plain": [
       "   children  days_employed  dob_years            education  education_id  \\\n",
       "0         1   -8437.673028         42    bachelor's degree             0   \n",
       "1         1   -4024.803754         36  secondary education             1   \n",
       "2         0   -5623.422610         33  Secondary Education             1   \n",
       "3         3   -4124.747207         32  secondary education             1   \n",
       "4         0  340266.072047         53  secondary education             1   \n",
       "\n",
       "       family_status  family_status_id gender income_type  debt  total_income  \\\n",
       "0            married                 0      F    employee     0     40620.102   \n",
       "1            married                 0      F    employee     0     17932.802   \n",
       "2            married                 0      M    employee     0     23341.752   \n",
       "3            married                 0      M    employee     0     42820.568   \n",
       "4  civil partnership                 1      F     retiree     0     25378.572   \n",
       "\n",
       "                   purpose  \n",
       "0    purchase of the house  \n",
       "1             car purchase  \n",
       "2    purchase of the house  \n",
       "3  supplementary education  \n",
       "4        to have a wedding  "
      ]
     },
     "execution_count": 1,
     "metadata": {},
     "output_type": "execute_result"
    }
   ],
   "source": [
    "import pandas as pd\n",
    "import matplotlib.pyplot as plt\n",
    "import seaborn as sns\n",
    "# load stemming library\n",
    "from pymystem3 import Mystem\n",
    "# load stemming and tokenazing library\n",
    "from nltk import word_tokenize, SnowballStemmer\n",
    "\n",
    "import warnings\n",
    "warnings.filterwarnings('ignore')\n",
    "\n",
    "try:\n",
    "    bank_data = pd.read_csv('datasets/credit_scoring_eng.csv')\n",
    "except:\n",
    "    print('Wrong file path!')\n",
    "\n",
    "bank_data.head(5)"
   ]
  },
  {
   "cell_type": "markdown",
   "metadata": {},
   "source": [
    "Overall data frame info"
   ]
  },
  {
   "cell_type": "code",
   "execution_count": 2,
   "metadata": {
    "scrolled": true
   },
   "outputs": [
    {
     "name": "stdout",
     "output_type": "stream",
     "text": [
      "<class 'pandas.core.frame.DataFrame'>\n",
      "RangeIndex: 21525 entries, 0 to 21524\n",
      "Data columns (total 12 columns):\n",
      " #   Column            Non-Null Count  Dtype  \n",
      "---  ------            --------------  -----  \n",
      " 0   children          21525 non-null  int64  \n",
      " 1   days_employed     19351 non-null  float64\n",
      " 2   dob_years         21525 non-null  int64  \n",
      " 3   education         21525 non-null  object \n",
      " 4   education_id      21525 non-null  int64  \n",
      " 5   family_status     21525 non-null  object \n",
      " 6   family_status_id  21525 non-null  int64  \n",
      " 7   gender            21525 non-null  object \n",
      " 8   income_type       21525 non-null  object \n",
      " 9   debt              21525 non-null  int64  \n",
      " 10  total_income      19351 non-null  float64\n",
      " 11  purpose           21525 non-null  object \n",
      "dtypes: float64(2), int64(5), object(5)\n",
      "memory usage: 2.0+ MB\n"
     ]
    }
   ],
   "source": [
    "bank_data.info()"
   ]
  },
  {
   "cell_type": "markdown",
   "metadata": {},
   "source": [
    "Let's look at the unique values of an every column"
   ]
  },
  {
   "cell_type": "code",
   "execution_count": 3,
   "metadata": {
    "scrolled": false
   },
   "outputs": [
    {
     "name": "stdout",
     "output_type": "stream",
     "text": [
      "Column children has such unique values:\n",
      " [ 1  0  3  2 -1  4 20  5]\n",
      "\n",
      "Column days_employed has such unique values:\n",
      " [-8437.67302776 -4024.80375385 -5623.42261023 ... -2113.3468877\n",
      " -3112.4817052  -1984.50758853]\n",
      "\n",
      "Column dob_years has such unique values:\n",
      " [42 36 33 32 53 27 43 50 35 41 40 65 54 56 26 48 24 21 57 67 28 63 62 47\n",
      " 34 68 25 31 30 20 49 37 45 61 64 44 52 46 23 38 39 51  0 59 29 60 55 58\n",
      " 71 22 73 66 69 19 72 70 74 75]\n",
      "\n",
      "Column education has such unique values:\n",
      " [\"bachelor's degree\" 'secondary education' 'Secondary Education'\n",
      " 'SECONDARY EDUCATION' \"BACHELOR'S DEGREE\" 'some college'\n",
      " 'primary education' \"Bachelor's Degree\" 'SOME COLLEGE' 'Some College'\n",
      " 'PRIMARY EDUCATION' 'Primary Education' 'Graduate Degree'\n",
      " 'GRADUATE DEGREE' 'graduate degree']\n",
      "\n",
      "Column education_id has such unique values:\n",
      " [0 1 2 3 4]\n",
      "\n",
      "Column family_status has such unique values:\n",
      " ['married' 'civil partnership' 'widow / widower' 'divorced' 'unmarried']\n",
      "\n",
      "Column family_status_id has such unique values:\n",
      " [0 1 2 3 4]\n",
      "\n",
      "Column gender has such unique values:\n",
      " ['F' 'M' 'XNA']\n",
      "\n",
      "Column income_type has such unique values:\n",
      " ['employee' 'retiree' 'business' 'civil servant' 'unemployed'\n",
      " 'entrepreneur' 'student' 'paternity / maternity leave']\n",
      "\n",
      "Column debt has such unique values:\n",
      " [0 1]\n",
      "\n",
      "Column total_income has such unique values:\n",
      " [40620.102 17932.802 23341.752 ... 14347.61  39054.888 13127.587]\n",
      "\n",
      "Column purpose has such unique values:\n",
      " ['purchase of the house' 'car purchase' 'supplementary education'\n",
      " 'to have a wedding' 'housing transactions' 'education' 'having a wedding'\n",
      " 'purchase of the house for my family' 'buy real estate'\n",
      " 'buy commercial real estate' 'buy residential real estate'\n",
      " 'construction of own property' 'property' 'building a property'\n",
      " 'buying a second-hand car' 'buying my own car'\n",
      " 'transactions with commercial real estate' 'building a real estate'\n",
      " 'housing' 'transactions with my real estate' 'cars' 'to become educated'\n",
      " 'second-hand car purchase' 'getting an education' 'car'\n",
      " 'wedding ceremony' 'to get a supplementary education'\n",
      " 'purchase of my own house' 'real estate transactions'\n",
      " 'getting higher education' 'to own a car' 'purchase of a car'\n",
      " 'profile education' 'university education'\n",
      " 'buying property for renting out' 'to buy a car' 'housing renovation'\n",
      " 'going to university']\n",
      "\n"
     ]
    }
   ],
   "source": [
    "for column in bank_data.columns:\n",
    "    print(f'Column {column} has such unique values:\\n {bank_data[column].unique()}\\n')"
   ]
  },
  {
   "cell_type": "markdown",
   "metadata": {},
   "source": [
    "Let's check look at the histograms of the columns with numbers"
   ]
  },
  {
   "cell_type": "code",
   "execution_count": 4,
   "metadata": {},
   "outputs": [
    {
     "data": {
      "image/png": "[encoded data removed]",
      "text/plain": [
       "<Figure size 1080x1440 with 9 Axes>"
      ]
     },
     "metadata": {
      "needs_background": "light"
     },
     "output_type": "display_data"
    }
   ],
   "source": [
    "bank_data.hist(figsize=(15,20))\n",
    "plt.show()"
   ]
  },
  {
   "cell_type": "markdown",
   "metadata": {},
   "source": [
    "#### Conclusion\n",
    "**Found problems**\n",
    "\n",
    "- After the initial analysis of the data, it is clear that they have enough problems: for example, a negative number of days of work experience, or the experience and income are converted to the float type (casting to the int type makes sense because you cannot be employed for half a working day, and cutting off the fractional part of income will not have a significant impact on the credit rating, given the order of the numbers, it will also make the data more readable, save memory and speed up processing);\n",
    "- the `education` column contains various duplicates;\n",
    "- the column `purpose` needs lemmatization and categorization.\n",
    "- Categorization by level of education and marital status is not entirely correct and this needs to be corrected.\n",
    "- For the `income_type` column, you need to do a numerical categorization.\n",
    "- For the `gender` column, you need to do a numerical categorization.\n",
    "- The `children` column has a negative number of children and an outlier of 20 children.\n",
    "- The `days_employed` column has very strong outliers that are equal to about a thousand(!) years of work experience.\n",
    "\n",
    "\n",
    "Pros:\n",
    "\n",
    "- table names are spelled correctly;\n",
    "- there are no very large, intractable problems."
   ]
  },
  {
   "cell_type": "markdown",
   "metadata": {},
   "source": [
    "## Step 2. Data preprocessing"
   ]
  },
  {
   "cell_type": "markdown",
   "metadata": {},
   "source": [
    "### Handling skips and other issues"
   ]
  },
  {
   "cell_type": "code",
   "execution_count": 5,
   "metadata": {},
   "outputs": [
    {
     "data": {
      "text/plain": [
       "children               0\n",
       "days_employed       2174\n",
       "dob_years              0\n",
       "education              0\n",
       "education_id           0\n",
       "family_status          0\n",
       "family_status_id       0\n",
       "gender                 0\n",
       "income_type            0\n",
       "debt                   0\n",
       "total_income        2174\n",
       "purpose                0\n",
       "dtype: int64"
      ]
     },
     "execution_count": 5,
     "metadata": {},
     "output_type": "execute_result"
    }
   ],
   "source": [
    "# look for the number of gaps\n",
    "bank_data.isnull().sum()"
   ]
  },
  {
   "cell_type": "code",
   "execution_count": 6,
   "metadata": {
    "scrolled": true
   },
   "outputs": [
    {
     "data": {
      "text/html": [
       "<div>\n",
       "<style scoped>\n",
       "    .dataframe tbody tr th:only-of-type {\n",
       "        vertical-align: middle;\n",
       "    }\n",
       "\n",
       "    .dataframe tbody tr th {\n",
       "        vertical-align: top;\n",
       "    }\n",
       "\n",
       "    .dataframe thead th {\n",
       "        text-align: right;\n",
       "    }\n",
       "</style>\n",
       "<table border=\"1\" class=\"dataframe\">\n",
       "  <thead>\n",
       "    <tr style=\"text-align: right;\">\n",
       "      <th></th>\n",
       "      <th>children</th>\n",
       "      <th>days_employed</th>\n",
       "      <th>dob_years</th>\n",
       "      <th>education</th>\n",
       "      <th>education_id</th>\n",
       "      <th>family_status</th>\n",
       "      <th>family_status_id</th>\n",
       "      <th>gender</th>\n",
       "      <th>income_type</th>\n",
       "      <th>debt</th>\n",
       "      <th>total_income</th>\n",
       "      <th>purpose</th>\n",
       "    </tr>\n",
       "  </thead>\n",
       "  <tbody>\n",
       "    <tr>\n",
       "      <th>12</th>\n",
       "      <td>0</td>\n",
       "      <td>NaN</td>\n",
       "      <td>65</td>\n",
       "      <td>secondary education</td>\n",
       "      <td>1</td>\n",
       "      <td>civil partnership</td>\n",
       "      <td>1</td>\n",
       "      <td>M</td>\n",
       "      <td>retiree</td>\n",
       "      <td>0</td>\n",
       "      <td>NaN</td>\n",
       "      <td>to have a wedding</td>\n",
       "    </tr>\n",
       "    <tr>\n",
       "      <th>26</th>\n",
       "      <td>0</td>\n",
       "      <td>NaN</td>\n",
       "      <td>41</td>\n",
       "      <td>secondary education</td>\n",
       "      <td>1</td>\n",
       "      <td>married</td>\n",
       "      <td>0</td>\n",
       "      <td>M</td>\n",
       "      <td>civil servant</td>\n",
       "      <td>0</td>\n",
       "      <td>NaN</td>\n",
       "      <td>education</td>\n",
       "    </tr>\n",
       "    <tr>\n",
       "      <th>29</th>\n",
       "      <td>0</td>\n",
       "      <td>NaN</td>\n",
       "      <td>63</td>\n",
       "      <td>secondary education</td>\n",
       "      <td>1</td>\n",
       "      <td>unmarried</td>\n",
       "      <td>4</td>\n",
       "      <td>F</td>\n",
       "      <td>retiree</td>\n",
       "      <td>0</td>\n",
       "      <td>NaN</td>\n",
       "      <td>building a real estate</td>\n",
       "    </tr>\n",
       "    <tr>\n",
       "      <th>41</th>\n",
       "      <td>0</td>\n",
       "      <td>NaN</td>\n",
       "      <td>50</td>\n",
       "      <td>secondary education</td>\n",
       "      <td>1</td>\n",
       "      <td>married</td>\n",
       "      <td>0</td>\n",
       "      <td>F</td>\n",
       "      <td>civil servant</td>\n",
       "      <td>0</td>\n",
       "      <td>NaN</td>\n",
       "      <td>second-hand car purchase</td>\n",
       "    </tr>\n",
       "    <tr>\n",
       "      <th>55</th>\n",
       "      <td>0</td>\n",
       "      <td>NaN</td>\n",
       "      <td>54</td>\n",
       "      <td>secondary education</td>\n",
       "      <td>1</td>\n",
       "      <td>civil partnership</td>\n",
       "      <td>1</td>\n",
       "      <td>F</td>\n",
       "      <td>retiree</td>\n",
       "      <td>1</td>\n",
       "      <td>NaN</td>\n",
       "      <td>to have a wedding</td>\n",
       "    </tr>\n",
       "  </tbody>\n",
       "</table>\n",
       "</div>"
      ],
      "text/plain": [
       "    children  days_employed  dob_years            education  education_id  \\\n",
       "12         0            NaN         65  secondary education             1   \n",
       "26         0            NaN         41  secondary education             1   \n",
       "29         0            NaN         63  secondary education             1   \n",
       "41         0            NaN         50  secondary education             1   \n",
       "55         0            NaN         54  secondary education             1   \n",
       "\n",
       "        family_status  family_status_id gender    income_type  debt  \\\n",
       "12  civil partnership                 1      M        retiree     0   \n",
       "26            married                 0      M  civil servant     0   \n",
       "29          unmarried                 4      F        retiree     0   \n",
       "41            married                 0      F  civil servant     0   \n",
       "55  civil partnership                 1      F        retiree     1   \n",
       "\n",
       "    total_income                   purpose  \n",
       "12           NaN         to have a wedding  \n",
       "26           NaN                 education  \n",
       "29           NaN    building a real estate  \n",
       "41           NaN  second-hand car purchase  \n",
       "55           NaN         to have a wedding  "
      ]
     },
     "execution_count": 6,
     "metadata": {},
     "output_type": "execute_result"
    }
   ],
   "source": [
    "# look closely at data that has gaps\n",
    "bank_data[bank_data.days_employed.isnull()].head()"
   ]
  },
  {
   "cell_type": "markdown",
   "metadata": {},
   "source": [
    "##### Fixing problems in the `education` column:"
   ]
  },
  {
   "cell_type": "code",
   "execution_count": 7,
   "metadata": {},
   "outputs": [
    {
     "data": {
      "text/plain": [
       "array([\"bachelor's degree\", 'secondary education', 'Secondary Education',\n",
       "       'SECONDARY EDUCATION', \"BACHELOR'S DEGREE\", 'some college',\n",
       "       'primary education', \"Bachelor's Degree\", 'SOME COLLEGE',\n",
       "       'Some College', 'PRIMARY EDUCATION', 'Primary Education',\n",
       "       'Graduate Degree', 'GRADUATE DEGREE', 'graduate degree'],\n",
       "      dtype=object)"
      ]
     },
     "execution_count": 7,
     "metadata": {},
     "output_type": "execute_result"
    }
   ],
   "source": [
    "#look at the unique values in the \"education\" column. \n",
    "bank_data.education.unique()"
   ]
  },
  {
   "cell_type": "code",
   "execution_count": 8,
   "metadata": {
    "scrolled": true
   },
   "outputs": [
    {
     "data": {
      "text/plain": [
       "array([\"bachelor's degree\", 'secondary education', 'some college',\n",
       "       'primary education', 'graduate degree'], dtype=object)"
      ]
     },
     "execution_count": 8,
     "metadata": {},
     "output_type": "execute_result"
    }
   ],
   "source": [
    "# find duplicates and remove them\n",
    "bank_data.education = bank_data.education.str.lower()\n",
    "bank_data.education.unique()"
   ]
  },
  {
   "cell_type": "markdown",
   "metadata": {},
   "source": [
    "##### Fixing problems in the `days_employed` column:"
   ]
  },
  {
   "cell_type": "code",
   "execution_count": 9,
   "metadata": {
    "scrolled": true
   },
   "outputs": [
    {
     "data": {
      "text/html": [
       "<div>\n",
       "<style scoped>\n",
       "    .dataframe tbody tr th:only-of-type {\n",
       "        vertical-align: middle;\n",
       "    }\n",
       "\n",
       "    .dataframe tbody tr th {\n",
       "        vertical-align: top;\n",
       "    }\n",
       "\n",
       "    .dataframe thead th {\n",
       "        text-align: right;\n",
       "    }\n",
       "</style>\n",
       "<table border=\"1\" class=\"dataframe\">\n",
       "  <thead>\n",
       "    <tr style=\"text-align: right;\">\n",
       "      <th></th>\n",
       "      <th>children</th>\n",
       "      <th>days_employed</th>\n",
       "      <th>dob_years</th>\n",
       "      <th>education</th>\n",
       "      <th>education_id</th>\n",
       "      <th>family_status</th>\n",
       "      <th>family_status_id</th>\n",
       "      <th>gender</th>\n",
       "      <th>income_type</th>\n",
       "      <th>debt</th>\n",
       "      <th>total_income</th>\n",
       "      <th>purpose</th>\n",
       "    </tr>\n",
       "  </thead>\n",
       "  <tbody>\n",
       "    <tr>\n",
       "      <th>0</th>\n",
       "      <td>1</td>\n",
       "      <td>8437.673028</td>\n",
       "      <td>42</td>\n",
       "      <td>bachelor's degree</td>\n",
       "      <td>0</td>\n",
       "      <td>married</td>\n",
       "      <td>0</td>\n",
       "      <td>F</td>\n",
       "      <td>employee</td>\n",
       "      <td>0</td>\n",
       "      <td>40620.102</td>\n",
       "      <td>purchase of the house</td>\n",
       "    </tr>\n",
       "    <tr>\n",
       "      <th>1</th>\n",
       "      <td>1</td>\n",
       "      <td>4024.803754</td>\n",
       "      <td>36</td>\n",
       "      <td>secondary education</td>\n",
       "      <td>1</td>\n",
       "      <td>married</td>\n",
       "      <td>0</td>\n",
       "      <td>F</td>\n",
       "      <td>employee</td>\n",
       "      <td>0</td>\n",
       "      <td>17932.802</td>\n",
       "      <td>car purchase</td>\n",
       "    </tr>\n",
       "    <tr>\n",
       "      <th>2</th>\n",
       "      <td>0</td>\n",
       "      <td>5623.422610</td>\n",
       "      <td>33</td>\n",
       "      <td>secondary education</td>\n",
       "      <td>1</td>\n",
       "      <td>married</td>\n",
       "      <td>0</td>\n",
       "      <td>M</td>\n",
       "      <td>employee</td>\n",
       "      <td>0</td>\n",
       "      <td>23341.752</td>\n",
       "      <td>purchase of the house</td>\n",
       "    </tr>\n",
       "    <tr>\n",
       "      <th>3</th>\n",
       "      <td>3</td>\n",
       "      <td>4124.747207</td>\n",
       "      <td>32</td>\n",
       "      <td>secondary education</td>\n",
       "      <td>1</td>\n",
       "      <td>married</td>\n",
       "      <td>0</td>\n",
       "      <td>M</td>\n",
       "      <td>employee</td>\n",
       "      <td>0</td>\n",
       "      <td>42820.568</td>\n",
       "      <td>supplementary education</td>\n",
       "    </tr>\n",
       "    <tr>\n",
       "      <th>4</th>\n",
       "      <td>0</td>\n",
       "      <td>340266.072047</td>\n",
       "      <td>53</td>\n",
       "      <td>secondary education</td>\n",
       "      <td>1</td>\n",
       "      <td>civil partnership</td>\n",
       "      <td>1</td>\n",
       "      <td>F</td>\n",
       "      <td>retiree</td>\n",
       "      <td>0</td>\n",
       "      <td>25378.572</td>\n",
       "      <td>to have a wedding</td>\n",
       "    </tr>\n",
       "  </tbody>\n",
       "</table>\n",
       "</div>"
      ],
      "text/plain": [
       "   children  days_employed  dob_years            education  education_id  \\\n",
       "0         1    8437.673028         42    bachelor's degree             0   \n",
       "1         1    4024.803754         36  secondary education             1   \n",
       "2         0    5623.422610         33  secondary education             1   \n",
       "3         3    4124.747207         32  secondary education             1   \n",
       "4         0  340266.072047         53  secondary education             1   \n",
       "\n",
       "       family_status  family_status_id gender income_type  debt  total_income  \\\n",
       "0            married                 0      F    employee     0     40620.102   \n",
       "1            married                 0      F    employee     0     17932.802   \n",
       "2            married                 0      M    employee     0     23341.752   \n",
       "3            married                 0      M    employee     0     42820.568   \n",
       "4  civil partnership                 1      F     retiree     0     25378.572   \n",
       "\n",
       "                   purpose  \n",
       "0    purchase of the house  \n",
       "1             car purchase  \n",
       "2    purchase of the house  \n",
       "3  supplementary education  \n",
       "4        to have a wedding  "
      ]
     },
     "execution_count": 9,
     "metadata": {},
     "output_type": "execute_result"
    }
   ],
   "source": [
    "# In the data on the number of working days, there are many minuses by mistake - we will remove them\n",
    "bank_data.days_employed = abs(bank_data.days_employed)\n",
    "bank_data.head()"
   ]
  },
  {
   "cell_type": "code",
   "execution_count": 10,
   "metadata": {},
   "outputs": [
    {
     "data": {
      "text/html": [
       "<div>\n",
       "<style scoped>\n",
       "    .dataframe tbody tr th:only-of-type {\n",
       "        vertical-align: middle;\n",
       "    }\n",
       "\n",
       "    .dataframe tbody tr th {\n",
       "        vertical-align: top;\n",
       "    }\n",
       "\n",
       "    .dataframe thead th {\n",
       "        text-align: right;\n",
       "    }\n",
       "</style>\n",
       "<table border=\"1\" class=\"dataframe\">\n",
       "  <thead>\n",
       "    <tr style=\"text-align: right;\">\n",
       "      <th></th>\n",
       "      <th>children</th>\n",
       "      <th>days_employed</th>\n",
       "      <th>dob_years</th>\n",
       "      <th>education</th>\n",
       "      <th>education_id</th>\n",
       "      <th>family_status</th>\n",
       "      <th>family_status_id</th>\n",
       "      <th>gender</th>\n",
       "      <th>income_type</th>\n",
       "      <th>debt</th>\n",
       "      <th>total_income</th>\n",
       "      <th>purpose</th>\n",
       "    </tr>\n",
       "  </thead>\n",
       "  <tbody>\n",
       "    <tr>\n",
       "      <th>12</th>\n",
       "      <td>0</td>\n",
       "      <td>NaN</td>\n",
       "      <td>65</td>\n",
       "      <td>secondary education</td>\n",
       "      <td>1</td>\n",
       "      <td>civil partnership</td>\n",
       "      <td>1</td>\n",
       "      <td>M</td>\n",
       "      <td>retiree</td>\n",
       "      <td>0</td>\n",
       "      <td>NaN</td>\n",
       "      <td>to have a wedding</td>\n",
       "    </tr>\n",
       "    <tr>\n",
       "      <th>26</th>\n",
       "      <td>0</td>\n",
       "      <td>NaN</td>\n",
       "      <td>41</td>\n",
       "      <td>secondary education</td>\n",
       "      <td>1</td>\n",
       "      <td>married</td>\n",
       "      <td>0</td>\n",
       "      <td>M</td>\n",
       "      <td>civil servant</td>\n",
       "      <td>0</td>\n",
       "      <td>NaN</td>\n",
       "      <td>education</td>\n",
       "    </tr>\n",
       "    <tr>\n",
       "      <th>29</th>\n",
       "      <td>0</td>\n",
       "      <td>NaN</td>\n",
       "      <td>63</td>\n",
       "      <td>secondary education</td>\n",
       "      <td>1</td>\n",
       "      <td>unmarried</td>\n",
       "      <td>4</td>\n",
       "      <td>F</td>\n",
       "      <td>retiree</td>\n",
       "      <td>0</td>\n",
       "      <td>NaN</td>\n",
       "      <td>building a real estate</td>\n",
       "    </tr>\n",
       "    <tr>\n",
       "      <th>41</th>\n",
       "      <td>0</td>\n",
       "      <td>NaN</td>\n",
       "      <td>50</td>\n",
       "      <td>secondary education</td>\n",
       "      <td>1</td>\n",
       "      <td>married</td>\n",
       "      <td>0</td>\n",
       "      <td>F</td>\n",
       "      <td>civil servant</td>\n",
       "      <td>0</td>\n",
       "      <td>NaN</td>\n",
       "      <td>second-hand car purchase</td>\n",
       "    </tr>\n",
       "    <tr>\n",
       "      <th>55</th>\n",
       "      <td>0</td>\n",
       "      <td>NaN</td>\n",
       "      <td>54</td>\n",
       "      <td>secondary education</td>\n",
       "      <td>1</td>\n",
       "      <td>civil partnership</td>\n",
       "      <td>1</td>\n",
       "      <td>F</td>\n",
       "      <td>retiree</td>\n",
       "      <td>1</td>\n",
       "      <td>NaN</td>\n",
       "      <td>to have a wedding</td>\n",
       "    </tr>\n",
       "  </tbody>\n",
       "</table>\n",
       "</div>"
      ],
      "text/plain": [
       "    children  days_employed  dob_years            education  education_id  \\\n",
       "12         0            NaN         65  secondary education             1   \n",
       "26         0            NaN         41  secondary education             1   \n",
       "29         0            NaN         63  secondary education             1   \n",
       "41         0            NaN         50  secondary education             1   \n",
       "55         0            NaN         54  secondary education             1   \n",
       "\n",
       "        family_status  family_status_id gender    income_type  debt  \\\n",
       "12  civil partnership                 1      M        retiree     0   \n",
       "26            married                 0      M  civil servant     0   \n",
       "29          unmarried                 4      F        retiree     0   \n",
       "41            married                 0      F  civil servant     0   \n",
       "55  civil partnership                 1      F        retiree     1   \n",
       "\n",
       "    total_income                   purpose  \n",
       "12           NaN         to have a wedding  \n",
       "26           NaN                 education  \n",
       "29           NaN    building a real estate  \n",
       "41           NaN  second-hand car purchase  \n",
       "55           NaN         to have a wedding  "
      ]
     },
     "execution_count": 10,
     "metadata": {},
     "output_type": "execute_result"
    }
   ],
   "source": [
    "# look closely at data that has gaps\n",
    "bank_data[bank_data.days_employed.isnull()].head()"
   ]
  },
  {
   "cell_type": "code",
   "execution_count": 11,
   "metadata": {},
   "outputs": [
    {
     "data": {
      "text/plain": [
       "children               0\n",
       "days_employed          0\n",
       "dob_years              0\n",
       "education              0\n",
       "education_id           0\n",
       "family_status          0\n",
       "family_status_id       0\n",
       "gender                 0\n",
       "income_type            0\n",
       "debt                   0\n",
       "total_income        2174\n",
       "purpose                0\n",
       "dtype: int64"
      ]
     },
     "execution_count": 11,
     "metadata": {},
     "output_type": "execute_result"
    }
   ],
   "source": [
    "# remove gaps in days_employed. Everything works plus or minus the same, so you can fill in the median\n",
    "bank_data.days_employed.fillna(bank_data.days_employed.median(), inplace=True)\n",
    "bank_data.isnull().sum()"
   ]
  },
  {
   "cell_type": "code",
   "execution_count": 12,
   "metadata": {
    "scrolled": true
   },
   "outputs": [
    {
     "data": {
      "text/plain": [
       "<AxesSubplot:xlabel='days_employed'>"
      ]
     },
     "execution_count": 12,
     "metadata": {},
     "output_type": "execute_result"
    },
    {
     "data": {
      "image/png": "[encoded data removed]",
      "text/plain": [
       "<Figure size 432x288 with 1 Axes>"
      ]
     },
     "metadata": {
      "needs_background": "light"
     },
     "output_type": "display_data"
    }
   ],
   "source": [
    "# Gaps filled with median. we need to fix the outliers in the \"days_employed\" column.\n",
    "# Assume that seniority cannot exceed 60 years (~22000 days). Find the median over\n",
    "# number of business days excluding these outliers and filling out the outliers by this median.\n",
    "\n",
    "days_employed_median_corr = bank_data[bank_data.days_employed<=22000].days_employed.median()\n",
    "bank_data.days_employed = bank_data.days_employed.apply(lambda x: days_employed_median_corr if x>=22000 else x)\n",
    "sns.boxplot(x=bank_data.days_employed)"
   ]
  },
  {
   "cell_type": "markdown",
   "metadata": {},
   "source": [
    "##### Fixing issues in the column `total_income`:"
   ]
  },
  {
   "cell_type": "code",
   "execution_count": 13,
   "metadata": {},
   "outputs": [
    {
     "name": "stdout",
     "output_type": "stream",
     "text": [
      "Wall time: 28.5 s\n"
     ]
    },
    {
     "data": {
      "text/plain": [
       "children            0\n",
       "days_employed       0\n",
       "dob_years           0\n",
       "education           0\n",
       "education_id        0\n",
       "family_status       0\n",
       "family_status_id    0\n",
       "gender              0\n",
       "income_type         0\n",
       "debt                0\n",
       "total_income        0\n",
       "purpose             0\n",
       "dtype: int64"
      ]
     },
     "execution_count": 13,
     "metadata": {},
     "output_type": "execute_result"
    }
   ],
   "source": [
    "%%time\n",
    "# Far from the most optimal method, but I have already tried functions with apply() and lambdas,\n",
    "# and could not get them to work correctly\n",
    "\n",
    "# The idea is as follows - it is incorrect to set the median income to all gaps, taking into account\n",
    "# that income is highly dependent on profession and education. In this method, I expose\n",
    "# missing median income according to their occupation and level of education\n",
    "\n",
    "# go through the all array\n",
    "for i in range(len(bank_data)):\n",
    "    # check if inclome is NaN type \n",
    "    if bank_data.loc[i, 'total_income'] != bank_data.loc[i, 'total_income']:\n",
    "        # record the person's profession\n",
    "        occupation = bank_data.loc[i, 'income_type']\n",
    "        # write down the level of education of a person\n",
    "        education = bank_data.loc[i, 'education']\n",
    "        # calculate the median income according to these two parametrs\n",
    "        median_occupation_income = bank_data[(bank_data['income_type']==occupation)\n",
    "                                             & (bank_data['education']==education)].total_income.median()\n",
    "        bank_data.loc[i, 'total_income'] = median_occupation_income\n",
    "bank_data.isnull().sum()"
   ]
  },
  {
   "cell_type": "markdown",
   "metadata": {},
   "source": [
    "##### Fixing problems in the column `children`"
   ]
  },
  {
   "cell_type": "code",
   "execution_count": 14,
   "metadata": {},
   "outputs": [
    {
     "data": {
      "text/plain": [
       "array([ 1,  0,  3,  2, -1,  4, 20,  5], dtype=int64)"
      ]
     },
     "execution_count": 14,
     "metadata": {},
     "output_type": "execute_result"
    }
   ],
   "source": [
    "bank_data.children.unique()"
   ]
  },
  {
   "cell_type": "code",
   "execution_count": 15,
   "metadata": {},
   "outputs": [
    {
     "data": {
      "text/plain": [
       "array([ 1,  0,  3,  2,  4, 20,  5], dtype=int64)"
      ]
     },
     "execution_count": 15,
     "metadata": {},
     "output_type": "execute_result"
    }
   ],
   "source": [
    "# negative values are clearly written by mistake - take the data modulo\n",
    "bank_data.children = abs(bank_data.children)\n",
    "bank_data.children.unique()"
   ]
  },
  {
   "cell_type": "code",
   "execution_count": 16,
   "metadata": {},
   "outputs": [
    {
     "data": {
      "text/plain": [
       "array([1, 0, 3, 2, 4, 5], dtype=int64)"
      ]
     },
     "execution_count": 16,
     "metadata": {},
     "output_type": "execute_result"
    }
   ],
   "source": [
    "# Twenty children is also clearly impossible, given that the past maximum value is 5.\n",
    "# Someone obviously accidentally added an extra zero at the end - it happens. Let's replace twenties with twos.\n",
    "\n",
    "bank_data.children = bank_data.children.apply(lambda x: 2 if x==20 else x)\n",
    "bank_data.children.unique()"
   ]
  },
  {
   "cell_type": "markdown",
   "metadata": {},
   "source": [
    "##### Fixing problems in the column `family_status`\n",
    "(one of the values is capitalized)"
   ]
  },
  {
   "cell_type": "code",
   "execution_count": 17,
   "metadata": {},
   "outputs": [
    {
     "data": {
      "text/plain": [
       "array(['married', 'civil partnership', 'widow / widower', 'divorced',\n",
       "       'unmarried'], dtype=object)"
      ]
     },
     "execution_count": 17,
     "metadata": {},
     "output_type": "execute_result"
    }
   ],
   "source": [
    "bank_data.family_status.unique()"
   ]
  },
  {
   "cell_type": "code",
   "execution_count": 18,
   "metadata": {},
   "outputs": [
    {
     "data": {
      "text/plain": [
       "array(['married', 'civil partnership', 'widow / widower', 'divorced',\n",
       "       'unmarried'], dtype=object)"
      ]
     },
     "execution_count": 18,
     "metadata": {},
     "output_type": "execute_result"
    }
   ],
   "source": [
    "bank_data.family_status = bank_data.family_status.str.lower()\n",
    "bank_data.family_status.unique()"
   ]
  },
  {
   "cell_type": "markdown",
   "metadata": {},
   "source": [
    "##### Fixing problems in the column `dob_years `\n",
    "(there is zero in some of the values)"
   ]
  },
  {
   "cell_type": "code",
   "execution_count": 19,
   "metadata": {},
   "outputs": [
    {
     "data": {
      "text/plain": [
       "array([42, 36, 33, 32, 53, 27, 43, 50, 35, 41, 40, 65, 54, 56, 26, 48, 24,\n",
       "       21, 57, 67, 28, 63, 62, 47, 34, 68, 25, 31, 30, 20, 49, 37, 45, 61,\n",
       "       64, 44, 52, 46, 23, 38, 39, 51,  0, 59, 29, 60, 55, 58, 71, 22, 73,\n",
       "       66, 69, 19, 72, 70, 74, 75], dtype=int64)"
      ]
     },
     "execution_count": 19,
     "metadata": {},
     "output_type": "execute_result"
    }
   ],
   "source": [
    "bank_data.dob_years.unique()"
   ]
  },
  {
   "cell_type": "code",
   "execution_count": 20,
   "metadata": {},
   "outputs": [
    {
     "data": {
      "text/plain": [
       "101"
      ]
     },
     "execution_count": 20,
     "metadata": {},
     "output_type": "execute_result"
    }
   ],
   "source": [
    "#Display the number of given values on the screen\n",
    "len(bank_data[bank_data.dob_years==0])"
   ]
  },
  {
   "cell_type": "code",
   "execution_count": 21,
   "metadata": {},
   "outputs": [
    {
     "data": {
      "text/html": [
       "<div>\n",
       "<style scoped>\n",
       "    .dataframe tbody tr th:only-of-type {\n",
       "        vertical-align: middle;\n",
       "    }\n",
       "\n",
       "    .dataframe tbody tr th {\n",
       "        vertical-align: top;\n",
       "    }\n",
       "\n",
       "    .dataframe thead th {\n",
       "        text-align: right;\n",
       "    }\n",
       "</style>\n",
       "<table border=\"1\" class=\"dataframe\">\n",
       "  <thead>\n",
       "    <tr style=\"text-align: right;\">\n",
       "      <th></th>\n",
       "      <th>children</th>\n",
       "      <th>days_employed</th>\n",
       "      <th>dob_years</th>\n",
       "      <th>education</th>\n",
       "      <th>education_id</th>\n",
       "      <th>family_status</th>\n",
       "      <th>family_status_id</th>\n",
       "      <th>gender</th>\n",
       "      <th>income_type</th>\n",
       "      <th>debt</th>\n",
       "      <th>total_income</th>\n",
       "      <th>purpose</th>\n",
       "    </tr>\n",
       "  </thead>\n",
       "  <tbody>\n",
       "    <tr>\n",
       "      <th>99</th>\n",
       "      <td>0</td>\n",
       "      <td>1960.297207</td>\n",
       "      <td>0</td>\n",
       "      <td>secondary education</td>\n",
       "      <td>1</td>\n",
       "      <td>married</td>\n",
       "      <td>0</td>\n",
       "      <td>F</td>\n",
       "      <td>retiree</td>\n",
       "      <td>0</td>\n",
       "      <td>11406.644</td>\n",
       "      <td>car</td>\n",
       "    </tr>\n",
       "    <tr>\n",
       "      <th>149</th>\n",
       "      <td>0</td>\n",
       "      <td>2664.273168</td>\n",
       "      <td>0</td>\n",
       "      <td>secondary education</td>\n",
       "      <td>1</td>\n",
       "      <td>divorced</td>\n",
       "      <td>3</td>\n",
       "      <td>F</td>\n",
       "      <td>employee</td>\n",
       "      <td>0</td>\n",
       "      <td>11228.230</td>\n",
       "      <td>housing transactions</td>\n",
       "    </tr>\n",
       "    <tr>\n",
       "      <th>270</th>\n",
       "      <td>3</td>\n",
       "      <td>1872.663186</td>\n",
       "      <td>0</td>\n",
       "      <td>secondary education</td>\n",
       "      <td>1</td>\n",
       "      <td>married</td>\n",
       "      <td>0</td>\n",
       "      <td>F</td>\n",
       "      <td>employee</td>\n",
       "      <td>0</td>\n",
       "      <td>16346.633</td>\n",
       "      <td>housing renovation</td>\n",
       "    </tr>\n",
       "    <tr>\n",
       "      <th>578</th>\n",
       "      <td>0</td>\n",
       "      <td>1960.297207</td>\n",
       "      <td>0</td>\n",
       "      <td>secondary education</td>\n",
       "      <td>1</td>\n",
       "      <td>married</td>\n",
       "      <td>0</td>\n",
       "      <td>F</td>\n",
       "      <td>retiree</td>\n",
       "      <td>0</td>\n",
       "      <td>15619.310</td>\n",
       "      <td>construction of own property</td>\n",
       "    </tr>\n",
       "    <tr>\n",
       "      <th>1040</th>\n",
       "      <td>0</td>\n",
       "      <td>1158.029561</td>\n",
       "      <td>0</td>\n",
       "      <td>bachelor's degree</td>\n",
       "      <td>0</td>\n",
       "      <td>divorced</td>\n",
       "      <td>3</td>\n",
       "      <td>F</td>\n",
       "      <td>business</td>\n",
       "      <td>0</td>\n",
       "      <td>48639.062</td>\n",
       "      <td>to own a car</td>\n",
       "    </tr>\n",
       "  </tbody>\n",
       "</table>\n",
       "</div>"
      ],
      "text/plain": [
       "      children  days_employed  dob_years            education  education_id  \\\n",
       "99           0    1960.297207          0  secondary education             1   \n",
       "149          0    2664.273168          0  secondary education             1   \n",
       "270          3    1872.663186          0  secondary education             1   \n",
       "578          0    1960.297207          0  secondary education             1   \n",
       "1040         0    1158.029561          0    bachelor's degree             0   \n",
       "\n",
       "     family_status  family_status_id gender income_type  debt  total_income  \\\n",
       "99         married                 0      F     retiree     0     11406.644   \n",
       "149       divorced                 3      F    employee     0     11228.230   \n",
       "270        married                 0      F    employee     0     16346.633   \n",
       "578        married                 0      F     retiree     0     15619.310   \n",
       "1040      divorced                 3      F    business     0     48639.062   \n",
       "\n",
       "                           purpose  \n",
       "99                             car  \n",
       "149           housing transactions  \n",
       "270             housing renovation  \n",
       "578   construction of own property  \n",
       "1040                  to own a car  "
      ]
     },
     "execution_count": 21,
     "metadata": {},
     "output_type": "execute_result"
    }
   ],
   "source": [
    "#Display these values on the screen\n",
    "bank_data[bank_data.dob_years==0].head()"
   ]
  },
  {
   "cell_type": "markdown",
   "metadata": {},
   "source": [
    "Filling in all missing values with the median age would be incorrect. All categories except for the `retiree` category must be filled in by the median age, excluding pensioners. Fill in the `retiree` category with the median age of the same category."
   ]
  },
  {
   "cell_type": "code",
   "execution_count": 22,
   "metadata": {},
   "outputs": [
    {
     "data": {
      "text/plain": [
       "39"
      ]
     },
     "execution_count": 22,
     "metadata": {},
     "output_type": "execute_result"
    }
   ],
   "source": [
    "#find the median age for all categories, except for pensioners\n",
    "median_age = int(bank_data[bank_data.income_type != 'retiree'].dob_years.median())\n",
    "median_age"
   ]
  },
  {
   "cell_type": "code",
   "execution_count": 23,
   "metadata": {},
   "outputs": [
    {
     "data": {
      "text/plain": [
       "60"
      ]
     },
     "execution_count": 23,
     "metadata": {},
     "output_type": "execute_result"
    }
   ],
   "source": [
    "# find the median age of pensioners\n",
    "median_age_retired = int(bank_data[bank_data.income_type=='retiree'].dob_years.median())\n",
    "median_age_retired"
   ]
  },
  {
   "cell_type": "code",
   "execution_count": 24,
   "metadata": {},
   "outputs": [
    {
     "data": {
      "text/plain": [
       "array([42, 36, 33, 32, 53, 27, 43, 50, 35, 41, 40, 65, 54, 56, 26, 48, 24,\n",
       "       21, 57, 67, 28, 63, 62, 47, 34, 68, 25, 31, 30, 20, 49, 37, 45, 61,\n",
       "       64, 44, 52, 46, 23, 38, 39, 51,  0, 59, 29, 60, 55, 58, 71, 22, 73,\n",
       "       66, 69, 19, 72, 70, 74, 75], dtype=int64)"
      ]
     },
     "execution_count": 24,
     "metadata": {},
     "output_type": "execute_result"
    }
   ],
   "source": [
    "bank_data[(bank_data.dob_years==0) & (bank_data.income_type != 'retiree')].dob_years = median_age\n",
    "bank_data[(bank_data.dob_years==0) & (bank_data.income_type == 'retiree')].dob_years = median_age_retired\n",
    "bank_data.dob_years.unique()"
   ]
  },
  {
   "cell_type": "markdown",
   "metadata": {},
   "source": [
    "**Conclusion**"
   ]
  },
  {
   "cell_type": "markdown",
   "metadata": {},
   "source": [
    "We have found and removed duplicates in the column on education, removed the minus in the column on the number of working days and filled in the missing values ​​according to the median. Gaps in income values ​​were filled with median values ​​according to profession and level of education. The zeros in the \"age\" column for pensioners were filled with the median values ​​of the age of pensioners, and all other categories were given just the median age. In the \"marital status\" column, all values ​​were converted to lower case. Negative values ​​from the \"number of children\" column resulted in a modulus. We replaced the outliers in the \"length of service\" column with the median values ​​of the length of service.\n",
    "\n",
    "Minuses in the data may appear due to errors and / or typos in the code of the program that uploaded the data. The same applies to emissions. Errors in the register of writing categorical variables are most likely a human factor.\n",
    "\n",
    "As a result, we have cleared the data of errors and can proceed to further processing."
   ]
  },
  {
   "cell_type": "markdown",
   "metadata": {},
   "source": [
    "### Replacing the data type"
   ]
  },
  {
   "cell_type": "code",
   "execution_count": 25,
   "metadata": {
    "scrolled": true
   },
   "outputs": [
    {
     "data": {
      "text/html": [
       "<div>\n",
       "<style scoped>\n",
       "    .dataframe tbody tr th:only-of-type {\n",
       "        vertical-align: middle;\n",
       "    }\n",
       "\n",
       "    .dataframe tbody tr th {\n",
       "        vertical-align: top;\n",
       "    }\n",
       "\n",
       "    .dataframe thead th {\n",
       "        text-align: right;\n",
       "    }\n",
       "</style>\n",
       "<table border=\"1\" class=\"dataframe\">\n",
       "  <thead>\n",
       "    <tr style=\"text-align: right;\">\n",
       "      <th></th>\n",
       "      <th>children</th>\n",
       "      <th>days_employed</th>\n",
       "      <th>dob_years</th>\n",
       "      <th>education</th>\n",
       "      <th>education_id</th>\n",
       "      <th>family_status</th>\n",
       "      <th>family_status_id</th>\n",
       "      <th>gender</th>\n",
       "      <th>income_type</th>\n",
       "      <th>debt</th>\n",
       "      <th>total_income</th>\n",
       "      <th>purpose</th>\n",
       "    </tr>\n",
       "  </thead>\n",
       "  <tbody>\n",
       "    <tr>\n",
       "      <th>0</th>\n",
       "      <td>1</td>\n",
       "      <td>8437</td>\n",
       "      <td>42</td>\n",
       "      <td>bachelor's degree</td>\n",
       "      <td>0</td>\n",
       "      <td>married</td>\n",
       "      <td>0</td>\n",
       "      <td>F</td>\n",
       "      <td>employee</td>\n",
       "      <td>0</td>\n",
       "      <td>40620</td>\n",
       "      <td>purchase of the house</td>\n",
       "    </tr>\n",
       "    <tr>\n",
       "      <th>1</th>\n",
       "      <td>1</td>\n",
       "      <td>4024</td>\n",
       "      <td>36</td>\n",
       "      <td>secondary education</td>\n",
       "      <td>1</td>\n",
       "      <td>married</td>\n",
       "      <td>0</td>\n",
       "      <td>F</td>\n",
       "      <td>employee</td>\n",
       "      <td>0</td>\n",
       "      <td>17932</td>\n",
       "      <td>car purchase</td>\n",
       "    </tr>\n",
       "    <tr>\n",
       "      <th>2</th>\n",
       "      <td>0</td>\n",
       "      <td>5623</td>\n",
       "      <td>33</td>\n",
       "      <td>secondary education</td>\n",
       "      <td>1</td>\n",
       "      <td>married</td>\n",
       "      <td>0</td>\n",
       "      <td>M</td>\n",
       "      <td>employee</td>\n",
       "      <td>0</td>\n",
       "      <td>23341</td>\n",
       "      <td>purchase of the house</td>\n",
       "    </tr>\n",
       "    <tr>\n",
       "      <th>3</th>\n",
       "      <td>3</td>\n",
       "      <td>4124</td>\n",
       "      <td>32</td>\n",
       "      <td>secondary education</td>\n",
       "      <td>1</td>\n",
       "      <td>married</td>\n",
       "      <td>0</td>\n",
       "      <td>M</td>\n",
       "      <td>employee</td>\n",
       "      <td>0</td>\n",
       "      <td>42820</td>\n",
       "      <td>supplementary education</td>\n",
       "    </tr>\n",
       "    <tr>\n",
       "      <th>4</th>\n",
       "      <td>0</td>\n",
       "      <td>1960</td>\n",
       "      <td>53</td>\n",
       "      <td>secondary education</td>\n",
       "      <td>1</td>\n",
       "      <td>civil partnership</td>\n",
       "      <td>1</td>\n",
       "      <td>F</td>\n",
       "      <td>retiree</td>\n",
       "      <td>0</td>\n",
       "      <td>25378</td>\n",
       "      <td>to have a wedding</td>\n",
       "    </tr>\n",
       "  </tbody>\n",
       "</table>\n",
       "</div>"
      ],
      "text/plain": [
       "   children  days_employed  dob_years            education  education_id  \\\n",
       "0         1           8437         42    bachelor's degree             0   \n",
       "1         1           4024         36  secondary education             1   \n",
       "2         0           5623         33  secondary education             1   \n",
       "3         3           4124         32  secondary education             1   \n",
       "4         0           1960         53  secondary education             1   \n",
       "\n",
       "       family_status  family_status_id gender income_type  debt  total_income  \\\n",
       "0            married                 0      F    employee     0         40620   \n",
       "1            married                 0      F    employee     0         17932   \n",
       "2            married                 0      M    employee     0         23341   \n",
       "3            married                 0      M    employee     0         42820   \n",
       "4  civil partnership                 1      F     retiree     0         25378   \n",
       "\n",
       "                   purpose  \n",
       "0    purchase of the house  \n",
       "1             car purchase  \n",
       "2    purchase of the house  \n",
       "3  supplementary education  \n",
       "4        to have a wedding  "
      ]
     },
     "execution_count": 25,
     "metadata": {},
     "output_type": "execute_result"
    }
   ],
   "source": [
    "# Convert the data in the days_employed and total_income columns to integer values using the .astype(int) method\n",
    "\n",
    "bank_data.days_employed = bank_data.days_employed.astype(int)\n",
    "bank_data.total_income = bank_data.total_income.astype(int)\n",
    "bank_data.head()"
   ]
  },
  {
   "cell_type": "markdown",
   "metadata": {},
   "source": [
    "**Conclusion**"
   ]
  },
  {
   "cell_type": "markdown",
   "metadata": {},
   "source": [
    "This transformation will make the data more visual by cutting off unnecessary fractional parts in the `days_employed` and `total_income` columns. Cutting off the fractional part in the total_income column will not affect the borrower's reliability assessment. the order of figures in income is quite large."
   ]
  },
  {
   "cell_type": "markdown",
   "metadata": {},
   "source": [
    "### Lemmatisation"
   ]
  },
  {
   "cell_type": "markdown",
   "metadata": {},
   "source": [
    "Let's analyze the speed of categorization using lemmatisation, stemming and \"in a simple way\" for the column `purpose`"
   ]
  },
  {
   "cell_type": "code",
   "execution_count": 26,
   "metadata": {},
   "outputs": [
    {
     "data": {
      "text/plain": [
       "array(['purchase of the house', 'car purchase', 'supplementary education',\n",
       "       'to have a wedding', 'housing transactions', 'education',\n",
       "       'having a wedding', 'purchase of the house for my family',\n",
       "       'buy real estate', 'buy commercial real estate',\n",
       "       'buy residential real estate', 'construction of own property',\n",
       "       'property', 'building a property', 'buying a second-hand car',\n",
       "       'buying my own car', 'transactions with commercial real estate',\n",
       "       'building a real estate', 'housing',\n",
       "       'transactions with my real estate', 'cars', 'to become educated',\n",
       "       'second-hand car purchase', 'getting an education', 'car',\n",
       "       'wedding ceremony', 'to get a supplementary education',\n",
       "       'purchase of my own house', 'real estate transactions',\n",
       "       'getting higher education', 'to own a car', 'purchase of a car',\n",
       "       'profile education', 'university education',\n",
       "       'buying property for renting out', 'to buy a car',\n",
       "       'housing renovation', 'going to university'], dtype=object)"
      ]
     },
     "execution_count": 26,
     "metadata": {},
     "output_type": "execute_result"
    }
   ],
   "source": [
    "bank_data.purpose.unique()"
   ]
  },
  {
   "cell_type": "code",
   "execution_count": 27,
   "metadata": {},
   "outputs": [],
   "source": [
    "# %%time\n",
    "# # Categorization with lemmatization\n",
    "\n",
    "# #function for lemmatizing and joining words together\n",
    "# def lemmatize_text(text):\n",
    "#     m = Mystem()\n",
    "#     result = m.lemmatize(text)\n",
    "#     return \" \".join(result)\n",
    "\n",
    "# #categorize by lemmatized words\n",
    "# def purpose_category(text):\n",
    "#     if 'house' in lemmatize_text(text):\n",
    "#         return 1\n",
    "#     elif 'car' in lemmatize_text(text):\n",
    "#         return 2\n",
    "#     elif 'education' in lemmatize_text(text):\n",
    "#         return 3\n",
    "#     elif 'estate' in lemmatize_text(text):\n",
    "#         return 4\n",
    "#     elif 'wedding' in lemmatize_text(text):\n",
    "#         return 5\n",
    "#     else:\n",
    "#         return 6\n",
    "\n",
    "# test = bank_data['purpose'].head().apply(purpose_category)"
   ]
  },
  {
   "cell_type": "markdown",
   "metadata": {},
   "source": [
    "Lemmatisation - 13 seconds for 5 lines, that's ~ 2.5 seconds for one line. Given that we have 21 thousand rows, it will take ~ 52 thousand seconds (~ 15 hours) to process the entire table using lemmatization. Unacceptably long."
   ]
  },
  {
   "cell_type": "code",
   "execution_count": 28,
   "metadata": {},
   "outputs": [
    {
     "name": "stdout",
     "output_type": "stream",
     "text": [
      "Wall time: 29.8 s\n"
     ]
    }
   ],
   "source": [
    "%%time\n",
    "# Categorization with stemming\n",
    "\n",
    "stemmer = SnowballStemmer('english')\n",
    "\n",
    "# a function for text tokenization and stemming with subsequent return of text\n",
    "def stemm_text(text):\n",
    "    token_words = word_tokenize(text)\n",
    "    stem_sentence=[]\n",
    "    for word in token_words:\n",
    "        stem_sentence.append(stemmer.stem(word))\n",
    "        stem_sentence.append(\" \")\n",
    "    return \"\".join(stem_sentence)\n",
    "\n",
    "# function for categorization by stemming\n",
    "def purpose_category(text):\n",
    "    if 'house' in stemm_text(text):\n",
    "        return 1\n",
    "    elif 'car' in stemm_text(text):\n",
    "        return 2\n",
    "    elif 'educat' in stemm_text(text):\n",
    "        return 3\n",
    "    elif 'estate' in stemm_text(text):\n",
    "        return 4\n",
    "    elif 'wedd' in stemm_text(text):\n",
    "        return 5\n",
    "    else:\n",
    "        return 6\n",
    "    \n",
    "test = bank_data['purpose'].apply(purpose_category)"
   ]
  },
  {
   "cell_type": "markdown",
   "metadata": {},
   "source": [
    "Получается на порядки быстрее лемматизации (приблизительно 13 секунд на всю таблицу)."
   ]
  },
  {
   "cell_type": "code",
   "execution_count": 29,
   "metadata": {},
   "outputs": [
    {
     "name": "stdout",
     "output_type": "stream",
     "text": [
      "Wall time: 38.7 ms\n"
     ]
    }
   ],
   "source": [
    "%%time\n",
    "\n",
    "# Categorization \"in a simple way\" - search for substrings in the text\n",
    "\n",
    "def purpose_category(text):\n",
    "    if 'house' in text:\n",
    "        return 1\n",
    "    elif 'car' in text:\n",
    "        return 2\n",
    "    elif 'educat' in text:\n",
    "        return 3\n",
    "    elif 'estate' in text:\n",
    "        return 4\n",
    "    elif 'wedd' in text:\n",
    "        return 5\n",
    "    else:\n",
    "        return 6\n",
    "\n",
    "test = bank_data['purpose'].apply(purpose_category)"
   ]
  },
  {
   "cell_type": "markdown",
   "metadata": {},
   "source": [
    "\"In a simple way\" turns out to be orders of magnitude faster than lemmatization and stemming (a couple of milliseconds for the entire table). This method is not as reliable as lemmatization, but the result will be no worse than stemming. Perhaps we will use this method."
   ]
  },
  {
   "cell_type": "markdown",
   "metadata": {},
   "source": [
    "**Conclusion**"
   ]
  },
  {
   "cell_type": "markdown",
   "metadata": {},
   "source": [
    "Lemmatisation (at least on my laptop) takes too long to make sense to apply it to this problem. And stemming by result will not differ from a simple search for a substring."
   ]
  },
  {
   "cell_type": "markdown",
   "metadata": {},
   "source": [
    "### Data categorization"
   ]
  },
  {
   "cell_type": "markdown",
   "metadata": {},
   "source": [
    "##### Categorizing the column `purpose`"
   ]
  },
  {
   "cell_type": "code",
   "execution_count": 30,
   "metadata": {},
   "outputs": [
    {
     "data": {
      "text/html": [
       "<div>\n",
       "<style scoped>\n",
       "    .dataframe tbody tr th:only-of-type {\n",
       "        vertical-align: middle;\n",
       "    }\n",
       "\n",
       "    .dataframe tbody tr th {\n",
       "        vertical-align: top;\n",
       "    }\n",
       "\n",
       "    .dataframe thead th {\n",
       "        text-align: right;\n",
       "    }\n",
       "</style>\n",
       "<table border=\"1\" class=\"dataframe\">\n",
       "  <thead>\n",
       "    <tr style=\"text-align: right;\">\n",
       "      <th></th>\n",
       "      <th>purpose</th>\n",
       "      <th>purpose_id</th>\n",
       "    </tr>\n",
       "  </thead>\n",
       "  <tbody>\n",
       "    <tr>\n",
       "      <th>0</th>\n",
       "      <td>purchase of the house</td>\n",
       "      <td>1</td>\n",
       "    </tr>\n",
       "    <tr>\n",
       "      <th>1</th>\n",
       "      <td>car purchase</td>\n",
       "      <td>2</td>\n",
       "    </tr>\n",
       "    <tr>\n",
       "      <th>2</th>\n",
       "      <td>purchase of the house</td>\n",
       "      <td>1</td>\n",
       "    </tr>\n",
       "    <tr>\n",
       "      <th>3</th>\n",
       "      <td>supplementary education</td>\n",
       "      <td>3</td>\n",
       "    </tr>\n",
       "    <tr>\n",
       "      <th>4</th>\n",
       "      <td>to have a wedding</td>\n",
       "      <td>5</td>\n",
       "    </tr>\n",
       "    <tr>\n",
       "      <th>5</th>\n",
       "      <td>purchase of the house</td>\n",
       "      <td>1</td>\n",
       "    </tr>\n",
       "    <tr>\n",
       "      <th>6</th>\n",
       "      <td>housing transactions</td>\n",
       "      <td>6</td>\n",
       "    </tr>\n",
       "    <tr>\n",
       "      <th>7</th>\n",
       "      <td>education</td>\n",
       "      <td>3</td>\n",
       "    </tr>\n",
       "    <tr>\n",
       "      <th>8</th>\n",
       "      <td>having a wedding</td>\n",
       "      <td>5</td>\n",
       "    </tr>\n",
       "    <tr>\n",
       "      <th>9</th>\n",
       "      <td>purchase of the house for my family</td>\n",
       "      <td>1</td>\n",
       "    </tr>\n",
       "  </tbody>\n",
       "</table>\n",
       "</div>"
      ],
      "text/plain": [
       "                               purpose  purpose_id\n",
       "0                purchase of the house           1\n",
       "1                         car purchase           2\n",
       "2                purchase of the house           1\n",
       "3              supplementary education           3\n",
       "4                    to have a wedding           5\n",
       "5                purchase of the house           1\n",
       "6                 housing transactions           6\n",
       "7                            education           3\n",
       "8                     having a wedding           5\n",
       "9  purchase of the house for my family           1"
      ]
     },
     "execution_count": 30,
     "metadata": {},
     "output_type": "execute_result"
    }
   ],
   "source": [
    "# Let's categorize the purpose column \"in a simple way\":\n",
    "bank_data['purpose_id'] = bank_data['purpose'].apply(purpose_category)\n",
    "bank_data[['purpose', 'purpose_id']].head(10)"
   ]
  },
  {
   "cell_type": "markdown",
   "metadata": {},
   "source": [
    "##### Categorizing the column `days_employed`"
   ]
  },
  {
   "cell_type": "code",
   "execution_count": 31,
   "metadata": {},
   "outputs": [],
   "source": [
    "# Categorization by the days_employed column using apartments.\n",
    "quant_cat_empl = bank_data.days_employed.quantile([.25, .5, 0.75, 1])"
   ]
  },
  {
   "cell_type": "code",
   "execution_count": 32,
   "metadata": {
    "scrolled": true
   },
   "outputs": [
    {
     "data": {
      "text/html": [
       "<div>\n",
       "<style scoped>\n",
       "    .dataframe tbody tr th:only-of-type {\n",
       "        vertical-align: middle;\n",
       "    }\n",
       "\n",
       "    .dataframe tbody tr th {\n",
       "        vertical-align: top;\n",
       "    }\n",
       "\n",
       "    .dataframe thead th {\n",
       "        text-align: right;\n",
       "    }\n",
       "</style>\n",
       "<table border=\"1\" class=\"dataframe\">\n",
       "  <thead>\n",
       "    <tr style=\"text-align: right;\">\n",
       "      <th></th>\n",
       "      <th>days_employed</th>\n",
       "      <th>days_employed_id</th>\n",
       "    </tr>\n",
       "  </thead>\n",
       "  <tbody>\n",
       "    <tr>\n",
       "      <th>21520</th>\n",
       "      <td>4529</td>\n",
       "      <td>4</td>\n",
       "    </tr>\n",
       "    <tr>\n",
       "      <th>21521</th>\n",
       "      <td>1960</td>\n",
       "      <td>2</td>\n",
       "    </tr>\n",
       "    <tr>\n",
       "      <th>21522</th>\n",
       "      <td>2113</td>\n",
       "      <td>3</td>\n",
       "    </tr>\n",
       "    <tr>\n",
       "      <th>21523</th>\n",
       "      <td>3112</td>\n",
       "      <td>4</td>\n",
       "    </tr>\n",
       "    <tr>\n",
       "      <th>21524</th>\n",
       "      <td>1984</td>\n",
       "      <td>3</td>\n",
       "    </tr>\n",
       "  </tbody>\n",
       "</table>\n",
       "</div>"
      ],
      "text/plain": [
       "       days_employed  days_employed_id\n",
       "21520           4529                 4\n",
       "21521           1960                 2\n",
       "21522           2113                 3\n",
       "21523           3112                 4\n",
       "21524           1984                 3"
      ]
     },
     "execution_count": 32,
     "metadata": {},
     "output_type": "execute_result"
    }
   ],
   "source": [
    "# Categorize by days_employed column using quartiles\n",
    "bank_data['days_employed_id'] = bank_data.apply(lambda x: 1 if x.days_employed<=quant_cat_empl[.25]\n",
    "                                                                   else 2 if x.days_employed<=quant_cat_empl[.5]\n",
    "                                                                   else 3 if x.days_employed<=quant_cat_empl[.75]\n",
    "                                                                   else 4, axis=1)\n",
    "bank_data[['days_employed', 'days_employed_id']].tail()"
   ]
  },
  {
   "cell_type": "markdown",
   "metadata": {},
   "source": [
    "##### Categorizing the column `total_income`"
   ]
  },
  {
   "cell_type": "code",
   "execution_count": 33,
   "metadata": {},
   "outputs": [],
   "source": [
    "# Categorization by the total_income column using quartiles.\n",
    "quant_cat_income = bank_data.total_income.quantile([.25, .5, 0.75, 1])"
   ]
  },
  {
   "cell_type": "code",
   "execution_count": 34,
   "metadata": {},
   "outputs": [
    {
     "data": {
      "text/html": [
       "<div>\n",
       "<style scoped>\n",
       "    .dataframe tbody tr th:only-of-type {\n",
       "        vertical-align: middle;\n",
       "    }\n",
       "\n",
       "    .dataframe tbody tr th {\n",
       "        vertical-align: top;\n",
       "    }\n",
       "\n",
       "    .dataframe thead th {\n",
       "        text-align: right;\n",
       "    }\n",
       "</style>\n",
       "<table border=\"1\" class=\"dataframe\">\n",
       "  <thead>\n",
       "    <tr style=\"text-align: right;\">\n",
       "      <th></th>\n",
       "      <th>total_income</th>\n",
       "      <th>total_income_id</th>\n",
       "    </tr>\n",
       "  </thead>\n",
       "  <tbody>\n",
       "    <tr>\n",
       "      <th>0</th>\n",
       "      <td>40620</td>\n",
       "      <td>4</td>\n",
       "    </tr>\n",
       "    <tr>\n",
       "      <th>1</th>\n",
       "      <td>17932</td>\n",
       "      <td>2</td>\n",
       "    </tr>\n",
       "    <tr>\n",
       "      <th>2</th>\n",
       "      <td>23341</td>\n",
       "      <td>3</td>\n",
       "    </tr>\n",
       "    <tr>\n",
       "      <th>3</th>\n",
       "      <td>42820</td>\n",
       "      <td>4</td>\n",
       "    </tr>\n",
       "    <tr>\n",
       "      <th>4</th>\n",
       "      <td>25378</td>\n",
       "      <td>3</td>\n",
       "    </tr>\n",
       "  </tbody>\n",
       "</table>\n",
       "</div>"
      ],
      "text/plain": [
       "   total_income  total_income_id\n",
       "0         40620                4\n",
       "1         17932                2\n",
       "2         23341                3\n",
       "3         42820                4\n",
       "4         25378                3"
      ]
     },
     "execution_count": 34,
     "metadata": {},
     "output_type": "execute_result"
    }
   ],
   "source": [
    "#Categorization by total_income column using quartiles\n",
    "bank_data['total_income_id'] = bank_data.apply(lambda x: 1 if x.total_income<=quant_cat_income[.25]\n",
    "                                                                   else 2 if x.total_income<=quant_cat_income[.5]\n",
    "                                                                   else 3 if x.total_income<=quant_cat_income[.75]\n",
    "                                                                   else 4, axis=1)\n",
    "bank_data[['total_income', 'total_income_id']].head()"
   ]
  },
  {
   "cell_type": "markdown",
   "metadata": {},
   "source": [
    "##### Categorizing the column  `education`"
   ]
  },
  {
   "cell_type": "code",
   "execution_count": 35,
   "metadata": {},
   "outputs": [
    {
     "data": {
      "text/plain": [
       "array([\"bachelor's degree\", 'secondary education', 'some college',\n",
       "       'primary education', 'graduate degree'], dtype=object)"
      ]
     },
     "execution_count": 35,
     "metadata": {},
     "output_type": "execute_result"
    }
   ],
   "source": [
    "# Categorize data from the \"education\" column. Let's see the number of unique values.\n",
    "bank_data.education.unique()"
   ]
  },
  {
   "cell_type": "code",
   "execution_count": 36,
   "metadata": {},
   "outputs": [
    {
     "data": {
      "text/html": [
       "<div>\n",
       "<style scoped>\n",
       "    .dataframe tbody tr th:only-of-type {\n",
       "        vertical-align: middle;\n",
       "    }\n",
       "\n",
       "    .dataframe tbody tr th {\n",
       "        vertical-align: top;\n",
       "    }\n",
       "\n",
       "    .dataframe thead th {\n",
       "        text-align: right;\n",
       "    }\n",
       "</style>\n",
       "<table border=\"1\" class=\"dataframe\">\n",
       "  <thead>\n",
       "    <tr style=\"text-align: right;\">\n",
       "      <th></th>\n",
       "      <th>education</th>\n",
       "      <th>education_id</th>\n",
       "    </tr>\n",
       "  </thead>\n",
       "  <tbody>\n",
       "    <tr>\n",
       "      <th>0</th>\n",
       "      <td>bachelor's degree</td>\n",
       "      <td>4</td>\n",
       "    </tr>\n",
       "    <tr>\n",
       "      <th>1</th>\n",
       "      <td>secondary education</td>\n",
       "      <td>1</td>\n",
       "    </tr>\n",
       "    <tr>\n",
       "      <th>2</th>\n",
       "      <td>secondary education</td>\n",
       "      <td>1</td>\n",
       "    </tr>\n",
       "    <tr>\n",
       "      <th>3</th>\n",
       "      <td>secondary education</td>\n",
       "      <td>1</td>\n",
       "    </tr>\n",
       "    <tr>\n",
       "      <th>4</th>\n",
       "      <td>secondary education</td>\n",
       "      <td>1</td>\n",
       "    </tr>\n",
       "  </tbody>\n",
       "</table>\n",
       "</div>"
      ],
      "text/plain": [
       "             education  education_id\n",
       "0    bachelor's degree             4\n",
       "1  secondary education             1\n",
       "2  secondary education             1\n",
       "3  secondary education             1\n",
       "4  secondary education             1"
      ]
     },
     "execution_count": 36,
     "metadata": {},
     "output_type": "execute_result"
    }
   ],
   "source": [
    "def education_cat(row):\n",
    "    education = row['education']\n",
    "    if education == 'primary education':\n",
    "        return 0\n",
    "    elif education == 'secondary education':\n",
    "        return 1\n",
    "    elif education == 'graduate degree':\n",
    "        return 2\n",
    "    elif education == 'some college':\n",
    "        return 3\n",
    "    return 4\n",
    "\n",
    "bank_data['education_id'] = bank_data.apply(education_cat, axis=1)\n",
    "bank_data[['education', 'education_id']].head()"
   ]
  },
  {
   "cell_type": "code",
   "execution_count": 37,
   "metadata": {},
   "outputs": [
    {
     "data": {
      "text/html": [
       "<div>\n",
       "<style scoped>\n",
       "    .dataframe tbody tr th:only-of-type {\n",
       "        vertical-align: middle;\n",
       "    }\n",
       "\n",
       "    .dataframe tbody tr th {\n",
       "        vertical-align: top;\n",
       "    }\n",
       "\n",
       "    .dataframe thead th {\n",
       "        text-align: right;\n",
       "    }\n",
       "</style>\n",
       "<table border=\"1\" class=\"dataframe\">\n",
       "  <thead>\n",
       "    <tr style=\"text-align: right;\">\n",
       "      <th></th>\n",
       "      <th>children</th>\n",
       "      <th>days_employed</th>\n",
       "      <th>dob_years</th>\n",
       "      <th>education</th>\n",
       "      <th>education_id</th>\n",
       "      <th>family_status</th>\n",
       "      <th>family_status_id</th>\n",
       "      <th>gender</th>\n",
       "      <th>income_type</th>\n",
       "      <th>debt</th>\n",
       "      <th>total_income</th>\n",
       "      <th>purpose</th>\n",
       "      <th>purpose_id</th>\n",
       "      <th>days_employed_id</th>\n",
       "      <th>total_income_id</th>\n",
       "    </tr>\n",
       "  </thead>\n",
       "  <tbody>\n",
       "    <tr>\n",
       "      <th>0</th>\n",
       "      <td>1</td>\n",
       "      <td>8437</td>\n",
       "      <td>42</td>\n",
       "      <td>bachelor's degree</td>\n",
       "      <td>4</td>\n",
       "      <td>married</td>\n",
       "      <td>0</td>\n",
       "      <td>F</td>\n",
       "      <td>employee</td>\n",
       "      <td>0</td>\n",
       "      <td>40620</td>\n",
       "      <td>purchase of the house</td>\n",
       "      <td>1</td>\n",
       "      <td>4</td>\n",
       "      <td>4</td>\n",
       "    </tr>\n",
       "    <tr>\n",
       "      <th>1</th>\n",
       "      <td>1</td>\n",
       "      <td>4024</td>\n",
       "      <td>36</td>\n",
       "      <td>secondary education</td>\n",
       "      <td>1</td>\n",
       "      <td>married</td>\n",
       "      <td>0</td>\n",
       "      <td>F</td>\n",
       "      <td>employee</td>\n",
       "      <td>0</td>\n",
       "      <td>17932</td>\n",
       "      <td>car purchase</td>\n",
       "      <td>2</td>\n",
       "      <td>4</td>\n",
       "      <td>2</td>\n",
       "    </tr>\n",
       "    <tr>\n",
       "      <th>2</th>\n",
       "      <td>0</td>\n",
       "      <td>5623</td>\n",
       "      <td>33</td>\n",
       "      <td>secondary education</td>\n",
       "      <td>1</td>\n",
       "      <td>married</td>\n",
       "      <td>0</td>\n",
       "      <td>M</td>\n",
       "      <td>employee</td>\n",
       "      <td>0</td>\n",
       "      <td>23341</td>\n",
       "      <td>purchase of the house</td>\n",
       "      <td>1</td>\n",
       "      <td>4</td>\n",
       "      <td>3</td>\n",
       "    </tr>\n",
       "    <tr>\n",
       "      <th>3</th>\n",
       "      <td>3</td>\n",
       "      <td>4124</td>\n",
       "      <td>32</td>\n",
       "      <td>secondary education</td>\n",
       "      <td>1</td>\n",
       "      <td>married</td>\n",
       "      <td>0</td>\n",
       "      <td>M</td>\n",
       "      <td>employee</td>\n",
       "      <td>0</td>\n",
       "      <td>42820</td>\n",
       "      <td>supplementary education</td>\n",
       "      <td>3</td>\n",
       "      <td>4</td>\n",
       "      <td>4</td>\n",
       "    </tr>\n",
       "    <tr>\n",
       "      <th>4</th>\n",
       "      <td>0</td>\n",
       "      <td>1960</td>\n",
       "      <td>53</td>\n",
       "      <td>secondary education</td>\n",
       "      <td>1</td>\n",
       "      <td>civil partnership</td>\n",
       "      <td>1</td>\n",
       "      <td>F</td>\n",
       "      <td>retiree</td>\n",
       "      <td>0</td>\n",
       "      <td>25378</td>\n",
       "      <td>to have a wedding</td>\n",
       "      <td>5</td>\n",
       "      <td>2</td>\n",
       "      <td>3</td>\n",
       "    </tr>\n",
       "  </tbody>\n",
       "</table>\n",
       "</div>"
      ],
      "text/plain": [
       "   children  days_employed  dob_years            education  education_id  \\\n",
       "0         1           8437         42    bachelor's degree             4   \n",
       "1         1           4024         36  secondary education             1   \n",
       "2         0           5623         33  secondary education             1   \n",
       "3         3           4124         32  secondary education             1   \n",
       "4         0           1960         53  secondary education             1   \n",
       "\n",
       "       family_status  family_status_id gender income_type  debt  total_income  \\\n",
       "0            married                 0      F    employee     0         40620   \n",
       "1            married                 0      F    employee     0         17932   \n",
       "2            married                 0      M    employee     0         23341   \n",
       "3            married                 0      M    employee     0         42820   \n",
       "4  civil partnership                 1      F     retiree     0         25378   \n",
       "\n",
       "                   purpose  purpose_id  days_employed_id  total_income_id  \n",
       "0    purchase of the house           1                 4                4  \n",
       "1             car purchase           2                 4                2  \n",
       "2    purchase of the house           1                 4                3  \n",
       "3  supplementary education           3                 4                4  \n",
       "4        to have a wedding           5                 2                3  "
      ]
     },
     "execution_count": 37,
     "metadata": {},
     "output_type": "execute_result"
    }
   ],
   "source": [
    "bank_data.head()"
   ]
  },
  {
   "cell_type": "markdown",
   "metadata": {},
   "source": [
    "##### Categorizing the column `gender`"
   ]
  },
  {
   "cell_type": "code",
   "execution_count": 38,
   "metadata": {},
   "outputs": [
    {
     "data": {
      "text/plain": [
       "array(['F', 'M', 'XNA'], dtype=object)"
      ]
     },
     "execution_count": 38,
     "metadata": {},
     "output_type": "execute_result"
    }
   ],
   "source": [
    "bank_data.gender.unique()"
   ]
  },
  {
   "cell_type": "code",
   "execution_count": 39,
   "metadata": {},
   "outputs": [
    {
     "data": {
      "text/html": [
       "<div>\n",
       "<style scoped>\n",
       "    .dataframe tbody tr th:only-of-type {\n",
       "        vertical-align: middle;\n",
       "    }\n",
       "\n",
       "    .dataframe tbody tr th {\n",
       "        vertical-align: top;\n",
       "    }\n",
       "\n",
       "    .dataframe thead th {\n",
       "        text-align: right;\n",
       "    }\n",
       "</style>\n",
       "<table border=\"1\" class=\"dataframe\">\n",
       "  <thead>\n",
       "    <tr style=\"text-align: right;\">\n",
       "      <th></th>\n",
       "      <th>gender</th>\n",
       "      <th>gender_id</th>\n",
       "    </tr>\n",
       "  </thead>\n",
       "  <tbody>\n",
       "    <tr>\n",
       "      <th>0</th>\n",
       "      <td>F</td>\n",
       "      <td>2</td>\n",
       "    </tr>\n",
       "    <tr>\n",
       "      <th>1</th>\n",
       "      <td>F</td>\n",
       "      <td>2</td>\n",
       "    </tr>\n",
       "    <tr>\n",
       "      <th>2</th>\n",
       "      <td>M</td>\n",
       "      <td>1</td>\n",
       "    </tr>\n",
       "    <tr>\n",
       "      <th>3</th>\n",
       "      <td>M</td>\n",
       "      <td>1</td>\n",
       "    </tr>\n",
       "    <tr>\n",
       "      <th>4</th>\n",
       "      <td>F</td>\n",
       "      <td>2</td>\n",
       "    </tr>\n",
       "  </tbody>\n",
       "</table>\n",
       "</div>"
      ],
      "text/plain": [
       "  gender  gender_id\n",
       "0      F          2\n",
       "1      F          2\n",
       "2      M          1\n",
       "3      M          1\n",
       "4      F          2"
      ]
     },
     "execution_count": 39,
     "metadata": {},
     "output_type": "execute_result"
    }
   ],
   "source": [
    "bank_data['gender_id'] = bank_data.gender.apply(lambda x: 1 if x=='M' else 2 if x=='F' else 3 if x=='XNA' else x)\n",
    "bank_data[['gender', 'gender_id']].head()"
   ]
  },
  {
   "cell_type": "markdown",
   "metadata": {},
   "source": [
    "##### Categorizing the column  `income_type`"
   ]
  },
  {
   "cell_type": "code",
   "execution_count": 40,
   "metadata": {},
   "outputs": [
    {
     "data": {
      "text/plain": [
       "array(['employee', 'retiree', 'business', 'civil servant', 'unemployed',\n",
       "       'entrepreneur', 'student', 'paternity / maternity leave'],\n",
       "      dtype=object)"
      ]
     },
     "execution_count": 40,
     "metadata": {},
     "output_type": "execute_result"
    }
   ],
   "source": [
    "bank_data.income_type.unique()"
   ]
  },
  {
   "cell_type": "code",
   "execution_count": 41,
   "metadata": {},
   "outputs": [
    {
     "data": {
      "text/html": [
       "<div>\n",
       "<style scoped>\n",
       "    .dataframe tbody tr th:only-of-type {\n",
       "        vertical-align: middle;\n",
       "    }\n",
       "\n",
       "    .dataframe tbody tr th {\n",
       "        vertical-align: top;\n",
       "    }\n",
       "\n",
       "    .dataframe thead th {\n",
       "        text-align: right;\n",
       "    }\n",
       "</style>\n",
       "<table border=\"1\" class=\"dataframe\">\n",
       "  <thead>\n",
       "    <tr style=\"text-align: right;\">\n",
       "      <th></th>\n",
       "      <th>income_type</th>\n",
       "      <th>income_type_id</th>\n",
       "    </tr>\n",
       "  </thead>\n",
       "  <tbody>\n",
       "    <tr>\n",
       "      <th>5603</th>\n",
       "      <td>employee</td>\n",
       "      <td>4</td>\n",
       "    </tr>\n",
       "    <tr>\n",
       "      <th>2547</th>\n",
       "      <td>business</td>\n",
       "      <td>3</td>\n",
       "    </tr>\n",
       "    <tr>\n",
       "      <th>9778</th>\n",
       "      <td>employee</td>\n",
       "      <td>4</td>\n",
       "    </tr>\n",
       "    <tr>\n",
       "      <th>159</th>\n",
       "      <td>retiree</td>\n",
       "      <td>7</td>\n",
       "    </tr>\n",
       "    <tr>\n",
       "      <th>18655</th>\n",
       "      <td>employee</td>\n",
       "      <td>4</td>\n",
       "    </tr>\n",
       "  </tbody>\n",
       "</table>\n",
       "</div>"
      ],
      "text/plain": [
       "      income_type  income_type_id\n",
       "5603     employee               4\n",
       "2547     business               3\n",
       "9778     employee               4\n",
       "159       retiree               7\n",
       "18655    employee               4"
      ]
     },
     "execution_count": 41,
     "metadata": {},
     "output_type": "execute_result"
    }
   ],
   "source": [
    "bank_data['income_type_id'] = bank_data.income_type.apply(lambda x: 0 if x=='unemployed'\n",
    "                                                          else 1 if x=='student'\n",
    "                                                          else 2 if x=='paternity / maternity leave'\n",
    "                                                          else 3 if x=='business'\n",
    "                                                          else 4 if x=='employee'\n",
    "                                                          else 5 if x=='civil servant'\n",
    "                                                          else 6 if x=='entrepreneur'\n",
    "                                                          else 7 if x=='retiree' else x)\n",
    "\n",
    "bank_data[['income_type', 'income_type_id']].sample(5, random_state=88)"
   ]
  },
  {
   "cell_type": "markdown",
   "metadata": {},
   "source": [
    "##### Categorizing the column  `dob_years`"
   ]
  },
  {
   "cell_type": "code",
   "execution_count": 42,
   "metadata": {},
   "outputs": [
    {
     "data": {
      "text/html": [
       "<div>\n",
       "<style scoped>\n",
       "    .dataframe tbody tr th:only-of-type {\n",
       "        vertical-align: middle;\n",
       "    }\n",
       "\n",
       "    .dataframe tbody tr th {\n",
       "        vertical-align: top;\n",
       "    }\n",
       "\n",
       "    .dataframe thead th {\n",
       "        text-align: right;\n",
       "    }\n",
       "</style>\n",
       "<table border=\"1\" class=\"dataframe\">\n",
       "  <thead>\n",
       "    <tr style=\"text-align: right;\">\n",
       "      <th></th>\n",
       "      <th>dob_years</th>\n",
       "      <th>dob_years_id</th>\n",
       "    </tr>\n",
       "  </thead>\n",
       "  <tbody>\n",
       "    <tr>\n",
       "      <th>21520</th>\n",
       "      <td>43</td>\n",
       "      <td>2</td>\n",
       "    </tr>\n",
       "    <tr>\n",
       "      <th>21521</th>\n",
       "      <td>67</td>\n",
       "      <td>3</td>\n",
       "    </tr>\n",
       "    <tr>\n",
       "      <th>21522</th>\n",
       "      <td>38</td>\n",
       "      <td>2</td>\n",
       "    </tr>\n",
       "    <tr>\n",
       "      <th>21523</th>\n",
       "      <td>38</td>\n",
       "      <td>2</td>\n",
       "    </tr>\n",
       "    <tr>\n",
       "      <th>21524</th>\n",
       "      <td>40</td>\n",
       "      <td>2</td>\n",
       "    </tr>\n",
       "  </tbody>\n",
       "</table>\n",
       "</div>"
      ],
      "text/plain": [
       "       dob_years  dob_years_id\n",
       "21520         43             2\n",
       "21521         67             3\n",
       "21522         38             2\n",
       "21523         38             2\n",
       "21524         40             2"
      ]
     },
     "execution_count": 42,
     "metadata": {},
     "output_type": "execute_result"
    }
   ],
   "source": [
    "bank_data['dob_years_id'] = bank_data['dob_years'].apply(lambda x: 0 if x<=17\n",
    "                                                        else 1 if x<=30\n",
    "                                                        else 2 if x<=60\n",
    "                                                        else 3)\n",
    "bank_data[['dob_years', 'dob_years_id']].tail()"
   ]
  },
  {
   "cell_type": "markdown",
   "metadata": {},
   "source": [
    "##### Looking at the received data"
   ]
  },
  {
   "cell_type": "code",
   "execution_count": 43,
   "metadata": {},
   "outputs": [
    {
     "data": {
      "text/html": [
       "<div>\n",
       "<style scoped>\n",
       "    .dataframe tbody tr th:only-of-type {\n",
       "        vertical-align: middle;\n",
       "    }\n",
       "\n",
       "    .dataframe tbody tr th {\n",
       "        vertical-align: top;\n",
       "    }\n",
       "\n",
       "    .dataframe thead th {\n",
       "        text-align: right;\n",
       "    }\n",
       "</style>\n",
       "<table border=\"1\" class=\"dataframe\">\n",
       "  <thead>\n",
       "    <tr style=\"text-align: right;\">\n",
       "      <th></th>\n",
       "      <th>children</th>\n",
       "      <th>days_employed</th>\n",
       "      <th>days_employed_id</th>\n",
       "      <th>debt</th>\n",
       "      <th>dob_years</th>\n",
       "      <th>dob_years_id</th>\n",
       "      <th>education</th>\n",
       "      <th>education_id</th>\n",
       "      <th>family_status</th>\n",
       "      <th>family_status_id</th>\n",
       "      <th>gender</th>\n",
       "      <th>gender_id</th>\n",
       "      <th>income_type</th>\n",
       "      <th>income_type_id</th>\n",
       "      <th>purpose</th>\n",
       "      <th>purpose_id</th>\n",
       "      <th>total_income</th>\n",
       "      <th>total_income_id</th>\n",
       "    </tr>\n",
       "  </thead>\n",
       "  <tbody>\n",
       "    <tr>\n",
       "      <th>0</th>\n",
       "      <td>1</td>\n",
       "      <td>8437</td>\n",
       "      <td>4</td>\n",
       "      <td>0</td>\n",
       "      <td>42</td>\n",
       "      <td>2</td>\n",
       "      <td>bachelor's degree</td>\n",
       "      <td>4</td>\n",
       "      <td>married</td>\n",
       "      <td>0</td>\n",
       "      <td>F</td>\n",
       "      <td>2</td>\n",
       "      <td>employee</td>\n",
       "      <td>4</td>\n",
       "      <td>purchase of the house</td>\n",
       "      <td>1</td>\n",
       "      <td>40620</td>\n",
       "      <td>4</td>\n",
       "    </tr>\n",
       "    <tr>\n",
       "      <th>1</th>\n",
       "      <td>1</td>\n",
       "      <td>4024</td>\n",
       "      <td>4</td>\n",
       "      <td>0</td>\n",
       "      <td>36</td>\n",
       "      <td>2</td>\n",
       "      <td>secondary education</td>\n",
       "      <td>1</td>\n",
       "      <td>married</td>\n",
       "      <td>0</td>\n",
       "      <td>F</td>\n",
       "      <td>2</td>\n",
       "      <td>employee</td>\n",
       "      <td>4</td>\n",
       "      <td>car purchase</td>\n",
       "      <td>2</td>\n",
       "      <td>17932</td>\n",
       "      <td>2</td>\n",
       "    </tr>\n",
       "    <tr>\n",
       "      <th>2</th>\n",
       "      <td>0</td>\n",
       "      <td>5623</td>\n",
       "      <td>4</td>\n",
       "      <td>0</td>\n",
       "      <td>33</td>\n",
       "      <td>2</td>\n",
       "      <td>secondary education</td>\n",
       "      <td>1</td>\n",
       "      <td>married</td>\n",
       "      <td>0</td>\n",
       "      <td>M</td>\n",
       "      <td>1</td>\n",
       "      <td>employee</td>\n",
       "      <td>4</td>\n",
       "      <td>purchase of the house</td>\n",
       "      <td>1</td>\n",
       "      <td>23341</td>\n",
       "      <td>3</td>\n",
       "    </tr>\n",
       "    <tr>\n",
       "      <th>3</th>\n",
       "      <td>3</td>\n",
       "      <td>4124</td>\n",
       "      <td>4</td>\n",
       "      <td>0</td>\n",
       "      <td>32</td>\n",
       "      <td>2</td>\n",
       "      <td>secondary education</td>\n",
       "      <td>1</td>\n",
       "      <td>married</td>\n",
       "      <td>0</td>\n",
       "      <td>M</td>\n",
       "      <td>1</td>\n",
       "      <td>employee</td>\n",
       "      <td>4</td>\n",
       "      <td>supplementary education</td>\n",
       "      <td>3</td>\n",
       "      <td>42820</td>\n",
       "      <td>4</td>\n",
       "    </tr>\n",
       "    <tr>\n",
       "      <th>4</th>\n",
       "      <td>0</td>\n",
       "      <td>1960</td>\n",
       "      <td>2</td>\n",
       "      <td>0</td>\n",
       "      <td>53</td>\n",
       "      <td>2</td>\n",
       "      <td>secondary education</td>\n",
       "      <td>1</td>\n",
       "      <td>civil partnership</td>\n",
       "      <td>1</td>\n",
       "      <td>F</td>\n",
       "      <td>2</td>\n",
       "      <td>retiree</td>\n",
       "      <td>7</td>\n",
       "      <td>to have a wedding</td>\n",
       "      <td>5</td>\n",
       "      <td>25378</td>\n",
       "      <td>3</td>\n",
       "    </tr>\n",
       "  </tbody>\n",
       "</table>\n",
       "</div>"
      ],
      "text/plain": [
       "   children  days_employed  days_employed_id  debt  dob_years  dob_years_id  \\\n",
       "0         1           8437                 4     0         42             2   \n",
       "1         1           4024                 4     0         36             2   \n",
       "2         0           5623                 4     0         33             2   \n",
       "3         3           4124                 4     0         32             2   \n",
       "4         0           1960                 2     0         53             2   \n",
       "\n",
       "             education  education_id      family_status  family_status_id  \\\n",
       "0    bachelor's degree             4            married                 0   \n",
       "1  secondary education             1            married                 0   \n",
       "2  secondary education             1            married                 0   \n",
       "3  secondary education             1            married                 0   \n",
       "4  secondary education             1  civil partnership                 1   \n",
       "\n",
       "  gender  gender_id income_type  income_type_id                  purpose  \\\n",
       "0      F          2    employee               4    purchase of the house   \n",
       "1      F          2    employee               4             car purchase   \n",
       "2      M          1    employee               4    purchase of the house   \n",
       "3      M          1    employee               4  supplementary education   \n",
       "4      F          2     retiree               7        to have a wedding   \n",
       "\n",
       "   purpose_id  total_income  total_income_id  \n",
       "0           1         40620                4  \n",
       "1           2         17932                2  \n",
       "2           1         23341                3  \n",
       "3           3         42820                4  \n",
       "4           5         25378                3  "
      ]
     },
     "execution_count": 43,
     "metadata": {},
     "output_type": "execute_result"
    }
   ],
   "source": [
    "bank_data = bank_data.reindex(sorted(bank_data.columns), axis=1)\n",
    "bank_data.head()"
   ]
  },
  {
   "cell_type": "markdown",
   "metadata": {},
   "source": [
    "**Conclusion**"
   ]
  },
  {
   "cell_type": "markdown",
   "metadata": {},
   "source": [
    "We took up the categorization of all the necessary columns and successfully carried it out. Sorted column names by name."
   ]
  },
  {
   "cell_type": "markdown",
   "metadata": {},
   "source": [
    "### Let's look at the median income depending on education and current profession "
   ]
  },
  {
   "cell_type": "code",
   "execution_count": 44,
   "metadata": {
    "scrolled": false
   },
   "outputs": [
    {
     "data": {
      "text/html": [
       "<div>\n",
       "<style scoped>\n",
       "    .dataframe tbody tr th:only-of-type {\n",
       "        vertical-align: middle;\n",
       "    }\n",
       "\n",
       "    .dataframe tbody tr th {\n",
       "        vertical-align: top;\n",
       "    }\n",
       "\n",
       "    .dataframe thead th {\n",
       "        text-align: right;\n",
       "    }\n",
       "</style>\n",
       "<table border=\"1\" class=\"dataframe\">\n",
       "  <thead>\n",
       "    <tr style=\"text-align: right;\">\n",
       "      <th>income_type</th>\n",
       "      <th>business</th>\n",
       "      <th>civil servant</th>\n",
       "      <th>employee</th>\n",
       "      <th>entrepreneur</th>\n",
       "      <th>paternity / maternity leave</th>\n",
       "      <th>retiree</th>\n",
       "      <th>student</th>\n",
       "      <th>unemployed</th>\n",
       "    </tr>\n",
       "    <tr>\n",
       "      <th>education_id</th>\n",
       "      <th></th>\n",
       "      <th></th>\n",
       "      <th></th>\n",
       "      <th></th>\n",
       "      <th></th>\n",
       "      <th></th>\n",
       "      <th></th>\n",
       "      <th></th>\n",
       "    </tr>\n",
       "  </thead>\n",
       "  <tbody>\n",
       "    <tr>\n",
       "      <th>0</th>\n",
       "      <td>21887.0</td>\n",
       "      <td>23734.0</td>\n",
       "      <td>20159.0</td>\n",
       "      <td>NaN</td>\n",
       "      <td>NaN</td>\n",
       "      <td>16415.0</td>\n",
       "      <td>NaN</td>\n",
       "      <td>NaN</td>\n",
       "    </tr>\n",
       "    <tr>\n",
       "      <th>1</th>\n",
       "      <td>25451.0</td>\n",
       "      <td>21864.0</td>\n",
       "      <td>21848.0</td>\n",
       "      <td>NaN</td>\n",
       "      <td>8612.0</td>\n",
       "      <td>18374.0</td>\n",
       "      <td>NaN</td>\n",
       "      <td>9593.0</td>\n",
       "    </tr>\n",
       "    <tr>\n",
       "      <th>2</th>\n",
       "      <td>NaN</td>\n",
       "      <td>17822.0</td>\n",
       "      <td>31771.0</td>\n",
       "      <td>NaN</td>\n",
       "      <td>NaN</td>\n",
       "      <td>28334.0</td>\n",
       "      <td>NaN</td>\n",
       "      <td>NaN</td>\n",
       "    </tr>\n",
       "    <tr>\n",
       "      <th>3</th>\n",
       "      <td>28778.0</td>\n",
       "      <td>25694.0</td>\n",
       "      <td>24209.0</td>\n",
       "      <td>NaN</td>\n",
       "      <td>NaN</td>\n",
       "      <td>19221.0</td>\n",
       "      <td>NaN</td>\n",
       "      <td>NaN</td>\n",
       "    </tr>\n",
       "    <tr>\n",
       "      <th>4</th>\n",
       "      <td>32285.0</td>\n",
       "      <td>27601.0</td>\n",
       "      <td>26502.0</td>\n",
       "      <td>79866.0</td>\n",
       "      <td>NaN</td>\n",
       "      <td>23078.0</td>\n",
       "      <td>15712.0</td>\n",
       "      <td>32435.0</td>\n",
       "    </tr>\n",
       "  </tbody>\n",
       "</table>\n",
       "</div>"
      ],
      "text/plain": [
       "income_type   business  civil servant  employee  entrepreneur  \\\n",
       "education_id                                                    \n",
       "0              21887.0        23734.0   20159.0           NaN   \n",
       "1              25451.0        21864.0   21848.0           NaN   \n",
       "2                  NaN        17822.0   31771.0           NaN   \n",
       "3              28778.0        25694.0   24209.0           NaN   \n",
       "4              32285.0        27601.0   26502.0       79866.0   \n",
       "\n",
       "income_type   paternity / maternity leave  retiree  student  unemployed  \n",
       "education_id                                                             \n",
       "0                                     NaN  16415.0      NaN         NaN  \n",
       "1                                  8612.0  18374.0      NaN      9593.0  \n",
       "2                                     NaN  28334.0      NaN         NaN  \n",
       "3                                     NaN  19221.0      NaN         NaN  \n",
       "4                                     NaN  23078.0  15712.0     32435.0  "
      ]
     },
     "execution_count": 44,
     "metadata": {},
     "output_type": "execute_result"
    }
   ],
   "source": [
    "bank_data.pivot_table('total_income', index=bank_data.education_id, columns='income_type', aggfunc='median')"
   ]
  },
  {
   "cell_type": "markdown",
   "metadata": {},
   "source": [
    "## Step 3: Answer the questions"
   ]
  },
  {
   "cell_type": "markdown",
   "metadata": {},
   "source": [
    "- Is there a relationship between having children and repaying a loan on time?"
   ]
  },
  {
   "cell_type": "code",
   "execution_count": 45,
   "metadata": {},
   "outputs": [
    {
     "data": {
      "image/png": "[encoded data removed]",
      "text/plain": [
       "<Figure size 432x288 with 1 Axes>"
      ]
     },
     "metadata": {
      "needs_background": "light"
     },
     "output_type": "display_data"
    }
   ],
   "source": [
    "#titanic.pivot_table('debt', index='children', columns='class')\n",
    "bank_data.groupby('children')['debt'].mean().sort_values().to_frame().sort_values('children').plot(kind='bar', rot=0)\n",
    "plt.title('Default chanse vs amount of children')\n",
    "plt.xlabel('Amount of children')\n",
    "plt.ylabel('Default fraction')\n",
    "plt.show()"
   ]
  },
  {
   "cell_type": "code",
   "execution_count": 46,
   "metadata": {},
   "outputs": [
    {
     "data": {
      "text/plain": [
       "9"
      ]
     },
     "execution_count": 46,
     "metadata": {},
     "output_type": "execute_result"
    }
   ],
   "source": [
    "len(bank_data[bank_data['children']==5])"
   ]
  },
  {
   "cell_type": "markdown",
   "metadata": {},
   "source": [
    "**Conclusion**"
   ]
  },
  {
   "cell_type": "markdown",
   "metadata": {},
   "source": [
    "As you can see from this table, people who have 5 children always repay loans. This is due to a too small sample - only 9 people, while there are 4865 people who have one child. From the representative data, it can be seen that people who do not have children give loans most often. At the same time, people who have three children repay loans more often than people who have 1, 2 and 4 children."
   ]
  },
  {
   "cell_type": "markdown",
   "metadata": {},
   "source": [
    "- Is there a relationship between marital status and loan repayment on time?"
   ]
  },
  {
   "cell_type": "code",
   "execution_count": 47,
   "metadata": {},
   "outputs": [
    {
     "data": {
      "image/png": "[encoded data removed]",
      "text/plain": [
       "<Figure size 432x288 with 1 Axes>"
      ]
     },
     "metadata": {
      "needs_background": "light"
     },
     "output_type": "display_data"
    }
   ],
   "source": [
    "bank_data.groupby('family_status')['debt'].mean().sort_values().to_frame().sort_values('debt').plot(kind='bar', rot=45)\n",
    "plt.title('Default chanse vs family status')\n",
    "plt.xlabel('Family status')\n",
    "plt.ylabel('Default fraction')\n",
    "plt.show()"
   ]
  },
  {
   "cell_type": "markdown",
   "metadata": {},
   "source": [
    "**Conclusion**"
   ]
  },
  {
   "cell_type": "markdown",
   "metadata": {},
   "source": [
    "As we can see from the table, widows and widowers repay loans most often, and single people (single) - least often."
   ]
  },
  {
   "cell_type": "markdown",
   "metadata": {},
   "source": [
    "- Is there a relationship between income level and loan repayment on time?"
   ]
  },
  {
   "cell_type": "code",
   "execution_count": 48,
   "metadata": {},
   "outputs": [
    {
     "data": {
      "image/png": "[encoded data removed]",
      "text/plain": [
       "<Figure size 432x288 with 1 Axes>"
      ]
     },
     "metadata": {
      "needs_background": "light"
     },
     "output_type": "display_data"
    }
   ],
   "source": [
    "bank_data.groupby('total_income_id')['debt'].mean().sort_values().to_frame().sort_values('debt').plot(kind='bar', rot=0)\n",
    "plt.title('Default chanse vs total income id')\n",
    "plt.xlabel('Total income id')\n",
    "plt.ylabel('Default fraction')\n",
    "plt.show()"
   ]
  },
  {
   "cell_type": "markdown",
   "metadata": {},
   "source": [
    "**Conclusion**"
   ]
  },
  {
   "cell_type": "markdown",
   "metadata": {},
   "source": [
    "From the data presented, it can be seen that people with income from the fourth quartile (highest income) repay loans most often, immediately followed by people with the lowest income. People with income from the second quartile are the worst to repay loans."
   ]
  },
  {
   "cell_type": "markdown",
   "metadata": {},
   "source": [
    "- How do different purposes of a loan affect its repayment on time?"
   ]
  },
  {
   "cell_type": "code",
   "execution_count": 49,
   "metadata": {},
   "outputs": [
    {
     "data": {
      "image/png": "[encoded data removed]",
      "text/plain": [
       "<Figure size 432x288 with 1 Axes>"
      ]
     },
     "metadata": {
      "needs_background": "light"
     },
     "output_type": "display_data"
    }
   ],
   "source": [
    "# housing: 1; car: 2; education: 3; real estate: 4; wedding: 5; other: 6\n",
    "bank_data.groupby('purpose_id')['debt'].mean().sort_values().to_frame().sort_values('debt').plot(kind='bar', rot=0)\n",
    "plt.title('Default chanse vs loan purpose id')\n",
    "plt.xlabel('Loan purpose id')\n",
    "plt.ylabel('Default fraction')\n",
    "plt.show()"
   ]
  },
  {
   "cell_type": "markdown",
   "metadata": {},
   "source": [
    "**Conclusion**"
   ]
  },
  {
   "cell_type": "markdown",
   "metadata": {},
   "source": [
    "The data shows that people who take out a mortgage repay debts more often than any other category. Worst of all give loans taken to buy a car."
   ]
  },
  {
   "cell_type": "markdown",
   "metadata": {},
   "source": [
    "## Step 4. General conclusion "
   ]
  },
  {
   "cell_type": "markdown",
   "metadata": {},
   "source": [
    "The data submitted for processing contained gaps, errors, and outliers. Also, there was no categorization for a number of columns, including the purpose of the loan. All these problems have been successfully corrected and answers have been given to repay loans depending on income, marital status, etc. The project is ready to be sent to the customer."
   ]
  }
 ],
 "metadata": {
  "ExecuteTimeLog": [
   {
    "duration": 753,
    "start_time": "2021-12-22T12:52:45.609Z"
   },
   {
    "duration": 13,
    "start_time": "2021-12-22T12:55:56.315Z"
   },
   {
    "duration": 10,
    "start_time": "2021-12-22T12:55:57.234Z"
   },
   {
    "duration": 60,
    "start_time": "2021-12-22T12:56:18.925Z"
   },
   {
    "duration": 10,
    "start_time": "2021-12-22T12:56:25.498Z"
   },
   {
    "duration": 10,
    "start_time": "2021-12-22T12:56:42.988Z"
   },
   {
    "duration": 3398,
    "start_time": "2021-12-28T19:10:57.670Z"
   },
   {
    "duration": -370,
    "start_time": "2021-12-28T19:11:01.442Z"
   },
   {
    "duration": -373,
    "start_time": "2021-12-28T19:11:01.446Z"
   },
   {
    "duration": -375,
    "start_time": "2021-12-28T19:11:01.449Z"
   },
   {
    "duration": -375,
    "start_time": "2021-12-28T19:11:01.450Z"
   },
   {
    "duration": -427,
    "start_time": "2021-12-28T19:11:01.503Z"
   },
   {
    "duration": -429,
    "start_time": "2021-12-28T19:11:01.506Z"
   },
   {
    "duration": -431,
    "start_time": "2021-12-28T19:11:01.509Z"
   },
   {
    "duration": -432,
    "start_time": "2021-12-28T19:11:01.512Z"
   },
   {
    "duration": -434,
    "start_time": "2021-12-28T19:11:01.515Z"
   },
   {
    "duration": -436,
    "start_time": "2021-12-28T19:11:01.518Z"
   },
   {
    "duration": -438,
    "start_time": "2021-12-28T19:11:01.521Z"
   },
   {
    "duration": -439,
    "start_time": "2021-12-28T19:11:01.523Z"
   },
   {
    "duration": -440,
    "start_time": "2021-12-28T19:11:01.525Z"
   },
   {
    "duration": -441,
    "start_time": "2021-12-28T19:11:01.527Z"
   },
   {
    "duration": -442,
    "start_time": "2021-12-28T19:11:01.529Z"
   },
   {
    "duration": -493,
    "start_time": "2021-12-28T19:11:01.581Z"
   },
   {
    "duration": -494,
    "start_time": "2021-12-28T19:11:01.583Z"
   },
   {
    "duration": -495,
    "start_time": "2021-12-28T19:11:01.585Z"
   },
   {
    "duration": -497,
    "start_time": "2021-12-28T19:11:01.587Z"
   },
   {
    "duration": -497,
    "start_time": "2021-12-28T19:11:01.588Z"
   },
   {
    "duration": -498,
    "start_time": "2021-12-28T19:11:01.590Z"
   },
   {
    "duration": -499,
    "start_time": "2021-12-28T19:11:01.592Z"
   },
   {
    "duration": -500,
    "start_time": "2021-12-28T19:11:01.594Z"
   },
   {
    "duration": -500,
    "start_time": "2021-12-28T19:11:01.595Z"
   },
   {
    "duration": -501,
    "start_time": "2021-12-28T19:11:01.597Z"
   },
   {
    "duration": -502,
    "start_time": "2021-12-28T19:11:01.599Z"
   },
   {
    "duration": -502,
    "start_time": "2021-12-28T19:11:01.600Z"
   },
   {
    "duration": -563,
    "start_time": "2021-12-28T19:11:01.662Z"
   },
   {
    "duration": -579,
    "start_time": "2021-12-28T19:11:01.679Z"
   },
   {
    "duration": -580,
    "start_time": "2021-12-28T19:11:01.681Z"
   },
   {
    "duration": -580,
    "start_time": "2021-12-28T19:11:01.683Z"
   },
   {
    "duration": -580,
    "start_time": "2021-12-28T19:11:01.684Z"
   },
   {
    "duration": -581,
    "start_time": "2021-12-28T19:11:01.686Z"
   },
   {
    "duration": -582,
    "start_time": "2021-12-28T19:11:01.688Z"
   },
   {
    "duration": -583,
    "start_time": "2021-12-28T19:11:01.690Z"
   },
   {
    "duration": -583,
    "start_time": "2021-12-28T19:11:01.691Z"
   },
   {
    "duration": -584,
    "start_time": "2021-12-28T19:11:01.693Z"
   },
   {
    "duration": -628,
    "start_time": "2021-12-28T19:11:01.738Z"
   },
   {
    "duration": -637,
    "start_time": "2021-12-28T19:11:01.748Z"
   },
   {
    "duration": -590,
    "start_time": "2021-12-28T19:11:01.750Z"
   },
   {
    "duration": -591,
    "start_time": "2021-12-28T19:11:01.752Z"
   },
   {
    "duration": -591,
    "start_time": "2021-12-28T19:11:01.753Z"
   },
   {
    "duration": -592,
    "start_time": "2021-12-28T19:11:01.755Z"
   },
   {
    "duration": -593,
    "start_time": "2021-12-28T19:11:01.757Z"
   },
   {
    "duration": -593,
    "start_time": "2021-12-28T19:11:01.759Z"
   },
   {
    "duration": -593,
    "start_time": "2021-12-28T19:11:01.760Z"
   },
   {
    "duration": -594,
    "start_time": "2021-12-28T19:11:01.762Z"
   },
   {
    "duration": -595,
    "start_time": "2021-12-28T19:11:01.764Z"
   },
   {
    "duration": -596,
    "start_time": "2021-12-28T19:11:01.766Z"
   },
   {
    "duration": 2076,
    "start_time": "2021-12-28T22:35:39.694Z"
   },
   {
    "duration": 14,
    "start_time": "2021-12-28T22:35:41.772Z"
   },
   {
    "duration": 40,
    "start_time": "2021-12-28T22:35:41.790Z"
   },
   {
    "duration": 5156,
    "start_time": "2021-12-28T22:35:41.833Z"
   },
   {
    "duration": 28,
    "start_time": "2021-12-28T22:35:46.992Z"
   },
   {
    "duration": 20,
    "start_time": "2021-12-28T22:35:47.023Z"
   },
   {
    "duration": 7,
    "start_time": "2021-12-28T22:35:47.046Z"
   },
   {
    "duration": 22,
    "start_time": "2021-12-28T22:35:47.055Z"
   },
   {
    "duration": 20,
    "start_time": "2021-12-28T22:35:47.119Z"
   },
   {
    "duration": 21,
    "start_time": "2021-12-28T22:35:47.142Z"
   },
   {
    "duration": 55,
    "start_time": "2021-12-28T22:35:47.165Z"
   },
   {
    "duration": 240,
    "start_time": "2021-12-28T22:35:47.223Z"
   },
   {
    "duration": 16903,
    "start_time": "2021-12-28T22:35:47.465Z"
   },
   {
    "duration": 5,
    "start_time": "2021-12-28T22:36:04.371Z"
   },
   {
    "duration": 13,
    "start_time": "2021-12-28T22:36:04.379Z"
   },
   {
    "duration": 29,
    "start_time": "2021-12-28T22:36:04.395Z"
   },
   {
    "duration": 20,
    "start_time": "2021-12-28T22:36:04.426Z"
   },
   {
    "duration": 10,
    "start_time": "2021-12-28T22:36:04.448Z"
   },
   {
    "duration": 74,
    "start_time": "2021-12-28T22:36:04.462Z"
   },
   {
    "duration": 8,
    "start_time": "2021-12-28T22:36:04.539Z"
   },
   {
    "duration": 9,
    "start_time": "2021-12-28T22:36:04.552Z"
   },
   {
    "duration": 66,
    "start_time": "2021-12-28T22:36:04.565Z"
   },
   {
    "duration": 17,
    "start_time": "2021-12-28T22:36:04.634Z"
   },
   {
    "duration": 14,
    "start_time": "2021-12-28T22:36:04.653Z"
   },
   {
    "duration": 64,
    "start_time": "2021-12-28T22:36:04.669Z"
   },
   {
    "duration": 5,
    "start_time": "2021-12-28T22:36:04.736Z"
   },
   {
    "duration": 29,
    "start_time": "2021-12-28T22:36:04.749Z"
   },
   {
    "duration": 13047,
    "start_time": "2021-12-28T22:36:04.780Z"
   },
   {
    "duration": 20267,
    "start_time": "2021-12-28T22:36:17.830Z"
   },
   {
    "duration": 28,
    "start_time": "2021-12-28T22:36:38.100Z"
   },
   {
    "duration": 32,
    "start_time": "2021-12-28T22:36:38.130Z"
   },
   {
    "duration": 6,
    "start_time": "2021-12-28T22:36:38.165Z"
   },
   {
    "duration": 2373,
    "start_time": "2021-12-28T22:36:38.174Z"
   },
   {
    "duration": 6,
    "start_time": "2021-12-28T22:36:40.549Z"
   },
   {
    "duration": 2706,
    "start_time": "2021-12-28T22:36:40.558Z"
   },
   {
    "duration": 6,
    "start_time": "2021-12-28T22:36:43.267Z"
   },
   {
    "duration": 523,
    "start_time": "2021-12-28T22:36:43.275Z"
   },
   {
    "duration": 22,
    "start_time": "2021-12-28T22:36:43.800Z"
   },
   {
    "duration": 7,
    "start_time": "2021-12-28T22:36:43.824Z"
   },
   {
    "duration": 23,
    "start_time": "2021-12-28T22:36:43.834Z"
   },
   {
    "duration": 7,
    "start_time": "2021-12-28T22:36:43.859Z"
   },
   {
    "duration": 71,
    "start_time": "2021-12-28T22:36:43.871Z"
   },
   {
    "duration": 26,
    "start_time": "2021-12-28T22:36:43.944Z"
   },
   {
    "duration": 49,
    "start_time": "2021-12-28T22:36:43.973Z"
   },
   {
    "duration": 37,
    "start_time": "2021-12-28T22:36:44.025Z"
   },
   {
    "duration": 12,
    "start_time": "2021-12-28T22:36:44.065Z"
   },
   {
    "duration": 38,
    "start_time": "2021-12-28T22:36:44.079Z"
   },
   {
    "duration": 14,
    "start_time": "2021-12-28T22:36:44.120Z"
   },
   {
    "duration": 11,
    "start_time": "2021-12-28T22:36:44.136Z"
   },
   {
    "duration": 11,
    "start_time": "2021-12-28T22:36:44.149Z"
   },
   {
    "duration": 1843,
    "start_time": "2021-12-28T22:39:34.430Z"
   },
   {
    "duration": 15,
    "start_time": "2021-12-28T22:39:36.276Z"
   },
   {
    "duration": 37,
    "start_time": "2021-12-28T22:39:36.295Z"
   },
   {
    "duration": 3361,
    "start_time": "2021-12-28T22:39:36.334Z"
   },
   {
    "duration": 26,
    "start_time": "2021-12-28T22:39:39.698Z"
   },
   {
    "duration": 20,
    "start_time": "2021-12-28T22:39:39.727Z"
   },
   {
    "duration": 7,
    "start_time": "2021-12-28T22:39:39.749Z"
   },
   {
    "duration": 57,
    "start_time": "2021-12-28T22:39:39.760Z"
   },
   {
    "duration": 18,
    "start_time": "2021-12-28T22:39:39.821Z"
   },
   {
    "duration": 21,
    "start_time": "2021-12-28T22:39:39.842Z"
   },
   {
    "duration": 56,
    "start_time": "2021-12-28T22:39:39.866Z"
   },
   {
    "duration": 251,
    "start_time": "2021-12-28T22:39:39.925Z"
   },
   {
    "duration": 15543,
    "start_time": "2021-12-28T22:39:40.179Z"
   },
   {
    "duration": 6,
    "start_time": "2021-12-28T22:39:55.725Z"
   },
   {
    "duration": 16,
    "start_time": "2021-12-28T22:39:55.733Z"
   },
   {
    "duration": 8,
    "start_time": "2021-12-28T22:39:55.751Z"
   },
   {
    "duration": 17,
    "start_time": "2021-12-28T22:39:55.761Z"
   },
   {
    "duration": 7,
    "start_time": "2021-12-28T22:39:55.817Z"
   },
   {
    "duration": 23,
    "start_time": "2021-12-28T22:39:55.827Z"
   },
   {
    "duration": 8,
    "start_time": "2021-12-28T22:39:55.853Z"
   },
   {
    "duration": 7,
    "start_time": "2021-12-28T22:39:55.863Z"
   },
   {
    "duration": 60,
    "start_time": "2021-12-28T22:39:55.873Z"
   },
   {
    "duration": 14,
    "start_time": "2021-12-28T22:39:55.939Z"
   },
   {
    "duration": 11,
    "start_time": "2021-12-28T22:39:55.956Z"
   },
   {
    "duration": 69,
    "start_time": "2021-12-28T22:39:55.969Z"
   },
   {
    "duration": 4,
    "start_time": "2021-12-28T22:39:56.040Z"
   },
   {
    "duration": 22,
    "start_time": "2021-12-28T22:39:56.046Z"
   },
   {
    "duration": 12074,
    "start_time": "2021-12-28T22:39:56.070Z"
   },
   {
    "duration": 19994,
    "start_time": "2021-12-28T22:40:08.147Z"
   },
   {
    "duration": 20,
    "start_time": "2021-12-28T22:40:28.144Z"
   },
   {
    "duration": 55,
    "start_time": "2021-12-28T22:40:28.166Z"
   },
   {
    "duration": 6,
    "start_time": "2021-12-28T22:40:28.224Z"
   },
   {
    "duration": 1885,
    "start_time": "2021-12-28T22:40:35.617Z"
   },
   {
    "duration": 14,
    "start_time": "2021-12-28T22:40:37.505Z"
   },
   {
    "duration": 22,
    "start_time": "2021-12-28T22:40:37.523Z"
   },
   {
    "duration": 2187,
    "start_time": "2021-12-28T22:40:37.548Z"
   },
   {
    "duration": 13,
    "start_time": "2021-12-28T22:40:39.738Z"
   },
   {
    "duration": 23,
    "start_time": "2021-12-28T22:40:39.754Z"
   },
   {
    "duration": 39,
    "start_time": "2021-12-28T22:40:39.779Z"
   },
   {
    "duration": 22,
    "start_time": "2021-12-28T22:40:39.822Z"
   },
   {
    "duration": 18,
    "start_time": "2021-12-28T22:40:39.848Z"
   },
   {
    "duration": 58,
    "start_time": "2021-12-28T22:40:39.869Z"
   },
   {
    "duration": 15,
    "start_time": "2021-12-28T22:40:39.929Z"
   },
   {
    "duration": 257,
    "start_time": "2021-12-28T22:40:39.946Z"
   },
   {
    "duration": 24931,
    "start_time": "2021-12-28T22:40:40.206Z"
   },
   {
    "duration": 5,
    "start_time": "2021-12-28T22:41:05.139Z"
   },
   {
    "duration": 13,
    "start_time": "2021-12-28T22:41:05.147Z"
   },
   {
    "duration": 9,
    "start_time": "2021-12-28T22:41:05.163Z"
   },
   {
    "duration": 60,
    "start_time": "2021-12-28T22:41:05.175Z"
   },
   {
    "duration": 9,
    "start_time": "2021-12-28T22:41:05.238Z"
   },
   {
    "duration": 26,
    "start_time": "2021-12-28T22:41:05.250Z"
   },
   {
    "duration": 42,
    "start_time": "2021-12-28T22:41:05.279Z"
   },
   {
    "duration": 9,
    "start_time": "2021-12-28T22:41:05.323Z"
   },
   {
    "duration": 21,
    "start_time": "2021-12-28T22:41:05.335Z"
   },
   {
    "duration": 57,
    "start_time": "2021-12-28T22:41:05.364Z"
   },
   {
    "duration": 11,
    "start_time": "2021-12-28T22:41:05.424Z"
   },
   {
    "duration": 21,
    "start_time": "2021-12-28T22:41:05.438Z"
   },
   {
    "duration": 3,
    "start_time": "2021-12-28T22:41:05.462Z"
   },
   {
    "duration": 56,
    "start_time": "2021-12-28T22:41:05.468Z"
   },
   {
    "duration": 12110,
    "start_time": "2021-12-28T22:41:05.527Z"
   },
   {
    "duration": 20484,
    "start_time": "2021-12-28T22:41:17.640Z"
   },
   {
    "duration": 22,
    "start_time": "2021-12-28T22:41:38.127Z"
   },
   {
    "duration": 33,
    "start_time": "2021-12-28T22:41:38.151Z"
   },
   {
    "duration": 33,
    "start_time": "2021-12-28T22:41:38.187Z"
   },
   {
    "duration": 2273,
    "start_time": "2021-12-28T22:41:38.223Z"
   },
   {
    "duration": 7,
    "start_time": "2021-12-28T22:41:40.498Z"
   },
   {
    "duration": 2380,
    "start_time": "2021-12-28T22:41:40.517Z"
   },
   {
    "duration": 19,
    "start_time": "2021-12-28T22:41:42.900Z"
   },
   {
    "duration": 415,
    "start_time": "2021-12-28T22:41:42.922Z"
   },
   {
    "duration": 18,
    "start_time": "2021-12-28T22:41:43.340Z"
   },
   {
    "duration": 7,
    "start_time": "2021-12-28T22:41:43.361Z"
   },
   {
    "duration": 55,
    "start_time": "2021-12-28T22:41:43.370Z"
   },
   {
    "duration": 7,
    "start_time": "2021-12-28T22:41:43.428Z"
   },
   {
    "duration": 30,
    "start_time": "2021-12-28T22:41:43.438Z"
   },
   {
    "duration": 61,
    "start_time": "2021-12-28T22:41:43.471Z"
   },
   {
    "duration": 23,
    "start_time": "2021-12-28T22:41:43.535Z"
   },
   {
    "duration": 79,
    "start_time": "2021-12-28T22:41:43.561Z"
   },
   {
    "duration": 17,
    "start_time": "2021-12-28T22:41:43.642Z"
   },
   {
    "duration": 7,
    "start_time": "2021-12-28T22:41:43.661Z"
   },
   {
    "duration": 49,
    "start_time": "2021-12-28T22:41:43.670Z"
   },
   {
    "duration": 11,
    "start_time": "2021-12-28T22:41:43.721Z"
   },
   {
    "duration": 11,
    "start_time": "2021-12-28T22:41:43.735Z"
   },
   {
    "duration": 1383,
    "start_time": "2021-12-29T05:27:00.947Z"
   },
   {
    "duration": 10,
    "start_time": "2021-12-29T05:27:02.332Z"
   },
   {
    "duration": 14,
    "start_time": "2021-12-29T05:27:02.344Z"
   },
   {
    "duration": 1373,
    "start_time": "2021-12-29T05:27:02.359Z"
   },
   {
    "duration": 9,
    "start_time": "2021-12-29T05:27:03.734Z"
   },
   {
    "duration": 15,
    "start_time": "2021-12-29T05:27:03.744Z"
   },
   {
    "duration": 5,
    "start_time": "2021-12-29T05:27:03.761Z"
   },
   {
    "duration": 16,
    "start_time": "2021-12-29T05:27:03.768Z"
   },
   {
    "duration": 46,
    "start_time": "2021-12-29T05:27:03.787Z"
   },
   {
    "duration": 14,
    "start_time": "2021-12-29T05:27:03.835Z"
   },
   {
    "duration": 13,
    "start_time": "2021-12-29T05:27:03.850Z"
   },
   {
    "duration": 239,
    "start_time": "2021-12-29T05:27:03.866Z"
   },
   {
    "duration": 10366,
    "start_time": "2021-12-29T05:27:04.107Z"
   },
   {
    "duration": 3,
    "start_time": "2021-12-29T05:27:14.475Z"
   },
   {
    "duration": 26,
    "start_time": "2021-12-29T05:27:14.480Z"
   },
   {
    "duration": 16,
    "start_time": "2021-12-29T05:27:14.507Z"
   },
   {
    "duration": 15,
    "start_time": "2021-12-29T05:27:14.525Z"
   },
   {
    "duration": 5,
    "start_time": "2021-12-29T05:27:14.542Z"
   },
   {
    "duration": 19,
    "start_time": "2021-12-29T05:27:14.548Z"
   },
   {
    "duration": 4,
    "start_time": "2021-12-29T05:27:14.569Z"
   },
   {
    "duration": 10,
    "start_time": "2021-12-29T05:27:14.574Z"
   },
   {
    "duration": 23,
    "start_time": "2021-12-29T05:27:14.586Z"
   },
   {
    "duration": 13,
    "start_time": "2021-12-29T05:27:14.626Z"
   },
   {
    "duration": 7,
    "start_time": "2021-12-29T05:27:14.642Z"
   },
   {
    "duration": 14,
    "start_time": "2021-12-29T05:27:14.650Z"
   },
   {
    "duration": 2,
    "start_time": "2021-12-29T05:27:14.666Z"
   },
   {
    "duration": 16,
    "start_time": "2021-12-29T05:27:14.669Z"
   },
   {
    "duration": 8809,
    "start_time": "2021-12-29T05:27:14.686Z"
   },
   {
    "duration": 11988,
    "start_time": "2021-12-29T05:27:23.498Z"
   },
   {
    "duration": 20,
    "start_time": "2021-12-29T05:27:35.489Z"
   },
   {
    "duration": 20,
    "start_time": "2021-12-29T05:27:35.527Z"
   },
   {
    "duration": 5,
    "start_time": "2021-12-29T05:27:35.549Z"
   },
   {
    "duration": 1231,
    "start_time": "2021-12-29T05:27:35.555Z"
   },
   {
    "duration": 5,
    "start_time": "2021-12-29T05:27:36.788Z"
   },
   {
    "duration": 1276,
    "start_time": "2021-12-29T05:27:36.794Z"
   },
   {
    "duration": 6,
    "start_time": "2021-12-29T05:27:38.071Z"
   },
   {
    "duration": 245,
    "start_time": "2021-12-29T05:27:38.079Z"
   },
   {
    "duration": 11,
    "start_time": "2021-12-29T05:27:38.326Z"
   },
   {
    "duration": 8,
    "start_time": "2021-12-29T05:27:38.338Z"
   },
   {
    "duration": 19,
    "start_time": "2021-12-29T05:27:38.347Z"
   },
   {
    "duration": 4,
    "start_time": "2021-12-29T05:27:38.368Z"
   },
   {
    "duration": 20,
    "start_time": "2021-12-29T05:27:38.374Z"
   },
   {
    "duration": 46,
    "start_time": "2021-12-29T05:27:38.395Z"
   },
   {
    "duration": 14,
    "start_time": "2021-12-29T05:27:38.442Z"
   },
   {
    "duration": 25,
    "start_time": "2021-12-29T05:27:38.457Z"
   },
   {
    "duration": 9,
    "start_time": "2021-12-29T05:27:38.483Z"
   },
   {
    "duration": 5,
    "start_time": "2021-12-29T05:27:38.528Z"
   },
   {
    "duration": 12,
    "start_time": "2021-12-29T05:27:38.534Z"
   },
   {
    "duration": 7,
    "start_time": "2021-12-29T05:27:38.548Z"
   },
   {
    "duration": 7,
    "start_time": "2021-12-29T05:27:38.557Z"
   },
   {
    "duration": 462,
    "start_time": "2021-12-29T11:32:49.010Z"
   },
   {
    "duration": 1957,
    "start_time": "2021-12-29T11:33:05.420Z"
   },
   {
    "duration": 16,
    "start_time": "2021-12-29T11:33:07.381Z"
   },
   {
    "duration": 22,
    "start_time": "2021-12-29T11:33:07.401Z"
   },
   {
    "duration": 2390,
    "start_time": "2021-12-29T11:33:07.425Z"
   },
   {
    "duration": 13,
    "start_time": "2021-12-29T11:33:09.817Z"
   },
   {
    "duration": 49,
    "start_time": "2021-12-29T11:33:09.833Z"
   },
   {
    "duration": 12,
    "start_time": "2021-12-29T11:33:09.885Z"
   },
   {
    "duration": 22,
    "start_time": "2021-12-29T11:33:09.903Z"
   },
   {
    "duration": 54,
    "start_time": "2021-12-29T11:33:09.928Z"
   },
   {
    "duration": 19,
    "start_time": "2021-12-29T11:33:09.985Z"
   },
   {
    "duration": 32,
    "start_time": "2021-12-29T11:33:10.006Z"
   },
   {
    "duration": 265,
    "start_time": "2021-12-29T11:33:10.041Z"
   },
   {
    "duration": 16898,
    "start_time": "2021-12-29T11:33:10.309Z"
   },
   {
    "duration": 5,
    "start_time": "2021-12-29T11:33:27.209Z"
   },
   {
    "duration": 14,
    "start_time": "2021-12-29T11:33:27.217Z"
   },
   {
    "duration": 32,
    "start_time": "2021-12-29T11:33:27.233Z"
   },
   {
    "duration": 31,
    "start_time": "2021-12-29T11:33:27.269Z"
   },
   {
    "duration": 10,
    "start_time": "2021-12-29T11:33:27.303Z"
   },
   {
    "duration": 58,
    "start_time": "2021-12-29T11:33:27.315Z"
   },
   {
    "duration": 6,
    "start_time": "2021-12-29T11:33:27.375Z"
   },
   {
    "duration": 11,
    "start_time": "2021-12-29T11:33:27.383Z"
   },
   {
    "duration": 21,
    "start_time": "2021-12-29T11:33:27.397Z"
   },
   {
    "duration": 13,
    "start_time": "2021-12-29T11:33:27.464Z"
   },
   {
    "duration": 14,
    "start_time": "2021-12-29T11:33:27.481Z"
   },
   {
    "duration": 27,
    "start_time": "2021-12-29T11:33:27.498Z"
   },
   {
    "duration": 37,
    "start_time": "2021-12-29T11:33:27.528Z"
   },
   {
    "duration": 21,
    "start_time": "2021-12-29T11:33:27.569Z"
   },
   {
    "duration": 12055,
    "start_time": "2021-12-29T11:33:27.593Z"
   },
   {
    "duration": 22944,
    "start_time": "2021-12-29T11:33:39.651Z"
   },
   {
    "duration": 23,
    "start_time": "2021-12-29T11:34:02.598Z"
   },
   {
    "duration": 59,
    "start_time": "2021-12-29T11:34:02.623Z"
   },
   {
    "duration": 7,
    "start_time": "2021-12-29T11:34:02.684Z"
   },
   {
    "duration": 3287,
    "start_time": "2021-12-29T11:34:02.693Z"
   },
   {
    "duration": 8,
    "start_time": "2021-12-29T11:34:05.983Z"
   },
   {
    "duration": 4378,
    "start_time": "2021-12-29T11:34:05.994Z"
   },
   {
    "duration": 12,
    "start_time": "2021-12-29T11:34:10.375Z"
   },
   {
    "duration": 442,
    "start_time": "2021-12-29T11:34:10.390Z"
   },
   {
    "duration": 17,
    "start_time": "2021-12-29T11:34:10.835Z"
   },
   {
    "duration": 10,
    "start_time": "2021-12-29T11:34:10.864Z"
   },
   {
    "duration": 28,
    "start_time": "2021-12-29T11:34:10.878Z"
   },
   {
    "duration": 8,
    "start_time": "2021-12-29T11:34:10.909Z"
   },
   {
    "duration": 37,
    "start_time": "2021-12-29T11:34:10.962Z"
   },
   {
    "duration": 24,
    "start_time": "2021-12-29T11:34:11.001Z"
   },
   {
    "duration": 57,
    "start_time": "2021-12-29T11:34:11.028Z"
   },
   {
    "duration": 55,
    "start_time": "2021-12-29T11:34:11.088Z"
   },
   {
    "duration": 17,
    "start_time": "2021-12-29T11:34:11.164Z"
   },
   {
    "duration": 7,
    "start_time": "2021-12-29T11:34:11.184Z"
   },
   {
    "duration": 14,
    "start_time": "2021-12-29T11:34:11.194Z"
   },
   {
    "duration": 53,
    "start_time": "2021-12-29T11:34:11.210Z"
   },
   {
    "duration": 13,
    "start_time": "2021-12-29T11:34:11.265Z"
   }
  ],
  "hide_input": false,
  "kernelspec": {
   "display_name": "Python 3 (ipykernel)",
   "language": "python",
   "name": "python3"
  },
  "language_info": {
   "codemirror_mode": {
    "name": "ipython",
    "version": 3
   },
   "file_extension": ".py",
   "mimetype": "text/x-python",
   "name": "python",
   "nbconvert_exporter": "python",
   "pygments_lexer": "ipython3",
   "version": "3.9.7"
  },
  "toc": {
   "base_numbering": 1,
   "nav_menu": {},
   "number_sections": true,
   "sideBar": true,
   "skip_h1_title": true,
   "title_cell": "Table of Contents",
   "title_sidebar": "Contents",
   "toc_cell": false,
   "toc_position": {
    "height": "calc(100% - 180px)",
    "left": "10px",
    "top": "150px",
    "width": "384px"
   },
   "toc_section_display": true,
   "toc_window_display": true
  },
  "varInspector": {
   "cols": {
    "lenName": 16,
    "lenType": 16,
    "lenVar": 40
   },
   "kernels_config": {
    "python": {
     "delete_cmd_postfix": "",
     "delete_cmd_prefix": "del ",
     "library": "var_list.py",
     "varRefreshCmd": "print(var_dic_list())"
    },
    "r": {
     "delete_cmd_postfix": ") ",
     "delete_cmd_prefix": "rm(",
     "library": "var_list.r",
     "varRefreshCmd": "cat(var_dic_list()) "
    }
   },
   "types_to_exclude": [
    "module",
    "function",
    "builtin_function_or_method",
    "instance",
    "_Feature"
   ],
   "window_display": false
  }
 },
 "nbformat": 4,
 "nbformat_minor": 2
}
