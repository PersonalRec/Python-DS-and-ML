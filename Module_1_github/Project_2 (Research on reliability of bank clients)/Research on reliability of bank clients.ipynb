{
 "cells": [
  {
   "cell_type": "markdown",
   "metadata": {},
   "source": [
    "# <mark>Attention!</mark>\n",
    "\n",
    "This project was originally made in the Russian language. It takes quite a lot of effort to manually translate everything into English. So in order to understand what is going on here, **please download the .ipynb and use an automatic Google page translator in your Jupyter Notebook**. It does a pretty decent job!\n",
    "\n",
    "P.S. Most of the projects starting from `Module 2` are made in English."
   ]
  },
  {
   "cell_type": "markdown",
   "metadata": {},
   "source": [
    "# Исследование надёжности заёмщиков\n",
    "\n",
    "Заказчик — кредитный отдел банка. Нужно разобраться, влияет ли семейное положение и количество детей клиента на факт погашения кредита в срок. Входные данные от банка — статистика о платёжеспособности клиентов.\n",
    "\n",
    "Результаты исследования будут учтены при построении модели **кредитного скоринга** — специальной системы, которая оценивает способность потенциального заёмщика вернуть кредит банку."
   ]
  },
  {
   "cell_type": "markdown",
   "metadata": {},
   "source": [
    "## Шаг 1. Открываем файл с данными и изучаем общую информацию"
   ]
  },
  {
   "cell_type": "code",
   "execution_count": 1,
   "metadata": {
    "scrolled": false
   },
   "outputs": [
    {
     "data": {
      "text/html": [
       "<div>\n",
       "<style scoped>\n",
       "    .dataframe tbody tr th:only-of-type {\n",
       "        vertical-align: middle;\n",
       "    }\n",
       "\n",
       "    .dataframe tbody tr th {\n",
       "        vertical-align: top;\n",
       "    }\n",
       "\n",
       "    .dataframe thead th {\n",
       "        text-align: right;\n",
       "    }\n",
       "</style>\n",
       "<table border=\"1\" class=\"dataframe\">\n",
       "  <thead>\n",
       "    <tr style=\"text-align: right;\">\n",
       "      <th></th>\n",
       "      <th>children</th>\n",
       "      <th>days_employed</th>\n",
       "      <th>dob_years</th>\n",
       "      <th>education</th>\n",
       "      <th>education_id</th>\n",
       "      <th>family_status</th>\n",
       "      <th>family_status_id</th>\n",
       "      <th>gender</th>\n",
       "      <th>income_type</th>\n",
       "      <th>debt</th>\n",
       "      <th>total_income</th>\n",
       "      <th>purpose</th>\n",
       "    </tr>\n",
       "  </thead>\n",
       "  <tbody>\n",
       "    <tr>\n",
       "      <th>0</th>\n",
       "      <td>1</td>\n",
       "      <td>-8437.673028</td>\n",
       "      <td>42</td>\n",
       "      <td>высшее</td>\n",
       "      <td>0</td>\n",
       "      <td>женат / замужем</td>\n",
       "      <td>0</td>\n",
       "      <td>F</td>\n",
       "      <td>сотрудник</td>\n",
       "      <td>0</td>\n",
       "      <td>253875.639453</td>\n",
       "      <td>покупка жилья</td>\n",
       "    </tr>\n",
       "    <tr>\n",
       "      <th>1</th>\n",
       "      <td>1</td>\n",
       "      <td>-4024.803754</td>\n",
       "      <td>36</td>\n",
       "      <td>среднее</td>\n",
       "      <td>1</td>\n",
       "      <td>женат / замужем</td>\n",
       "      <td>0</td>\n",
       "      <td>F</td>\n",
       "      <td>сотрудник</td>\n",
       "      <td>0</td>\n",
       "      <td>112080.014102</td>\n",
       "      <td>приобретение автомобиля</td>\n",
       "    </tr>\n",
       "    <tr>\n",
       "      <th>2</th>\n",
       "      <td>0</td>\n",
       "      <td>-5623.422610</td>\n",
       "      <td>33</td>\n",
       "      <td>Среднее</td>\n",
       "      <td>1</td>\n",
       "      <td>женат / замужем</td>\n",
       "      <td>0</td>\n",
       "      <td>M</td>\n",
       "      <td>сотрудник</td>\n",
       "      <td>0</td>\n",
       "      <td>145885.952297</td>\n",
       "      <td>покупка жилья</td>\n",
       "    </tr>\n",
       "    <tr>\n",
       "      <th>3</th>\n",
       "      <td>3</td>\n",
       "      <td>-4124.747207</td>\n",
       "      <td>32</td>\n",
       "      <td>среднее</td>\n",
       "      <td>1</td>\n",
       "      <td>женат / замужем</td>\n",
       "      <td>0</td>\n",
       "      <td>M</td>\n",
       "      <td>сотрудник</td>\n",
       "      <td>0</td>\n",
       "      <td>267628.550329</td>\n",
       "      <td>дополнительное образование</td>\n",
       "    </tr>\n",
       "    <tr>\n",
       "      <th>4</th>\n",
       "      <td>0</td>\n",
       "      <td>340266.072047</td>\n",
       "      <td>53</td>\n",
       "      <td>среднее</td>\n",
       "      <td>1</td>\n",
       "      <td>гражданский брак</td>\n",
       "      <td>1</td>\n",
       "      <td>F</td>\n",
       "      <td>пенсионер</td>\n",
       "      <td>0</td>\n",
       "      <td>158616.077870</td>\n",
       "      <td>сыграть свадьбу</td>\n",
       "    </tr>\n",
       "  </tbody>\n",
       "</table>\n",
       "</div>"
      ],
      "text/plain": [
       "   children  days_employed  dob_years education  education_id  \\\n",
       "0         1   -8437.673028         42    высшее             0   \n",
       "1         1   -4024.803754         36   среднее             1   \n",
       "2         0   -5623.422610         33   Среднее             1   \n",
       "3         3   -4124.747207         32   среднее             1   \n",
       "4         0  340266.072047         53   среднее             1   \n",
       "\n",
       "      family_status  family_status_id gender income_type  debt   total_income  \\\n",
       "0   женат / замужем                 0      F   сотрудник     0  253875.639453   \n",
       "1   женат / замужем                 0      F   сотрудник     0  112080.014102   \n",
       "2   женат / замужем                 0      M   сотрудник     0  145885.952297   \n",
       "3   женат / замужем                 0      M   сотрудник     0  267628.550329   \n",
       "4  гражданский брак                 1      F   пенсионер     0  158616.077870   \n",
       "\n",
       "                      purpose  \n",
       "0               покупка жилья  \n",
       "1     приобретение автомобиля  \n",
       "2               покупка жилья  \n",
       "3  дополнительное образование  \n",
       "4             сыграть свадьбу  "
      ]
     },
     "execution_count": 1,
     "metadata": {},
     "output_type": "execute_result"
    }
   ],
   "source": [
    "import pandas as pd\n",
    "import matplotlib.pyplot as plt\n",
    "import seaborn as sns\n",
    "#Загружаем библиотеку с лемматтизатором\n",
    "from pymystem3 import Mystem\n",
    "#Загружаем библиотеку с стеммером и токенизатором\n",
    "from nltk import word_tokenize, SnowballStemmer\n",
    "\n",
    "import warnings\n",
    "warnings.filterwarnings('ignore')\n",
    "\n",
    "try:\n",
    "    bank_data = pd.read_csv('/datasets/data.csv')\n",
    "except:\n",
    "    bank_data = pd.read_csv('datasets/bank_data.csv')\n",
    "\n",
    "bank_data.head(5)"
   ]
  },
  {
   "cell_type": "markdown",
   "metadata": {},
   "source": [
    "Проверим общую информацию о таблице"
   ]
  },
  {
   "cell_type": "code",
   "execution_count": 2,
   "metadata": {
    "scrolled": true
   },
   "outputs": [
    {
     "name": "stdout",
     "output_type": "stream",
     "text": [
      "<class 'pandas.core.frame.DataFrame'>\n",
      "RangeIndex: 21525 entries, 0 to 21524\n",
      "Data columns (total 12 columns):\n",
      " #   Column            Non-Null Count  Dtype  \n",
      "---  ------            --------------  -----  \n",
      " 0   children          21525 non-null  int64  \n",
      " 1   days_employed     19351 non-null  float64\n",
      " 2   dob_years         21525 non-null  int64  \n",
      " 3   education         21525 non-null  object \n",
      " 4   education_id      21525 non-null  int64  \n",
      " 5   family_status     21525 non-null  object \n",
      " 6   family_status_id  21525 non-null  int64  \n",
      " 7   gender            21525 non-null  object \n",
      " 8   income_type       21525 non-null  object \n",
      " 9   debt              21525 non-null  int64  \n",
      " 10  total_income      19351 non-null  float64\n",
      " 11  purpose           21525 non-null  object \n",
      "dtypes: float64(2), int64(5), object(5)\n",
      "memory usage: 2.0+ MB\n"
     ]
    }
   ],
   "source": [
    "bank_data.info()"
   ]
  },
  {
   "cell_type": "markdown",
   "metadata": {},
   "source": [
    "Выведем уникальные данные для каждой колонки"
   ]
  },
  {
   "cell_type": "code",
   "execution_count": 3,
   "metadata": {
    "scrolled": false
   },
   "outputs": [
    {
     "name": "stdout",
     "output_type": "stream",
     "text": [
      "Колонка children имеет такие уникальные значения:\n",
      " [ 1  0  3  2 -1  4 20  5]\n",
      "\n",
      "Колонка days_employed имеет такие уникальные значения:\n",
      " [-8437.67302776 -4024.80375385 -5623.42261023 ... -2113.3468877\n",
      " -3112.4817052  -1984.50758853]\n",
      "\n",
      "Колонка dob_years имеет такие уникальные значения:\n",
      " [42 36 33 32 53 27 43 50 35 41 40 65 54 56 26 48 24 21 57 67 28 63 62 47\n",
      " 34 68 25 31 30 20 49 37 45 61 64 44 52 46 23 38 39 51  0 59 29 60 55 58\n",
      " 71 22 73 66 69 19 72 70 74 75]\n",
      "\n",
      "Колонка education имеет такие уникальные значения:\n",
      " ['высшее' 'среднее' 'Среднее' 'СРЕДНЕЕ' 'ВЫСШЕЕ' 'неоконченное высшее'\n",
      " 'начальное' 'Высшее' 'НЕОКОНЧЕННОЕ ВЫСШЕЕ' 'Неоконченное высшее'\n",
      " 'НАЧАЛЬНОЕ' 'Начальное' 'Ученая степень' 'УЧЕНАЯ СТЕПЕНЬ'\n",
      " 'ученая степень']\n",
      "\n",
      "Колонка education_id имеет такие уникальные значения:\n",
      " [0 1 2 3 4]\n",
      "\n",
      "Колонка family_status имеет такие уникальные значения:\n",
      " ['женат / замужем' 'гражданский брак' 'вдовец / вдова' 'в разводе'\n",
      " 'Не женат / не замужем']\n",
      "\n",
      "Колонка family_status_id имеет такие уникальные значения:\n",
      " [0 1 2 3 4]\n",
      "\n",
      "Колонка gender имеет такие уникальные значения:\n",
      " ['F' 'M' 'XNA']\n",
      "\n",
      "Колонка income_type имеет такие уникальные значения:\n",
      " ['сотрудник' 'пенсионер' 'компаньон' 'госслужащий' 'безработный'\n",
      " 'предприниматель' 'студент' 'в декрете']\n",
      "\n",
      "Колонка debt имеет такие уникальные значения:\n",
      " [0 1]\n",
      "\n",
      "Колонка total_income имеет такие уникальные значения:\n",
      " [253875.6394526  112080.01410244 145885.95229686 ...  89672.56115303\n",
      " 244093.05050043  82047.41889948]\n",
      "\n",
      "Колонка purpose имеет такие уникальные значения:\n",
      " ['покупка жилья' 'приобретение автомобиля' 'дополнительное образование'\n",
      " 'сыграть свадьбу' 'операции с жильем' 'образование'\n",
      " 'на проведение свадьбы' 'покупка жилья для семьи' 'покупка недвижимости'\n",
      " 'покупка коммерческой недвижимости' 'покупка жилой недвижимости'\n",
      " 'строительство собственной недвижимости' 'недвижимость'\n",
      " 'строительство недвижимости' 'на покупку подержанного автомобиля'\n",
      " 'на покупку своего автомобиля' 'операции с коммерческой недвижимостью'\n",
      " 'строительство жилой недвижимости' 'жилье'\n",
      " 'операции со своей недвижимостью' 'автомобили' 'заняться образованием'\n",
      " 'сделка с подержанным автомобилем' 'получение образования' 'автомобиль'\n",
      " 'свадьба' 'получение дополнительного образования' 'покупка своего жилья'\n",
      " 'операции с недвижимостью' 'получение высшего образования'\n",
      " 'свой автомобиль' 'сделка с автомобилем' 'профильное образование'\n",
      " 'высшее образование' 'покупка жилья для сдачи' 'на покупку автомобиля'\n",
      " 'ремонт жилью' 'заняться высшим образованием']\n",
      "\n"
     ]
    }
   ],
   "source": [
    "for column in bank_data.columns:\n",
    "    print(f'Колонка {column} имеет такие уникальные значения:\\n {bank_data[column].unique()}\\n')"
   ]
  },
  {
   "cell_type": "markdown",
   "metadata": {},
   "source": [
    "Проверим колонки с чисельными данными на выбросы"
   ]
  },
  {
   "cell_type": "code",
   "execution_count": 4,
   "metadata": {},
   "outputs": [
    {
     "data": {
      "image/png": "[encoded data removed]",
      "text/plain": [
       "<Figure size 1080x1440 with 9 Axes>"
      ]
     },
     "metadata": {
      "needs_background": "light"
     },
     "output_type": "display_data"
    }
   ],
   "source": [
    "bank_data.hist(figsize=(15,20))\n",
    "plt.show()"
   ]
  },
  {
   "cell_type": "markdown",
   "metadata": {},
   "source": [
    "#### Вывод\n",
    "\n",
    "**Найденные проблемы**\n",
    "- После первичного анализа данных видно, что в них хватает проблем: например, отрицательное кол-во дней рабочего стажа, или же стаж и доход приведён в к типу float (приведение к типу `int` имеет смысл т.к. нельзя быть трудоустроенным пол рабочего дня, и отсечение дробной части дохода не окажет существенного влияния на кредитный рейтинг, учитывая порядок цифр, так же это сделает данные более читаемыми, сохранит память и ускорит обработку); \n",
    "- колонка `education` содержит разные дубликаты; \n",
    "- строка `purpose` нуждается в лемматизации и категоризации. \n",
    "- Категоризация по уровню образования и семейному статусу проведена не совсем корректно и это нужно исправить. \n",
    "- Для колонки `income_type` нужно провести циферную категоризацию. \n",
    "- Для колонки `gender` нужно провести циферную категоризацию.\n",
    "- Колонка `children` имеет отрицательное значение кол-ва детей и выброс в 20 детей.\n",
    "- Колонка `days_employed` имеет очень сильные выбросы которые равны рабочему стажу около тысячи(!) лет. \n",
    "\n",
    "**Из плюсов**:\n",
    "- имена таблиц записаны корректно; \n",
    "- очень больших, труднорешаемых проблем нет."
   ]
  },
  {
   "cell_type": "markdown",
   "metadata": {},
   "source": [
    "## Шаг 2. Предобработка данных"
   ]
  },
  {
   "cell_type": "markdown",
   "metadata": {},
   "source": [
    "### Обработка пропусков и других проблем"
   ]
  },
  {
   "cell_type": "code",
   "execution_count": 5,
   "metadata": {},
   "outputs": [
    {
     "data": {
      "text/plain": [
       "children               0\n",
       "days_employed       2174\n",
       "dob_years              0\n",
       "education              0\n",
       "education_id           0\n",
       "family_status          0\n",
       "family_status_id       0\n",
       "gender                 0\n",
       "income_type            0\n",
       "debt                   0\n",
       "total_income        2174\n",
       "purpose                0\n",
       "dtype: int64"
      ]
     },
     "execution_count": 5,
     "metadata": {},
     "output_type": "execute_result"
    }
   ],
   "source": [
    "# ищем кол-во пропусков в таблице\n",
    "bank_data.isnull().sum()"
   ]
  },
  {
   "cell_type": "code",
   "execution_count": 6,
   "metadata": {
    "scrolled": true
   },
   "outputs": [
    {
     "data": {
      "text/html": [
       "<div>\n",
       "<style scoped>\n",
       "    .dataframe tbody tr th:only-of-type {\n",
       "        vertical-align: middle;\n",
       "    }\n",
       "\n",
       "    .dataframe tbody tr th {\n",
       "        vertical-align: top;\n",
       "    }\n",
       "\n",
       "    .dataframe thead th {\n",
       "        text-align: right;\n",
       "    }\n",
       "</style>\n",
       "<table border=\"1\" class=\"dataframe\">\n",
       "  <thead>\n",
       "    <tr style=\"text-align: right;\">\n",
       "      <th></th>\n",
       "      <th>children</th>\n",
       "      <th>days_employed</th>\n",
       "      <th>dob_years</th>\n",
       "      <th>education</th>\n",
       "      <th>education_id</th>\n",
       "      <th>family_status</th>\n",
       "      <th>family_status_id</th>\n",
       "      <th>gender</th>\n",
       "      <th>income_type</th>\n",
       "      <th>debt</th>\n",
       "      <th>total_income</th>\n",
       "      <th>purpose</th>\n",
       "    </tr>\n",
       "  </thead>\n",
       "  <tbody>\n",
       "    <tr>\n",
       "      <th>12</th>\n",
       "      <td>0</td>\n",
       "      <td>NaN</td>\n",
       "      <td>65</td>\n",
       "      <td>среднее</td>\n",
       "      <td>1</td>\n",
       "      <td>гражданский брак</td>\n",
       "      <td>1</td>\n",
       "      <td>M</td>\n",
       "      <td>пенсионер</td>\n",
       "      <td>0</td>\n",
       "      <td>NaN</td>\n",
       "      <td>сыграть свадьбу</td>\n",
       "    </tr>\n",
       "    <tr>\n",
       "      <th>26</th>\n",
       "      <td>0</td>\n",
       "      <td>NaN</td>\n",
       "      <td>41</td>\n",
       "      <td>среднее</td>\n",
       "      <td>1</td>\n",
       "      <td>женат / замужем</td>\n",
       "      <td>0</td>\n",
       "      <td>M</td>\n",
       "      <td>госслужащий</td>\n",
       "      <td>0</td>\n",
       "      <td>NaN</td>\n",
       "      <td>образование</td>\n",
       "    </tr>\n",
       "    <tr>\n",
       "      <th>29</th>\n",
       "      <td>0</td>\n",
       "      <td>NaN</td>\n",
       "      <td>63</td>\n",
       "      <td>среднее</td>\n",
       "      <td>1</td>\n",
       "      <td>Не женат / не замужем</td>\n",
       "      <td>4</td>\n",
       "      <td>F</td>\n",
       "      <td>пенсионер</td>\n",
       "      <td>0</td>\n",
       "      <td>NaN</td>\n",
       "      <td>строительство жилой недвижимости</td>\n",
       "    </tr>\n",
       "    <tr>\n",
       "      <th>41</th>\n",
       "      <td>0</td>\n",
       "      <td>NaN</td>\n",
       "      <td>50</td>\n",
       "      <td>среднее</td>\n",
       "      <td>1</td>\n",
       "      <td>женат / замужем</td>\n",
       "      <td>0</td>\n",
       "      <td>F</td>\n",
       "      <td>госслужащий</td>\n",
       "      <td>0</td>\n",
       "      <td>NaN</td>\n",
       "      <td>сделка с подержанным автомобилем</td>\n",
       "    </tr>\n",
       "    <tr>\n",
       "      <th>55</th>\n",
       "      <td>0</td>\n",
       "      <td>NaN</td>\n",
       "      <td>54</td>\n",
       "      <td>среднее</td>\n",
       "      <td>1</td>\n",
       "      <td>гражданский брак</td>\n",
       "      <td>1</td>\n",
       "      <td>F</td>\n",
       "      <td>пенсионер</td>\n",
       "      <td>1</td>\n",
       "      <td>NaN</td>\n",
       "      <td>сыграть свадьбу</td>\n",
       "    </tr>\n",
       "  </tbody>\n",
       "</table>\n",
       "</div>"
      ],
      "text/plain": [
       "    children  days_employed  dob_years education  education_id  \\\n",
       "12         0            NaN         65   среднее             1   \n",
       "26         0            NaN         41   среднее             1   \n",
       "29         0            NaN         63   среднее             1   \n",
       "41         0            NaN         50   среднее             1   \n",
       "55         0            NaN         54   среднее             1   \n",
       "\n",
       "            family_status  family_status_id gender  income_type  debt  \\\n",
       "12       гражданский брак                 1      M    пенсионер     0   \n",
       "26        женат / замужем                 0      M  госслужащий     0   \n",
       "29  Не женат / не замужем                 4      F    пенсионер     0   \n",
       "41        женат / замужем                 0      F  госслужащий     0   \n",
       "55       гражданский брак                 1      F    пенсионер     1   \n",
       "\n",
       "    total_income                           purpose  \n",
       "12           NaN                   сыграть свадьбу  \n",
       "26           NaN                       образование  \n",
       "29           NaN  строительство жилой недвижимости  \n",
       "41           NaN  сделка с подержанным автомобилем  \n",
       "55           NaN                   сыграть свадьбу  "
      ]
     },
     "execution_count": 6,
     "metadata": {},
     "output_type": "execute_result"
    }
   ],
   "source": [
    "# пристально смотрим на данные, в которых есть пропуски\n",
    "bank_data[bank_data.days_employed.isnull()].head()"
   ]
  },
  {
   "cell_type": "markdown",
   "metadata": {},
   "source": [
    "##### Исправляем проблемы в колонке `education`:"
   ]
  },
  {
   "cell_type": "code",
   "execution_count": 7,
   "metadata": {},
   "outputs": [
    {
     "data": {
      "text/plain": [
       "array(['высшее', 'среднее', 'Среднее', 'СРЕДНЕЕ', 'ВЫСШЕЕ',\n",
       "       'неоконченное высшее', 'начальное', 'Высшее',\n",
       "       'НЕОКОНЧЕННОЕ ВЫСШЕЕ', 'Неоконченное высшее', 'НАЧАЛЬНОЕ',\n",
       "       'Начальное', 'Ученая степень', 'УЧЕНАЯ СТЕПЕНЬ', 'ученая степень'],\n",
       "      dtype=object)"
      ]
     },
     "execution_count": 7,
     "metadata": {},
     "output_type": "execute_result"
    }
   ],
   "source": [
    "#смотрим уникальные значения в колонке \"образование\". \n",
    "bank_data.education.unique()"
   ]
  },
  {
   "cell_type": "code",
   "execution_count": 8,
   "metadata": {
    "scrolled": true
   },
   "outputs": [
    {
     "data": {
      "text/plain": [
       "array(['высшее', 'среднее', 'неоконченное высшее', 'начальное',\n",
       "       'ученая степень'], dtype=object)"
      ]
     },
     "execution_count": 8,
     "metadata": {},
     "output_type": "execute_result"
    }
   ],
   "source": [
    "#находим дубликаты и убираем их\n",
    "bank_data.education = bank_data.education.str.lower()\n",
    "bank_data.education.unique()"
   ]
  },
  {
   "cell_type": "markdown",
   "metadata": {},
   "source": [
    "##### Исправляем проблемы в колонке `days_employed`:"
   ]
  },
  {
   "cell_type": "code",
   "execution_count": 9,
   "metadata": {
    "scrolled": true
   },
   "outputs": [
    {
     "data": {
      "text/html": [
       "<div>\n",
       "<style scoped>\n",
       "    .dataframe tbody tr th:only-of-type {\n",
       "        vertical-align: middle;\n",
       "    }\n",
       "\n",
       "    .dataframe tbody tr th {\n",
       "        vertical-align: top;\n",
       "    }\n",
       "\n",
       "    .dataframe thead th {\n",
       "        text-align: right;\n",
       "    }\n",
       "</style>\n",
       "<table border=\"1\" class=\"dataframe\">\n",
       "  <thead>\n",
       "    <tr style=\"text-align: right;\">\n",
       "      <th></th>\n",
       "      <th>children</th>\n",
       "      <th>days_employed</th>\n",
       "      <th>dob_years</th>\n",
       "      <th>education</th>\n",
       "      <th>education_id</th>\n",
       "      <th>family_status</th>\n",
       "      <th>family_status_id</th>\n",
       "      <th>gender</th>\n",
       "      <th>income_type</th>\n",
       "      <th>debt</th>\n",
       "      <th>total_income</th>\n",
       "      <th>purpose</th>\n",
       "    </tr>\n",
       "  </thead>\n",
       "  <tbody>\n",
       "    <tr>\n",
       "      <th>0</th>\n",
       "      <td>1</td>\n",
       "      <td>8437.673028</td>\n",
       "      <td>42</td>\n",
       "      <td>высшее</td>\n",
       "      <td>0</td>\n",
       "      <td>женат / замужем</td>\n",
       "      <td>0</td>\n",
       "      <td>F</td>\n",
       "      <td>сотрудник</td>\n",
       "      <td>0</td>\n",
       "      <td>253875.639453</td>\n",
       "      <td>покупка жилья</td>\n",
       "    </tr>\n",
       "    <tr>\n",
       "      <th>1</th>\n",
       "      <td>1</td>\n",
       "      <td>4024.803754</td>\n",
       "      <td>36</td>\n",
       "      <td>среднее</td>\n",
       "      <td>1</td>\n",
       "      <td>женат / замужем</td>\n",
       "      <td>0</td>\n",
       "      <td>F</td>\n",
       "      <td>сотрудник</td>\n",
       "      <td>0</td>\n",
       "      <td>112080.014102</td>\n",
       "      <td>приобретение автомобиля</td>\n",
       "    </tr>\n",
       "    <tr>\n",
       "      <th>2</th>\n",
       "      <td>0</td>\n",
       "      <td>5623.422610</td>\n",
       "      <td>33</td>\n",
       "      <td>среднее</td>\n",
       "      <td>1</td>\n",
       "      <td>женат / замужем</td>\n",
       "      <td>0</td>\n",
       "      <td>M</td>\n",
       "      <td>сотрудник</td>\n",
       "      <td>0</td>\n",
       "      <td>145885.952297</td>\n",
       "      <td>покупка жилья</td>\n",
       "    </tr>\n",
       "    <tr>\n",
       "      <th>3</th>\n",
       "      <td>3</td>\n",
       "      <td>4124.747207</td>\n",
       "      <td>32</td>\n",
       "      <td>среднее</td>\n",
       "      <td>1</td>\n",
       "      <td>женат / замужем</td>\n",
       "      <td>0</td>\n",
       "      <td>M</td>\n",
       "      <td>сотрудник</td>\n",
       "      <td>0</td>\n",
       "      <td>267628.550329</td>\n",
       "      <td>дополнительное образование</td>\n",
       "    </tr>\n",
       "    <tr>\n",
       "      <th>4</th>\n",
       "      <td>0</td>\n",
       "      <td>340266.072047</td>\n",
       "      <td>53</td>\n",
       "      <td>среднее</td>\n",
       "      <td>1</td>\n",
       "      <td>гражданский брак</td>\n",
       "      <td>1</td>\n",
       "      <td>F</td>\n",
       "      <td>пенсионер</td>\n",
       "      <td>0</td>\n",
       "      <td>158616.077870</td>\n",
       "      <td>сыграть свадьбу</td>\n",
       "    </tr>\n",
       "  </tbody>\n",
       "</table>\n",
       "</div>"
      ],
      "text/plain": [
       "   children  days_employed  dob_years education  education_id  \\\n",
       "0         1    8437.673028         42    высшее             0   \n",
       "1         1    4024.803754         36   среднее             1   \n",
       "2         0    5623.422610         33   среднее             1   \n",
       "3         3    4124.747207         32   среднее             1   \n",
       "4         0  340266.072047         53   среднее             1   \n",
       "\n",
       "      family_status  family_status_id gender income_type  debt   total_income  \\\n",
       "0   женат / замужем                 0      F   сотрудник     0  253875.639453   \n",
       "1   женат / замужем                 0      F   сотрудник     0  112080.014102   \n",
       "2   женат / замужем                 0      M   сотрудник     0  145885.952297   \n",
       "3   женат / замужем                 0      M   сотрудник     0  267628.550329   \n",
       "4  гражданский брак                 1      F   пенсионер     0  158616.077870   \n",
       "\n",
       "                      purpose  \n",
       "0               покупка жилья  \n",
       "1     приобретение автомобиля  \n",
       "2               покупка жилья  \n",
       "3  дополнительное образование  \n",
       "4             сыграть свадьбу  "
      ]
     },
     "execution_count": 9,
     "metadata": {},
     "output_type": "execute_result"
    }
   ],
   "source": [
    "# В данных о кол-ве рабочих дней по ошибке много где выставлены минуса - уберём их\n",
    "bank_data.days_employed = abs(bank_data.days_employed)\n",
    "bank_data.head()"
   ]
  },
  {
   "cell_type": "code",
   "execution_count": 10,
   "metadata": {},
   "outputs": [
    {
     "data": {
      "text/html": [
       "<div>\n",
       "<style scoped>\n",
       "    .dataframe tbody tr th:only-of-type {\n",
       "        vertical-align: middle;\n",
       "    }\n",
       "\n",
       "    .dataframe tbody tr th {\n",
       "        vertical-align: top;\n",
       "    }\n",
       "\n",
       "    .dataframe thead th {\n",
       "        text-align: right;\n",
       "    }\n",
       "</style>\n",
       "<table border=\"1\" class=\"dataframe\">\n",
       "  <thead>\n",
       "    <tr style=\"text-align: right;\">\n",
       "      <th></th>\n",
       "      <th>children</th>\n",
       "      <th>days_employed</th>\n",
       "      <th>dob_years</th>\n",
       "      <th>education</th>\n",
       "      <th>education_id</th>\n",
       "      <th>family_status</th>\n",
       "      <th>family_status_id</th>\n",
       "      <th>gender</th>\n",
       "      <th>income_type</th>\n",
       "      <th>debt</th>\n",
       "      <th>total_income</th>\n",
       "      <th>purpose</th>\n",
       "    </tr>\n",
       "  </thead>\n",
       "  <tbody>\n",
       "    <tr>\n",
       "      <th>12</th>\n",
       "      <td>0</td>\n",
       "      <td>NaN</td>\n",
       "      <td>65</td>\n",
       "      <td>среднее</td>\n",
       "      <td>1</td>\n",
       "      <td>гражданский брак</td>\n",
       "      <td>1</td>\n",
       "      <td>M</td>\n",
       "      <td>пенсионер</td>\n",
       "      <td>0</td>\n",
       "      <td>NaN</td>\n",
       "      <td>сыграть свадьбу</td>\n",
       "    </tr>\n",
       "    <tr>\n",
       "      <th>26</th>\n",
       "      <td>0</td>\n",
       "      <td>NaN</td>\n",
       "      <td>41</td>\n",
       "      <td>среднее</td>\n",
       "      <td>1</td>\n",
       "      <td>женат / замужем</td>\n",
       "      <td>0</td>\n",
       "      <td>M</td>\n",
       "      <td>госслужащий</td>\n",
       "      <td>0</td>\n",
       "      <td>NaN</td>\n",
       "      <td>образование</td>\n",
       "    </tr>\n",
       "    <tr>\n",
       "      <th>29</th>\n",
       "      <td>0</td>\n",
       "      <td>NaN</td>\n",
       "      <td>63</td>\n",
       "      <td>среднее</td>\n",
       "      <td>1</td>\n",
       "      <td>Не женат / не замужем</td>\n",
       "      <td>4</td>\n",
       "      <td>F</td>\n",
       "      <td>пенсионер</td>\n",
       "      <td>0</td>\n",
       "      <td>NaN</td>\n",
       "      <td>строительство жилой недвижимости</td>\n",
       "    </tr>\n",
       "    <tr>\n",
       "      <th>41</th>\n",
       "      <td>0</td>\n",
       "      <td>NaN</td>\n",
       "      <td>50</td>\n",
       "      <td>среднее</td>\n",
       "      <td>1</td>\n",
       "      <td>женат / замужем</td>\n",
       "      <td>0</td>\n",
       "      <td>F</td>\n",
       "      <td>госслужащий</td>\n",
       "      <td>0</td>\n",
       "      <td>NaN</td>\n",
       "      <td>сделка с подержанным автомобилем</td>\n",
       "    </tr>\n",
       "    <tr>\n",
       "      <th>55</th>\n",
       "      <td>0</td>\n",
       "      <td>NaN</td>\n",
       "      <td>54</td>\n",
       "      <td>среднее</td>\n",
       "      <td>1</td>\n",
       "      <td>гражданский брак</td>\n",
       "      <td>1</td>\n",
       "      <td>F</td>\n",
       "      <td>пенсионер</td>\n",
       "      <td>1</td>\n",
       "      <td>NaN</td>\n",
       "      <td>сыграть свадьбу</td>\n",
       "    </tr>\n",
       "  </tbody>\n",
       "</table>\n",
       "</div>"
      ],
      "text/plain": [
       "    children  days_employed  dob_years education  education_id  \\\n",
       "12         0            NaN         65   среднее             1   \n",
       "26         0            NaN         41   среднее             1   \n",
       "29         0            NaN         63   среднее             1   \n",
       "41         0            NaN         50   среднее             1   \n",
       "55         0            NaN         54   среднее             1   \n",
       "\n",
       "            family_status  family_status_id gender  income_type  debt  \\\n",
       "12       гражданский брак                 1      M    пенсионер     0   \n",
       "26        женат / замужем                 0      M  госслужащий     0   \n",
       "29  Не женат / не замужем                 4      F    пенсионер     0   \n",
       "41        женат / замужем                 0      F  госслужащий     0   \n",
       "55       гражданский брак                 1      F    пенсионер     1   \n",
       "\n",
       "    total_income                           purpose  \n",
       "12           NaN                   сыграть свадьбу  \n",
       "26           NaN                       образование  \n",
       "29           NaN  строительство жилой недвижимости  \n",
       "41           NaN  сделка с подержанным автомобилем  \n",
       "55           NaN                   сыграть свадьбу  "
      ]
     },
     "execution_count": 10,
     "metadata": {},
     "output_type": "execute_result"
    }
   ],
   "source": [
    "# пристально смотрим на данные, в которых есть пропуски\n",
    "bank_data[bank_data.days_employed.isnull()].head()"
   ]
  },
  {
   "cell_type": "code",
   "execution_count": 11,
   "metadata": {},
   "outputs": [
    {
     "data": {
      "text/plain": [
       "children               0\n",
       "days_employed          0\n",
       "dob_years              0\n",
       "education              0\n",
       "education_id           0\n",
       "family_status          0\n",
       "family_status_id       0\n",
       "gender                 0\n",
       "income_type            0\n",
       "debt                   0\n",
       "total_income        2174\n",
       "purpose                0\n",
       "dtype: int64"
      ]
     },
     "execution_count": 11,
     "metadata": {},
     "output_type": "execute_result"
    }
   ],
   "source": [
    "# убираем пропуски в days_employed. Всё работают плюс-минус одинаково, так что можно заполнить медианой\n",
    "bank_data.days_employed.fillna(bank_data.days_employed.median(), inplace=True)\n",
    "bank_data.isnull().sum()"
   ]
  },
  {
   "cell_type": "code",
   "execution_count": 12,
   "metadata": {
    "scrolled": true
   },
   "outputs": [
    {
     "data": {
      "text/plain": [
       "<AxesSubplot:xlabel='days_employed'>"
      ]
     },
     "execution_count": 12,
     "metadata": {},
     "output_type": "execute_result"
    },
    {
     "data": {
      "image/png": "[encoded data removed]",
      "text/plain": [
       "<Figure size 432x288 with 1 Axes>"
      ]
     },
     "metadata": {
      "needs_background": "light"
     },
     "output_type": "display_data"
    }
   ],
   "source": [
    "# Пропуски заполнены медианой. Нужно исправить выбросы в колонке \"days_employed\".\n",
    "# Предположим, что стаж не может равняться больше 60-ти лет (~22000 дней). Найдём медиану по\n",
    "# кол-ву рабочих дней исключая данные выбросы и заполным выбросы этой медианой.\n",
    "\n",
    "days_employed_median_corr = bank_data[bank_data.days_employed<=22000].days_employed.median()\n",
    "bank_data.days_employed = bank_data.days_employed.apply(lambda x: days_employed_median_corr if x>=22000 else x)\n",
    "sns.boxplot(x=bank_data.days_employed)"
   ]
  },
  {
   "cell_type": "markdown",
   "metadata": {},
   "source": [
    "##### Исправляем проблемы в колонке `total_income`:"
   ]
  },
  {
   "cell_type": "code",
   "execution_count": 13,
   "metadata": {},
   "outputs": [
    {
     "name": "stdout",
     "output_type": "stream",
     "text": [
      "Wall time: 13.7 s\n"
     ]
    },
    {
     "data": {
      "text/plain": [
       "children            0\n",
       "days_employed       0\n",
       "dob_years           0\n",
       "education           0\n",
       "education_id        0\n",
       "family_status       0\n",
       "family_status_id    0\n",
       "gender              0\n",
       "income_type         0\n",
       "debt                0\n",
       "total_income        0\n",
       "purpose             0\n",
       "dtype: int64"
      ]
     },
     "execution_count": 13,
     "metadata": {},
     "output_type": "execute_result"
    }
   ],
   "source": [
    "%%time\n",
    "# Далеко не самый оптимальный метод, но я пробовал уже и функции с apply() и лямбды, \n",
    "# и никак не получалось заставить их корректно работать\n",
    "\n",
    "# Идея следующая - выставлять всем пропускам медианный доход некорректно, учитывая\n",
    "# что доход сильно зависит от профессии и образования. В данном методе я выставляю\n",
    "# пропускам медианный доход согласно их профессии и уровню образования\n",
    "\n",
    "# проходим по всему массиву\n",
    "for i in range(len(bank_data)):\n",
    "    # проверяем является ли income NaN type\n",
    "    if bank_data.loc[i, 'total_income'] != bank_data.loc[i, 'total_income']:\n",
    "        # записываем профессию человека\n",
    "        occupation = bank_data.loc[i, 'income_type']\n",
    "        # записываем уровень образования человека\n",
    "        education = bank_data.loc[i, 'education']\n",
    "        # рассчитываем медианный доход согласно этим двум параметрам\n",
    "        median_occupation_income = bank_data[(bank_data['income_type']==occupation)\n",
    "                                             & (bank_data['education']==education)].total_income.median()\n",
    "        bank_data.loc[i, 'total_income'] = median_occupation_income\n",
    "bank_data.isnull().sum()"
   ]
  },
  {
   "cell_type": "code",
   "execution_count": 14,
   "metadata": {},
   "outputs": [],
   "source": [
    "#Пример кода, где я пытался красиво это организовать, но ничего не получилось. Пожалуйста, помогите найти тут ошибку.\n",
    "\n",
    "def income_median_fill(row):\n",
    "    income = row['total_income']\n",
    "    if income!=income: # проверяем является ли income NaN type\n",
    "        occupation = row['income_type']\n",
    "        education = row['education']\n",
    "        income_new = row[(row['income_type']==occupation) & (row['education']==education)].total_income.median()\n",
    "        return income_new\n",
    "    return income\n",
    "\n",
    "#bank_data['total_income'] = bank_data.apply(income_median_fill, axis=1)\n",
    "#bank_data.isnull().sum()"
   ]
  },
  {
   "cell_type": "markdown",
   "metadata": {},
   "source": [
    "##### Исправляем проблемы в колонке `children`"
   ]
  },
  {
   "cell_type": "code",
   "execution_count": 15,
   "metadata": {},
   "outputs": [
    {
     "data": {
      "text/plain": [
       "array([ 1,  0,  3,  2, -1,  4, 20,  5], dtype=int64)"
      ]
     },
     "execution_count": 15,
     "metadata": {},
     "output_type": "execute_result"
    }
   ],
   "source": [
    "bank_data.children.unique()"
   ]
  },
  {
   "cell_type": "code",
   "execution_count": 16,
   "metadata": {},
   "outputs": [
    {
     "data": {
      "text/plain": [
       "array([ 1,  0,  3,  2,  4, 20,  5], dtype=int64)"
      ]
     },
     "execution_count": 16,
     "metadata": {},
     "output_type": "execute_result"
    }
   ],
   "source": [
    "# отрицательные значения явно записаны по ошибке - возьмём данные по модулю\n",
    "bank_data.children = abs(bank_data.children)\n",
    "bank_data.children.unique()"
   ]
  },
  {
   "cell_type": "code",
   "execution_count": 17,
   "metadata": {},
   "outputs": [
    {
     "data": {
      "text/plain": [
       "array([1, 0, 3, 2, 4, 5], dtype=int64)"
      ]
     },
     "execution_count": 17,
     "metadata": {},
     "output_type": "execute_result"
    }
   ],
   "source": [
    "# двадцати детей тоже явно не может быть, учитывая что прошлое максимально значение - 5.\n",
    "# Кто-то явно случайно дописал лишний нолик в конце - бывает. Заменим двадцатки двойками.\n",
    "\n",
    "bank_data.children = bank_data.children.apply(lambda x: 2 if x==20 else x)\n",
    "bank_data.children.unique()"
   ]
  },
  {
   "cell_type": "markdown",
   "metadata": {},
   "source": [
    "##### Исправляем проблемы в колонке `family_status`\n",
    "(одно из значений записано с заглавной буквы)"
   ]
  },
  {
   "cell_type": "code",
   "execution_count": 18,
   "metadata": {},
   "outputs": [
    {
     "data": {
      "text/plain": [
       "array(['женат / замужем', 'гражданский брак', 'вдовец / вдова',\n",
       "       'в разводе', 'Не женат / не замужем'], dtype=object)"
      ]
     },
     "execution_count": 18,
     "metadata": {},
     "output_type": "execute_result"
    }
   ],
   "source": [
    "bank_data.family_status.unique()"
   ]
  },
  {
   "cell_type": "code",
   "execution_count": 19,
   "metadata": {},
   "outputs": [
    {
     "data": {
      "text/plain": [
       "array(['женат / замужем', 'гражданский брак', 'вдовец / вдова',\n",
       "       'в разводе', 'не женат / не замужем'], dtype=object)"
      ]
     },
     "execution_count": 19,
     "metadata": {},
     "output_type": "execute_result"
    }
   ],
   "source": [
    "bank_data.family_status = bank_data.family_status.str.lower()\n",
    "bank_data.family_status.unique()"
   ]
  },
  {
   "cell_type": "markdown",
   "metadata": {},
   "source": [
    "##### Исправляем проблемы в колонке `dob_years `\n",
    "(присутствует ноль в некоторых из значений)"
   ]
  },
  {
   "cell_type": "code",
   "execution_count": 20,
   "metadata": {},
   "outputs": [
    {
     "data": {
      "text/plain": [
       "array([42, 36, 33, 32, 53, 27, 43, 50, 35, 41, 40, 65, 54, 56, 26, 48, 24,\n",
       "       21, 57, 67, 28, 63, 62, 47, 34, 68, 25, 31, 30, 20, 49, 37, 45, 61,\n",
       "       64, 44, 52, 46, 23, 38, 39, 51,  0, 59, 29, 60, 55, 58, 71, 22, 73,\n",
       "       66, 69, 19, 72, 70, 74, 75], dtype=int64)"
      ]
     },
     "execution_count": 20,
     "metadata": {},
     "output_type": "execute_result"
    }
   ],
   "source": [
    "bank_data.dob_years.unique()"
   ]
  },
  {
   "cell_type": "code",
   "execution_count": 21,
   "metadata": {},
   "outputs": [
    {
     "data": {
      "text/plain": [
       "101"
      ]
     },
     "execution_count": 21,
     "metadata": {},
     "output_type": "execute_result"
    }
   ],
   "source": [
    "#Выведем кол-во данных значений на экран\n",
    "len(bank_data[bank_data.dob_years==0])"
   ]
  },
  {
   "cell_type": "code",
   "execution_count": 22,
   "metadata": {},
   "outputs": [
    {
     "data": {
      "text/html": [
       "<div>\n",
       "<style scoped>\n",
       "    .dataframe tbody tr th:only-of-type {\n",
       "        vertical-align: middle;\n",
       "    }\n",
       "\n",
       "    .dataframe tbody tr th {\n",
       "        vertical-align: top;\n",
       "    }\n",
       "\n",
       "    .dataframe thead th {\n",
       "        text-align: right;\n",
       "    }\n",
       "</style>\n",
       "<table border=\"1\" class=\"dataframe\">\n",
       "  <thead>\n",
       "    <tr style=\"text-align: right;\">\n",
       "      <th></th>\n",
       "      <th>children</th>\n",
       "      <th>days_employed</th>\n",
       "      <th>dob_years</th>\n",
       "      <th>education</th>\n",
       "      <th>education_id</th>\n",
       "      <th>family_status</th>\n",
       "      <th>family_status_id</th>\n",
       "      <th>gender</th>\n",
       "      <th>income_type</th>\n",
       "      <th>debt</th>\n",
       "      <th>total_income</th>\n",
       "      <th>purpose</th>\n",
       "    </tr>\n",
       "  </thead>\n",
       "  <tbody>\n",
       "    <tr>\n",
       "      <th>99</th>\n",
       "      <td>0</td>\n",
       "      <td>1960.297207</td>\n",
       "      <td>0</td>\n",
       "      <td>среднее</td>\n",
       "      <td>1</td>\n",
       "      <td>женат / замужем</td>\n",
       "      <td>0</td>\n",
       "      <td>F</td>\n",
       "      <td>пенсионер</td>\n",
       "      <td>0</td>\n",
       "      <td>71291.522491</td>\n",
       "      <td>автомобиль</td>\n",
       "    </tr>\n",
       "    <tr>\n",
       "      <th>149</th>\n",
       "      <td>0</td>\n",
       "      <td>2664.273168</td>\n",
       "      <td>0</td>\n",
       "      <td>среднее</td>\n",
       "      <td>1</td>\n",
       "      <td>в разводе</td>\n",
       "      <td>3</td>\n",
       "      <td>F</td>\n",
       "      <td>сотрудник</td>\n",
       "      <td>0</td>\n",
       "      <td>70176.435951</td>\n",
       "      <td>операции с жильем</td>\n",
       "    </tr>\n",
       "    <tr>\n",
       "      <th>270</th>\n",
       "      <td>3</td>\n",
       "      <td>1872.663186</td>\n",
       "      <td>0</td>\n",
       "      <td>среднее</td>\n",
       "      <td>1</td>\n",
       "      <td>женат / замужем</td>\n",
       "      <td>0</td>\n",
       "      <td>F</td>\n",
       "      <td>сотрудник</td>\n",
       "      <td>0</td>\n",
       "      <td>102166.458894</td>\n",
       "      <td>ремонт жилью</td>\n",
       "    </tr>\n",
       "    <tr>\n",
       "      <th>578</th>\n",
       "      <td>0</td>\n",
       "      <td>1960.297207</td>\n",
       "      <td>0</td>\n",
       "      <td>среднее</td>\n",
       "      <td>1</td>\n",
       "      <td>женат / замужем</td>\n",
       "      <td>0</td>\n",
       "      <td>F</td>\n",
       "      <td>пенсионер</td>\n",
       "      <td>0</td>\n",
       "      <td>97620.687042</td>\n",
       "      <td>строительство собственной недвижимости</td>\n",
       "    </tr>\n",
       "    <tr>\n",
       "      <th>1040</th>\n",
       "      <td>0</td>\n",
       "      <td>1158.029561</td>\n",
       "      <td>0</td>\n",
       "      <td>высшее</td>\n",
       "      <td>0</td>\n",
       "      <td>в разводе</td>\n",
       "      <td>3</td>\n",
       "      <td>F</td>\n",
       "      <td>компаньон</td>\n",
       "      <td>0</td>\n",
       "      <td>303994.134987</td>\n",
       "      <td>свой автомобиль</td>\n",
       "    </tr>\n",
       "  </tbody>\n",
       "</table>\n",
       "</div>"
      ],
      "text/plain": [
       "      children  days_employed  dob_years education  education_id  \\\n",
       "99           0    1960.297207          0   среднее             1   \n",
       "149          0    2664.273168          0   среднее             1   \n",
       "270          3    1872.663186          0   среднее             1   \n",
       "578          0    1960.297207          0   среднее             1   \n",
       "1040         0    1158.029561          0    высшее             0   \n",
       "\n",
       "        family_status  family_status_id gender income_type  debt  \\\n",
       "99    женат / замужем                 0      F   пенсионер     0   \n",
       "149         в разводе                 3      F   сотрудник     0   \n",
       "270   женат / замужем                 0      F   сотрудник     0   \n",
       "578   женат / замужем                 0      F   пенсионер     0   \n",
       "1040        в разводе                 3      F   компаньон     0   \n",
       "\n",
       "       total_income                                 purpose  \n",
       "99     71291.522491                              автомобиль  \n",
       "149    70176.435951                       операции с жильем  \n",
       "270   102166.458894                            ремонт жилью  \n",
       "578    97620.687042  строительство собственной недвижимости  \n",
       "1040  303994.134987                         свой автомобиль  "
      ]
     },
     "execution_count": 22,
     "metadata": {},
     "output_type": "execute_result"
    }
   ],
   "source": [
    "#Выведем данные значения на экран\n",
    "bank_data[bank_data.dob_years==0].head()"
   ]
  },
  {
   "cell_type": "markdown",
   "metadata": {},
   "source": [
    "Заполнение всех пропущенных значений медианным возрастом будет некорректным. Все категории кроме категории `пенсионер` нужно заполнять медианным возрастом, исключая пенсионеров. Категорию `пенсионер` заполнить медианным возрастом этой же категории."
   ]
  },
  {
   "cell_type": "code",
   "execution_count": 23,
   "metadata": {},
   "outputs": [
    {
     "data": {
      "text/plain": [
       "39"
      ]
     },
     "execution_count": 23,
     "metadata": {},
     "output_type": "execute_result"
    }
   ],
   "source": [
    "#находим медианный возраст по всем категориям, кроме пенсионеров\n",
    "median_age = int(bank_data[bank_data.income_type != 'пенсионер'].dob_years.median())\n",
    "median_age"
   ]
  },
  {
   "cell_type": "code",
   "execution_count": 24,
   "metadata": {},
   "outputs": [
    {
     "data": {
      "text/plain": [
       "60"
      ]
     },
     "execution_count": 24,
     "metadata": {},
     "output_type": "execute_result"
    }
   ],
   "source": [
    "#находим медианный возраст пенсионеров\n",
    "median_age_retired = int(bank_data[bank_data.income_type=='пенсионер'].dob_years.median())\n",
    "median_age_retired"
   ]
  },
  {
   "cell_type": "code",
   "execution_count": 25,
   "metadata": {},
   "outputs": [
    {
     "data": {
      "text/plain": [
       "array([42, 36, 33, 32, 53, 27, 43, 50, 35, 41, 40, 65, 54, 56, 26, 48, 24,\n",
       "       21, 57, 67, 28, 63, 62, 47, 34, 68, 25, 31, 30, 20, 49, 37, 45, 61,\n",
       "       64, 44, 52, 46, 23, 38, 39, 51,  0, 59, 29, 60, 55, 58, 71, 22, 73,\n",
       "       66, 69, 19, 72, 70, 74, 75], dtype=int64)"
      ]
     },
     "execution_count": 25,
     "metadata": {},
     "output_type": "execute_result"
    }
   ],
   "source": [
    "# Подскажите, пожалуйста, как это организовать без \"предупреждения\"?\n",
    "# Т.к. этот метод работает на порядки быстрее чем с apply(lambda x)\n",
    "bank_data[(bank_data.dob_years==0) & (bank_data.income_type != 'пенсионер')].dob_years = median_age\n",
    "bank_data[(bank_data.dob_years==0) & (bank_data.income_type == 'пенсионер')].dob_years = median_age_retired\n",
    "bank_data.dob_years.unique()"
   ]
  },
  {
   "cell_type": "code",
   "execution_count": 26,
   "metadata": {},
   "outputs": [],
   "source": [
    "# bank_data = bank_data.apply(lambda x: median_age if ((x.dob_years==0) & (x.income_type != 'пенсионер')) else x, axis=1)\n",
    "# bank_data = bank_data.apply(lambda x: median_age_retired if ((x.dob_years==0) & (x.income_type == 'пенсионер')) else x, axis=1)\n",
    "# bank_data.dob_years.unique()"
   ]
  },
  {
   "cell_type": "markdown",
   "metadata": {},
   "source": [
    "**Вывод**"
   ]
  },
  {
   "cell_type": "markdown",
   "metadata": {},
   "source": [
    "Нашли и убрали дубликаты в колонке об образовании, убрали минуса в колонке о кол-ве рабочих дней и заполнили пропущенные значения согласно медиане. Пропуски в значениях о доходе заполнили медианными значениями согласно профессии и уровню образования. Нули в колонке \"возраст\" для пенсионеров заполнили медианными значениями возраста пенсионеров, а всем остальным категориям поставили просто медианный возраст. В колонке \"семейное положение\" привели все значения к нижнему регистру. Отрицательные значения из колонки \"кол-во детей\" привели к модулю. Заменили выбросы в колонке \"стаж\" медианным значениями стажа.\n",
    "\n",
    "Минуса в данных могут появлятся вследствие ошибок и/или опечаток в коде программы, которая выгружала данные. То же самое относится и к выбросам. Ошибки в регистре написания категориальных переменных скорее всего - человеческий фактор.\n",
    "\n",
    "В итоге мы очистили данные от ошибок и можем приступать к последующей обработке."
   ]
  },
  {
   "cell_type": "markdown",
   "metadata": {},
   "source": [
    "### Замена типа данных"
   ]
  },
  {
   "cell_type": "code",
   "execution_count": 27,
   "metadata": {
    "scrolled": true
   },
   "outputs": [
    {
     "data": {
      "text/html": [
       "<div>\n",
       "<style scoped>\n",
       "    .dataframe tbody tr th:only-of-type {\n",
       "        vertical-align: middle;\n",
       "    }\n",
       "\n",
       "    .dataframe tbody tr th {\n",
       "        vertical-align: top;\n",
       "    }\n",
       "\n",
       "    .dataframe thead th {\n",
       "        text-align: right;\n",
       "    }\n",
       "</style>\n",
       "<table border=\"1\" class=\"dataframe\">\n",
       "  <thead>\n",
       "    <tr style=\"text-align: right;\">\n",
       "      <th></th>\n",
       "      <th>children</th>\n",
       "      <th>days_employed</th>\n",
       "      <th>dob_years</th>\n",
       "      <th>education</th>\n",
       "      <th>education_id</th>\n",
       "      <th>family_status</th>\n",
       "      <th>family_status_id</th>\n",
       "      <th>gender</th>\n",
       "      <th>income_type</th>\n",
       "      <th>debt</th>\n",
       "      <th>total_income</th>\n",
       "      <th>purpose</th>\n",
       "    </tr>\n",
       "  </thead>\n",
       "  <tbody>\n",
       "    <tr>\n",
       "      <th>0</th>\n",
       "      <td>1</td>\n",
       "      <td>8437</td>\n",
       "      <td>42</td>\n",
       "      <td>высшее</td>\n",
       "      <td>0</td>\n",
       "      <td>женат / замужем</td>\n",
       "      <td>0</td>\n",
       "      <td>F</td>\n",
       "      <td>сотрудник</td>\n",
       "      <td>0</td>\n",
       "      <td>253875</td>\n",
       "      <td>покупка жилья</td>\n",
       "    </tr>\n",
       "    <tr>\n",
       "      <th>1</th>\n",
       "      <td>1</td>\n",
       "      <td>4024</td>\n",
       "      <td>36</td>\n",
       "      <td>среднее</td>\n",
       "      <td>1</td>\n",
       "      <td>женат / замужем</td>\n",
       "      <td>0</td>\n",
       "      <td>F</td>\n",
       "      <td>сотрудник</td>\n",
       "      <td>0</td>\n",
       "      <td>112080</td>\n",
       "      <td>приобретение автомобиля</td>\n",
       "    </tr>\n",
       "    <tr>\n",
       "      <th>2</th>\n",
       "      <td>0</td>\n",
       "      <td>5623</td>\n",
       "      <td>33</td>\n",
       "      <td>среднее</td>\n",
       "      <td>1</td>\n",
       "      <td>женат / замужем</td>\n",
       "      <td>0</td>\n",
       "      <td>M</td>\n",
       "      <td>сотрудник</td>\n",
       "      <td>0</td>\n",
       "      <td>145885</td>\n",
       "      <td>покупка жилья</td>\n",
       "    </tr>\n",
       "    <tr>\n",
       "      <th>3</th>\n",
       "      <td>3</td>\n",
       "      <td>4124</td>\n",
       "      <td>32</td>\n",
       "      <td>среднее</td>\n",
       "      <td>1</td>\n",
       "      <td>женат / замужем</td>\n",
       "      <td>0</td>\n",
       "      <td>M</td>\n",
       "      <td>сотрудник</td>\n",
       "      <td>0</td>\n",
       "      <td>267628</td>\n",
       "      <td>дополнительное образование</td>\n",
       "    </tr>\n",
       "    <tr>\n",
       "      <th>4</th>\n",
       "      <td>0</td>\n",
       "      <td>1960</td>\n",
       "      <td>53</td>\n",
       "      <td>среднее</td>\n",
       "      <td>1</td>\n",
       "      <td>гражданский брак</td>\n",
       "      <td>1</td>\n",
       "      <td>F</td>\n",
       "      <td>пенсионер</td>\n",
       "      <td>0</td>\n",
       "      <td>158616</td>\n",
       "      <td>сыграть свадьбу</td>\n",
       "    </tr>\n",
       "  </tbody>\n",
       "</table>\n",
       "</div>"
      ],
      "text/plain": [
       "   children  days_employed  dob_years education  education_id  \\\n",
       "0         1           8437         42    высшее             0   \n",
       "1         1           4024         36   среднее             1   \n",
       "2         0           5623         33   среднее             1   \n",
       "3         3           4124         32   среднее             1   \n",
       "4         0           1960         53   среднее             1   \n",
       "\n",
       "      family_status  family_status_id gender income_type  debt  total_income  \\\n",
       "0   женат / замужем                 0      F   сотрудник     0        253875   \n",
       "1   женат / замужем                 0      F   сотрудник     0        112080   \n",
       "2   женат / замужем                 0      M   сотрудник     0        145885   \n",
       "3   женат / замужем                 0      M   сотрудник     0        267628   \n",
       "4  гражданский брак                 1      F   пенсионер     0        158616   \n",
       "\n",
       "                      purpose  \n",
       "0               покупка жилья  \n",
       "1     приобретение автомобиля  \n",
       "2               покупка жилья  \n",
       "3  дополнительное образование  \n",
       "4             сыграть свадьбу  "
      ]
     },
     "execution_count": 27,
     "metadata": {},
     "output_type": "execute_result"
    }
   ],
   "source": [
    "# Приведём данные в колонках days_employed и total_income к целочисельным значениям методом .astype(int)\n",
    "\n",
    "bank_data.days_employed = bank_data.days_employed.astype(int)\n",
    "bank_data.total_income = bank_data.total_income.astype(int)\n",
    "bank_data.head()"
   ]
  },
  {
   "cell_type": "markdown",
   "metadata": {},
   "source": [
    "**Вывод**"
   ]
  },
  {
   "cell_type": "markdown",
   "metadata": {},
   "source": [
    "Данное преобразование позволит сделать данные более наглядными отсекая ненужные дробные части в колонке days_employed и total_income. Отсечение дробной части в колонке total_income не повлияет на оценку надёжности заёмщика т.к. порядок цифр в доходе довольно большой."
   ]
  },
  {
   "cell_type": "markdown",
   "metadata": {},
   "source": [
    "### Лемматизация"
   ]
  },
  {
   "cell_type": "markdown",
   "metadata": {},
   "source": [
    "Проведём анализ скорости категоризации с помощью лемматизации, стемминга и \"по-простому\" для колонки `purpose`"
   ]
  },
  {
   "cell_type": "code",
   "execution_count": 28,
   "metadata": {},
   "outputs": [],
   "source": [
    "# %%time\n",
    "# # Категоризация с помощью лемматизации\n",
    "\n",
    "# #функция для лемматизации и соединения слов воедино\n",
    "# def lemmatize_text(text):\n",
    "#     m = Mystem()\n",
    "#     result = m.lemmatize(text)\n",
    "#     return \" \".join(result)\n",
    "\n",
    "# #категоризируем по лемматизированным словам\n",
    "# def purpose_category(text):\n",
    "#     if 'жилье' in lemmatize_text(text):\n",
    "#         return 1\n",
    "#     elif 'автомобиль' in lemmatize_text(text):\n",
    "#         return 2\n",
    "#     elif 'образование' in lemmatize_text(text):\n",
    "#         return 3\n",
    "#     elif 'недвижимость' in lemmatize_text(text):\n",
    "#         return 4\n",
    "#     elif 'свадьба' in lemmatize_text(text):\n",
    "#         return 5\n",
    "#     else:\n",
    "#         return 6\n",
    "\n",
    "# test = bank_data['purpose'].head().apply(purpose_category)"
   ]
  },
  {
   "cell_type": "markdown",
   "metadata": {},
   "source": [
    "Лемматизация - 13 секунд на 5 строк, это ~ 2.5 секунды на одну строку. Учитывая, что у нас 21 тыс. строк - получится ~ 52 тыс. секунд (~ 15 часов) на обработку всей таблицы с использованием лемматизации. Неприемлемо долго."
   ]
  },
  {
   "cell_type": "code",
   "execution_count": 29,
   "metadata": {},
   "outputs": [
    {
     "name": "stdout",
     "output_type": "stream",
     "text": [
      "Wall time: 16.4 s\n"
     ]
    }
   ],
   "source": [
    "%%time\n",
    "# Категоризация с помощью cтемминга\n",
    "\n",
    "# определяем стеммер для русского языка\n",
    "russian_stemmer = SnowballStemmer('russian')\n",
    "\n",
    "#функция для токенизации текста и стемминга с последующим возвращением текста \n",
    "def stemm_text(text):\n",
    "    token_words = word_tokenize(text)\n",
    "    stem_sentence=[]\n",
    "    for word in token_words:\n",
    "        stem_sentence.append(russian_stemmer.stem(word))\n",
    "        stem_sentence.append(\" \")\n",
    "    return \"\".join(stem_sentence)\n",
    "\n",
    "# функция для категоризации по стеммингу\n",
    "def purpose_category(text):\n",
    "    if 'жил' in stemm_text(text):\n",
    "        return 1\n",
    "    elif 'автомобил' in stemm_text(text):\n",
    "        return 2\n",
    "    elif 'образован' in stemm_text(text):\n",
    "        return 3\n",
    "    elif 'недвижим' in stemm_text(text):\n",
    "        return 4\n",
    "    elif 'свадьб' in stemm_text(text):\n",
    "        return 5\n",
    "    else:\n",
    "        return 6\n",
    "    \n",
    "test = bank_data['purpose'].apply(purpose_category)"
   ]
  },
  {
   "cell_type": "markdown",
   "metadata": {},
   "source": [
    "Получается на порядки быстрее лемматизации (приблизительно 13 секунд на всю таблицу)."
   ]
  },
  {
   "cell_type": "code",
   "execution_count": 30,
   "metadata": {},
   "outputs": [
    {
     "name": "stdout",
     "output_type": "stream",
     "text": [
      "Wall time: 19 ms\n"
     ]
    }
   ],
   "source": [
    "%%time\n",
    "\n",
    "# Категоризация \"по-простому\" - поиск подстрок в тексте\n",
    "\n",
    "def purpose_category(text):\n",
    "    if 'жиль' in text:\n",
    "        return 1\n",
    "    elif 'автомобил' in text:\n",
    "        return 2\n",
    "    elif 'образовани' in text:\n",
    "        return 3\n",
    "    elif 'недвижимост' in text:\n",
    "        return 4\n",
    "    elif 'свадьб' in text:\n",
    "        return 5\n",
    "    else:\n",
    "        return 6\n",
    "\n",
    "test = bank_data['purpose'].apply(purpose_category)"
   ]
  },
  {
   "cell_type": "markdown",
   "metadata": {},
   "source": [
    "\"По-простому\" получается на порядки быстрее лемматизации и стемминга (пара миллисекунд на всю таблицу). Данный метод не такой надёжный как лемматизация, но по результату будет ничем не хуже стемминга. Пожалуй, будем использовать этот метод."
   ]
  },
  {
   "cell_type": "markdown",
   "metadata": {},
   "source": [
    "**Вывод**"
   ]
  },
  {
   "cell_type": "markdown",
   "metadata": {},
   "source": [
    "Лемматизация (по крайней мере на моём ноутбуке) работает слишком долго для того чтобы был смысл её применить к данной задаче.\n",
    "А стемминг по результату не будет отличаться от простого поиска подстроки."
   ]
  },
  {
   "cell_type": "markdown",
   "metadata": {},
   "source": [
    "### Категоризация данных"
   ]
  },
  {
   "cell_type": "markdown",
   "metadata": {},
   "source": [
    "##### Категоризируем колонку `purpose`"
   ]
  },
  {
   "cell_type": "code",
   "execution_count": 31,
   "metadata": {},
   "outputs": [
    {
     "data": {
      "text/html": [
       "<div>\n",
       "<style scoped>\n",
       "    .dataframe tbody tr th:only-of-type {\n",
       "        vertical-align: middle;\n",
       "    }\n",
       "\n",
       "    .dataframe tbody tr th {\n",
       "        vertical-align: top;\n",
       "    }\n",
       "\n",
       "    .dataframe thead th {\n",
       "        text-align: right;\n",
       "    }\n",
       "</style>\n",
       "<table border=\"1\" class=\"dataframe\">\n",
       "  <thead>\n",
       "    <tr style=\"text-align: right;\">\n",
       "      <th></th>\n",
       "      <th>purpose</th>\n",
       "      <th>purpose_id</th>\n",
       "    </tr>\n",
       "  </thead>\n",
       "  <tbody>\n",
       "    <tr>\n",
       "      <th>0</th>\n",
       "      <td>покупка жилья</td>\n",
       "      <td>1</td>\n",
       "    </tr>\n",
       "    <tr>\n",
       "      <th>1</th>\n",
       "      <td>приобретение автомобиля</td>\n",
       "      <td>2</td>\n",
       "    </tr>\n",
       "    <tr>\n",
       "      <th>2</th>\n",
       "      <td>покупка жилья</td>\n",
       "      <td>1</td>\n",
       "    </tr>\n",
       "    <tr>\n",
       "      <th>3</th>\n",
       "      <td>дополнительное образование</td>\n",
       "      <td>3</td>\n",
       "    </tr>\n",
       "    <tr>\n",
       "      <th>4</th>\n",
       "      <td>сыграть свадьбу</td>\n",
       "      <td>5</td>\n",
       "    </tr>\n",
       "    <tr>\n",
       "      <th>5</th>\n",
       "      <td>покупка жилья</td>\n",
       "      <td>1</td>\n",
       "    </tr>\n",
       "    <tr>\n",
       "      <th>6</th>\n",
       "      <td>операции с жильем</td>\n",
       "      <td>1</td>\n",
       "    </tr>\n",
       "    <tr>\n",
       "      <th>7</th>\n",
       "      <td>образование</td>\n",
       "      <td>3</td>\n",
       "    </tr>\n",
       "    <tr>\n",
       "      <th>8</th>\n",
       "      <td>на проведение свадьбы</td>\n",
       "      <td>5</td>\n",
       "    </tr>\n",
       "    <tr>\n",
       "      <th>9</th>\n",
       "      <td>покупка жилья для семьи</td>\n",
       "      <td>1</td>\n",
       "    </tr>\n",
       "  </tbody>\n",
       "</table>\n",
       "</div>"
      ],
      "text/plain": [
       "                      purpose  purpose_id\n",
       "0               покупка жилья           1\n",
       "1     приобретение автомобиля           2\n",
       "2               покупка жилья           1\n",
       "3  дополнительное образование           3\n",
       "4             сыграть свадьбу           5\n",
       "5               покупка жилья           1\n",
       "6           операции с жильем           1\n",
       "7                 образование           3\n",
       "8       на проведение свадьбы           5\n",
       "9     покупка жилья для семьи           1"
      ]
     },
     "execution_count": 31,
     "metadata": {},
     "output_type": "execute_result"
    }
   ],
   "source": [
    "# Категоризируем колонку purpose \"по-простому\":\n",
    "bank_data['purpose_id'] = bank_data['purpose'].apply(purpose_category)\n",
    "bank_data[['purpose', 'purpose_id']].head(10)"
   ]
  },
  {
   "cell_type": "markdown",
   "metadata": {},
   "source": [
    "##### Категоризируем колонку `days_employed`"
   ]
  },
  {
   "cell_type": "code",
   "execution_count": 32,
   "metadata": {},
   "outputs": [],
   "source": [
    "#Категоризация по колонке days_employed с помощью квартилей. Определяем квартили.\n",
    "quant_cat_empl = bank_data.days_employed.quantile([.25, .5, 0.75, 1])"
   ]
  },
  {
   "cell_type": "code",
   "execution_count": 33,
   "metadata": {
    "scrolled": true
   },
   "outputs": [
    {
     "data": {
      "text/html": [
       "<div>\n",
       "<style scoped>\n",
       "    .dataframe tbody tr th:only-of-type {\n",
       "        vertical-align: middle;\n",
       "    }\n",
       "\n",
       "    .dataframe tbody tr th {\n",
       "        vertical-align: top;\n",
       "    }\n",
       "\n",
       "    .dataframe thead th {\n",
       "        text-align: right;\n",
       "    }\n",
       "</style>\n",
       "<table border=\"1\" class=\"dataframe\">\n",
       "  <thead>\n",
       "    <tr style=\"text-align: right;\">\n",
       "      <th></th>\n",
       "      <th>days_employed</th>\n",
       "      <th>days_employed_id</th>\n",
       "    </tr>\n",
       "  </thead>\n",
       "  <tbody>\n",
       "    <tr>\n",
       "      <th>21520</th>\n",
       "      <td>4529</td>\n",
       "      <td>4</td>\n",
       "    </tr>\n",
       "    <tr>\n",
       "      <th>21521</th>\n",
       "      <td>1960</td>\n",
       "      <td>2</td>\n",
       "    </tr>\n",
       "    <tr>\n",
       "      <th>21522</th>\n",
       "      <td>2113</td>\n",
       "      <td>3</td>\n",
       "    </tr>\n",
       "    <tr>\n",
       "      <th>21523</th>\n",
       "      <td>3112</td>\n",
       "      <td>4</td>\n",
       "    </tr>\n",
       "    <tr>\n",
       "      <th>21524</th>\n",
       "      <td>1984</td>\n",
       "      <td>3</td>\n",
       "    </tr>\n",
       "  </tbody>\n",
       "</table>\n",
       "</div>"
      ],
      "text/plain": [
       "       days_employed  days_employed_id\n",
       "21520           4529                 4\n",
       "21521           1960                 2\n",
       "21522           2113                 3\n",
       "21523           3112                 4\n",
       "21524           1984                 3"
      ]
     },
     "execution_count": 33,
     "metadata": {},
     "output_type": "execute_result"
    }
   ],
   "source": [
    "#Категоризация по колонке days_employed с помощью квартилей\n",
    "bank_data['days_employed_id'] = bank_data.apply(lambda x: 1 if x.days_employed<=quant_cat_empl[.25]\n",
    "                                                                   else 2 if x.days_employed<=quant_cat_empl[.5]\n",
    "                                                                   else 3 if x.days_employed<=quant_cat_empl[.75]\n",
    "                                                                   else 4, axis=1)\n",
    "bank_data[['days_employed', 'days_employed_id']].tail()"
   ]
  },
  {
   "cell_type": "markdown",
   "metadata": {},
   "source": [
    "##### Категоризируем колонку `total_income`"
   ]
  },
  {
   "cell_type": "code",
   "execution_count": 34,
   "metadata": {},
   "outputs": [],
   "source": [
    "#Категоризация по колонке total_income с помощью квартилей. Определяем квартили.\n",
    "quant_cat_income = bank_data.total_income.quantile([.25, .5, 0.75, 1])"
   ]
  },
  {
   "cell_type": "code",
   "execution_count": 35,
   "metadata": {},
   "outputs": [
    {
     "data": {
      "text/html": [
       "<div>\n",
       "<style scoped>\n",
       "    .dataframe tbody tr th:only-of-type {\n",
       "        vertical-align: middle;\n",
       "    }\n",
       "\n",
       "    .dataframe tbody tr th {\n",
       "        vertical-align: top;\n",
       "    }\n",
       "\n",
       "    .dataframe thead th {\n",
       "        text-align: right;\n",
       "    }\n",
       "</style>\n",
       "<table border=\"1\" class=\"dataframe\">\n",
       "  <thead>\n",
       "    <tr style=\"text-align: right;\">\n",
       "      <th></th>\n",
       "      <th>total_income</th>\n",
       "      <th>total_income_id</th>\n",
       "    </tr>\n",
       "  </thead>\n",
       "  <tbody>\n",
       "    <tr>\n",
       "      <th>0</th>\n",
       "      <td>253875</td>\n",
       "      <td>4</td>\n",
       "    </tr>\n",
       "    <tr>\n",
       "      <th>1</th>\n",
       "      <td>112080</td>\n",
       "      <td>2</td>\n",
       "    </tr>\n",
       "    <tr>\n",
       "      <th>2</th>\n",
       "      <td>145885</td>\n",
       "      <td>3</td>\n",
       "    </tr>\n",
       "    <tr>\n",
       "      <th>3</th>\n",
       "      <td>267628</td>\n",
       "      <td>4</td>\n",
       "    </tr>\n",
       "    <tr>\n",
       "      <th>4</th>\n",
       "      <td>158616</td>\n",
       "      <td>3</td>\n",
       "    </tr>\n",
       "  </tbody>\n",
       "</table>\n",
       "</div>"
      ],
      "text/plain": [
       "   total_income  total_income_id\n",
       "0        253875                4\n",
       "1        112080                2\n",
       "2        145885                3\n",
       "3        267628                4\n",
       "4        158616                3"
      ]
     },
     "execution_count": 35,
     "metadata": {},
     "output_type": "execute_result"
    }
   ],
   "source": [
    "#Категоризация по колонке total_income с помощью квартилей\n",
    "bank_data['total_income_id'] = bank_data.apply(lambda x: 1 if x.total_income<=quant_cat_income[.25]\n",
    "                                                                   else 2 if x.total_income<=quant_cat_income[.5]\n",
    "                                                                   else 3 if x.total_income<=quant_cat_income[.75]\n",
    "                                                                   else 4, axis=1)\n",
    "bank_data[['total_income', 'total_income_id']].head()"
   ]
  },
  {
   "cell_type": "markdown",
   "metadata": {},
   "source": [
    "##### Категоризируем колонку `education`"
   ]
  },
  {
   "cell_type": "code",
   "execution_count": 36,
   "metadata": {},
   "outputs": [
    {
     "data": {
      "text/plain": [
       "array(['высшее', 'среднее', 'неоконченное высшее', 'начальное',\n",
       "       'ученая степень'], dtype=object)"
      ]
     },
     "execution_count": 36,
     "metadata": {},
     "output_type": "execute_result"
    }
   ],
   "source": [
    "# Категоризация данных из колонки \"education\". Посмотрим кол-во уникальных значений.\n",
    "bank_data.education.unique()"
   ]
  },
  {
   "cell_type": "code",
   "execution_count": 37,
   "metadata": {},
   "outputs": [
    {
     "data": {
      "text/html": [
       "<div>\n",
       "<style scoped>\n",
       "    .dataframe tbody tr th:only-of-type {\n",
       "        vertical-align: middle;\n",
       "    }\n",
       "\n",
       "    .dataframe tbody tr th {\n",
       "        vertical-align: top;\n",
       "    }\n",
       "\n",
       "    .dataframe thead th {\n",
       "        text-align: right;\n",
       "    }\n",
       "</style>\n",
       "<table border=\"1\" class=\"dataframe\">\n",
       "  <thead>\n",
       "    <tr style=\"text-align: right;\">\n",
       "      <th></th>\n",
       "      <th>education</th>\n",
       "      <th>education_id</th>\n",
       "    </tr>\n",
       "  </thead>\n",
       "  <tbody>\n",
       "    <tr>\n",
       "      <th>0</th>\n",
       "      <td>высшее</td>\n",
       "      <td>3</td>\n",
       "    </tr>\n",
       "    <tr>\n",
       "      <th>1</th>\n",
       "      <td>среднее</td>\n",
       "      <td>1</td>\n",
       "    </tr>\n",
       "    <tr>\n",
       "      <th>2</th>\n",
       "      <td>среднее</td>\n",
       "      <td>1</td>\n",
       "    </tr>\n",
       "    <tr>\n",
       "      <th>3</th>\n",
       "      <td>среднее</td>\n",
       "      <td>1</td>\n",
       "    </tr>\n",
       "    <tr>\n",
       "      <th>4</th>\n",
       "      <td>среднее</td>\n",
       "      <td>1</td>\n",
       "    </tr>\n",
       "  </tbody>\n",
       "</table>\n",
       "</div>"
      ],
      "text/plain": [
       "  education  education_id\n",
       "0    высшее             3\n",
       "1   среднее             1\n",
       "2   среднее             1\n",
       "3   среднее             1\n",
       "4   среднее             1"
      ]
     },
     "execution_count": 37,
     "metadata": {},
     "output_type": "execute_result"
    }
   ],
   "source": [
    "def education_cat(row):\n",
    "    education = row['education']\n",
    "    if education == 'начальное':\n",
    "        return 0\n",
    "    elif education == 'среднее':\n",
    "        return 1\n",
    "    elif education == 'неоконченное высшее':\n",
    "        return 2\n",
    "    elif education == 'высшее':\n",
    "        return 3\n",
    "    return 4\n",
    "\n",
    "bank_data['education_id'] = bank_data.apply(education_cat, axis=1)\n",
    "bank_data[['education', 'education_id']].head()"
   ]
  },
  {
   "cell_type": "code",
   "execution_count": 38,
   "metadata": {},
   "outputs": [
    {
     "data": {
      "text/html": [
       "<div>\n",
       "<style scoped>\n",
       "    .dataframe tbody tr th:only-of-type {\n",
       "        vertical-align: middle;\n",
       "    }\n",
       "\n",
       "    .dataframe tbody tr th {\n",
       "        vertical-align: top;\n",
       "    }\n",
       "\n",
       "    .dataframe thead th {\n",
       "        text-align: right;\n",
       "    }\n",
       "</style>\n",
       "<table border=\"1\" class=\"dataframe\">\n",
       "  <thead>\n",
       "    <tr style=\"text-align: right;\">\n",
       "      <th></th>\n",
       "      <th>children</th>\n",
       "      <th>days_employed</th>\n",
       "      <th>dob_years</th>\n",
       "      <th>education</th>\n",
       "      <th>education_id</th>\n",
       "      <th>family_status</th>\n",
       "      <th>family_status_id</th>\n",
       "      <th>gender</th>\n",
       "      <th>income_type</th>\n",
       "      <th>debt</th>\n",
       "      <th>total_income</th>\n",
       "      <th>purpose</th>\n",
       "      <th>purpose_id</th>\n",
       "      <th>days_employed_id</th>\n",
       "      <th>total_income_id</th>\n",
       "    </tr>\n",
       "  </thead>\n",
       "  <tbody>\n",
       "    <tr>\n",
       "      <th>0</th>\n",
       "      <td>1</td>\n",
       "      <td>8437</td>\n",
       "      <td>42</td>\n",
       "      <td>высшее</td>\n",
       "      <td>3</td>\n",
       "      <td>женат / замужем</td>\n",
       "      <td>0</td>\n",
       "      <td>F</td>\n",
       "      <td>сотрудник</td>\n",
       "      <td>0</td>\n",
       "      <td>253875</td>\n",
       "      <td>покупка жилья</td>\n",
       "      <td>1</td>\n",
       "      <td>4</td>\n",
       "      <td>4</td>\n",
       "    </tr>\n",
       "    <tr>\n",
       "      <th>1</th>\n",
       "      <td>1</td>\n",
       "      <td>4024</td>\n",
       "      <td>36</td>\n",
       "      <td>среднее</td>\n",
       "      <td>1</td>\n",
       "      <td>женат / замужем</td>\n",
       "      <td>0</td>\n",
       "      <td>F</td>\n",
       "      <td>сотрудник</td>\n",
       "      <td>0</td>\n",
       "      <td>112080</td>\n",
       "      <td>приобретение автомобиля</td>\n",
       "      <td>2</td>\n",
       "      <td>4</td>\n",
       "      <td>2</td>\n",
       "    </tr>\n",
       "    <tr>\n",
       "      <th>2</th>\n",
       "      <td>0</td>\n",
       "      <td>5623</td>\n",
       "      <td>33</td>\n",
       "      <td>среднее</td>\n",
       "      <td>1</td>\n",
       "      <td>женат / замужем</td>\n",
       "      <td>0</td>\n",
       "      <td>M</td>\n",
       "      <td>сотрудник</td>\n",
       "      <td>0</td>\n",
       "      <td>145885</td>\n",
       "      <td>покупка жилья</td>\n",
       "      <td>1</td>\n",
       "      <td>4</td>\n",
       "      <td>3</td>\n",
       "    </tr>\n",
       "    <tr>\n",
       "      <th>3</th>\n",
       "      <td>3</td>\n",
       "      <td>4124</td>\n",
       "      <td>32</td>\n",
       "      <td>среднее</td>\n",
       "      <td>1</td>\n",
       "      <td>женат / замужем</td>\n",
       "      <td>0</td>\n",
       "      <td>M</td>\n",
       "      <td>сотрудник</td>\n",
       "      <td>0</td>\n",
       "      <td>267628</td>\n",
       "      <td>дополнительное образование</td>\n",
       "      <td>3</td>\n",
       "      <td>4</td>\n",
       "      <td>4</td>\n",
       "    </tr>\n",
       "    <tr>\n",
       "      <th>4</th>\n",
       "      <td>0</td>\n",
       "      <td>1960</td>\n",
       "      <td>53</td>\n",
       "      <td>среднее</td>\n",
       "      <td>1</td>\n",
       "      <td>гражданский брак</td>\n",
       "      <td>1</td>\n",
       "      <td>F</td>\n",
       "      <td>пенсионер</td>\n",
       "      <td>0</td>\n",
       "      <td>158616</td>\n",
       "      <td>сыграть свадьбу</td>\n",
       "      <td>5</td>\n",
       "      <td>2</td>\n",
       "      <td>3</td>\n",
       "    </tr>\n",
       "  </tbody>\n",
       "</table>\n",
       "</div>"
      ],
      "text/plain": [
       "   children  days_employed  dob_years education  education_id  \\\n",
       "0         1           8437         42    высшее             3   \n",
       "1         1           4024         36   среднее             1   \n",
       "2         0           5623         33   среднее             1   \n",
       "3         3           4124         32   среднее             1   \n",
       "4         0           1960         53   среднее             1   \n",
       "\n",
       "      family_status  family_status_id gender income_type  debt  total_income  \\\n",
       "0   женат / замужем                 0      F   сотрудник     0        253875   \n",
       "1   женат / замужем                 0      F   сотрудник     0        112080   \n",
       "2   женат / замужем                 0      M   сотрудник     0        145885   \n",
       "3   женат / замужем                 0      M   сотрудник     0        267628   \n",
       "4  гражданский брак                 1      F   пенсионер     0        158616   \n",
       "\n",
       "                      purpose  purpose_id  days_employed_id  total_income_id  \n",
       "0               покупка жилья           1                 4                4  \n",
       "1     приобретение автомобиля           2                 4                2  \n",
       "2               покупка жилья           1                 4                3  \n",
       "3  дополнительное образование           3                 4                4  \n",
       "4             сыграть свадьбу           5                 2                3  "
      ]
     },
     "execution_count": 38,
     "metadata": {},
     "output_type": "execute_result"
    }
   ],
   "source": [
    "bank_data.head()"
   ]
  },
  {
   "cell_type": "markdown",
   "metadata": {},
   "source": [
    "##### Категоризируем колонку `gender`"
   ]
  },
  {
   "cell_type": "code",
   "execution_count": 39,
   "metadata": {},
   "outputs": [
    {
     "data": {
      "text/plain": [
       "array(['F', 'M', 'XNA'], dtype=object)"
      ]
     },
     "execution_count": 39,
     "metadata": {},
     "output_type": "execute_result"
    }
   ],
   "source": [
    "bank_data.gender.unique()"
   ]
  },
  {
   "cell_type": "code",
   "execution_count": 40,
   "metadata": {},
   "outputs": [
    {
     "data": {
      "text/html": [
       "<div>\n",
       "<style scoped>\n",
       "    .dataframe tbody tr th:only-of-type {\n",
       "        vertical-align: middle;\n",
       "    }\n",
       "\n",
       "    .dataframe tbody tr th {\n",
       "        vertical-align: top;\n",
       "    }\n",
       "\n",
       "    .dataframe thead th {\n",
       "        text-align: right;\n",
       "    }\n",
       "</style>\n",
       "<table border=\"1\" class=\"dataframe\">\n",
       "  <thead>\n",
       "    <tr style=\"text-align: right;\">\n",
       "      <th></th>\n",
       "      <th>gender</th>\n",
       "      <th>gender_id</th>\n",
       "    </tr>\n",
       "  </thead>\n",
       "  <tbody>\n",
       "    <tr>\n",
       "      <th>0</th>\n",
       "      <td>F</td>\n",
       "      <td>2</td>\n",
       "    </tr>\n",
       "    <tr>\n",
       "      <th>1</th>\n",
       "      <td>F</td>\n",
       "      <td>2</td>\n",
       "    </tr>\n",
       "    <tr>\n",
       "      <th>2</th>\n",
       "      <td>M</td>\n",
       "      <td>1</td>\n",
       "    </tr>\n",
       "    <tr>\n",
       "      <th>3</th>\n",
       "      <td>M</td>\n",
       "      <td>1</td>\n",
       "    </tr>\n",
       "    <tr>\n",
       "      <th>4</th>\n",
       "      <td>F</td>\n",
       "      <td>2</td>\n",
       "    </tr>\n",
       "  </tbody>\n",
       "</table>\n",
       "</div>"
      ],
      "text/plain": [
       "  gender  gender_id\n",
       "0      F          2\n",
       "1      F          2\n",
       "2      M          1\n",
       "3      M          1\n",
       "4      F          2"
      ]
     },
     "execution_count": 40,
     "metadata": {},
     "output_type": "execute_result"
    }
   ],
   "source": [
    "bank_data['gender_id'] = bank_data.gender.apply(lambda x: 1 if x=='M' else 2 if x=='F' else 3 if x=='XNA' else x)\n",
    "bank_data[['gender', 'gender_id']].head()"
   ]
  },
  {
   "cell_type": "markdown",
   "metadata": {},
   "source": [
    "##### Категоризируем колонку `income_type`"
   ]
  },
  {
   "cell_type": "code",
   "execution_count": 41,
   "metadata": {},
   "outputs": [
    {
     "data": {
      "text/plain": [
       "array(['сотрудник', 'пенсионер', 'компаньон', 'госслужащий',\n",
       "       'безработный', 'предприниматель', 'студент', 'в декрете'],\n",
       "      dtype=object)"
      ]
     },
     "execution_count": 41,
     "metadata": {},
     "output_type": "execute_result"
    }
   ],
   "source": [
    "bank_data.income_type.unique()"
   ]
  },
  {
   "cell_type": "code",
   "execution_count": 42,
   "metadata": {},
   "outputs": [
    {
     "data": {
      "text/html": [
       "<div>\n",
       "<style scoped>\n",
       "    .dataframe tbody tr th:only-of-type {\n",
       "        vertical-align: middle;\n",
       "    }\n",
       "\n",
       "    .dataframe tbody tr th {\n",
       "        vertical-align: top;\n",
       "    }\n",
       "\n",
       "    .dataframe thead th {\n",
       "        text-align: right;\n",
       "    }\n",
       "</style>\n",
       "<table border=\"1\" class=\"dataframe\">\n",
       "  <thead>\n",
       "    <tr style=\"text-align: right;\">\n",
       "      <th></th>\n",
       "      <th>income_type</th>\n",
       "      <th>income_type_id</th>\n",
       "    </tr>\n",
       "  </thead>\n",
       "  <tbody>\n",
       "    <tr>\n",
       "      <th>21520</th>\n",
       "      <td>компаньон</td>\n",
       "      <td>3</td>\n",
       "    </tr>\n",
       "    <tr>\n",
       "      <th>21521</th>\n",
       "      <td>пенсионер</td>\n",
       "      <td>7</td>\n",
       "    </tr>\n",
       "    <tr>\n",
       "      <th>21522</th>\n",
       "      <td>сотрудник</td>\n",
       "      <td>4</td>\n",
       "    </tr>\n",
       "    <tr>\n",
       "      <th>21523</th>\n",
       "      <td>сотрудник</td>\n",
       "      <td>4</td>\n",
       "    </tr>\n",
       "    <tr>\n",
       "      <th>21524</th>\n",
       "      <td>сотрудник</td>\n",
       "      <td>4</td>\n",
       "    </tr>\n",
       "  </tbody>\n",
       "</table>\n",
       "</div>"
      ],
      "text/plain": [
       "      income_type  income_type_id\n",
       "21520   компаньон               3\n",
       "21521   пенсионер               7\n",
       "21522   сотрудник               4\n",
       "21523   сотрудник               4\n",
       "21524   сотрудник               4"
      ]
     },
     "execution_count": 42,
     "metadata": {},
     "output_type": "execute_result"
    }
   ],
   "source": [
    "bank_data['income_type_id'] = bank_data.income_type.apply(lambda x: 0 if x=='безработный'\n",
    "                                                          else 1 if x=='студент'\n",
    "                                                          else 2 if x=='в декрете'\n",
    "                                                          else 3 if x=='компаньон'\n",
    "                                                          else 4 if x=='сотрудник'\n",
    "                                                          else 5 if x=='госслужащий'\n",
    "                                                          else 6 if x=='предприниматель'\n",
    "                                                          else 7 if x=='пенсионер' else x)\n",
    "bank_data[['income_type', 'income_type_id']].tail()"
   ]
  },
  {
   "cell_type": "markdown",
   "metadata": {},
   "source": [
    "##### Категоризируем колонку `dob_years`"
   ]
  },
  {
   "cell_type": "code",
   "execution_count": 43,
   "metadata": {},
   "outputs": [
    {
     "data": {
      "text/html": [
       "<div>\n",
       "<style scoped>\n",
       "    .dataframe tbody tr th:only-of-type {\n",
       "        vertical-align: middle;\n",
       "    }\n",
       "\n",
       "    .dataframe tbody tr th {\n",
       "        vertical-align: top;\n",
       "    }\n",
       "\n",
       "    .dataframe thead th {\n",
       "        text-align: right;\n",
       "    }\n",
       "</style>\n",
       "<table border=\"1\" class=\"dataframe\">\n",
       "  <thead>\n",
       "    <tr style=\"text-align: right;\">\n",
       "      <th></th>\n",
       "      <th>dob_years</th>\n",
       "      <th>dob_years_id</th>\n",
       "    </tr>\n",
       "  </thead>\n",
       "  <tbody>\n",
       "    <tr>\n",
       "      <th>21520</th>\n",
       "      <td>43</td>\n",
       "      <td>2</td>\n",
       "    </tr>\n",
       "    <tr>\n",
       "      <th>21521</th>\n",
       "      <td>67</td>\n",
       "      <td>3</td>\n",
       "    </tr>\n",
       "    <tr>\n",
       "      <th>21522</th>\n",
       "      <td>38</td>\n",
       "      <td>2</td>\n",
       "    </tr>\n",
       "    <tr>\n",
       "      <th>21523</th>\n",
       "      <td>38</td>\n",
       "      <td>2</td>\n",
       "    </tr>\n",
       "    <tr>\n",
       "      <th>21524</th>\n",
       "      <td>40</td>\n",
       "      <td>2</td>\n",
       "    </tr>\n",
       "  </tbody>\n",
       "</table>\n",
       "</div>"
      ],
      "text/plain": [
       "       dob_years  dob_years_id\n",
       "21520         43             2\n",
       "21521         67             3\n",
       "21522         38             2\n",
       "21523         38             2\n",
       "21524         40             2"
      ]
     },
     "execution_count": 43,
     "metadata": {},
     "output_type": "execute_result"
    }
   ],
   "source": [
    "bank_data['dob_years_id'] = bank_data['dob_years'].apply(lambda x: 0 if x<=17\n",
    "                                                        else 1 if x<=30\n",
    "                                                        else 2 if x<=60\n",
    "                                                        else 3)\n",
    "bank_data[['dob_years', 'dob_years_id']].tail()"
   ]
  },
  {
   "cell_type": "markdown",
   "metadata": {},
   "source": [
    "##### Смотрим на полученные данные"
   ]
  },
  {
   "cell_type": "code",
   "execution_count": 44,
   "metadata": {},
   "outputs": [
    {
     "data": {
      "text/html": [
       "<div>\n",
       "<style scoped>\n",
       "    .dataframe tbody tr th:only-of-type {\n",
       "        vertical-align: middle;\n",
       "    }\n",
       "\n",
       "    .dataframe tbody tr th {\n",
       "        vertical-align: top;\n",
       "    }\n",
       "\n",
       "    .dataframe thead th {\n",
       "        text-align: right;\n",
       "    }\n",
       "</style>\n",
       "<table border=\"1\" class=\"dataframe\">\n",
       "  <thead>\n",
       "    <tr style=\"text-align: right;\">\n",
       "      <th></th>\n",
       "      <th>children</th>\n",
       "      <th>days_employed</th>\n",
       "      <th>days_employed_id</th>\n",
       "      <th>debt</th>\n",
       "      <th>dob_years</th>\n",
       "      <th>dob_years_id</th>\n",
       "      <th>education</th>\n",
       "      <th>education_id</th>\n",
       "      <th>family_status</th>\n",
       "      <th>family_status_id</th>\n",
       "      <th>gender</th>\n",
       "      <th>gender_id</th>\n",
       "      <th>income_type</th>\n",
       "      <th>income_type_id</th>\n",
       "      <th>purpose</th>\n",
       "      <th>purpose_id</th>\n",
       "      <th>total_income</th>\n",
       "      <th>total_income_id</th>\n",
       "    </tr>\n",
       "  </thead>\n",
       "  <tbody>\n",
       "    <tr>\n",
       "      <th>0</th>\n",
       "      <td>1</td>\n",
       "      <td>8437</td>\n",
       "      <td>4</td>\n",
       "      <td>0</td>\n",
       "      <td>42</td>\n",
       "      <td>2</td>\n",
       "      <td>высшее</td>\n",
       "      <td>3</td>\n",
       "      <td>женат / замужем</td>\n",
       "      <td>0</td>\n",
       "      <td>F</td>\n",
       "      <td>2</td>\n",
       "      <td>сотрудник</td>\n",
       "      <td>4</td>\n",
       "      <td>покупка жилья</td>\n",
       "      <td>1</td>\n",
       "      <td>253875</td>\n",
       "      <td>4</td>\n",
       "    </tr>\n",
       "    <tr>\n",
       "      <th>1</th>\n",
       "      <td>1</td>\n",
       "      <td>4024</td>\n",
       "      <td>4</td>\n",
       "      <td>0</td>\n",
       "      <td>36</td>\n",
       "      <td>2</td>\n",
       "      <td>среднее</td>\n",
       "      <td>1</td>\n",
       "      <td>женат / замужем</td>\n",
       "      <td>0</td>\n",
       "      <td>F</td>\n",
       "      <td>2</td>\n",
       "      <td>сотрудник</td>\n",
       "      <td>4</td>\n",
       "      <td>приобретение автомобиля</td>\n",
       "      <td>2</td>\n",
       "      <td>112080</td>\n",
       "      <td>2</td>\n",
       "    </tr>\n",
       "    <tr>\n",
       "      <th>2</th>\n",
       "      <td>0</td>\n",
       "      <td>5623</td>\n",
       "      <td>4</td>\n",
       "      <td>0</td>\n",
       "      <td>33</td>\n",
       "      <td>2</td>\n",
       "      <td>среднее</td>\n",
       "      <td>1</td>\n",
       "      <td>женат / замужем</td>\n",
       "      <td>0</td>\n",
       "      <td>M</td>\n",
       "      <td>1</td>\n",
       "      <td>сотрудник</td>\n",
       "      <td>4</td>\n",
       "      <td>покупка жилья</td>\n",
       "      <td>1</td>\n",
       "      <td>145885</td>\n",
       "      <td>3</td>\n",
       "    </tr>\n",
       "    <tr>\n",
       "      <th>3</th>\n",
       "      <td>3</td>\n",
       "      <td>4124</td>\n",
       "      <td>4</td>\n",
       "      <td>0</td>\n",
       "      <td>32</td>\n",
       "      <td>2</td>\n",
       "      <td>среднее</td>\n",
       "      <td>1</td>\n",
       "      <td>женат / замужем</td>\n",
       "      <td>0</td>\n",
       "      <td>M</td>\n",
       "      <td>1</td>\n",
       "      <td>сотрудник</td>\n",
       "      <td>4</td>\n",
       "      <td>дополнительное образование</td>\n",
       "      <td>3</td>\n",
       "      <td>267628</td>\n",
       "      <td>4</td>\n",
       "    </tr>\n",
       "    <tr>\n",
       "      <th>4</th>\n",
       "      <td>0</td>\n",
       "      <td>1960</td>\n",
       "      <td>2</td>\n",
       "      <td>0</td>\n",
       "      <td>53</td>\n",
       "      <td>2</td>\n",
       "      <td>среднее</td>\n",
       "      <td>1</td>\n",
       "      <td>гражданский брак</td>\n",
       "      <td>1</td>\n",
       "      <td>F</td>\n",
       "      <td>2</td>\n",
       "      <td>пенсионер</td>\n",
       "      <td>7</td>\n",
       "      <td>сыграть свадьбу</td>\n",
       "      <td>5</td>\n",
       "      <td>158616</td>\n",
       "      <td>3</td>\n",
       "    </tr>\n",
       "  </tbody>\n",
       "</table>\n",
       "</div>"
      ],
      "text/plain": [
       "   children  days_employed  days_employed_id  debt  dob_years  dob_years_id  \\\n",
       "0         1           8437                 4     0         42             2   \n",
       "1         1           4024                 4     0         36             2   \n",
       "2         0           5623                 4     0         33             2   \n",
       "3         3           4124                 4     0         32             2   \n",
       "4         0           1960                 2     0         53             2   \n",
       "\n",
       "  education  education_id     family_status  family_status_id gender  \\\n",
       "0    высшее             3   женат / замужем                 0      F   \n",
       "1   среднее             1   женат / замужем                 0      F   \n",
       "2   среднее             1   женат / замужем                 0      M   \n",
       "3   среднее             1   женат / замужем                 0      M   \n",
       "4   среднее             1  гражданский брак                 1      F   \n",
       "\n",
       "   gender_id income_type  income_type_id                     purpose  \\\n",
       "0          2   сотрудник               4               покупка жилья   \n",
       "1          2   сотрудник               4     приобретение автомобиля   \n",
       "2          1   сотрудник               4               покупка жилья   \n",
       "3          1   сотрудник               4  дополнительное образование   \n",
       "4          2   пенсионер               7             сыграть свадьбу   \n",
       "\n",
       "   purpose_id  total_income  total_income_id  \n",
       "0           1        253875                4  \n",
       "1           2        112080                2  \n",
       "2           1        145885                3  \n",
       "3           3        267628                4  \n",
       "4           5        158616                3  "
      ]
     },
     "execution_count": 44,
     "metadata": {},
     "output_type": "execute_result"
    }
   ],
   "source": [
    "bank_data = bank_data.reindex(sorted(bank_data.columns), axis=1)\n",
    "bank_data.head()"
   ]
  },
  {
   "cell_type": "markdown",
   "metadata": {},
   "source": [
    "**Вывод**"
   ]
  },
  {
   "cell_type": "markdown",
   "metadata": {},
   "source": [
    "Занялись категоризацией всех нужных колонок и успешно её провели. Отсортировали имена колонок по имени."
   ]
  },
  {
   "cell_type": "markdown",
   "metadata": {},
   "source": [
    "### Посмотрим на медианный доход в зависимости от образования и текущей профессии"
   ]
  },
  {
   "cell_type": "code",
   "execution_count": 45,
   "metadata": {
    "scrolled": false
   },
   "outputs": [
    {
     "data": {
      "text/html": [
       "<div>\n",
       "<style scoped>\n",
       "    .dataframe tbody tr th:only-of-type {\n",
       "        vertical-align: middle;\n",
       "    }\n",
       "\n",
       "    .dataframe tbody tr th {\n",
       "        vertical-align: top;\n",
       "    }\n",
       "\n",
       "    .dataframe thead th {\n",
       "        text-align: right;\n",
       "    }\n",
       "</style>\n",
       "<table border=\"1\" class=\"dataframe\">\n",
       "  <thead>\n",
       "    <tr style=\"text-align: right;\">\n",
       "      <th>income_type</th>\n",
       "      <th>безработный</th>\n",
       "      <th>в декрете</th>\n",
       "      <th>госслужащий</th>\n",
       "      <th>компаньон</th>\n",
       "      <th>пенсионер</th>\n",
       "      <th>предприниматель</th>\n",
       "      <th>сотрудник</th>\n",
       "      <th>студент</th>\n",
       "    </tr>\n",
       "    <tr>\n",
       "      <th>education_id</th>\n",
       "      <th></th>\n",
       "      <th></th>\n",
       "      <th></th>\n",
       "      <th></th>\n",
       "      <th></th>\n",
       "      <th></th>\n",
       "      <th></th>\n",
       "      <th></th>\n",
       "    </tr>\n",
       "  </thead>\n",
       "  <tbody>\n",
       "    <tr>\n",
       "      <th>0</th>\n",
       "      <td>NaN</td>\n",
       "      <td>NaN</td>\n",
       "      <td>148339.0</td>\n",
       "      <td>136798.0</td>\n",
       "      <td>102598.0</td>\n",
       "      <td>NaN</td>\n",
       "      <td>125994.0</td>\n",
       "      <td>NaN</td>\n",
       "    </tr>\n",
       "    <tr>\n",
       "      <th>1</th>\n",
       "      <td>59956.0</td>\n",
       "      <td>53829.0</td>\n",
       "      <td>136652.0</td>\n",
       "      <td>159070.0</td>\n",
       "      <td>114842.0</td>\n",
       "      <td>NaN</td>\n",
       "      <td>136555.0</td>\n",
       "      <td>NaN</td>\n",
       "    </tr>\n",
       "    <tr>\n",
       "      <th>2</th>\n",
       "      <td>NaN</td>\n",
       "      <td>NaN</td>\n",
       "      <td>160592.0</td>\n",
       "      <td>179867.0</td>\n",
       "      <td>120136.0</td>\n",
       "      <td>NaN</td>\n",
       "      <td>151308.0</td>\n",
       "      <td>NaN</td>\n",
       "    </tr>\n",
       "    <tr>\n",
       "      <th>3</th>\n",
       "      <td>202722.0</td>\n",
       "      <td>NaN</td>\n",
       "      <td>172511.0</td>\n",
       "      <td>201785.0</td>\n",
       "      <td>144240.0</td>\n",
       "      <td>499163.0</td>\n",
       "      <td>165640.0</td>\n",
       "      <td>98201.0</td>\n",
       "    </tr>\n",
       "    <tr>\n",
       "      <th>4</th>\n",
       "      <td>NaN</td>\n",
       "      <td>NaN</td>\n",
       "      <td>111392.0</td>\n",
       "      <td>NaN</td>\n",
       "      <td>177088.5</td>\n",
       "      <td>NaN</td>\n",
       "      <td>198570.0</td>\n",
       "      <td>NaN</td>\n",
       "    </tr>\n",
       "  </tbody>\n",
       "</table>\n",
       "</div>"
      ],
      "text/plain": [
       "income_type   безработный  в декрете  госслужащий  компаньон  пенсионер  \\\n",
       "education_id                                                              \n",
       "0                     NaN        NaN     148339.0   136798.0   102598.0   \n",
       "1                 59956.0    53829.0     136652.0   159070.0   114842.0   \n",
       "2                     NaN        NaN     160592.0   179867.0   120136.0   \n",
       "3                202722.0        NaN     172511.0   201785.0   144240.0   \n",
       "4                     NaN        NaN     111392.0        NaN   177088.5   \n",
       "\n",
       "income_type   предприниматель  сотрудник  студент  \n",
       "education_id                                       \n",
       "0                         NaN   125994.0      NaN  \n",
       "1                         NaN   136555.0      NaN  \n",
       "2                         NaN   151308.0      NaN  \n",
       "3                    499163.0   165640.0  98201.0  \n",
       "4                         NaN   198570.0      NaN  "
      ]
     },
     "execution_count": 45,
     "metadata": {},
     "output_type": "execute_result"
    }
   ],
   "source": [
    "bank_data.pivot_table('total_income', index=bank_data.education_id, columns='income_type', aggfunc='median')"
   ]
  },
  {
   "cell_type": "markdown",
   "metadata": {},
   "source": [
    "## Шаг 3. Ответьте на вопросы"
   ]
  },
  {
   "cell_type": "markdown",
   "metadata": {},
   "source": [
    "- Есть ли зависимость между наличием детей и возвратом кредита в срок?"
   ]
  },
  {
   "cell_type": "code",
   "execution_count": 46,
   "metadata": {},
   "outputs": [
    {
     "data": {
      "image/png": "[encoded data removed]",
      "text/plain": [
       "<Figure size 432x288 with 1 Axes>"
      ]
     },
     "metadata": {
      "needs_background": "light"
     },
     "output_type": "display_data"
    }
   ],
   "source": [
    "#titanic.pivot_table('debt', index='children', columns='class')\n",
    "bank_data.groupby('children')['debt'].mean().sort_values().to_frame().sort_values('children').plot(kind='bar', rot=0)\n",
    "plt.title('Default chanse vs amount of children')\n",
    "plt.xlabel('Amount of children')\n",
    "plt.ylabel('Default fraction')\n",
    "plt.show()"
   ]
  },
  {
   "cell_type": "code",
   "execution_count": 47,
   "metadata": {},
   "outputs": [
    {
     "data": {
      "text/plain": [
       "9"
      ]
     },
     "execution_count": 47,
     "metadata": {},
     "output_type": "execute_result"
    }
   ],
   "source": [
    "len(bank_data[bank_data['children']==5])"
   ]
  },
  {
   "cell_type": "markdown",
   "metadata": {},
   "source": [
    "**Вывод**"
   ]
  },
  {
   "cell_type": "markdown",
   "metadata": {},
   "source": [
    "Как видим из данной таблицы, люди, у которых 5 детей, отдают кредиты всегда. Это объясняется слишком маленькой выборкой - всего 9 человек, в то время как людей, у которых один ребёнок - 4865. Из репрезентативных данных видно, что чаще всего отдают кредиты люди у которых нет детей. В то же время, люди у которых три ребёнка, отдают кредиты чаще чем люди, у которых 1, 2 и 4 детей."
   ]
  },
  {
   "cell_type": "markdown",
   "metadata": {},
   "source": [
    "- Есть ли зависимость между семейным положением и возвратом кредита в срок?"
   ]
  },
  {
   "cell_type": "code",
   "execution_count": 48,
   "metadata": {},
   "outputs": [
    {
     "data": {
      "image/png": "[encoded data removed]",
      "text/plain": [
       "<Figure size 432x288 with 1 Axes>"
      ]
     },
     "metadata": {
      "needs_background": "light"
     },
     "output_type": "display_data"
    }
   ],
   "source": [
    "bank_data.groupby('family_status')['debt'].mean().sort_values().to_frame().sort_values('debt').plot(kind='bar', rot=45)\n",
    "plt.title('Default chanse vs family status')\n",
    "plt.xlabel('Family status')\n",
    "plt.ylabel('Default fraction')\n",
    "plt.show()"
   ]
  },
  {
   "cell_type": "markdown",
   "metadata": {},
   "source": [
    "**Вывод**"
   ]
  },
  {
   "cell_type": "markdown",
   "metadata": {},
   "source": [
    "Как видим из таблицы, вдовы и вдовцы отдают кредиты чаще всего, а одинокие люди (не женат / не замужем) - реже всего."
   ]
  },
  {
   "cell_type": "markdown",
   "metadata": {},
   "source": [
    "- Есть ли зависимость между уровнем дохода и возвратом кредита в срок?"
   ]
  },
  {
   "cell_type": "code",
   "execution_count": 49,
   "metadata": {},
   "outputs": [
    {
     "data": {
      "image/png": "[encoded data removed]",
      "text/plain": [
       "<Figure size 432x288 with 1 Axes>"
      ]
     },
     "metadata": {
      "needs_background": "light"
     },
     "output_type": "display_data"
    }
   ],
   "source": [
    "bank_data.groupby('total_income_id')['debt'].mean().sort_values().to_frame().sort_values('debt').plot(kind='bar', rot=0)\n",
    "plt.title('Default chanse vs total income id')\n",
    "plt.xlabel('Total income id')\n",
    "plt.ylabel('Default fraction')\n",
    "plt.show()"
   ]
  },
  {
   "cell_type": "markdown",
   "metadata": {},
   "source": [
    "**Вывод**"
   ]
  },
  {
   "cell_type": "markdown",
   "metadata": {},
   "source": [
    "Из представленных данных видно, что люди с доходом из четвёртого квартиля (самый высокий доход) отдают кредиты чаще всего, после них сразу же идут люди с самым низким уровнем дохода. Хуже всего отдают кредиты люди с доходом из второго квартиля."
   ]
  },
  {
   "cell_type": "markdown",
   "metadata": {},
   "source": [
    "- Как разные цели кредита влияют на его возврат в срок?"
   ]
  },
  {
   "cell_type": "code",
   "execution_count": 50,
   "metadata": {},
   "outputs": [
    {
     "data": {
      "image/png": "[encoded data removed]",
      "text/plain": [
       "<Figure size 432x288 with 1 Axes>"
      ]
     },
     "metadata": {
      "needs_background": "light"
     },
     "output_type": "display_data"
    }
   ],
   "source": [
    "# жилье: 1; автомобиль: 2; образование: 3; недвижимость: 4; свадьба: 5; другое: 6\n",
    "bank_data.groupby('purpose_id')['debt'].mean().sort_values().to_frame().sort_values('debt').plot(kind='bar', rot=0)\n",
    "plt.title('Default chanse vs loan purpose id')\n",
    "plt.xlabel('Loan purpose id')\n",
    "plt.ylabel('Default fraction')\n",
    "plt.show()"
   ]
  },
  {
   "cell_type": "markdown",
   "metadata": {},
   "source": [
    "**Вывод**"
   ]
  },
  {
   "cell_type": "markdown",
   "metadata": {},
   "source": [
    "Данные показывают, что люди, которые берут ипотеку, отдают долги чаще всех остальных категорий. Хуже всего отдают кредиты, взятые на покупку автомобиля."
   ]
  },
  {
   "cell_type": "markdown",
   "metadata": {},
   "source": [
    "## Шаг 4. Общий вывод"
   ]
  },
  {
   "cell_type": "markdown",
   "metadata": {},
   "source": [
    "Данные, предоставленные к обработке, содержали пропуски, ошибки и выбросы. Также, отсутствовала категоризация по ряду колонок, в том числе по цели кредита. Все эти проблемы успешно исправлены и даны ответы на возврат кредитов в зависимости от дохода, семейного положения и т.д. \n",
    "Проект готов к отправке заказчику."
   ]
  }
 ],
 "metadata": {
  "ExecuteTimeLog": [
   {
    "duration": 753,
    "start_time": "2021-12-22T12:52:45.609Z"
   },
   {
    "duration": 13,
    "start_time": "2021-12-22T12:55:56.315Z"
   },
   {
    "duration": 10,
    "start_time": "2021-12-22T12:55:57.234Z"
   },
   {
    "duration": 60,
    "start_time": "2021-12-22T12:56:18.925Z"
   },
   {
    "duration": 10,
    "start_time": "2021-12-22T12:56:25.498Z"
   },
   {
    "duration": 10,
    "start_time": "2021-12-22T12:56:42.988Z"
   },
   {
    "duration": 3398,
    "start_time": "2021-12-28T19:10:57.670Z"
   },
   {
    "duration": -370,
    "start_time": "2021-12-28T19:11:01.442Z"
   },
   {
    "duration": -373,
    "start_time": "2021-12-28T19:11:01.446Z"
   },
   {
    "duration": -375,
    "start_time": "2021-12-28T19:11:01.449Z"
   },
   {
    "duration": -375,
    "start_time": "2021-12-28T19:11:01.450Z"
   },
   {
    "duration": -427,
    "start_time": "2021-12-28T19:11:01.503Z"
   },
   {
    "duration": -429,
    "start_time": "2021-12-28T19:11:01.506Z"
   },
   {
    "duration": -431,
    "start_time": "2021-12-28T19:11:01.509Z"
   },
   {
    "duration": -432,
    "start_time": "2021-12-28T19:11:01.512Z"
   },
   {
    "duration": -434,
    "start_time": "2021-12-28T19:11:01.515Z"
   },
   {
    "duration": -436,
    "start_time": "2021-12-28T19:11:01.518Z"
   },
   {
    "duration": -438,
    "start_time": "2021-12-28T19:11:01.521Z"
   },
   {
    "duration": -439,
    "start_time": "2021-12-28T19:11:01.523Z"
   },
   {
    "duration": -440,
    "start_time": "2021-12-28T19:11:01.525Z"
   },
   {
    "duration": -441,
    "start_time": "2021-12-28T19:11:01.527Z"
   },
   {
    "duration": -442,
    "start_time": "2021-12-28T19:11:01.529Z"
   },
   {
    "duration": -493,
    "start_time": "2021-12-28T19:11:01.581Z"
   },
   {
    "duration": -494,
    "start_time": "2021-12-28T19:11:01.583Z"
   },
   {
    "duration": -495,
    "start_time": "2021-12-28T19:11:01.585Z"
   },
   {
    "duration": -497,
    "start_time": "2021-12-28T19:11:01.587Z"
   },
   {
    "duration": -497,
    "start_time": "2021-12-28T19:11:01.588Z"
   },
   {
    "duration": -498,
    "start_time": "2021-12-28T19:11:01.590Z"
   },
   {
    "duration": -499,
    "start_time": "2021-12-28T19:11:01.592Z"
   },
   {
    "duration": -500,
    "start_time": "2021-12-28T19:11:01.594Z"
   },
   {
    "duration": -500,
    "start_time": "2021-12-28T19:11:01.595Z"
   },
   {
    "duration": -501,
    "start_time": "2021-12-28T19:11:01.597Z"
   },
   {
    "duration": -502,
    "start_time": "2021-12-28T19:11:01.599Z"
   },
   {
    "duration": -502,
    "start_time": "2021-12-28T19:11:01.600Z"
   },
   {
    "duration": -563,
    "start_time": "2021-12-28T19:11:01.662Z"
   },
   {
    "duration": -579,
    "start_time": "2021-12-28T19:11:01.679Z"
   },
   {
    "duration": -580,
    "start_time": "2021-12-28T19:11:01.681Z"
   },
   {
    "duration": -580,
    "start_time": "2021-12-28T19:11:01.683Z"
   },
   {
    "duration": -580,
    "start_time": "2021-12-28T19:11:01.684Z"
   },
   {
    "duration": -581,
    "start_time": "2021-12-28T19:11:01.686Z"
   },
   {
    "duration": -582,
    "start_time": "2021-12-28T19:11:01.688Z"
   },
   {
    "duration": -583,
    "start_time": "2021-12-28T19:11:01.690Z"
   },
   {
    "duration": -583,
    "start_time": "2021-12-28T19:11:01.691Z"
   },
   {
    "duration": -584,
    "start_time": "2021-12-28T19:11:01.693Z"
   },
   {
    "duration": -628,
    "start_time": "2021-12-28T19:11:01.738Z"
   },
   {
    "duration": -637,
    "start_time": "2021-12-28T19:11:01.748Z"
   },
   {
    "duration": -590,
    "start_time": "2021-12-28T19:11:01.750Z"
   },
   {
    "duration": -591,
    "start_time": "2021-12-28T19:11:01.752Z"
   },
   {
    "duration": -591,
    "start_time": "2021-12-28T19:11:01.753Z"
   },
   {
    "duration": -592,
    "start_time": "2021-12-28T19:11:01.755Z"
   },
   {
    "duration": -593,
    "start_time": "2021-12-28T19:11:01.757Z"
   },
   {
    "duration": -593,
    "start_time": "2021-12-28T19:11:01.759Z"
   },
   {
    "duration": -593,
    "start_time": "2021-12-28T19:11:01.760Z"
   },
   {
    "duration": -594,
    "start_time": "2021-12-28T19:11:01.762Z"
   },
   {
    "duration": -595,
    "start_time": "2021-12-28T19:11:01.764Z"
   },
   {
    "duration": -596,
    "start_time": "2021-12-28T19:11:01.766Z"
   },
   {
    "duration": 2076,
    "start_time": "2021-12-28T22:35:39.694Z"
   },
   {
    "duration": 14,
    "start_time": "2021-12-28T22:35:41.772Z"
   },
   {
    "duration": 40,
    "start_time": "2021-12-28T22:35:41.790Z"
   },
   {
    "duration": 5156,
    "start_time": "2021-12-28T22:35:41.833Z"
   },
   {
    "duration": 28,
    "start_time": "2021-12-28T22:35:46.992Z"
   },
   {
    "duration": 20,
    "start_time": "2021-12-28T22:35:47.023Z"
   },
   {
    "duration": 7,
    "start_time": "2021-12-28T22:35:47.046Z"
   },
   {
    "duration": 22,
    "start_time": "2021-12-28T22:35:47.055Z"
   },
   {
    "duration": 20,
    "start_time": "2021-12-28T22:35:47.119Z"
   },
   {
    "duration": 21,
    "start_time": "2021-12-28T22:35:47.142Z"
   },
   {
    "duration": 55,
    "start_time": "2021-12-28T22:35:47.165Z"
   },
   {
    "duration": 240,
    "start_time": "2021-12-28T22:35:47.223Z"
   },
   {
    "duration": 16903,
    "start_time": "2021-12-28T22:35:47.465Z"
   },
   {
    "duration": 5,
    "start_time": "2021-12-28T22:36:04.371Z"
   },
   {
    "duration": 13,
    "start_time": "2021-12-28T22:36:04.379Z"
   },
   {
    "duration": 29,
    "start_time": "2021-12-28T22:36:04.395Z"
   },
   {
    "duration": 20,
    "start_time": "2021-12-28T22:36:04.426Z"
   },
   {
    "duration": 10,
    "start_time": "2021-12-28T22:36:04.448Z"
   },
   {
    "duration": 74,
    "start_time": "2021-12-28T22:36:04.462Z"
   },
   {
    "duration": 8,
    "start_time": "2021-12-28T22:36:04.539Z"
   },
   {
    "duration": 9,
    "start_time": "2021-12-28T22:36:04.552Z"
   },
   {
    "duration": 66,
    "start_time": "2021-12-28T22:36:04.565Z"
   },
   {
    "duration": 17,
    "start_time": "2021-12-28T22:36:04.634Z"
   },
   {
    "duration": 14,
    "start_time": "2021-12-28T22:36:04.653Z"
   },
   {
    "duration": 64,
    "start_time": "2021-12-28T22:36:04.669Z"
   },
   {
    "duration": 5,
    "start_time": "2021-12-28T22:36:04.736Z"
   },
   {
    "duration": 29,
    "start_time": "2021-12-28T22:36:04.749Z"
   },
   {
    "duration": 13047,
    "start_time": "2021-12-28T22:36:04.780Z"
   },
   {
    "duration": 20267,
    "start_time": "2021-12-28T22:36:17.830Z"
   },
   {
    "duration": 28,
    "start_time": "2021-12-28T22:36:38.100Z"
   },
   {
    "duration": 32,
    "start_time": "2021-12-28T22:36:38.130Z"
   },
   {
    "duration": 6,
    "start_time": "2021-12-28T22:36:38.165Z"
   },
   {
    "duration": 2373,
    "start_time": "2021-12-28T22:36:38.174Z"
   },
   {
    "duration": 6,
    "start_time": "2021-12-28T22:36:40.549Z"
   },
   {
    "duration": 2706,
    "start_time": "2021-12-28T22:36:40.558Z"
   },
   {
    "duration": 6,
    "start_time": "2021-12-28T22:36:43.267Z"
   },
   {
    "duration": 523,
    "start_time": "2021-12-28T22:36:43.275Z"
   },
   {
    "duration": 22,
    "start_time": "2021-12-28T22:36:43.800Z"
   },
   {
    "duration": 7,
    "start_time": "2021-12-28T22:36:43.824Z"
   },
   {
    "duration": 23,
    "start_time": "2021-12-28T22:36:43.834Z"
   },
   {
    "duration": 7,
    "start_time": "2021-12-28T22:36:43.859Z"
   },
   {
    "duration": 71,
    "start_time": "2021-12-28T22:36:43.871Z"
   },
   {
    "duration": 26,
    "start_time": "2021-12-28T22:36:43.944Z"
   },
   {
    "duration": 49,
    "start_time": "2021-12-28T22:36:43.973Z"
   },
   {
    "duration": 37,
    "start_time": "2021-12-28T22:36:44.025Z"
   },
   {
    "duration": 12,
    "start_time": "2021-12-28T22:36:44.065Z"
   },
   {
    "duration": 38,
    "start_time": "2021-12-28T22:36:44.079Z"
   },
   {
    "duration": 14,
    "start_time": "2021-12-28T22:36:44.120Z"
   },
   {
    "duration": 11,
    "start_time": "2021-12-28T22:36:44.136Z"
   },
   {
    "duration": 11,
    "start_time": "2021-12-28T22:36:44.149Z"
   },
   {
    "duration": 1843,
    "start_time": "2021-12-28T22:39:34.430Z"
   },
   {
    "duration": 15,
    "start_time": "2021-12-28T22:39:36.276Z"
   },
   {
    "duration": 37,
    "start_time": "2021-12-28T22:39:36.295Z"
   },
   {
    "duration": 3361,
    "start_time": "2021-12-28T22:39:36.334Z"
   },
   {
    "duration": 26,
    "start_time": "2021-12-28T22:39:39.698Z"
   },
   {
    "duration": 20,
    "start_time": "2021-12-28T22:39:39.727Z"
   },
   {
    "duration": 7,
    "start_time": "2021-12-28T22:39:39.749Z"
   },
   {
    "duration": 57,
    "start_time": "2021-12-28T22:39:39.760Z"
   },
   {
    "duration": 18,
    "start_time": "2021-12-28T22:39:39.821Z"
   },
   {
    "duration": 21,
    "start_time": "2021-12-28T22:39:39.842Z"
   },
   {
    "duration": 56,
    "start_time": "2021-12-28T22:39:39.866Z"
   },
   {
    "duration": 251,
    "start_time": "2021-12-28T22:39:39.925Z"
   },
   {
    "duration": 15543,
    "start_time": "2021-12-28T22:39:40.179Z"
   },
   {
    "duration": 6,
    "start_time": "2021-12-28T22:39:55.725Z"
   },
   {
    "duration": 16,
    "start_time": "2021-12-28T22:39:55.733Z"
   },
   {
    "duration": 8,
    "start_time": "2021-12-28T22:39:55.751Z"
   },
   {
    "duration": 17,
    "start_time": "2021-12-28T22:39:55.761Z"
   },
   {
    "duration": 7,
    "start_time": "2021-12-28T22:39:55.817Z"
   },
   {
    "duration": 23,
    "start_time": "2021-12-28T22:39:55.827Z"
   },
   {
    "duration": 8,
    "start_time": "2021-12-28T22:39:55.853Z"
   },
   {
    "duration": 7,
    "start_time": "2021-12-28T22:39:55.863Z"
   },
   {
    "duration": 60,
    "start_time": "2021-12-28T22:39:55.873Z"
   },
   {
    "duration": 14,
    "start_time": "2021-12-28T22:39:55.939Z"
   },
   {
    "duration": 11,
    "start_time": "2021-12-28T22:39:55.956Z"
   },
   {
    "duration": 69,
    "start_time": "2021-12-28T22:39:55.969Z"
   },
   {
    "duration": 4,
    "start_time": "2021-12-28T22:39:56.040Z"
   },
   {
    "duration": 22,
    "start_time": "2021-12-28T22:39:56.046Z"
   },
   {
    "duration": 12074,
    "start_time": "2021-12-28T22:39:56.070Z"
   },
   {
    "duration": 19994,
    "start_time": "2021-12-28T22:40:08.147Z"
   },
   {
    "duration": 20,
    "start_time": "2021-12-28T22:40:28.144Z"
   },
   {
    "duration": 55,
    "start_time": "2021-12-28T22:40:28.166Z"
   },
   {
    "duration": 6,
    "start_time": "2021-12-28T22:40:28.224Z"
   },
   {
    "duration": 1885,
    "start_time": "2021-12-28T22:40:35.617Z"
   },
   {
    "duration": 14,
    "start_time": "2021-12-28T22:40:37.505Z"
   },
   {
    "duration": 22,
    "start_time": "2021-12-28T22:40:37.523Z"
   },
   {
    "duration": 2187,
    "start_time": "2021-12-28T22:40:37.548Z"
   },
   {
    "duration": 13,
    "start_time": "2021-12-28T22:40:39.738Z"
   },
   {
    "duration": 23,
    "start_time": "2021-12-28T22:40:39.754Z"
   },
   {
    "duration": 39,
    "start_time": "2021-12-28T22:40:39.779Z"
   },
   {
    "duration": 22,
    "start_time": "2021-12-28T22:40:39.822Z"
   },
   {
    "duration": 18,
    "start_time": "2021-12-28T22:40:39.848Z"
   },
   {
    "duration": 58,
    "start_time": "2021-12-28T22:40:39.869Z"
   },
   {
    "duration": 15,
    "start_time": "2021-12-28T22:40:39.929Z"
   },
   {
    "duration": 257,
    "start_time": "2021-12-28T22:40:39.946Z"
   },
   {
    "duration": 24931,
    "start_time": "2021-12-28T22:40:40.206Z"
   },
   {
    "duration": 5,
    "start_time": "2021-12-28T22:41:05.139Z"
   },
   {
    "duration": 13,
    "start_time": "2021-12-28T22:41:05.147Z"
   },
   {
    "duration": 9,
    "start_time": "2021-12-28T22:41:05.163Z"
   },
   {
    "duration": 60,
    "start_time": "2021-12-28T22:41:05.175Z"
   },
   {
    "duration": 9,
    "start_time": "2021-12-28T22:41:05.238Z"
   },
   {
    "duration": 26,
    "start_time": "2021-12-28T22:41:05.250Z"
   },
   {
    "duration": 42,
    "start_time": "2021-12-28T22:41:05.279Z"
   },
   {
    "duration": 9,
    "start_time": "2021-12-28T22:41:05.323Z"
   },
   {
    "duration": 21,
    "start_time": "2021-12-28T22:41:05.335Z"
   },
   {
    "duration": 57,
    "start_time": "2021-12-28T22:41:05.364Z"
   },
   {
    "duration": 11,
    "start_time": "2021-12-28T22:41:05.424Z"
   },
   {
    "duration": 21,
    "start_time": "2021-12-28T22:41:05.438Z"
   },
   {
    "duration": 3,
    "start_time": "2021-12-28T22:41:05.462Z"
   },
   {
    "duration": 56,
    "start_time": "2021-12-28T22:41:05.468Z"
   },
   {
    "duration": 12110,
    "start_time": "2021-12-28T22:41:05.527Z"
   },
   {
    "duration": 20484,
    "start_time": "2021-12-28T22:41:17.640Z"
   },
   {
    "duration": 22,
    "start_time": "2021-12-28T22:41:38.127Z"
   },
   {
    "duration": 33,
    "start_time": "2021-12-28T22:41:38.151Z"
   },
   {
    "duration": 33,
    "start_time": "2021-12-28T22:41:38.187Z"
   },
   {
    "duration": 2273,
    "start_time": "2021-12-28T22:41:38.223Z"
   },
   {
    "duration": 7,
    "start_time": "2021-12-28T22:41:40.498Z"
   },
   {
    "duration": 2380,
    "start_time": "2021-12-28T22:41:40.517Z"
   },
   {
    "duration": 19,
    "start_time": "2021-12-28T22:41:42.900Z"
   },
   {
    "duration": 415,
    "start_time": "2021-12-28T22:41:42.922Z"
   },
   {
    "duration": 18,
    "start_time": "2021-12-28T22:41:43.340Z"
   },
   {
    "duration": 7,
    "start_time": "2021-12-28T22:41:43.361Z"
   },
   {
    "duration": 55,
    "start_time": "2021-12-28T22:41:43.370Z"
   },
   {
    "duration": 7,
    "start_time": "2021-12-28T22:41:43.428Z"
   },
   {
    "duration": 30,
    "start_time": "2021-12-28T22:41:43.438Z"
   },
   {
    "duration": 61,
    "start_time": "2021-12-28T22:41:43.471Z"
   },
   {
    "duration": 23,
    "start_time": "2021-12-28T22:41:43.535Z"
   },
   {
    "duration": 79,
    "start_time": "2021-12-28T22:41:43.561Z"
   },
   {
    "duration": 17,
    "start_time": "2021-12-28T22:41:43.642Z"
   },
   {
    "duration": 7,
    "start_time": "2021-12-28T22:41:43.661Z"
   },
   {
    "duration": 49,
    "start_time": "2021-12-28T22:41:43.670Z"
   },
   {
    "duration": 11,
    "start_time": "2021-12-28T22:41:43.721Z"
   },
   {
    "duration": 11,
    "start_time": "2021-12-28T22:41:43.735Z"
   },
   {
    "duration": 1383,
    "start_time": "2021-12-29T05:27:00.947Z"
   },
   {
    "duration": 10,
    "start_time": "2021-12-29T05:27:02.332Z"
   },
   {
    "duration": 14,
    "start_time": "2021-12-29T05:27:02.344Z"
   },
   {
    "duration": 1373,
    "start_time": "2021-12-29T05:27:02.359Z"
   },
   {
    "duration": 9,
    "start_time": "2021-12-29T05:27:03.734Z"
   },
   {
    "duration": 15,
    "start_time": "2021-12-29T05:27:03.744Z"
   },
   {
    "duration": 5,
    "start_time": "2021-12-29T05:27:03.761Z"
   },
   {
    "duration": 16,
    "start_time": "2021-12-29T05:27:03.768Z"
   },
   {
    "duration": 46,
    "start_time": "2021-12-29T05:27:03.787Z"
   },
   {
    "duration": 14,
    "start_time": "2021-12-29T05:27:03.835Z"
   },
   {
    "duration": 13,
    "start_time": "2021-12-29T05:27:03.850Z"
   },
   {
    "duration": 239,
    "start_time": "2021-12-29T05:27:03.866Z"
   },
   {
    "duration": 10366,
    "start_time": "2021-12-29T05:27:04.107Z"
   },
   {
    "duration": 3,
    "start_time": "2021-12-29T05:27:14.475Z"
   },
   {
    "duration": 26,
    "start_time": "2021-12-29T05:27:14.480Z"
   },
   {
    "duration": 16,
    "start_time": "2021-12-29T05:27:14.507Z"
   },
   {
    "duration": 15,
    "start_time": "2021-12-29T05:27:14.525Z"
   },
   {
    "duration": 5,
    "start_time": "2021-12-29T05:27:14.542Z"
   },
   {
    "duration": 19,
    "start_time": "2021-12-29T05:27:14.548Z"
   },
   {
    "duration": 4,
    "start_time": "2021-12-29T05:27:14.569Z"
   },
   {
    "duration": 10,
    "start_time": "2021-12-29T05:27:14.574Z"
   },
   {
    "duration": 23,
    "start_time": "2021-12-29T05:27:14.586Z"
   },
   {
    "duration": 13,
    "start_time": "2021-12-29T05:27:14.626Z"
   },
   {
    "duration": 7,
    "start_time": "2021-12-29T05:27:14.642Z"
   },
   {
    "duration": 14,
    "start_time": "2021-12-29T05:27:14.650Z"
   },
   {
    "duration": 2,
    "start_time": "2021-12-29T05:27:14.666Z"
   },
   {
    "duration": 16,
    "start_time": "2021-12-29T05:27:14.669Z"
   },
   {
    "duration": 8809,
    "start_time": "2021-12-29T05:27:14.686Z"
   },
   {
    "duration": 11988,
    "start_time": "2021-12-29T05:27:23.498Z"
   },
   {
    "duration": 20,
    "start_time": "2021-12-29T05:27:35.489Z"
   },
   {
    "duration": 20,
    "start_time": "2021-12-29T05:27:35.527Z"
   },
   {
    "duration": 5,
    "start_time": "2021-12-29T05:27:35.549Z"
   },
   {
    "duration": 1231,
    "start_time": "2021-12-29T05:27:35.555Z"
   },
   {
    "duration": 5,
    "start_time": "2021-12-29T05:27:36.788Z"
   },
   {
    "duration": 1276,
    "start_time": "2021-12-29T05:27:36.794Z"
   },
   {
    "duration": 6,
    "start_time": "2021-12-29T05:27:38.071Z"
   },
   {
    "duration": 245,
    "start_time": "2021-12-29T05:27:38.079Z"
   },
   {
    "duration": 11,
    "start_time": "2021-12-29T05:27:38.326Z"
   },
   {
    "duration": 8,
    "start_time": "2021-12-29T05:27:38.338Z"
   },
   {
    "duration": 19,
    "start_time": "2021-12-29T05:27:38.347Z"
   },
   {
    "duration": 4,
    "start_time": "2021-12-29T05:27:38.368Z"
   },
   {
    "duration": 20,
    "start_time": "2021-12-29T05:27:38.374Z"
   },
   {
    "duration": 46,
    "start_time": "2021-12-29T05:27:38.395Z"
   },
   {
    "duration": 14,
    "start_time": "2021-12-29T05:27:38.442Z"
   },
   {
    "duration": 25,
    "start_time": "2021-12-29T05:27:38.457Z"
   },
   {
    "duration": 9,
    "start_time": "2021-12-29T05:27:38.483Z"
   },
   {
    "duration": 5,
    "start_time": "2021-12-29T05:27:38.528Z"
   },
   {
    "duration": 12,
    "start_time": "2021-12-29T05:27:38.534Z"
   },
   {
    "duration": 7,
    "start_time": "2021-12-29T05:27:38.548Z"
   },
   {
    "duration": 7,
    "start_time": "2021-12-29T05:27:38.557Z"
   },
   {
    "duration": 462,
    "start_time": "2021-12-29T11:32:49.010Z"
   },
   {
    "duration": 1957,
    "start_time": "2021-12-29T11:33:05.420Z"
   },
   {
    "duration": 16,
    "start_time": "2021-12-29T11:33:07.381Z"
   },
   {
    "duration": 22,
    "start_time": "2021-12-29T11:33:07.401Z"
   },
   {
    "duration": 2390,
    "start_time": "2021-12-29T11:33:07.425Z"
   },
   {
    "duration": 13,
    "start_time": "2021-12-29T11:33:09.817Z"
   },
   {
    "duration": 49,
    "start_time": "2021-12-29T11:33:09.833Z"
   },
   {
    "duration": 12,
    "start_time": "2021-12-29T11:33:09.885Z"
   },
   {
    "duration": 22,
    "start_time": "2021-12-29T11:33:09.903Z"
   },
   {
    "duration": 54,
    "start_time": "2021-12-29T11:33:09.928Z"
   },
   {
    "duration": 19,
    "start_time": "2021-12-29T11:33:09.985Z"
   },
   {
    "duration": 32,
    "start_time": "2021-12-29T11:33:10.006Z"
   },
   {
    "duration": 265,
    "start_time": "2021-12-29T11:33:10.041Z"
   },
   {
    "duration": 16898,
    "start_time": "2021-12-29T11:33:10.309Z"
   },
   {
    "duration": 5,
    "start_time": "2021-12-29T11:33:27.209Z"
   },
   {
    "duration": 14,
    "start_time": "2021-12-29T11:33:27.217Z"
   },
   {
    "duration": 32,
    "start_time": "2021-12-29T11:33:27.233Z"
   },
   {
    "duration": 31,
    "start_time": "2021-12-29T11:33:27.269Z"
   },
   {
    "duration": 10,
    "start_time": "2021-12-29T11:33:27.303Z"
   },
   {
    "duration": 58,
    "start_time": "2021-12-29T11:33:27.315Z"
   },
   {
    "duration": 6,
    "start_time": "2021-12-29T11:33:27.375Z"
   },
   {
    "duration": 11,
    "start_time": "2021-12-29T11:33:27.383Z"
   },
   {
    "duration": 21,
    "start_time": "2021-12-29T11:33:27.397Z"
   },
   {
    "duration": 13,
    "start_time": "2021-12-29T11:33:27.464Z"
   },
   {
    "duration": 14,
    "start_time": "2021-12-29T11:33:27.481Z"
   },
   {
    "duration": 27,
    "start_time": "2021-12-29T11:33:27.498Z"
   },
   {
    "duration": 37,
    "start_time": "2021-12-29T11:33:27.528Z"
   },
   {
    "duration": 21,
    "start_time": "2021-12-29T11:33:27.569Z"
   },
   {
    "duration": 12055,
    "start_time": "2021-12-29T11:33:27.593Z"
   },
   {
    "duration": 22944,
    "start_time": "2021-12-29T11:33:39.651Z"
   },
   {
    "duration": 23,
    "start_time": "2021-12-29T11:34:02.598Z"
   },
   {
    "duration": 59,
    "start_time": "2021-12-29T11:34:02.623Z"
   },
   {
    "duration": 7,
    "start_time": "2021-12-29T11:34:02.684Z"
   },
   {
    "duration": 3287,
    "start_time": "2021-12-29T11:34:02.693Z"
   },
   {
    "duration": 8,
    "start_time": "2021-12-29T11:34:05.983Z"
   },
   {
    "duration": 4378,
    "start_time": "2021-12-29T11:34:05.994Z"
   },
   {
    "duration": 12,
    "start_time": "2021-12-29T11:34:10.375Z"
   },
   {
    "duration": 442,
    "start_time": "2021-12-29T11:34:10.390Z"
   },
   {
    "duration": 17,
    "start_time": "2021-12-29T11:34:10.835Z"
   },
   {
    "duration": 10,
    "start_time": "2021-12-29T11:34:10.864Z"
   },
   {
    "duration": 28,
    "start_time": "2021-12-29T11:34:10.878Z"
   },
   {
    "duration": 8,
    "start_time": "2021-12-29T11:34:10.909Z"
   },
   {
    "duration": 37,
    "start_time": "2021-12-29T11:34:10.962Z"
   },
   {
    "duration": 24,
    "start_time": "2021-12-29T11:34:11.001Z"
   },
   {
    "duration": 57,
    "start_time": "2021-12-29T11:34:11.028Z"
   },
   {
    "duration": 55,
    "start_time": "2021-12-29T11:34:11.088Z"
   },
   {
    "duration": 17,
    "start_time": "2021-12-29T11:34:11.164Z"
   },
   {
    "duration": 7,
    "start_time": "2021-12-29T11:34:11.184Z"
   },
   {
    "duration": 14,
    "start_time": "2021-12-29T11:34:11.194Z"
   },
   {
    "duration": 53,
    "start_time": "2021-12-29T11:34:11.210Z"
   },
   {
    "duration": 13,
    "start_time": "2021-12-29T11:34:11.265Z"
   }
  ],
  "hide_input": false,
  "kernelspec": {
   "display_name": "Python 3 (ipykernel)",
   "language": "python",
   "name": "python3"
  },
  "language_info": {
   "codemirror_mode": {
    "name": "ipython",
    "version": 3
   },
   "file_extension": ".py",
   "mimetype": "text/x-python",
   "name": "python",
   "nbconvert_exporter": "python",
   "pygments_lexer": "ipython3",
   "version": "3.9.7"
  },
  "toc": {
   "base_numbering": 1,
   "nav_menu": {},
   "number_sections": true,
   "sideBar": true,
   "skip_h1_title": true,
   "title_cell": "Table of Contents",
   "title_sidebar": "Contents",
   "toc_cell": false,
   "toc_position": {
    "height": "calc(100% - 180px)",
    "left": "10px",
    "top": "150px",
    "width": "384px"
   },
   "toc_section_display": true,
   "toc_window_display": false
  },
  "varInspector": {
   "cols": {
    "lenName": 16,
    "lenType": 16,
    "lenVar": 40
   },
   "kernels_config": {
    "python": {
     "delete_cmd_postfix": "",
     "delete_cmd_prefix": "del ",
     "library": "var_list.py",
     "varRefreshCmd": "print(var_dic_list())"
    },
    "r": {
     "delete_cmd_postfix": ") ",
     "delete_cmd_prefix": "rm(",
     "library": "var_list.r",
     "varRefreshCmd": "cat(var_dic_list()) "
    }
   },
   "types_to_exclude": [
    "module",
    "function",
    "builtin_function_or_method",
    "instance",
    "_Feature"
   ],
   "window_display": false
  }
 },
 "nbformat": 4,
 "nbformat_minor": 2
}
