{
 "cells": [
  {
   "cell_type": "markdown",
   "id": "a7f55cd3",
   "metadata": {
    "id": "50ba676b"
   },
   "source": [
    "# Project goal - Gold recovery prediction\n",
    "In this project, we need to prepare a prototype of a machine learning model for `Zyfra`. The company develops efficiency solutions for heavy industry. The model should predict the amount of gold recovered from gold ore. We have the data on extraction and purification. The model will help to optimize the production and eliminate unprofitable parameters.\n",
    " \n",
    "**We need to predict two values:**\n",
    "- rougher concentrate recovery `rougher.output.recovery`\n",
    "- final concentrate recovery `final.output.recovery`\n",
    "\n",
    "The data is stored in three files:\n",
    "- /datasets/gold_recovery_train.csv\n",
    "- /datasets/gold_recovery_test.csv\n",
    "- /datasets/gold_recovery_full.csv\n",
    "\n",
    "Data is indexed with the date and time of acquisition (`date` feature). Parameters that are next to each other in terms of time are often similar.\n",
    "\n",
    "Some parameters are not available because they were measured and/or calculated much later. That's why, some of the features that are present in the training set may be absent from the test set. The test set also doesn't contain targets.\n",
    "The source dataset contains the training and test sets with all the features.\n",
    "You have the raw data that was only downloaded from the warehouse. Before building the model, check the correctness of the data."
   ]
  },
  {
   "cell_type": "markdown",
   "id": "95026cdf",
   "metadata": {
    "id": "8f84aaa5"
   },
   "source": [
    "# Data description\n",
    "**Technological process**\n",
    "- Rougher feed — raw material\n",
    "- Rougher additions (or reagent additions) — flotation reagents: Xanthate, Sulphate, Depressant\n",
    "    - Xanthate — promoter or flotation activator;\n",
    "    - Sulphate — sodium sulphide for this particular process;\n",
    "    - Depressant — sodium silicate.\n",
    "- Rougher process — flotation\n",
    "- Rougher tails — product residues\n",
    "- Float banks — flotation unit\n",
    "- Cleaner process — purification\n",
    "- Rougher Au — rougher gold concentrate\n",
    "- Final Au — final gold concentrate\n",
    "\n",
    "**Parameters of stages**\n",
    "- air amount — volume of air\n",
    "- fluid levels\n",
    "- feed size — feed particle size\n",
    "- feed rate\n",
    "\n",
    "**Feature naming**\n",
    "Here's how you name the features:\n",
    "`[stage].[parameter_type].[parameter_name]`\n",
    "\n",
    "Example: `rougher.input.feed_ag`:\n",
    "\n",
    "*Possible values for* `[stage]`:\n",
    "- rougher — flotation\n",
    "- primary_cleaner — primary purification\n",
    "- secondary_cleaner — secondary purification\n",
    "- final — final characteristics\n",
    "\n",
    "\n",
    "*Possible values for* `[parameter_type]`:\n",
    "- input — raw material parameters\n",
    "- output — product parameters\n",
    "- state — parameters characterizing the current state of the stage\n",
    "- calculation — calculation characteristics"
   ]
  },
  {
   "cell_type": "markdown",
   "id": "6da2cce3",
   "metadata": {},
   "source": [
    "<img src=\"img/process_1.jpg\" width=\"600\" />\n",
    "<img src=\"img/process_2.jpg\" width=\"600\" />"
   ]
  },
  {
   "cell_type": "markdown",
   "id": "7da7b280",
   "metadata": {
    "id": "4bf3def3"
   },
   "source": [
    "# Project Implementation\n",
    "## Data preparation\n",
    "### Importing libraries, opening and analyzing the data"
   ]
  },
  {
   "cell_type": "code",
   "execution_count": 1,
   "id": "1af8b9d0",
   "metadata": {
    "id": "de6e24d5"
   },
   "outputs": [],
   "source": [
    "import warnings\n",
    "import random\n",
    "\n",
    "import pandas as pd\n",
    "import seaborn as sns\n",
    "import numpy as np\n",
    "from numpy.random import RandomState\n",
    "import matplotlib.pyplot as plt\n",
    "\n",
    "from sklearn.linear_model import LinearRegression\n",
    "from sklearn.ensemble import RandomForestRegressor\n",
    "from sklearn.tree import DecisionTreeRegressor\n",
    "from sklearn.model_selection import GridSearchCV\n",
    "from sklearn.pipeline import Pipeline\n",
    "\n",
    "from scipy import stats as st\n",
    "from sklearn.model_selection import train_test_split\n",
    "from sklearn.preprocessing import StandardScaler\n",
    "from sklearn.metrics import mean_absolute_error, make_scorer\n",
    "\n",
    "%matplotlib inline\n",
    "warnings.filterwarnings('ignore')"
   ]
  },
  {
   "cell_type": "code",
   "execution_count": 2,
   "id": "8f2df3db",
   "metadata": {
    "colab": {
     "base_uri": "https://localhost:8080/",
     "height": 861
    },
    "id": "40ca79da",
    "outputId": "8c908f3c-0f1c-4114-c596-16e24646a766"
   },
   "outputs": [
    {
     "data": {
      "text/html": [
       "<div>\n",
       "<style scoped>\n",
       "    .dataframe tbody tr th:only-of-type {\n",
       "        vertical-align: middle;\n",
       "    }\n",
       "\n",
       "    .dataframe tbody tr th {\n",
       "        vertical-align: top;\n",
       "    }\n",
       "\n",
       "    .dataframe thead th {\n",
       "        text-align: right;\n",
       "    }\n",
       "</style>\n",
       "<table border=\"1\" class=\"dataframe\">\n",
       "  <thead>\n",
       "    <tr style=\"text-align: right;\">\n",
       "      <th></th>\n",
       "      <th>date</th>\n",
       "      <th>final.output.concentrate_ag</th>\n",
       "      <th>final.output.concentrate_pb</th>\n",
       "      <th>final.output.concentrate_sol</th>\n",
       "      <th>final.output.concentrate_au</th>\n",
       "      <th>final.output.recovery</th>\n",
       "      <th>final.output.tail_ag</th>\n",
       "      <th>final.output.tail_pb</th>\n",
       "      <th>final.output.tail_sol</th>\n",
       "      <th>final.output.tail_au</th>\n",
       "      <th>...</th>\n",
       "      <th>secondary_cleaner.state.floatbank4_a_air</th>\n",
       "      <th>secondary_cleaner.state.floatbank4_a_level</th>\n",
       "      <th>secondary_cleaner.state.floatbank4_b_air</th>\n",
       "      <th>secondary_cleaner.state.floatbank4_b_level</th>\n",
       "      <th>secondary_cleaner.state.floatbank5_a_air</th>\n",
       "      <th>secondary_cleaner.state.floatbank5_a_level</th>\n",
       "      <th>secondary_cleaner.state.floatbank5_b_air</th>\n",
       "      <th>secondary_cleaner.state.floatbank5_b_level</th>\n",
       "      <th>secondary_cleaner.state.floatbank6_a_air</th>\n",
       "      <th>secondary_cleaner.state.floatbank6_a_level</th>\n",
       "    </tr>\n",
       "  </thead>\n",
       "  <tbody>\n",
       "    <tr>\n",
       "      <th>0</th>\n",
       "      <td>2016-01-15 00:00:00</td>\n",
       "      <td>6.055403</td>\n",
       "      <td>9.889648</td>\n",
       "      <td>5.507324</td>\n",
       "      <td>42.192020</td>\n",
       "      <td>70.541216</td>\n",
       "      <td>10.411962</td>\n",
       "      <td>0.895447</td>\n",
       "      <td>16.904297</td>\n",
       "      <td>2.143149</td>\n",
       "      <td>...</td>\n",
       "      <td>14.016835</td>\n",
       "      <td>-502.488007</td>\n",
       "      <td>12.099931</td>\n",
       "      <td>-504.715942</td>\n",
       "      <td>9.925633</td>\n",
       "      <td>-498.310211</td>\n",
       "      <td>8.079666</td>\n",
       "      <td>-500.470978</td>\n",
       "      <td>14.151341</td>\n",
       "      <td>-605.841980</td>\n",
       "    </tr>\n",
       "    <tr>\n",
       "      <th>1</th>\n",
       "      <td>2016-01-15 01:00:00</td>\n",
       "      <td>6.029369</td>\n",
       "      <td>9.968944</td>\n",
       "      <td>5.257781</td>\n",
       "      <td>42.701629</td>\n",
       "      <td>69.266198</td>\n",
       "      <td>10.462676</td>\n",
       "      <td>0.927452</td>\n",
       "      <td>16.634514</td>\n",
       "      <td>2.224930</td>\n",
       "      <td>...</td>\n",
       "      <td>13.992281</td>\n",
       "      <td>-505.503262</td>\n",
       "      <td>11.950531</td>\n",
       "      <td>-501.331529</td>\n",
       "      <td>10.039245</td>\n",
       "      <td>-500.169983</td>\n",
       "      <td>7.984757</td>\n",
       "      <td>-500.582168</td>\n",
       "      <td>13.998353</td>\n",
       "      <td>-599.787184</td>\n",
       "    </tr>\n",
       "    <tr>\n",
       "      <th>2</th>\n",
       "      <td>2016-01-15 02:00:00</td>\n",
       "      <td>6.055926</td>\n",
       "      <td>10.213995</td>\n",
       "      <td>5.383759</td>\n",
       "      <td>42.657501</td>\n",
       "      <td>68.116445</td>\n",
       "      <td>10.507046</td>\n",
       "      <td>0.953716</td>\n",
       "      <td>16.208849</td>\n",
       "      <td>2.257889</td>\n",
       "      <td>...</td>\n",
       "      <td>14.015015</td>\n",
       "      <td>-502.520901</td>\n",
       "      <td>11.912783</td>\n",
       "      <td>-501.133383</td>\n",
       "      <td>10.070913</td>\n",
       "      <td>-500.129135</td>\n",
       "      <td>8.013877</td>\n",
       "      <td>-500.517572</td>\n",
       "      <td>14.028663</td>\n",
       "      <td>-601.427363</td>\n",
       "    </tr>\n",
       "  </tbody>\n",
       "</table>\n",
       "<p>3 rows × 87 columns</p>\n",
       "</div>"
      ],
      "text/plain": [
       "                  date  final.output.concentrate_ag  \\\n",
       "0  2016-01-15 00:00:00                     6.055403   \n",
       "1  2016-01-15 01:00:00                     6.029369   \n",
       "2  2016-01-15 02:00:00                     6.055926   \n",
       "\n",
       "   final.output.concentrate_pb  final.output.concentrate_sol  \\\n",
       "0                     9.889648                      5.507324   \n",
       "1                     9.968944                      5.257781   \n",
       "2                    10.213995                      5.383759   \n",
       "\n",
       "   final.output.concentrate_au  final.output.recovery  final.output.tail_ag  \\\n",
       "0                    42.192020              70.541216             10.411962   \n",
       "1                    42.701629              69.266198             10.462676   \n",
       "2                    42.657501              68.116445             10.507046   \n",
       "\n",
       "   final.output.tail_pb  final.output.tail_sol  final.output.tail_au  ...  \\\n",
       "0              0.895447              16.904297              2.143149  ...   \n",
       "1              0.927452              16.634514              2.224930  ...   \n",
       "2              0.953716              16.208849              2.257889  ...   \n",
       "\n",
       "   secondary_cleaner.state.floatbank4_a_air  \\\n",
       "0                                 14.016835   \n",
       "1                                 13.992281   \n",
       "2                                 14.015015   \n",
       "\n",
       "   secondary_cleaner.state.floatbank4_a_level  \\\n",
       "0                                 -502.488007   \n",
       "1                                 -505.503262   \n",
       "2                                 -502.520901   \n",
       "\n",
       "   secondary_cleaner.state.floatbank4_b_air  \\\n",
       "0                                 12.099931   \n",
       "1                                 11.950531   \n",
       "2                                 11.912783   \n",
       "\n",
       "   secondary_cleaner.state.floatbank4_b_level  \\\n",
       "0                                 -504.715942   \n",
       "1                                 -501.331529   \n",
       "2                                 -501.133383   \n",
       "\n",
       "   secondary_cleaner.state.floatbank5_a_air  \\\n",
       "0                                  9.925633   \n",
       "1                                 10.039245   \n",
       "2                                 10.070913   \n",
       "\n",
       "   secondary_cleaner.state.floatbank5_a_level  \\\n",
       "0                                 -498.310211   \n",
       "1                                 -500.169983   \n",
       "2                                 -500.129135   \n",
       "\n",
       "   secondary_cleaner.state.floatbank5_b_air  \\\n",
       "0                                  8.079666   \n",
       "1                                  7.984757   \n",
       "2                                  8.013877   \n",
       "\n",
       "   secondary_cleaner.state.floatbank5_b_level  \\\n",
       "0                                 -500.470978   \n",
       "1                                 -500.582168   \n",
       "2                                 -500.517572   \n",
       "\n",
       "   secondary_cleaner.state.floatbank6_a_air  \\\n",
       "0                                 14.151341   \n",
       "1                                 13.998353   \n",
       "2                                 14.028663   \n",
       "\n",
       "   secondary_cleaner.state.floatbank6_a_level  \n",
       "0                                 -605.841980  \n",
       "1                                 -599.787184  \n",
       "2                                 -601.427363  \n",
       "\n",
       "[3 rows x 87 columns]"
      ]
     },
     "metadata": {},
     "output_type": "display_data"
    },
    {
     "data": {
      "text/html": [
       "<div>\n",
       "<style scoped>\n",
       "    .dataframe tbody tr th:only-of-type {\n",
       "        vertical-align: middle;\n",
       "    }\n",
       "\n",
       "    .dataframe tbody tr th {\n",
       "        vertical-align: top;\n",
       "    }\n",
       "\n",
       "    .dataframe thead th {\n",
       "        text-align: right;\n",
       "    }\n",
       "</style>\n",
       "<table border=\"1\" class=\"dataframe\">\n",
       "  <thead>\n",
       "    <tr style=\"text-align: right;\">\n",
       "      <th></th>\n",
       "      <th>date</th>\n",
       "      <th>final.output.concentrate_ag</th>\n",
       "      <th>final.output.concentrate_pb</th>\n",
       "      <th>final.output.concentrate_sol</th>\n",
       "      <th>final.output.concentrate_au</th>\n",
       "      <th>final.output.recovery</th>\n",
       "      <th>final.output.tail_ag</th>\n",
       "      <th>final.output.tail_pb</th>\n",
       "      <th>final.output.tail_sol</th>\n",
       "      <th>final.output.tail_au</th>\n",
       "      <th>...</th>\n",
       "      <th>secondary_cleaner.state.floatbank4_a_air</th>\n",
       "      <th>secondary_cleaner.state.floatbank4_a_level</th>\n",
       "      <th>secondary_cleaner.state.floatbank4_b_air</th>\n",
       "      <th>secondary_cleaner.state.floatbank4_b_level</th>\n",
       "      <th>secondary_cleaner.state.floatbank5_a_air</th>\n",
       "      <th>secondary_cleaner.state.floatbank5_a_level</th>\n",
       "      <th>secondary_cleaner.state.floatbank5_b_air</th>\n",
       "      <th>secondary_cleaner.state.floatbank5_b_level</th>\n",
       "      <th>secondary_cleaner.state.floatbank6_a_air</th>\n",
       "      <th>secondary_cleaner.state.floatbank6_a_level</th>\n",
       "    </tr>\n",
       "  </thead>\n",
       "  <tbody>\n",
       "    <tr>\n",
       "      <th>0</th>\n",
       "      <td>2016-01-15 00:00:00</td>\n",
       "      <td>6.055403</td>\n",
       "      <td>9.889648</td>\n",
       "      <td>5.507324</td>\n",
       "      <td>42.192020</td>\n",
       "      <td>70.541216</td>\n",
       "      <td>10.411962</td>\n",
       "      <td>0.895447</td>\n",
       "      <td>16.904297</td>\n",
       "      <td>2.143149</td>\n",
       "      <td>...</td>\n",
       "      <td>14.016835</td>\n",
       "      <td>-502.488007</td>\n",
       "      <td>12.099931</td>\n",
       "      <td>-504.715942</td>\n",
       "      <td>9.925633</td>\n",
       "      <td>-498.310211</td>\n",
       "      <td>8.079666</td>\n",
       "      <td>-500.470978</td>\n",
       "      <td>14.151341</td>\n",
       "      <td>-605.841980</td>\n",
       "    </tr>\n",
       "    <tr>\n",
       "      <th>1</th>\n",
       "      <td>2016-01-15 01:00:00</td>\n",
       "      <td>6.029369</td>\n",
       "      <td>9.968944</td>\n",
       "      <td>5.257781</td>\n",
       "      <td>42.701629</td>\n",
       "      <td>69.266198</td>\n",
       "      <td>10.462676</td>\n",
       "      <td>0.927452</td>\n",
       "      <td>16.634514</td>\n",
       "      <td>2.224930</td>\n",
       "      <td>...</td>\n",
       "      <td>13.992281</td>\n",
       "      <td>-505.503262</td>\n",
       "      <td>11.950531</td>\n",
       "      <td>-501.331529</td>\n",
       "      <td>10.039245</td>\n",
       "      <td>-500.169983</td>\n",
       "      <td>7.984757</td>\n",
       "      <td>-500.582168</td>\n",
       "      <td>13.998353</td>\n",
       "      <td>-599.787184</td>\n",
       "    </tr>\n",
       "    <tr>\n",
       "      <th>2</th>\n",
       "      <td>2016-01-15 02:00:00</td>\n",
       "      <td>6.055926</td>\n",
       "      <td>10.213995</td>\n",
       "      <td>5.383759</td>\n",
       "      <td>42.657501</td>\n",
       "      <td>68.116445</td>\n",
       "      <td>10.507046</td>\n",
       "      <td>0.953716</td>\n",
       "      <td>16.208849</td>\n",
       "      <td>2.257889</td>\n",
       "      <td>...</td>\n",
       "      <td>14.015015</td>\n",
       "      <td>-502.520901</td>\n",
       "      <td>11.912783</td>\n",
       "      <td>-501.133383</td>\n",
       "      <td>10.070913</td>\n",
       "      <td>-500.129135</td>\n",
       "      <td>8.013877</td>\n",
       "      <td>-500.517572</td>\n",
       "      <td>14.028663</td>\n",
       "      <td>-601.427363</td>\n",
       "    </tr>\n",
       "  </tbody>\n",
       "</table>\n",
       "<p>3 rows × 87 columns</p>\n",
       "</div>"
      ],
      "text/plain": [
       "                  date  final.output.concentrate_ag  \\\n",
       "0  2016-01-15 00:00:00                     6.055403   \n",
       "1  2016-01-15 01:00:00                     6.029369   \n",
       "2  2016-01-15 02:00:00                     6.055926   \n",
       "\n",
       "   final.output.concentrate_pb  final.output.concentrate_sol  \\\n",
       "0                     9.889648                      5.507324   \n",
       "1                     9.968944                      5.257781   \n",
       "2                    10.213995                      5.383759   \n",
       "\n",
       "   final.output.concentrate_au  final.output.recovery  final.output.tail_ag  \\\n",
       "0                    42.192020              70.541216             10.411962   \n",
       "1                    42.701629              69.266198             10.462676   \n",
       "2                    42.657501              68.116445             10.507046   \n",
       "\n",
       "   final.output.tail_pb  final.output.tail_sol  final.output.tail_au  ...  \\\n",
       "0              0.895447              16.904297              2.143149  ...   \n",
       "1              0.927452              16.634514              2.224930  ...   \n",
       "2              0.953716              16.208849              2.257889  ...   \n",
       "\n",
       "   secondary_cleaner.state.floatbank4_a_air  \\\n",
       "0                                 14.016835   \n",
       "1                                 13.992281   \n",
       "2                                 14.015015   \n",
       "\n",
       "   secondary_cleaner.state.floatbank4_a_level  \\\n",
       "0                                 -502.488007   \n",
       "1                                 -505.503262   \n",
       "2                                 -502.520901   \n",
       "\n",
       "   secondary_cleaner.state.floatbank4_b_air  \\\n",
       "0                                 12.099931   \n",
       "1                                 11.950531   \n",
       "2                                 11.912783   \n",
       "\n",
       "   secondary_cleaner.state.floatbank4_b_level  \\\n",
       "0                                 -504.715942   \n",
       "1                                 -501.331529   \n",
       "2                                 -501.133383   \n",
       "\n",
       "   secondary_cleaner.state.floatbank5_a_air  \\\n",
       "0                                  9.925633   \n",
       "1                                 10.039245   \n",
       "2                                 10.070913   \n",
       "\n",
       "   secondary_cleaner.state.floatbank5_a_level  \\\n",
       "0                                 -498.310211   \n",
       "1                                 -500.169983   \n",
       "2                                 -500.129135   \n",
       "\n",
       "   secondary_cleaner.state.floatbank5_b_air  \\\n",
       "0                                  8.079666   \n",
       "1                                  7.984757   \n",
       "2                                  8.013877   \n",
       "\n",
       "   secondary_cleaner.state.floatbank5_b_level  \\\n",
       "0                                 -500.470978   \n",
       "1                                 -500.582168   \n",
       "2                                 -500.517572   \n",
       "\n",
       "   secondary_cleaner.state.floatbank6_a_air  \\\n",
       "0                                 14.151341   \n",
       "1                                 13.998353   \n",
       "2                                 14.028663   \n",
       "\n",
       "   secondary_cleaner.state.floatbank6_a_level  \n",
       "0                                 -605.841980  \n",
       "1                                 -599.787184  \n",
       "2                                 -601.427363  \n",
       "\n",
       "[3 rows x 87 columns]"
      ]
     },
     "metadata": {},
     "output_type": "display_data"
    },
    {
     "data": {
      "text/html": [
       "<div>\n",
       "<style scoped>\n",
       "    .dataframe tbody tr th:only-of-type {\n",
       "        vertical-align: middle;\n",
       "    }\n",
       "\n",
       "    .dataframe tbody tr th {\n",
       "        vertical-align: top;\n",
       "    }\n",
       "\n",
       "    .dataframe thead th {\n",
       "        text-align: right;\n",
       "    }\n",
       "</style>\n",
       "<table border=\"1\" class=\"dataframe\">\n",
       "  <thead>\n",
       "    <tr style=\"text-align: right;\">\n",
       "      <th></th>\n",
       "      <th>date</th>\n",
       "      <th>primary_cleaner.input.sulfate</th>\n",
       "      <th>primary_cleaner.input.depressant</th>\n",
       "      <th>primary_cleaner.input.feed_size</th>\n",
       "      <th>primary_cleaner.input.xanthate</th>\n",
       "      <th>primary_cleaner.state.floatbank8_a_air</th>\n",
       "      <th>primary_cleaner.state.floatbank8_a_level</th>\n",
       "      <th>primary_cleaner.state.floatbank8_b_air</th>\n",
       "      <th>primary_cleaner.state.floatbank8_b_level</th>\n",
       "      <th>primary_cleaner.state.floatbank8_c_air</th>\n",
       "      <th>...</th>\n",
       "      <th>secondary_cleaner.state.floatbank4_a_air</th>\n",
       "      <th>secondary_cleaner.state.floatbank4_a_level</th>\n",
       "      <th>secondary_cleaner.state.floatbank4_b_air</th>\n",
       "      <th>secondary_cleaner.state.floatbank4_b_level</th>\n",
       "      <th>secondary_cleaner.state.floatbank5_a_air</th>\n",
       "      <th>secondary_cleaner.state.floatbank5_a_level</th>\n",
       "      <th>secondary_cleaner.state.floatbank5_b_air</th>\n",
       "      <th>secondary_cleaner.state.floatbank5_b_level</th>\n",
       "      <th>secondary_cleaner.state.floatbank6_a_air</th>\n",
       "      <th>secondary_cleaner.state.floatbank6_a_level</th>\n",
       "    </tr>\n",
       "  </thead>\n",
       "  <tbody>\n",
       "    <tr>\n",
       "      <th>0</th>\n",
       "      <td>2016-09-01 00:59:59</td>\n",
       "      <td>210.800909</td>\n",
       "      <td>14.993118</td>\n",
       "      <td>8.080000</td>\n",
       "      <td>1.005021</td>\n",
       "      <td>1398.981301</td>\n",
       "      <td>-500.225577</td>\n",
       "      <td>1399.144926</td>\n",
       "      <td>-499.919735</td>\n",
       "      <td>1400.102998</td>\n",
       "      <td>...</td>\n",
       "      <td>12.023554</td>\n",
       "      <td>-497.795834</td>\n",
       "      <td>8.016656</td>\n",
       "      <td>-501.289139</td>\n",
       "      <td>7.946562</td>\n",
       "      <td>-432.317850</td>\n",
       "      <td>4.872511</td>\n",
       "      <td>-500.037437</td>\n",
       "      <td>26.705889</td>\n",
       "      <td>-499.709414</td>\n",
       "    </tr>\n",
       "    <tr>\n",
       "      <th>1</th>\n",
       "      <td>2016-09-01 01:59:59</td>\n",
       "      <td>215.392455</td>\n",
       "      <td>14.987471</td>\n",
       "      <td>8.080000</td>\n",
       "      <td>0.990469</td>\n",
       "      <td>1398.777912</td>\n",
       "      <td>-500.057435</td>\n",
       "      <td>1398.055362</td>\n",
       "      <td>-499.778182</td>\n",
       "      <td>1396.151033</td>\n",
       "      <td>...</td>\n",
       "      <td>12.058140</td>\n",
       "      <td>-498.695773</td>\n",
       "      <td>8.130979</td>\n",
       "      <td>-499.634209</td>\n",
       "      <td>7.958270</td>\n",
       "      <td>-525.839648</td>\n",
       "      <td>4.878850</td>\n",
       "      <td>-500.162375</td>\n",
       "      <td>25.019940</td>\n",
       "      <td>-499.819438</td>\n",
       "    </tr>\n",
       "    <tr>\n",
       "      <th>2</th>\n",
       "      <td>2016-09-01 02:59:59</td>\n",
       "      <td>215.259946</td>\n",
       "      <td>12.884934</td>\n",
       "      <td>7.786667</td>\n",
       "      <td>0.996043</td>\n",
       "      <td>1398.493666</td>\n",
       "      <td>-500.868360</td>\n",
       "      <td>1398.860436</td>\n",
       "      <td>-499.764529</td>\n",
       "      <td>1398.075709</td>\n",
       "      <td>...</td>\n",
       "      <td>11.962366</td>\n",
       "      <td>-498.767484</td>\n",
       "      <td>8.096893</td>\n",
       "      <td>-500.827423</td>\n",
       "      <td>8.071056</td>\n",
       "      <td>-500.801673</td>\n",
       "      <td>4.905125</td>\n",
       "      <td>-499.828510</td>\n",
       "      <td>24.994862</td>\n",
       "      <td>-500.622559</td>\n",
       "    </tr>\n",
       "  </tbody>\n",
       "</table>\n",
       "<p>3 rows × 53 columns</p>\n",
       "</div>"
      ],
      "text/plain": [
       "                  date  primary_cleaner.input.sulfate  \\\n",
       "0  2016-09-01 00:59:59                     210.800909   \n",
       "1  2016-09-01 01:59:59                     215.392455   \n",
       "2  2016-09-01 02:59:59                     215.259946   \n",
       "\n",
       "   primary_cleaner.input.depressant  primary_cleaner.input.feed_size  \\\n",
       "0                         14.993118                         8.080000   \n",
       "1                         14.987471                         8.080000   \n",
       "2                         12.884934                         7.786667   \n",
       "\n",
       "   primary_cleaner.input.xanthate  primary_cleaner.state.floatbank8_a_air  \\\n",
       "0                        1.005021                             1398.981301   \n",
       "1                        0.990469                             1398.777912   \n",
       "2                        0.996043                             1398.493666   \n",
       "\n",
       "   primary_cleaner.state.floatbank8_a_level  \\\n",
       "0                               -500.225577   \n",
       "1                               -500.057435   \n",
       "2                               -500.868360   \n",
       "\n",
       "   primary_cleaner.state.floatbank8_b_air  \\\n",
       "0                             1399.144926   \n",
       "1                             1398.055362   \n",
       "2                             1398.860436   \n",
       "\n",
       "   primary_cleaner.state.floatbank8_b_level  \\\n",
       "0                               -499.919735   \n",
       "1                               -499.778182   \n",
       "2                               -499.764529   \n",
       "\n",
       "   primary_cleaner.state.floatbank8_c_air  ...  \\\n",
       "0                             1400.102998  ...   \n",
       "1                             1396.151033  ...   \n",
       "2                             1398.075709  ...   \n",
       "\n",
       "   secondary_cleaner.state.floatbank4_a_air  \\\n",
       "0                                 12.023554   \n",
       "1                                 12.058140   \n",
       "2                                 11.962366   \n",
       "\n",
       "   secondary_cleaner.state.floatbank4_a_level  \\\n",
       "0                                 -497.795834   \n",
       "1                                 -498.695773   \n",
       "2                                 -498.767484   \n",
       "\n",
       "   secondary_cleaner.state.floatbank4_b_air  \\\n",
       "0                                  8.016656   \n",
       "1                                  8.130979   \n",
       "2                                  8.096893   \n",
       "\n",
       "   secondary_cleaner.state.floatbank4_b_level  \\\n",
       "0                                 -501.289139   \n",
       "1                                 -499.634209   \n",
       "2                                 -500.827423   \n",
       "\n",
       "   secondary_cleaner.state.floatbank5_a_air  \\\n",
       "0                                  7.946562   \n",
       "1                                  7.958270   \n",
       "2                                  8.071056   \n",
       "\n",
       "   secondary_cleaner.state.floatbank5_a_level  \\\n",
       "0                                 -432.317850   \n",
       "1                                 -525.839648   \n",
       "2                                 -500.801673   \n",
       "\n",
       "   secondary_cleaner.state.floatbank5_b_air  \\\n",
       "0                                  4.872511   \n",
       "1                                  4.878850   \n",
       "2                                  4.905125   \n",
       "\n",
       "   secondary_cleaner.state.floatbank5_b_level  \\\n",
       "0                                 -500.037437   \n",
       "1                                 -500.162375   \n",
       "2                                 -499.828510   \n",
       "\n",
       "   secondary_cleaner.state.floatbank6_a_air  \\\n",
       "0                                 26.705889   \n",
       "1                                 25.019940   \n",
       "2                                 24.994862   \n",
       "\n",
       "   secondary_cleaner.state.floatbank6_a_level  \n",
       "0                                 -499.709414  \n",
       "1                                 -499.819438  \n",
       "2                                 -500.622559  \n",
       "\n",
       "[3 rows x 53 columns]"
      ]
     },
     "metadata": {},
     "output_type": "display_data"
    }
   ],
   "source": [
    "try:\n",
    "    gold_recovery_full = pd.read_csv('datasets/gold_recovery_full.csv')\n",
    "    gold_recovery_full.name = 'gold_recovery_full'\n",
    "    display(gold_recovery_full.head(3))\n",
    "    \n",
    "    gold_recovery_train = pd.read_csv('datasets/gold_recovery_train.csv')\n",
    "    gold_recovery_train.name = 'gold_recovery_train'\n",
    "    display(gold_recovery_train.head(3))\n",
    "    \n",
    "    gold_recovery_test = pd.read_csv('datasets/gold_recovery_test.csv')\n",
    "    gold_recovery_test.name = 'gold_recovery_test'\n",
    "    display(gold_recovery_test.head(3))\n",
    "except:\n",
    "    gold_recovery_full = pd.read_csv('https://code.s3.yandex.net/datasets/gold_recovery_full_new.csv')\n",
    "    gold_recovery_full.name = 'gold_recovery_full'\n",
    "    display(gold_recovery_full.head(3))\n",
    "\n",
    "    gold_recovery_train = pd.read_csv('https://code.s3.yandex.net/datasets/gold_recovery_train_new.csv')\n",
    "    gold_recovery_train.name = 'gold_recovery_train'\n",
    "    display(gold_recovery_train.head(3))\n",
    "\n",
    "    gold_recovery_test = pd.read_csv('https://code.s3.yandex.net/datasets/gold_recovery_test_new.csv')\n",
    "    gold_recovery_test.name = 'gold_recovery_test'\n",
    "    display(gold_recovery_test.head(3))"
   ]
  },
  {
   "cell_type": "code",
   "execution_count": 3,
   "id": "346e6bfa",
   "metadata": {
    "colab": {
     "base_uri": "https://localhost:8080/",
     "height": 1000
    },
    "id": "a992429c",
    "outputId": "3c50ed03-753f-4652-8947-1e7d698f65cd",
    "scrolled": true
   },
   "outputs": [
    {
     "name": "stdout",
     "output_type": "stream",
     "text": [
      "\"gold_recovery_full\" info:\n",
      "\n",
      "<class 'pandas.core.frame.DataFrame'>\n",
      "RangeIndex: 22716 entries, 0 to 22715\n",
      "Data columns (total 87 columns):\n",
      " #   Column                                              Non-Null Count  Dtype  \n",
      "---  ------                                              --------------  -----  \n",
      " 0   date                                                22716 non-null  object \n",
      " 1   final.output.concentrate_ag                         22627 non-null  float64\n",
      " 2   final.output.concentrate_pb                         22629 non-null  float64\n",
      " 3   final.output.concentrate_sol                        22331 non-null  float64\n",
      " 4   final.output.concentrate_au                         22630 non-null  float64\n",
      " 5   final.output.recovery                               20753 non-null  float64\n",
      " 6   final.output.tail_ag                                22633 non-null  float64\n",
      " 7   final.output.tail_pb                                22516 non-null  float64\n",
      " 8   final.output.tail_sol                               22445 non-null  float64\n",
      " 9   final.output.tail_au                                22635 non-null  float64\n",
      " 10  primary_cleaner.input.sulfate                       21107 non-null  float64\n",
      " 11  primary_cleaner.input.depressant                    21170 non-null  float64\n",
      " 12  primary_cleaner.input.feed_size                     22716 non-null  float64\n",
      " 13  primary_cleaner.input.xanthate                      21565 non-null  float64\n",
      " 14  primary_cleaner.output.concentrate_ag               22618 non-null  float64\n",
      " 15  primary_cleaner.output.concentrate_pb               22268 non-null  float64\n",
      " 16  primary_cleaner.output.concentrate_sol              21918 non-null  float64\n",
      " 17  primary_cleaner.output.concentrate_au               22618 non-null  float64\n",
      " 18  primary_cleaner.output.tail_ag                      22614 non-null  float64\n",
      " 19  primary_cleaner.output.tail_pb                      22594 non-null  float64\n",
      " 20  primary_cleaner.output.tail_sol                     22365 non-null  float64\n",
      " 21  primary_cleaner.output.tail_au                      22617 non-null  float64\n",
      " 22  primary_cleaner.state.floatbank8_a_air              22660 non-null  float64\n",
      " 23  primary_cleaner.state.floatbank8_a_level            22667 non-null  float64\n",
      " 24  primary_cleaner.state.floatbank8_b_air              22660 non-null  float64\n",
      " 25  primary_cleaner.state.floatbank8_b_level            22673 non-null  float64\n",
      " 26  primary_cleaner.state.floatbank8_c_air              22662 non-null  float64\n",
      " 27  primary_cleaner.state.floatbank8_c_level            22673 non-null  float64\n",
      " 28  primary_cleaner.state.floatbank8_d_air              22661 non-null  float64\n",
      " 29  primary_cleaner.state.floatbank8_d_level            22673 non-null  float64\n",
      " 30  rougher.calculation.sulfate_to_au_concentrate       22672 non-null  float64\n",
      " 31  rougher.calculation.floatbank10_sulfate_to_au_feed  22672 non-null  float64\n",
      " 32  rougher.calculation.floatbank11_sulfate_to_au_feed  22672 non-null  float64\n",
      " 33  rougher.calculation.au_pb_ratio                     21089 non-null  float64\n",
      " 34  rougher.input.feed_ag                               22618 non-null  float64\n",
      " 35  rougher.input.feed_pb                               22472 non-null  float64\n",
      " 36  rougher.input.feed_rate                             22163 non-null  float64\n",
      " 37  rougher.input.feed_size                             22277 non-null  float64\n",
      " 38  rougher.input.feed_sol                              22357 non-null  float64\n",
      " 39  rougher.input.feed_au                               22617 non-null  float64\n",
      " 40  rougher.input.floatbank10_sulfate                   21415 non-null  float64\n",
      " 41  rougher.input.floatbank10_xanthate                  22247 non-null  float64\n",
      " 42  rougher.input.floatbank11_sulfate                   22038 non-null  float64\n",
      " 43  rougher.input.floatbank11_xanthate                  20459 non-null  float64\n",
      " 44  rougher.output.concentrate_ag                       22618 non-null  float64\n",
      " 45  rougher.output.concentrate_pb                       22618 non-null  float64\n",
      " 46  rougher.output.concentrate_sol                      22526 non-null  float64\n",
      " 47  rougher.output.concentrate_au                       22618 non-null  float64\n",
      " 48  rougher.output.recovery                             19597 non-null  float64\n",
      " 49  rougher.output.tail_ag                              19979 non-null  float64\n",
      " 50  rougher.output.tail_pb                              22618 non-null  float64\n",
      " 51  rougher.output.tail_sol                             19980 non-null  float64\n",
      " 52  rougher.output.tail_au                              19980 non-null  float64\n",
      " 53  rougher.state.floatbank10_a_air                     22646 non-null  float64\n",
      " 54  rougher.state.floatbank10_a_level                   22647 non-null  float64\n",
      " 55  rougher.state.floatbank10_b_air                     22646 non-null  float64\n",
      " 56  rougher.state.floatbank10_b_level                   22647 non-null  float64\n",
      " 57  rougher.state.floatbank10_c_air                     22646 non-null  float64\n",
      " 58  rougher.state.floatbank10_c_level                   22654 non-null  float64\n",
      " 59  rougher.state.floatbank10_d_air                     22641 non-null  float64\n",
      " 60  rougher.state.floatbank10_d_level                   22649 non-null  float64\n",
      " 61  rougher.state.floatbank10_e_air                     22096 non-null  float64\n",
      " 62  rougher.state.floatbank10_e_level                   22649 non-null  float64\n",
      " 63  rougher.state.floatbank10_f_air                     22641 non-null  float64\n",
      " 64  rougher.state.floatbank10_f_level                   22642 non-null  float64\n",
      " 65  secondary_cleaner.output.tail_ag                    22616 non-null  float64\n",
      " 66  secondary_cleaner.output.tail_pb                    22600 non-null  float64\n",
      " 67  secondary_cleaner.output.tail_sol                   20501 non-null  float64\n",
      " 68  secondary_cleaner.output.tail_au                    22618 non-null  float64\n",
      " 69  secondary_cleaner.state.floatbank2_a_air            22333 non-null  float64\n",
      " 70  secondary_cleaner.state.floatbank2_a_level          22591 non-null  float64\n",
      " 71  secondary_cleaner.state.floatbank2_b_air            22538 non-null  float64\n",
      " 72  secondary_cleaner.state.floatbank2_b_level          22588 non-null  float64\n",
      " 73  secondary_cleaner.state.floatbank3_a_air            22585 non-null  float64\n",
      " 74  secondary_cleaner.state.floatbank3_a_level          22587 non-null  float64\n",
      " 75  secondary_cleaner.state.floatbank3_b_air            22592 non-null  float64\n",
      " 76  secondary_cleaner.state.floatbank3_b_level          22590 non-null  float64\n",
      " 77  secondary_cleaner.state.floatbank4_a_air            22571 non-null  float64\n",
      " 78  secondary_cleaner.state.floatbank4_a_level          22587 non-null  float64\n",
      " 79  secondary_cleaner.state.floatbank4_b_air            22608 non-null  float64\n",
      " 80  secondary_cleaner.state.floatbank4_b_level          22607 non-null  float64\n",
      " 81  secondary_cleaner.state.floatbank5_a_air            22615 non-null  float64\n",
      " 82  secondary_cleaner.state.floatbank5_a_level          22615 non-null  float64\n",
      " 83  secondary_cleaner.state.floatbank5_b_air            22615 non-null  float64\n",
      " 84  secondary_cleaner.state.floatbank5_b_level          22616 non-null  float64\n",
      " 85  secondary_cleaner.state.floatbank6_a_air            22597 non-null  float64\n",
      " 86  secondary_cleaner.state.floatbank6_a_level          22615 non-null  float64\n",
      "dtypes: float64(86), object(1)\n",
      "memory usage: 15.1+ MB\n"
     ]
    },
    {
     "data": {
      "text/plain": [
       "None"
      ]
     },
     "metadata": {},
     "output_type": "display_data"
    },
    {
     "name": "stdout",
     "output_type": "stream",
     "text": [
      "==================================================\n",
      "\"gold_recovery_train\" info:\n",
      "\n",
      "<class 'pandas.core.frame.DataFrame'>\n",
      "RangeIndex: 16860 entries, 0 to 16859\n",
      "Data columns (total 87 columns):\n",
      " #   Column                                              Non-Null Count  Dtype  \n",
      "---  ------                                              --------------  -----  \n",
      " 0   date                                                16860 non-null  object \n",
      " 1   final.output.concentrate_ag                         16788 non-null  float64\n",
      " 2   final.output.concentrate_pb                         16788 non-null  float64\n",
      " 3   final.output.concentrate_sol                        16490 non-null  float64\n",
      " 4   final.output.concentrate_au                         16789 non-null  float64\n",
      " 5   final.output.recovery                               15339 non-null  float64\n",
      " 6   final.output.tail_ag                                16794 non-null  float64\n",
      " 7   final.output.tail_pb                                16677 non-null  float64\n",
      " 8   final.output.tail_sol                               16715 non-null  float64\n",
      " 9   final.output.tail_au                                16794 non-null  float64\n",
      " 10  primary_cleaner.input.sulfate                       15553 non-null  float64\n",
      " 11  primary_cleaner.input.depressant                    15598 non-null  float64\n",
      " 12  primary_cleaner.input.feed_size                     16860 non-null  float64\n",
      " 13  primary_cleaner.input.xanthate                      15875 non-null  float64\n",
      " 14  primary_cleaner.output.concentrate_ag               16778 non-null  float64\n",
      " 15  primary_cleaner.output.concentrate_pb               16502 non-null  float64\n",
      " 16  primary_cleaner.output.concentrate_sol              16224 non-null  float64\n",
      " 17  primary_cleaner.output.concentrate_au               16778 non-null  float64\n",
      " 18  primary_cleaner.output.tail_ag                      16777 non-null  float64\n",
      " 19  primary_cleaner.output.tail_pb                      16761 non-null  float64\n",
      " 20  primary_cleaner.output.tail_sol                     16579 non-null  float64\n",
      " 21  primary_cleaner.output.tail_au                      16777 non-null  float64\n",
      " 22  primary_cleaner.state.floatbank8_a_air              16820 non-null  float64\n",
      " 23  primary_cleaner.state.floatbank8_a_level            16827 non-null  float64\n",
      " 24  primary_cleaner.state.floatbank8_b_air              16820 non-null  float64\n",
      " 25  primary_cleaner.state.floatbank8_b_level            16833 non-null  float64\n",
      " 26  primary_cleaner.state.floatbank8_c_air              16822 non-null  float64\n",
      " 27  primary_cleaner.state.floatbank8_c_level            16833 non-null  float64\n",
      " 28  primary_cleaner.state.floatbank8_d_air              16821 non-null  float64\n",
      " 29  primary_cleaner.state.floatbank8_d_level            16833 non-null  float64\n",
      " 30  rougher.calculation.sulfate_to_au_concentrate       16833 non-null  float64\n",
      " 31  rougher.calculation.floatbank10_sulfate_to_au_feed  16833 non-null  float64\n",
      " 32  rougher.calculation.floatbank11_sulfate_to_au_feed  16833 non-null  float64\n",
      " 33  rougher.calculation.au_pb_ratio                     15618 non-null  float64\n",
      " 34  rougher.input.feed_ag                               16778 non-null  float64\n",
      " 35  rougher.input.feed_pb                               16632 non-null  float64\n",
      " 36  rougher.input.feed_rate                             16347 non-null  float64\n",
      " 37  rougher.input.feed_size                             16443 non-null  float64\n",
      " 38  rougher.input.feed_sol                              16568 non-null  float64\n",
      " 39  rougher.input.feed_au                               16777 non-null  float64\n",
      " 40  rougher.input.floatbank10_sulfate                   15816 non-null  float64\n",
      " 41  rougher.input.floatbank10_xanthate                  16514 non-null  float64\n",
      " 42  rougher.input.floatbank11_sulfate                   16237 non-null  float64\n",
      " 43  rougher.input.floatbank11_xanthate                  14956 non-null  float64\n",
      " 44  rougher.output.concentrate_ag                       16778 non-null  float64\n",
      " 45  rougher.output.concentrate_pb                       16778 non-null  float64\n",
      " 46  rougher.output.concentrate_sol                      16698 non-null  float64\n",
      " 47  rougher.output.concentrate_au                       16778 non-null  float64\n",
      " 48  rougher.output.recovery                             14287 non-null  float64\n",
      " 49  rougher.output.tail_ag                              14610 non-null  float64\n",
      " 50  rougher.output.tail_pb                              16778 non-null  float64\n",
      " 51  rougher.output.tail_sol                             14611 non-null  float64\n",
      " 52  rougher.output.tail_au                              14611 non-null  float64\n",
      " 53  rougher.state.floatbank10_a_air                     16807 non-null  float64\n",
      " 54  rougher.state.floatbank10_a_level                   16807 non-null  float64\n",
      " 55  rougher.state.floatbank10_b_air                     16807 non-null  float64\n",
      " 56  rougher.state.floatbank10_b_level                   16807 non-null  float64\n",
      " 57  rougher.state.floatbank10_c_air                     16807 non-null  float64\n",
      " 58  rougher.state.floatbank10_c_level                   16814 non-null  float64\n",
      " 59  rougher.state.floatbank10_d_air                     16802 non-null  float64\n",
      " 60  rougher.state.floatbank10_d_level                   16809 non-null  float64\n",
      " 61  rougher.state.floatbank10_e_air                     16257 non-null  float64\n",
      " 62  rougher.state.floatbank10_e_level                   16809 non-null  float64\n",
      " 63  rougher.state.floatbank10_f_air                     16802 non-null  float64\n",
      " 64  rougher.state.floatbank10_f_level                   16802 non-null  float64\n",
      " 65  secondary_cleaner.output.tail_ag                    16776 non-null  float64\n",
      " 66  secondary_cleaner.output.tail_pb                    16764 non-null  float64\n",
      " 67  secondary_cleaner.output.tail_sol                   14874 non-null  float64\n",
      " 68  secondary_cleaner.output.tail_au                    16778 non-null  float64\n",
      " 69  secondary_cleaner.state.floatbank2_a_air            16497 non-null  float64\n",
      " 70  secondary_cleaner.state.floatbank2_a_level          16751 non-null  float64\n",
      " 71  secondary_cleaner.state.floatbank2_b_air            16705 non-null  float64\n",
      " 72  secondary_cleaner.state.floatbank2_b_level          16748 non-null  float64\n",
      " 73  secondary_cleaner.state.floatbank3_a_air            16763 non-null  float64\n",
      " 74  secondary_cleaner.state.floatbank3_a_level          16747 non-null  float64\n",
      " 75  secondary_cleaner.state.floatbank3_b_air            16752 non-null  float64\n",
      " 76  secondary_cleaner.state.floatbank3_b_level          16750 non-null  float64\n",
      " 77  secondary_cleaner.state.floatbank4_a_air            16731 non-null  float64\n",
      " 78  secondary_cleaner.state.floatbank4_a_level          16747 non-null  float64\n",
      " 79  secondary_cleaner.state.floatbank4_b_air            16768 non-null  float64\n",
      " 80  secondary_cleaner.state.floatbank4_b_level          16767 non-null  float64\n",
      " 81  secondary_cleaner.state.floatbank5_a_air            16775 non-null  float64\n",
      " 82  secondary_cleaner.state.floatbank5_a_level          16775 non-null  float64\n",
      " 83  secondary_cleaner.state.floatbank5_b_air            16775 non-null  float64\n",
      " 84  secondary_cleaner.state.floatbank5_b_level          16776 non-null  float64\n",
      " 85  secondary_cleaner.state.floatbank6_a_air            16757 non-null  float64\n",
      " 86  secondary_cleaner.state.floatbank6_a_level          16775 non-null  float64\n",
      "dtypes: float64(86), object(1)\n",
      "memory usage: 11.2+ MB\n"
     ]
    },
    {
     "data": {
      "text/plain": [
       "None"
      ]
     },
     "metadata": {},
     "output_type": "display_data"
    },
    {
     "name": "stdout",
     "output_type": "stream",
     "text": [
      "==================================================\n",
      "\"gold_recovery_test\" info:\n",
      "\n",
      "<class 'pandas.core.frame.DataFrame'>\n",
      "RangeIndex: 5856 entries, 0 to 5855\n",
      "Data columns (total 53 columns):\n",
      " #   Column                                      Non-Null Count  Dtype  \n",
      "---  ------                                      --------------  -----  \n",
      " 0   date                                        5856 non-null   object \n",
      " 1   primary_cleaner.input.sulfate               5554 non-null   float64\n",
      " 2   primary_cleaner.input.depressant            5572 non-null   float64\n",
      " 3   primary_cleaner.input.feed_size             5856 non-null   float64\n",
      " 4   primary_cleaner.input.xanthate              5690 non-null   float64\n",
      " 5   primary_cleaner.state.floatbank8_a_air      5840 non-null   float64\n",
      " 6   primary_cleaner.state.floatbank8_a_level    5840 non-null   float64\n",
      " 7   primary_cleaner.state.floatbank8_b_air      5840 non-null   float64\n",
      " 8   primary_cleaner.state.floatbank8_b_level    5840 non-null   float64\n",
      " 9   primary_cleaner.state.floatbank8_c_air      5840 non-null   float64\n",
      " 10  primary_cleaner.state.floatbank8_c_level    5840 non-null   float64\n",
      " 11  primary_cleaner.state.floatbank8_d_air      5840 non-null   float64\n",
      " 12  primary_cleaner.state.floatbank8_d_level    5840 non-null   float64\n",
      " 13  rougher.input.feed_ag                       5840 non-null   float64\n",
      " 14  rougher.input.feed_pb                       5840 non-null   float64\n",
      " 15  rougher.input.feed_rate                     5816 non-null   float64\n",
      " 16  rougher.input.feed_size                     5834 non-null   float64\n",
      " 17  rougher.input.feed_sol                      5789 non-null   float64\n",
      " 18  rougher.input.feed_au                       5840 non-null   float64\n",
      " 19  rougher.input.floatbank10_sulfate           5599 non-null   float64\n",
      " 20  rougher.input.floatbank10_xanthate          5733 non-null   float64\n",
      " 21  rougher.input.floatbank11_sulfate           5801 non-null   float64\n",
      " 22  rougher.input.floatbank11_xanthate          5503 non-null   float64\n",
      " 23  rougher.state.floatbank10_a_air             5839 non-null   float64\n",
      " 24  rougher.state.floatbank10_a_level           5840 non-null   float64\n",
      " 25  rougher.state.floatbank10_b_air             5839 non-null   float64\n",
      " 26  rougher.state.floatbank10_b_level           5840 non-null   float64\n",
      " 27  rougher.state.floatbank10_c_air             5839 non-null   float64\n",
      " 28  rougher.state.floatbank10_c_level           5840 non-null   float64\n",
      " 29  rougher.state.floatbank10_d_air             5839 non-null   float64\n",
      " 30  rougher.state.floatbank10_d_level           5840 non-null   float64\n",
      " 31  rougher.state.floatbank10_e_air             5839 non-null   float64\n",
      " 32  rougher.state.floatbank10_e_level           5840 non-null   float64\n",
      " 33  rougher.state.floatbank10_f_air             5839 non-null   float64\n",
      " 34  rougher.state.floatbank10_f_level           5840 non-null   float64\n",
      " 35  secondary_cleaner.state.floatbank2_a_air    5836 non-null   float64\n",
      " 36  secondary_cleaner.state.floatbank2_a_level  5840 non-null   float64\n",
      " 37  secondary_cleaner.state.floatbank2_b_air    5833 non-null   float64\n",
      " 38  secondary_cleaner.state.floatbank2_b_level  5840 non-null   float64\n",
      " 39  secondary_cleaner.state.floatbank3_a_air    5822 non-null   float64\n",
      " 40  secondary_cleaner.state.floatbank3_a_level  5840 non-null   float64\n",
      " 41  secondary_cleaner.state.floatbank3_b_air    5840 non-null   float64\n",
      " 42  secondary_cleaner.state.floatbank3_b_level  5840 non-null   float64\n",
      " 43  secondary_cleaner.state.floatbank4_a_air    5840 non-null   float64\n",
      " 44  secondary_cleaner.state.floatbank4_a_level  5840 non-null   float64\n",
      " 45  secondary_cleaner.state.floatbank4_b_air    5840 non-null   float64\n",
      " 46  secondary_cleaner.state.floatbank4_b_level  5840 non-null   float64\n",
      " 47  secondary_cleaner.state.floatbank5_a_air    5840 non-null   float64\n",
      " 48  secondary_cleaner.state.floatbank5_a_level  5840 non-null   float64\n",
      " 49  secondary_cleaner.state.floatbank5_b_air    5840 non-null   float64\n",
      " 50  secondary_cleaner.state.floatbank5_b_level  5840 non-null   float64\n",
      " 51  secondary_cleaner.state.floatbank6_a_air    5840 non-null   float64\n",
      " 52  secondary_cleaner.state.floatbank6_a_level  5840 non-null   float64\n",
      "dtypes: float64(52), object(1)\n",
      "memory usage: 2.4+ MB\n"
     ]
    },
    {
     "data": {
      "text/plain": [
       "None"
      ]
     },
     "metadata": {},
     "output_type": "display_data"
    }
   ],
   "source": [
    "print('\"gold_recovery_full\" info:\\n')\n",
    "display(gold_recovery_full.info())\n",
    "print('=' * 50)\n",
    "print('\"gold_recovery_train\" info:\\n')\n",
    "display(gold_recovery_train.info())\n",
    "print('=' * 50)\n",
    "print('\"gold_recovery_test\" info:\\n')\n",
    "display(gold_recovery_test.info())"
   ]
  },
  {
   "cell_type": "code",
   "execution_count": 4,
   "id": "fb9888ea",
   "metadata": {
    "colab": {
     "base_uri": "https://localhost:8080/"
    },
    "id": "318a55d3",
    "outputId": "69e9da6b-7f4c-45e2-dafb-b93efecb3158"
   },
   "outputs": [
    {
     "name": "stdout",
     "output_type": "stream",
     "text": [
      "\"gold_recovery_full\" dataset missed values:\n",
      "date                                            0\n",
      "final.output.concentrate_ag                    89\n",
      "final.output.concentrate_pb                    87\n",
      "final.output.concentrate_sol                  385\n",
      "final.output.concentrate_au                    86\n",
      "                                             ... \n",
      "secondary_cleaner.state.floatbank5_a_level    101\n",
      "secondary_cleaner.state.floatbank5_b_air      101\n",
      "secondary_cleaner.state.floatbank5_b_level    100\n",
      "secondary_cleaner.state.floatbank6_a_air      119\n",
      "secondary_cleaner.state.floatbank6_a_level    101\n",
      "Length: 87, dtype: int64\n",
      "\n",
      "\n",
      "\"gold_recovery_train\" dataset missed values:\n",
      "date                                            0\n",
      "final.output.concentrate_ag                    72\n",
      "final.output.concentrate_pb                    72\n",
      "final.output.concentrate_sol                  370\n",
      "final.output.concentrate_au                    71\n",
      "                                             ... \n",
      "secondary_cleaner.state.floatbank5_a_level     85\n",
      "secondary_cleaner.state.floatbank5_b_air       85\n",
      "secondary_cleaner.state.floatbank5_b_level     84\n",
      "secondary_cleaner.state.floatbank6_a_air      103\n",
      "secondary_cleaner.state.floatbank6_a_level     85\n",
      "Length: 87, dtype: int64\n",
      "\n",
      "\n",
      "\"gold_recovery_test\" dataset missed values:\n",
      "date                                            0\n",
      "primary_cleaner.input.sulfate                 302\n",
      "primary_cleaner.input.depressant              284\n",
      "primary_cleaner.input.feed_size                 0\n",
      "primary_cleaner.input.xanthate                166\n",
      "primary_cleaner.state.floatbank8_a_air         16\n",
      "primary_cleaner.state.floatbank8_a_level       16\n",
      "primary_cleaner.state.floatbank8_b_air         16\n",
      "primary_cleaner.state.floatbank8_b_level       16\n",
      "primary_cleaner.state.floatbank8_c_air         16\n",
      "primary_cleaner.state.floatbank8_c_level       16\n",
      "primary_cleaner.state.floatbank8_d_air         16\n",
      "primary_cleaner.state.floatbank8_d_level       16\n",
      "rougher.input.feed_ag                          16\n",
      "rougher.input.feed_pb                          16\n",
      "rougher.input.feed_rate                        40\n",
      "rougher.input.feed_size                        22\n",
      "rougher.input.feed_sol                         67\n",
      "rougher.input.feed_au                          16\n",
      "rougher.input.floatbank10_sulfate             257\n",
      "rougher.input.floatbank10_xanthate            123\n",
      "rougher.input.floatbank11_sulfate              55\n",
      "rougher.input.floatbank11_xanthate            353\n",
      "rougher.state.floatbank10_a_air                17\n",
      "rougher.state.floatbank10_a_level              16\n",
      "rougher.state.floatbank10_b_air                17\n",
      "rougher.state.floatbank10_b_level              16\n",
      "rougher.state.floatbank10_c_air                17\n",
      "rougher.state.floatbank10_c_level              16\n",
      "rougher.state.floatbank10_d_air                17\n",
      "rougher.state.floatbank10_d_level              16\n",
      "rougher.state.floatbank10_e_air                17\n",
      "rougher.state.floatbank10_e_level              16\n",
      "rougher.state.floatbank10_f_air                17\n",
      "rougher.state.floatbank10_f_level              16\n",
      "secondary_cleaner.state.floatbank2_a_air       20\n",
      "secondary_cleaner.state.floatbank2_a_level     16\n",
      "secondary_cleaner.state.floatbank2_b_air       23\n",
      "secondary_cleaner.state.floatbank2_b_level     16\n",
      "secondary_cleaner.state.floatbank3_a_air       34\n",
      "secondary_cleaner.state.floatbank3_a_level     16\n",
      "secondary_cleaner.state.floatbank3_b_air       16\n",
      "secondary_cleaner.state.floatbank3_b_level     16\n",
      "secondary_cleaner.state.floatbank4_a_air       16\n",
      "secondary_cleaner.state.floatbank4_a_level     16\n",
      "secondary_cleaner.state.floatbank4_b_air       16\n",
      "secondary_cleaner.state.floatbank4_b_level     16\n",
      "secondary_cleaner.state.floatbank5_a_air       16\n",
      "secondary_cleaner.state.floatbank5_a_level     16\n",
      "secondary_cleaner.state.floatbank5_b_air       16\n",
      "secondary_cleaner.state.floatbank5_b_level     16\n",
      "secondary_cleaner.state.floatbank6_a_air       16\n",
      "secondary_cleaner.state.floatbank6_a_level     16\n",
      "dtype: int64\n",
      "\n",
      "\n"
     ]
    }
   ],
   "source": [
    "datasets = [gold_recovery_full, gold_recovery_train, gold_recovery_test]\n",
    "for dataset in datasets:\n",
    "    # presenting shape of each dataset\n",
    "    print(f'\"{dataset.name}\" dataset missed values:\\n{dataset.isna().sum()}\\n\\n')"
   ]
  },
  {
   "cell_type": "code",
   "execution_count": 5,
   "id": "41cf54f2",
   "metadata": {
    "colab": {
     "base_uri": "https://localhost:8080/"
    },
    "id": "78c6fbdd",
    "outputId": "7540d3bd-cc18-4525-e4fb-9db01336d38f"
   },
   "outputs": [
    {
     "name": "stdout",
     "output_type": "stream",
     "text": [
      "\"gold_recovery_full\" dataset shape: (22716, 87) and 0 duplicates\n",
      "\"gold_recovery_train\" dataset shape: (16860, 87) and 0 duplicates\n",
      "\"gold_recovery_test\" dataset shape: (5856, 53) and 0 duplicates\n"
     ]
    }
   ],
   "source": [
    "datasets = [gold_recovery_full, gold_recovery_train, gold_recovery_test]\n",
    "for dataset in datasets:\n",
    "    # presenting shape of each dataset\n",
    "    print(f'\"{dataset.name}\" dataset shape: {dataset.shape} and {dataset.duplicated().sum()} duplicates')\n",
    "    # converting 'date' column dtype to 'datetime'\n",
    "    dataset['date'] = pd.to_datetime(dataset['date'])\n",
    "    #dataset.index = pd.to_datetime(dataset.index)\n",
    "    # and changing it's index columns to 'date'\n",
    "    #dataset = dataset.set_index('date')\n",
    "    # converting all other columns except 'date' to 'float32'\n",
    "    # dataset.loc[:, dataset.columns != 'date'] = dataset.loc[:, dataset.columns != 'date'].astype('float32')\n",
    "\n",
    "# display(gold_recovery_full.head(3))\n",
    "# display(gold_recovery_train.head(3))\n",
    "# display(gold_recovery_test.head(3))"
   ]
  },
  {
   "cell_type": "markdown",
   "id": "b760b170",
   "metadata": {
    "id": "26d06ab0"
   },
   "source": [
    "### Data visualization"
   ]
  },
  {
   "cell_type": "code",
   "execution_count": 6,
   "id": "1eadab0f",
   "metadata": {
    "colab": {
     "base_uri": "https://localhost:8080/",
     "height": 347
    },
    "id": "c8bf000f",
    "outputId": "e7cb9a34-c48c-4b71-d295-dbd8dace603b"
   },
   "outputs": [
    {
     "data": {
      "image/png": "[encoded data removed]",
      "text/plain": [
       "<Figure size 1152x72 with 1 Axes>"
      ]
     },
     "metadata": {
      "needs_background": "light"
     },
     "output_type": "display_data"
    },
    {
     "data": {
      "image/png": "[encoded data removed]",
      "text/plain": [
       "<Figure size 1152x72 with 1 Axes>"
      ]
     },
     "metadata": {
      "needs_background": "light"
     },
     "output_type": "display_data"
    },
    {
     "data": {
      "image/png": "[encoded data removed]",
      "text/plain": [
       "<Figure size 1152x72 with 1 Axes>"
      ]
     },
     "metadata": {
      "needs_background": "light"
     },
     "output_type": "display_data"
    }
   ],
   "source": [
    "# plotting some data\n",
    "for dataset in datasets:\n",
    "    dataset.plot(\n",
    "                 x='date', y=['rougher.input.feed_ag'], figsize=(16, 1),\n",
    "                 legend=False, title=f'{dataset.name} dataset', rot=0, ylim=(-10, 20),\n",
    "                 xlim=(gold_recovery_full.date.min(), gold_recovery_full.date.max())\n",
    "                )"
   ]
  },
  {
   "cell_type": "markdown",
   "id": "fea7cf7a",
   "metadata": {
    "id": "9bf9cf93"
   },
   "source": [
    "> This figure shows us, that the time frame, presented in the \"gold_recovery_full\" dataset spans from Jan 2016 till Sept 2018. Other two datasets have missing values, e.g. \"gold_recovery_train\" dataset lacks values from Sept 2016 till Jan 2017, and from Sept 2017 till Jan 2018. Furthermore, \"gold_recovery_test\" dataset has missing values from Jan 2016 till Sept 2016, then from Jan 2017 till Sept 2017, and finally from Jan 2018 till Sept 2018. "
   ]
  },
  {
   "cell_type": "markdown",
   "id": "99ef5813",
   "metadata": {
    "id": "cd36b845"
   },
   "source": [
    "**Conclusion:**\n",
    "\n",
    "1. All datasets have missing values, however, it is very hard to fill them somehow due to the complexity of the gold ore extracting process, so we will leave it as it is for now.  \n",
    "2. Some columns are missing in the `gold_recovery_test` dataset. Since it would be used to testing the model, we should not train these models on the columns which are missing in the test dataset.\n",
    "3. The `date` column is not very important because the chemical process doesn't depend on the date and time - it is always the same if done in a closed environment (which we do not clearly know). But apparently, the ML model shouldn't rely on the date and time.\n",
    "4. We see, that the gold mean concentration gradually increases after each cleaning stage. Similar happens to the tails with some small differences.\n",
    "5. The dates, presented in all datasets differ in time frame. \n"
   ]
  },
  {
   "cell_type": "markdown",
   "id": "bcf26083",
   "metadata": {
    "id": "369d88ce"
   },
   "source": [
    "### Gold Recovery calculation\n",
    "\n",
    "<img src=\"img/recovery.jpg\" alt=\"recovery\" width=\"600\"/>\n",
    "\n",
    "where:\n",
    "- C — share of gold in the concentrate right after flotation (for finding the rougher concentrate recovery)/after purification (for finding the final concentrate recovery)\n",
    "- F — share of gold in the feed before flotation (for finding the rougher concentrate recovery)/in the concentrate right after flotation (for finding the final concentrate recovery)\n",
    "- T — share of gold in the rougher tails right after flotation (for finding the rougher concentrate recovery)/after purification (for finding the final concentrate recovery)"
   ]
  },
  {
   "cell_type": "code",
   "execution_count": 7,
   "id": "802ae4b0",
   "metadata": {
    "id": "ede81957"
   },
   "outputs": [],
   "source": [
    "def recovery_calculation(dataset):\n",
    "    C = dataset['rougher.output.concentrate_au'] # share of gold in the concentrate right after flotation\n",
    "    F = dataset['rougher.input.feed_au'] # share of gold in the feed before flotation\n",
    "    T = dataset['rougher.output.tail_au'] # share of gold in the rougher tails right after flotation\n",
    "    \n",
    "    # recovery calculations\n",
    "    dataset['recovery_calc'] = ((C * (F - T)) / (F * (C - T))) * 100\n",
    "    \n",
    "    # removing values higher than 100 and lower than 0\n",
    "    dataset[dataset['recovery_calc'] > 100] = np.nan\n",
    "    dataset[dataset['recovery_calc'] < 0] = np.nan\n",
    "    \n",
    "    return dataset"
   ]
  },
  {
   "cell_type": "code",
   "execution_count": 8,
   "id": "18b4a058",
   "metadata": {
    "colab": {
     "base_uri": "https://localhost:8080/",
     "height": 342
    },
    "id": "56adbe49",
    "outputId": "c3ac7656-2b8a-4af7-88e2-99742e265309"
   },
   "outputs": [
    {
     "data": {
      "image/png": "[encoded data removed]",
      "text/plain": [
       "<Figure size 720x360 with 1 Axes>"
      ]
     },
     "metadata": {
      "needs_background": "light"
     },
     "output_type": "display_data"
    }
   ],
   "source": [
    "gold_recovery_train = recovery_calculation(gold_recovery_train)\n",
    "mae = mean_absolute_error(gold_recovery_train['rougher.output.recovery'].fillna(0), gold_recovery_train['recovery_calc'].fillna(0))\n",
    "\n",
    "ax = gold_recovery_train.plot(x='date', y='recovery_calc', figsize=(10, 5),\n",
    "                             title='Calculated and actual recoveries', ylabel='recovery')\n",
    "gold_recovery_train.plot(x='date', y='rougher.output.recovery', ax=ax)\n",
    "ax.legend(loc=1)\n",
    "plt.show()"
   ]
  },
  {
   "cell_type": "markdown",
   "id": "544dc91d",
   "metadata": {
    "id": "8be983e9"
   },
   "source": [
    "> As we can see, the calculated recovery (blue line) completely matches with the real one (orange line)."
   ]
  },
  {
   "cell_type": "code",
   "execution_count": 9,
   "id": "9d5f5da5",
   "metadata": {
    "colab": {
     "base_uri": "https://localhost:8080/"
    },
    "id": "2110fd24",
    "outputId": "d3e0b4eb-2c60-4c69-d765-de0461673b53"
   },
   "outputs": [
    {
     "name": "stdout",
     "output_type": "stream",
     "text": [
      "Mean absolute error (MAE) between \"rougher.output.recovery\" feature and the calculated recovery = 7.88e-15\n"
     ]
    }
   ],
   "source": [
    "print('Mean absolute error (MAE) between \"rougher.output.recovery\" feature and the calculated recovery = {:.3}'.format(mae))"
   ]
  },
  {
   "cell_type": "markdown",
   "id": "bdae0191",
   "metadata": {
    "id": "10bbd6a3"
   },
   "source": [
    "**Conclusion:**\n",
    "\n",
    "The calculated and provided data about gold recovery completely matches each other. Furthermore, MAE shows that there is basically no difference between these values."
   ]
  },
  {
   "cell_type": "markdown",
   "id": "5eb3b0bb",
   "metadata": {
    "id": "d4ddcda9"
   },
   "source": [
    "### Missing data in test dataset"
   ]
  },
  {
   "cell_type": "code",
   "execution_count": 10,
   "id": "a27b87a2",
   "metadata": {
    "colab": {
     "base_uri": "https://localhost:8080/",
     "height": 1000
    },
    "id": "ac655e57",
    "outputId": "c21517ac-e862-47b8-f967-558b32de464c"
   },
   "outputs": [
    {
     "name": "stdout",
     "output_type": "stream",
     "text": [
      "\"gold_recovery_test\" dataset lacks 35 columns\n",
      "==================================================\n",
      "These columns are: \n"
     ]
    },
    {
     "data": {
      "text/plain": [
       "Index(['date', 'final.output.concentrate_ag', 'final.output.concentrate_au',\n",
       "       'final.output.concentrate_pb', 'final.output.concentrate_sol',\n",
       "       'final.output.recovery', 'final.output.tail_ag', 'final.output.tail_au',\n",
       "       'final.output.tail_pb', 'final.output.tail_sol',\n",
       "       'primary_cleaner.input.depressant', 'primary_cleaner.input.feed_size',\n",
       "       'primary_cleaner.input.sulfate', 'primary_cleaner.input.xanthate',\n",
       "       'primary_cleaner.output.concentrate_ag',\n",
       "       'primary_cleaner.output.concentrate_au',\n",
       "       'primary_cleaner.output.concentrate_pb',\n",
       "       'primary_cleaner.output.concentrate_sol',\n",
       "       'primary_cleaner.output.tail_ag', 'primary_cleaner.output.tail_au',\n",
       "       'primary_cleaner.output.tail_pb', 'primary_cleaner.output.tail_sol',\n",
       "       'primary_cleaner.state.floatbank8_a_air',\n",
       "       'primary_cleaner.state.floatbank8_a_level',\n",
       "       'primary_cleaner.state.floatbank8_b_air',\n",
       "       'primary_cleaner.state.floatbank8_b_level',\n",
       "       'primary_cleaner.state.floatbank8_c_air',\n",
       "       'primary_cleaner.state.floatbank8_c_level',\n",
       "       'primary_cleaner.state.floatbank8_d_air',\n",
       "       'primary_cleaner.state.floatbank8_d_level', 'recovery_calc',\n",
       "       'rougher.calculation.au_pb_ratio',\n",
       "       'rougher.calculation.floatbank10_sulfate_to_au_feed',\n",
       "       'rougher.calculation.floatbank11_sulfate_to_au_feed',\n",
       "       'rougher.calculation.sulfate_to_au_concentrate',\n",
       "       'rougher.input.feed_ag', 'rougher.input.feed_au',\n",
       "       'rougher.input.feed_pb', 'rougher.input.feed_rate',\n",
       "       'rougher.input.feed_size', 'rougher.input.feed_sol',\n",
       "       'rougher.input.floatbank10_sulfate',\n",
       "       'rougher.input.floatbank10_xanthate',\n",
       "       'rougher.input.floatbank11_sulfate',\n",
       "       'rougher.input.floatbank11_xanthate', 'rougher.output.concentrate_ag',\n",
       "       'rougher.output.concentrate_au', 'rougher.output.concentrate_pb',\n",
       "       'rougher.output.concentrate_sol', 'rougher.output.recovery',\n",
       "       'rougher.output.tail_ag', 'rougher.output.tail_au',\n",
       "       'rougher.output.tail_pb', 'rougher.output.tail_sol',\n",
       "       'rougher.state.floatbank10_a_air', 'rougher.state.floatbank10_a_level',\n",
       "       'rougher.state.floatbank10_b_air', 'rougher.state.floatbank10_b_level',\n",
       "       'rougher.state.floatbank10_c_air', 'rougher.state.floatbank10_c_level',\n",
       "       'rougher.state.floatbank10_d_air', 'rougher.state.floatbank10_d_level',\n",
       "       'rougher.state.floatbank10_e_air', 'rougher.state.floatbank10_e_level',\n",
       "       'rougher.state.floatbank10_f_air', 'rougher.state.floatbank10_f_level',\n",
       "       'secondary_cleaner.output.tail_ag', 'secondary_cleaner.output.tail_au',\n",
       "       'secondary_cleaner.output.tail_pb', 'secondary_cleaner.output.tail_sol',\n",
       "       'secondary_cleaner.state.floatbank2_a_air',\n",
       "       'secondary_cleaner.state.floatbank2_a_level',\n",
       "       'secondary_cleaner.state.floatbank2_b_air',\n",
       "       'secondary_cleaner.state.floatbank2_b_level',\n",
       "       'secondary_cleaner.state.floatbank3_a_air',\n",
       "       'secondary_cleaner.state.floatbank3_a_level',\n",
       "       'secondary_cleaner.state.floatbank3_b_air',\n",
       "       'secondary_cleaner.state.floatbank3_b_level',\n",
       "       'secondary_cleaner.state.floatbank4_a_air',\n",
       "       'secondary_cleaner.state.floatbank4_a_level',\n",
       "       'secondary_cleaner.state.floatbank4_b_air',\n",
       "       'secondary_cleaner.state.floatbank4_b_level',\n",
       "       'secondary_cleaner.state.floatbank5_a_air',\n",
       "       'secondary_cleaner.state.floatbank5_a_level',\n",
       "       'secondary_cleaner.state.floatbank5_b_air',\n",
       "       'secondary_cleaner.state.floatbank5_b_level',\n",
       "       'secondary_cleaner.state.floatbank6_a_air',\n",
       "       'secondary_cleaner.state.floatbank6_a_level'],\n",
       "      dtype='object')"
      ]
     },
     "metadata": {},
     "output_type": "display_data"
    }
   ],
   "source": [
    "print(f'\"gold_recovery_test\" dataset lacks {gold_recovery_train.shape[-1] - gold_recovery_test.shape[-1]} columns')\n",
    "print('=' * 50)\n",
    "print('These columns are: ')\n",
    "display(gold_recovery_train.columns.difference(gold_recovery_test))"
   ]
  },
  {
   "cell_type": "markdown",
   "id": "b72ca6e9",
   "metadata": {
    "id": "7e1a5fa4"
   },
   "source": [
    "**Conclusion:**\n",
    "\n",
    "The `gold_recovery_test` dataset lacks 35 columns with `float64` dtype. The columns refer to `final.output`, `primary_cleaner`, `rougher` values, and `secondary_cleaner` values. The data with the mark `calculation` shouldn't be taken into consideration during the ML preparation because they are calculated afterwards. Finally, only the data, which is presented in the `gold_recovery_test` dataset will be considered during the ML preparation because all the other data is received \"post factum\". So that means that we need to delete all columns in the `gold_recovery_train` which are missing in the `gold_recovery_test`."
   ]
  },
  {
   "cell_type": "markdown",
   "id": "25cebda0",
   "metadata": {
    "id": "071c0a9c"
   },
   "source": [
    "### Data preprocessing"
   ]
  },
  {
   "cell_type": "code",
   "execution_count": 11,
   "id": "e4caede5",
   "metadata": {
    "colab": {
     "base_uri": "https://localhost:8080/",
     "height": 473
    },
    "id": "59761d85",
    "outputId": "b6de736f-5687-4412-cd50-77288a4fe72e"
   },
   "outputs": [
    {
     "data": {
      "text/html": [
       "<div>\n",
       "<style scoped>\n",
       "    .dataframe tbody tr th:only-of-type {\n",
       "        vertical-align: middle;\n",
       "    }\n",
       "\n",
       "    .dataframe tbody tr th {\n",
       "        vertical-align: top;\n",
       "    }\n",
       "\n",
       "    .dataframe thead th {\n",
       "        text-align: right;\n",
       "    }\n",
       "</style>\n",
       "<table border=\"1\" class=\"dataframe\">\n",
       "  <thead>\n",
       "    <tr style=\"text-align: right;\">\n",
       "      <th></th>\n",
       "      <th>date</th>\n",
       "      <th>final.output.concentrate_ag</th>\n",
       "      <th>final.output.concentrate_pb</th>\n",
       "      <th>final.output.concentrate_sol</th>\n",
       "      <th>final.output.concentrate_au</th>\n",
       "      <th>final.output.recovery</th>\n",
       "      <th>final.output.tail_ag</th>\n",
       "      <th>final.output.tail_pb</th>\n",
       "      <th>final.output.tail_sol</th>\n",
       "      <th>final.output.tail_au</th>\n",
       "      <th>...</th>\n",
       "      <th>secondary_cleaner.state.floatbank4_a_air</th>\n",
       "      <th>secondary_cleaner.state.floatbank4_a_level</th>\n",
       "      <th>secondary_cleaner.state.floatbank4_b_air</th>\n",
       "      <th>secondary_cleaner.state.floatbank4_b_level</th>\n",
       "      <th>secondary_cleaner.state.floatbank5_a_air</th>\n",
       "      <th>secondary_cleaner.state.floatbank5_a_level</th>\n",
       "      <th>secondary_cleaner.state.floatbank5_b_air</th>\n",
       "      <th>secondary_cleaner.state.floatbank5_b_level</th>\n",
       "      <th>secondary_cleaner.state.floatbank6_a_air</th>\n",
       "      <th>secondary_cleaner.state.floatbank6_a_level</th>\n",
       "    </tr>\n",
       "  </thead>\n",
       "  <tbody>\n",
       "    <tr>\n",
       "      <th>47</th>\n",
       "      <td>2016-01-16 23:00:00</td>\n",
       "      <td>4.591462</td>\n",
       "      <td>10.628846</td>\n",
       "      <td>5.688961</td>\n",
       "      <td>46.663335</td>\n",
       "      <td>55.088448</td>\n",
       "      <td>10.694584</td>\n",
       "      <td>1.671644</td>\n",
       "      <td>17.910312</td>\n",
       "      <td>2.686782</td>\n",
       "      <td>...</td>\n",
       "      <td>13.997488</td>\n",
       "      <td>-551.224653</td>\n",
       "      <td>11.971272</td>\n",
       "      <td>-550.095619</td>\n",
       "      <td>9.981163</td>\n",
       "      <td>-502.869109</td>\n",
       "      <td>7.941184</td>\n",
       "      <td>-500.623610</td>\n",
       "      <td>12.018837</td>\n",
       "      <td>-600.916665</td>\n",
       "    </tr>\n",
       "    <tr>\n",
       "      <th>48</th>\n",
       "      <td>2016-01-17 00:00:00</td>\n",
       "      <td>5.296830</td>\n",
       "      <td>10.597469</td>\n",
       "      <td>NaN</td>\n",
       "      <td>44.015642</td>\n",
       "      <td>41.962008</td>\n",
       "      <td>11.975654</td>\n",
       "      <td>1.846558</td>\n",
       "      <td>8.138408</td>\n",
       "      <td>2.889469</td>\n",
       "      <td>...</td>\n",
       "      <td>14.006476</td>\n",
       "      <td>-549.388727</td>\n",
       "      <td>11.975967</td>\n",
       "      <td>-550.778624</td>\n",
       "      <td>9.989726</td>\n",
       "      <td>-499.607365</td>\n",
       "      <td>7.958252</td>\n",
       "      <td>-498.882560</td>\n",
       "      <td>11.967977</td>\n",
       "      <td>-599.440603</td>\n",
       "    </tr>\n",
       "    <tr>\n",
       "      <th>49</th>\n",
       "      <td>2016-01-17 01:00:00</td>\n",
       "      <td>7.256114</td>\n",
       "      <td>9.017677</td>\n",
       "      <td>NaN</td>\n",
       "      <td>43.389252</td>\n",
       "      <td>NaN</td>\n",
       "      <td>12.100582</td>\n",
       "      <td>1.758360</td>\n",
       "      <td>4.606019</td>\n",
       "      <td>3.202483</td>\n",
       "      <td>...</td>\n",
       "      <td>14.032364</td>\n",
       "      <td>-549.326033</td>\n",
       "      <td>11.987133</td>\n",
       "      <td>-549.583570</td>\n",
       "      <td>10.094584</td>\n",
       "      <td>-492.041563</td>\n",
       "      <td>8.054770</td>\n",
       "      <td>-498.802262</td>\n",
       "      <td>11.961330</td>\n",
       "      <td>-597.272218</td>\n",
       "    </tr>\n",
       "    <tr>\n",
       "      <th>50</th>\n",
       "      <td>2016-01-17 02:00:00</td>\n",
       "      <td>8.162896</td>\n",
       "      <td>8.877528</td>\n",
       "      <td>NaN</td>\n",
       "      <td>40.715973</td>\n",
       "      <td>49.884856</td>\n",
       "      <td>10.381465</td>\n",
       "      <td>1.024030</td>\n",
       "      <td>12.974257</td>\n",
       "      <td>2.739224</td>\n",
       "      <td>...</td>\n",
       "      <td>13.984906</td>\n",
       "      <td>-550.563329</td>\n",
       "      <td>11.999730</td>\n",
       "      <td>-550.549773</td>\n",
       "      <td>9.941869</td>\n",
       "      <td>-503.282068</td>\n",
       "      <td>8.018850</td>\n",
       "      <td>-500.970716</td>\n",
       "      <td>11.991078</td>\n",
       "      <td>-598.475929</td>\n",
       "    </tr>\n",
       "    <tr>\n",
       "      <th>53</th>\n",
       "      <td>2016-01-17 05:00:00</td>\n",
       "      <td>5.919503</td>\n",
       "      <td>11.078044</td>\n",
       "      <td>6.215769</td>\n",
       "      <td>42.922611</td>\n",
       "      <td>71.308281</td>\n",
       "      <td>10.866006</td>\n",
       "      <td>1.577753</td>\n",
       "      <td>17.550397</td>\n",
       "      <td>2.476280</td>\n",
       "      <td>...</td>\n",
       "      <td>13.972224</td>\n",
       "      <td>-548.238797</td>\n",
       "      <td>12.042964</td>\n",
       "      <td>-550.430774</td>\n",
       "      <td>9.989624</td>\n",
       "      <td>-499.606754</td>\n",
       "      <td>7.950446</td>\n",
       "      <td>-500.352648</td>\n",
       "      <td>12.011728</td>\n",
       "      <td>-599.043399</td>\n",
       "    </tr>\n",
       "  </tbody>\n",
       "</table>\n",
       "<p>5 rows × 87 columns</p>\n",
       "</div>"
      ],
      "text/plain": [
       "                  date  final.output.concentrate_ag  \\\n",
       "47 2016-01-16 23:00:00                     4.591462   \n",
       "48 2016-01-17 00:00:00                     5.296830   \n",
       "49 2016-01-17 01:00:00                     7.256114   \n",
       "50 2016-01-17 02:00:00                     8.162896   \n",
       "53 2016-01-17 05:00:00                     5.919503   \n",
       "\n",
       "    final.output.concentrate_pb  final.output.concentrate_sol  \\\n",
       "47                    10.628846                      5.688961   \n",
       "48                    10.597469                           NaN   \n",
       "49                     9.017677                           NaN   \n",
       "50                     8.877528                           NaN   \n",
       "53                    11.078044                      6.215769   \n",
       "\n",
       "    final.output.concentrate_au  final.output.recovery  final.output.tail_ag  \\\n",
       "47                    46.663335              55.088448             10.694584   \n",
       "48                    44.015642              41.962008             11.975654   \n",
       "49                    43.389252                    NaN             12.100582   \n",
       "50                    40.715973              49.884856             10.381465   \n",
       "53                    42.922611              71.308281             10.866006   \n",
       "\n",
       "    final.output.tail_pb  final.output.tail_sol  final.output.tail_au  ...  \\\n",
       "47              1.671644              17.910312              2.686782  ...   \n",
       "48              1.846558               8.138408              2.889469  ...   \n",
       "49              1.758360               4.606019              3.202483  ...   \n",
       "50              1.024030              12.974257              2.739224  ...   \n",
       "53              1.577753              17.550397              2.476280  ...   \n",
       "\n",
       "    secondary_cleaner.state.floatbank4_a_air  \\\n",
       "47                                 13.997488   \n",
       "48                                 14.006476   \n",
       "49                                 14.032364   \n",
       "50                                 13.984906   \n",
       "53                                 13.972224   \n",
       "\n",
       "    secondary_cleaner.state.floatbank4_a_level  \\\n",
       "47                                 -551.224653   \n",
       "48                                 -549.388727   \n",
       "49                                 -549.326033   \n",
       "50                                 -550.563329   \n",
       "53                                 -548.238797   \n",
       "\n",
       "    secondary_cleaner.state.floatbank4_b_air  \\\n",
       "47                                 11.971272   \n",
       "48                                 11.975967   \n",
       "49                                 11.987133   \n",
       "50                                 11.999730   \n",
       "53                                 12.042964   \n",
       "\n",
       "    secondary_cleaner.state.floatbank4_b_level  \\\n",
       "47                                 -550.095619   \n",
       "48                                 -550.778624   \n",
       "49                                 -549.583570   \n",
       "50                                 -550.549773   \n",
       "53                                 -550.430774   \n",
       "\n",
       "    secondary_cleaner.state.floatbank5_a_air  \\\n",
       "47                                  9.981163   \n",
       "48                                  9.989726   \n",
       "49                                 10.094584   \n",
       "50                                  9.941869   \n",
       "53                                  9.989624   \n",
       "\n",
       "    secondary_cleaner.state.floatbank5_a_level  \\\n",
       "47                                 -502.869109   \n",
       "48                                 -499.607365   \n",
       "49                                 -492.041563   \n",
       "50                                 -503.282068   \n",
       "53                                 -499.606754   \n",
       "\n",
       "    secondary_cleaner.state.floatbank5_b_air  \\\n",
       "47                                  7.941184   \n",
       "48                                  7.958252   \n",
       "49                                  8.054770   \n",
       "50                                  8.018850   \n",
       "53                                  7.950446   \n",
       "\n",
       "    secondary_cleaner.state.floatbank5_b_level  \\\n",
       "47                                 -500.623610   \n",
       "48                                 -498.882560   \n",
       "49                                 -498.802262   \n",
       "50                                 -500.970716   \n",
       "53                                 -500.352648   \n",
       "\n",
       "    secondary_cleaner.state.floatbank6_a_air  \\\n",
       "47                                 12.018837   \n",
       "48                                 11.967977   \n",
       "49                                 11.961330   \n",
       "50                                 11.991078   \n",
       "53                                 12.011728   \n",
       "\n",
       "    secondary_cleaner.state.floatbank6_a_level  \n",
       "47                                 -600.916665  \n",
       "48                                 -599.440603  \n",
       "49                                 -597.272218  \n",
       "50                                 -598.475929  \n",
       "53                                 -599.043399  \n",
       "\n",
       "[5 rows x 87 columns]"
      ]
     },
     "execution_count": 11,
     "metadata": {},
     "output_type": "execute_result"
    }
   ],
   "source": [
    "# let's look at the rows with the missing data\n",
    "gold_recovery_full[gold_recovery_full.isnull().any(axis=1)].head()"
   ]
  },
  {
   "cell_type": "code",
   "execution_count": 12,
   "id": "593806a5",
   "metadata": {
    "colab": {
     "base_uri": "https://localhost:8080/",
     "height": 431
    },
    "id": "dabec5bb",
    "outputId": "8e210874-0bd9-4a79-baaf-a76fc479b360"
   },
   "outputs": [
    {
     "data": {
      "image/png": "[encoded data removed]",
      "text/plain": [
       "<Figure size 864x432 with 2 Axes>"
      ]
     },
     "metadata": {
      "needs_background": "light"
     },
     "output_type": "display_data"
    }
   ],
   "source": [
    "# data before interpolation\n",
    "before_interp = gold_recovery_full.iloc[47:54, [3]]\n",
    "\n",
    "# interpolating data in all three datasets\n",
    "gold_recovery_full.loc[:, gold_recovery_full.columns != 'date'] = gold_recovery_full.loc[:, gold_recovery_full.columns != 'date'].interpolate(method='linear')\n",
    "gold_recovery_train.loc[:, gold_recovery_train.columns != 'date'] = gold_recovery_train.loc[:, gold_recovery_train.columns != 'date'].interpolate(method='linear')\n",
    "gold_recovery_test.loc[:, gold_recovery_test.columns != 'date'] = gold_recovery_test.loc[:, gold_recovery_test.columns != 'date'].interpolate(method='linear')\n",
    "\n",
    "# data after interpolation\n",
    "after_interp = gold_recovery_full.iloc[47:54, [3]]\n",
    "\n",
    "# plotting\n",
    "fig, (ax1, ax2) = plt.subplots(1, 2, figsize=(12, 6))\n",
    "\n",
    "before_interp.plot(kind='bar', ax=ax1, title='Before interpolation', rot=0)\n",
    "ax1.set(xlabel='Index')\n",
    "ax1.set(ylabel='Value')\n",
    "\n",
    "after_interp.plot(kind='bar', ax=ax2, title='After interpolation', rot=0)\n",
    "ax2.set(xlabel='Index')\n",
    "ax2.set(ylabel='Value')\n",
    "\n",
    "fig.suptitle('Missing data interpolation', fontsize=16)\n",
    "\n",
    "plt.show()"
   ]
  },
  {
   "cell_type": "markdown",
   "id": "cb19af09",
   "metadata": {
    "id": "83f8b3f1"
   },
   "source": [
    "> As we can see, values in some rows are not filled in for up to several hours. We have linearly interpolated the missing values."
   ]
  },
  {
   "cell_type": "markdown",
   "id": "24317b87",
   "metadata": {
    "id": "cd0affb7"
   },
   "source": [
    "## Data analysis"
   ]
  },
  {
   "cell_type": "markdown",
   "id": "0652160a",
   "metadata": {
    "id": "41cac8e4"
   },
   "source": [
    "### Concentrations of metals (Au, Ag, Pb) change depending on the purification stage."
   ]
  },
  {
   "cell_type": "code",
   "execution_count": 13,
   "id": "369ba96a",
   "metadata": {
    "colab": {
     "base_uri": "https://localhost:8080/",
     "height": 558
    },
    "id": "5f910ebc",
    "outputId": "4fb6a997-d5d4-402b-ffc6-3ea840bd953d"
   },
   "outputs": [
    {
     "data": {
      "image/png": "[encoded data removed]",
      "text/plain": [
       "<Figure size 1080x576 with 3 Axes>"
      ]
     },
     "metadata": {
      "needs_background": "light"
     },
     "output_type": "display_data"
    }
   ],
   "source": [
    "au_conc = ['rougher.input.feed_au','rougher.output.concentrate_au',\n",
    "             'primary_cleaner.output.concentrate_au', 'final.output.concentrate_au']\n",
    "\n",
    "ag_conc = ['rougher.input.feed_ag','rougher.output.concentrate_ag',\n",
    "             'primary_cleaner.output.concentrate_ag', 'final.output.concentrate_ag']\n",
    "\n",
    "pb_conc = ['rougher.input.feed_pb','rougher.output.concentrate_pb',\n",
    "             'primary_cleaner.output.concentrate_pb', 'final.output.concentrate_pb']\n",
    "\n",
    "metals = [au_conc, ag_conc, pb_conc]\n",
    "titles = ['Concentration change of Au', 'Concentration change of Ag', 'Concentration change of Pb']\n",
    "\n",
    "fig, ax = plt.subplots(1, 3, figsize=(15,8))\n",
    "for i in range(3):\n",
    "    sns.barplot(data=gold_recovery_full[metals[i]], ax=ax[i], palette='inferno_r')\n",
    "    ax[i].set_title(titles[i])\n",
    "    ax[i].set(ylim=(0, 45))\n",
    "    ax[i].set_xticklabels(['Raw ore','After flotation','After 1st cleaning','Final concentrate'], rotation=45)\n",
    "    ax[i].set(ylabel='Concentration')\n",
    "plt.show()"
   ]
  },
  {
   "cell_type": "markdown",
   "id": "bc268456",
   "metadata": {
    "id": "8264a448"
   },
   "source": [
    "> As we can see, the gold concentration increases with every purification process. Similar thing happens to Pd, but it's concentrations are significantly smaller. In contrast, the concentration of Ag increases after the flotation process, but decreases with an every cleaning step. This is interesting, since by logic the cleaning processes should remove all other metals except of Au from the ore."
   ]
  },
  {
   "cell_type": "code",
   "execution_count": 14,
   "id": "361f1186",
   "metadata": {
    "code_folding": [],
    "colab": {
     "base_uri": "https://localhost:8080/",
     "height": 561
    },
    "id": "0e41578e",
    "outputId": "13dc6e21-c464-45ed-e38e-8a261fa2d4a5"
   },
   "outputs": [
    {
     "data": {
      "image/png": "[encoded data removed]",
      "text/plain": [
       "<Figure size 1080x576 with 3 Axes>"
      ]
     },
     "metadata": {
      "needs_background": "light"
     },
     "output_type": "display_data"
    }
   ],
   "source": [
    "au_conc = ['rougher.output.tail_au','primary_cleaner.output.tail_au',\n",
    "             'secondary_cleaner.output.tail_au', 'final.output.tail_au']\n",
    "\n",
    "ag_conc = ['rougher.output.tail_ag','primary_cleaner.output.tail_ag',\n",
    "             'secondary_cleaner.output.tail_ag', 'final.output.tail_ag']\n",
    "\n",
    "pb_conc = ['rougher.output.tail_pb','primary_cleaner.output.tail_pb',\n",
    "             'secondary_cleaner.output.tail_pb', 'final.output.tail_pb']\n",
    "\n",
    "metals = [au_conc, ag_conc, pb_conc]\n",
    "titles = ['Concentration change of Au tails', 'Concentration change of Ag tails', 'Concentration change of Pb tails']\n",
    "\n",
    "fig, ax = plt.subplots(1, 3, figsize=(15,8))\n",
    "for i in range(3):\n",
    "    sns.barplot(data=gold_recovery_full[metals[i]], ax=ax[i], palette='inferno_r')\n",
    "    ax[i].set_title(titles[i])\n",
    "    ax[i].set(ylim=(0, 15))\n",
    "    ax[i].set_xticklabels(['After flotation','After 1st cleaning', 'After 2nd cleaning', 'Final tail conc.'], rotation=45)\n",
    "    ax[i].set(ylabel='Concentration')\n",
    "plt.show()"
   ]
  },
  {
   "cell_type": "markdown",
   "id": "6d46708d",
   "metadata": {
    "id": "f01331e4"
   },
   "source": [
    "> Here we can see that the gold concentration in tails also grows from the flotation till the 2nd cleaning process. However, the gold final tail concentration is smaller, possibly due to the fact that this concentration is a sum of all previous concentrations, and since concentration of the gold in tail after the flotation process was very small, we have such a value in the end. Maximum gold tail concentration equals to 5. In contrast, the silver tail concentrations are much higher and significantly increase after the 1st and the 2nd cleaning processes. The concentration of Pb remains small, but takes its maximum at the 2nd cleaning process."
   ]
  },
  {
   "cell_type": "markdown",
   "id": "65760838",
   "metadata": {
    "id": "9e0dfbea"
   },
   "source": [
    "###  Feed particle size distributions comparison"
   ]
  },
  {
   "cell_type": "code",
   "execution_count": 15,
   "id": "7d41e902",
   "metadata": {
    "colab": {
     "base_uri": "https://localhost:8080/",
     "height": 495
    },
    "id": "e462cf40",
    "outputId": "fdebf267-6847-47f8-bb89-da830f1f452c"
   },
   "outputs": [
    {
     "data": {
      "image/png": "[encoded data removed]",
      "text/plain": [
       "<Figure size 1080x540 with 1 Axes>"
      ]
     },
     "metadata": {
      "needs_background": "light"
     },
     "output_type": "display_data"
    }
   ],
   "source": [
    "plt.figure(figsize=(15, 7.5))\n",
    "sns.distplot(gold_recovery_train['rougher.input.feed_size'], hist=False,\n",
    "             kde_kws={'shade':True, 'alpha':0.5},\n",
    "             label=(f'Train\\n mean: {round(gold_recovery_train[\"rougher.input.feed_size\"].mean(),1)}\\n median: {round(gold_recovery_train[\"rougher.input.feed_size\"].median(),1)}'))\n",
    "sns.distplot(gold_recovery_test['rougher.input.feed_size'], hist=False,\n",
    "             kde_kws={'shade':True, 'alpha':0.5},\n",
    "             label=(f'Test\\n mean: {round(gold_recovery_test[\"rougher.input.feed_size\"].mean(),1)}\\n median: {round(gold_recovery_test[\"rougher.input.feed_size\"].median(),1)}'))\n",
    "plt.xlabel('Raw ore feed size', fontsize=16)\n",
    "plt.ylabel('Density', fontsize=16)\n",
    "plt.title('Raw ore feed size distribution in the train and the test sets', fontsize=18)\n",
    "plt.legend()\n",
    "plt.show()"
   ]
  },
  {
   "cell_type": "markdown",
   "id": "6b098663",
   "metadata": {
    "id": "34412261"
   },
   "source": [
    "> In this picture we can see that the mean and median values as well as the particle size distributions of the test and train sets vary but not very significantly."
   ]
  },
  {
   "cell_type": "markdown",
   "id": "1fa0166b",
   "metadata": {
    "id": "605c4a0f"
   },
   "source": [
    "### Total concentrations of all substances at different stages\n",
    "\n",
    "Consider the total concentrations of all substances at different stages: raw feed, rougher concentrate, and final concentrate. Do you notice any abnormal values in the total distribution? If you do, is it worth removing such values from both samples? Describe the findings and eliminate anomalies."
   ]
  },
  {
   "cell_type": "code",
   "execution_count": 16,
   "id": "ec7f159c",
   "metadata": {
    "colab": {
     "base_uri": "https://localhost:8080/",
     "height": 768
    },
    "id": "bba985fd",
    "outputId": "fe418214-1674-4f93-db22-65b1b87501f5"
   },
   "outputs": [
    {
     "data": {
      "image/png": "[encoded data removed]",
      "text/plain": [
       "<Figure size 1087.87x720 with 1 Axes>"
      ]
     },
     "metadata": {
      "needs_background": "light"
     },
     "output_type": "display_data"
    }
   ],
   "source": [
    "gold_recovery_full['total.conc.feed'] = gold_recovery_full[['rougher.input.feed_ag', \n",
    "                                                            'rougher.input.feed_pb',\n",
    "                                                            'rougher.input.feed_au']].sum(axis=1)\n",
    "\n",
    "gold_recovery_full['total.conc.rougher'] = gold_recovery_full[['rougher.output.concentrate_ag',\n",
    "                                                                 'rougher.output.concentrate_pb',\n",
    "                                                                 'rougher.output.concentrate_au']].sum(axis=1)\n",
    "\n",
    "gold_recovery_full['total.conc.primary'] =  gold_recovery_full[['primary_cleaner.output.concentrate_ag',\n",
    "                                                                'primary_cleaner.output.concentrate_pb',\n",
    "                                                                'primary_cleaner.output.concentrate_au']].sum(axis=1)\n",
    "\n",
    "gold_recovery_full['total.conc.final'] =  gold_recovery_full[['final.output.concentrate_ag',\n",
    "                                                              'final.output.concentrate_pb',\n",
    "                                                              'final.output.concentrate_au']].sum(axis=1)\n",
    "\n",
    "# deleting the values which give very close to zero concentrations in sum\n",
    "drop_list = ['total.conc.feed', 'total.conc.rougher', 'total.conc.primary', 'total.conc.final']\n",
    "\n",
    "# drawing a plot\n",
    "sns.displot(gold_recovery_full[['total.conc.feed', 'total.conc.rougher', 'total.conc.primary', 'total.conc.final']],\n",
    "            height=10, aspect=2/1.5, kde=True)\n",
    "plt.xlabel('Concentration', fontsize=16)\n",
    "plt.ylabel('Count', fontsize=16)\n",
    "plt.title('Metals concentrations distribution on each cleaning stage', fontsize=18)\n",
    "plt.show()"
   ]
  },
  {
   "cell_type": "markdown",
   "id": "ffaca4e6",
   "metadata": {
    "id": "8480812a"
   },
   "source": [
    "> As we can see from the histograms, the concentrations show normal distributions (except \"feed\"). We can observe how the metal concentrations increase and their distributions range decrease with an every cleaning stage. \n",
    "Furthermore, there are a plenty of total metal concentration values which are equal to 0 or are smaller than 0.1 in total. These values are mistakes, we do not need them for the ML part, hence they should be deleted."
   ]
  },
  {
   "cell_type": "markdown",
   "id": "41aaca2f",
   "metadata": {},
   "source": [
    "### Cleaning data frames from incorrect values"
   ]
  },
  {
   "cell_type": "code",
   "execution_count": 17,
   "id": "16056dd4",
   "metadata": {
    "id": "0c958655"
   },
   "outputs": [],
   "source": [
    "# assigning `date` column as index\n",
    "gold_recovery_full = gold_recovery_full.set_index('date')\n",
    "gold_recovery_train = gold_recovery_train.set_index('date')\n",
    "gold_recovery_test = gold_recovery_test.set_index('date')"
   ]
  },
  {
   "cell_type": "code",
   "execution_count": 18,
   "id": "c2658879",
   "metadata": {
    "id": "4b04738c"
   },
   "outputs": [
    {
     "name": "stdout",
     "output_type": "stream",
     "text": [
      "\"gold_recovery_test\" shape before merge: (5856, 52)\n",
      "\"gold_recovery_test\" shape after merge: (5856, 63)\n"
     ]
    }
   ],
   "source": [
    "# adding additional columns to the test dataset which were absent in it from the full dataset according to the `date` column\n",
    "print(f'\"gold_recovery_test\" shape before merge: {gold_recovery_test.shape}')\n",
    "gold_recovery_full_merged = gold_recovery_full[[\"rougher.output.recovery\", \"final.output.recovery\",\n",
    "                                                \"rougher.output.concentrate_au\", \"rougher.output.concentrate_ag\",\n",
    "                                                \"rougher.output.concentrate_pb\", \"final.output.concentrate_au\",\n",
    "                                                \"final.output.concentrate_ag\", \"final.output.concentrate_pb\",\n",
    "                                                \"primary_cleaner.output.concentrate_ag\", \"primary_cleaner.output.concentrate_pb\",\n",
    "                                                \"primary_cleaner.output.concentrate_au\"]]\n",
    "gold_recovery_test = gold_recovery_test.merge(gold_recovery_full_merged, on=\"date\", how=\"left\")\n",
    "print(f'\"gold_recovery_test\" shape after merge: {gold_recovery_test.shape}')"
   ]
  },
  {
   "cell_type": "code",
   "execution_count": 19,
   "id": "c61f7926",
   "metadata": {},
   "outputs": [
    {
     "name": "stdout",
     "output_type": "stream",
     "text": [
      "\"gold_recovery_full\" shape before deleting zero sum. concentrations: (22716, 90)\n",
      "\"gold_recovery_train\" shape before deleting zero sum. concentrations: (16860, 87)\n",
      "\"gold_recovery_test\" shape before deleting zero sum. concentrations: (5856, 63)\n",
      "==================================================\n",
      "\"gold_recovery_full\" shape after deleting zero sum. concentrations: (19617, 90)\n",
      "\"gold_recovery_train\" shape after deleting zero sum. concentrations: (14486, 87)\n",
      "\"gold_recovery_test\" shape after deleting zero sum. concentrations: (5257, 63)\n"
     ]
    }
   ],
   "source": [
    "features_input_concentrate = ['rougher.input.feed_au',\n",
    "                              'rougher.input.feed_ag',\n",
    "                              'rougher.input.feed_pb']\n",
    "    \n",
    "features_rougher_concentrate = ['rougher.output.concentrate_au',\n",
    "                                'rougher.output.concentrate_ag',\n",
    "                                'rougher.output.concentrate_pb']\n",
    "\n",
    "features_primary_concentrate = ['primary_cleaner.output.concentrate_ag',\n",
    "                                'primary_cleaner.output.concentrate_pb',\n",
    "                                'primary_cleaner.output.concentrate_au']\n",
    "\n",
    "features_final_concentrate = ['final.output.concentrate_au',\n",
    "                              'final.output.concentrate_ag',\n",
    "                              'final.output.concentrate_pb']\n",
    "\n",
    "features = [features_input_concentrate, features_rougher_concentrate, features_primary_concentrate, features_final_concentrate]\n",
    "\n",
    "print(f'\"gold_recovery_full\" shape before deleting zero sum. concentrations: {gold_recovery_full.shape}')\n",
    "print(f'\"gold_recovery_train\" shape before deleting zero sum. concentrations: {gold_recovery_train.shape}')\n",
    "print(f'\"gold_recovery_test\" shape before deleting zero sum. concentrations: {gold_recovery_test.shape}')\n",
    "\n",
    "# cleaning process itself\n",
    "for feature in features:\n",
    "    gold_recovery_full = gold_recovery_full[gold_recovery_full[feature].sum(axis=1) > 0.1]\n",
    "    gold_recovery_train = gold_recovery_train[gold_recovery_train[feature].sum(axis=1) > 0.1]\n",
    "    gold_recovery_test = gold_recovery_test[gold_recovery_test[feature].sum(axis=1) > 0.1]   \n",
    "    \n",
    "print('='*50)\n",
    "print(f'\"gold_recovery_full\" shape after deleting zero sum. concentrations: {gold_recovery_full.shape}')\n",
    "print(f'\"gold_recovery_train\" shape after deleting zero sum. concentrations: {gold_recovery_train.shape}')\n",
    "print(f'\"gold_recovery_test\" shape after deleting zero sum. concentrations: {gold_recovery_test.shape}')"
   ]
  },
  {
   "cell_type": "markdown",
   "id": "4ab9502b",
   "metadata": {},
   "source": [
    "**Cleaning the train dataset from missing columns in the test dataset**"
   ]
  },
  {
   "cell_type": "code",
   "execution_count": 20,
   "id": "46de0444",
   "metadata": {
    "id": "MbrspXspV88H"
   },
   "outputs": [
    {
     "name": "stdout",
     "output_type": "stream",
     "text": [
      "\"gold_recovery_train\" shape after deleting columns that are not present in the test dataset: (14486, 63)\n"
     ]
    }
   ],
   "source": [
    "# getting the list of missing columns in the test dataset in comparison to train dataset\n",
    "missed_test_columns = set(list(gold_recovery_train.columns.values))-set(list(gold_recovery_test.columns.values))\n",
    "\n",
    "# leaving in the train dataset only those which are present in the test dataset\n",
    "gold_recovery_train = gold_recovery_train.drop(missed_test_columns, axis=1)\n",
    "print(f'\"gold_recovery_train\" shape after deleting columns that are not present in the test dataset: {gold_recovery_train.shape}')"
   ]
  },
  {
   "cell_type": "markdown",
   "id": "b41dacc2",
   "metadata": {},
   "source": [
    "**Conclusion:** Total metal concentrations and feed particle sizes have been plotted in this section. The rows with total metal concentration < 0.1 have been deleted since this are mistakes."
   ]
  },
  {
   "cell_type": "markdown",
   "id": "c64a0ccb",
   "metadata": {
    "id": "aff4f0b2"
   },
   "source": [
    "## Model preparation\n",
    "\n",
    "<img src=\"img/smape.jpg\" alt=\"smape\" width=\"600\"/>\n",
    "<img src=\"img/smape_final.jpg\" alt=\"smape_final\" width=\"600\"/>\n",
    "\n",
    "We will use a custom metric for evaluation of our models. It is called `sMAPE`, **symmetric Mean Absolute Percentage Error**.\n",
    "It is similar to MAE, but is expressed in relative values instead of absolute ones. Why is it symmetrical? It equally takes into account the scale of both the target and the prediction.\n",
    "\n",
    "We need to predict two values:\n",
    "1. rougher concentrate recovery `rougher.output.recovery`\n",
    "2. final concentrate recovery `final.output.recovery`\n",
    "\n",
    "Thus, for predicting `rougher.output.recovery`, we need to exclude all other columns with are related to later stages, because they will not give us any valuable info."
   ]
  },
  {
   "cell_type": "markdown",
   "id": "54ed3485",
   "metadata": {},
   "source": [
    "#### sMAPE and Final sMAPE functions"
   ]
  },
  {
   "cell_type": "code",
   "execution_count": 21,
   "id": "618e950e",
   "metadata": {},
   "outputs": [],
   "source": [
    "#function to calcualte sMAPE score for predicted and actual values\n",
    "def smape(y, y_pred):\n",
    "    smape = 1/len(y) *np.sum(np.abs(y - y_pred)*2*100/((np.abs(y) + np.abs(y_pred))))\n",
    "    return smape\n",
    "\n",
    "def final_smape(rougher_smape, final_smape):\n",
    "    return 0.25 * rougher_smape + 0.75 * final_smape\n",
    "\n",
    "#convert it to sklearn function so it can be directly attached to CV scoring parameter\n",
    "smape_scorer=make_scorer(smape, greater_is_better=False)"
   ]
  },
  {
   "cell_type": "markdown",
   "id": "73a8c521",
   "metadata": {},
   "source": [
    "#### Features and targets preparation"
   ]
  },
  {
   "cell_type": "code",
   "execution_count": 22,
   "id": "5875af10",
   "metadata": {},
   "outputs": [
    {
     "name": "stdout",
     "output_type": "stream",
     "text": [
      "\"Final\" features contain 63 columns\n",
      "\"Rougher\" features contain 26 columns\n"
     ]
    }
   ],
   "source": [
    "features_final = gold_recovery_test.columns.tolist()\n",
    "features_rougher = [x for x in gold_recovery_test.columns.tolist() if 'rougher' in x.split('.')]\n",
    "\n",
    "print(f'\"Final\" features contain {len(features_final)} columns\\n\"Rougher\" features contain {len(features_rougher)} columns')"
   ]
  },
  {
   "cell_type": "code",
   "execution_count": 23,
   "id": "4fbe0791",
   "metadata": {
    "colab": {
     "base_uri": "https://localhost:8080/",
     "height": 380
    },
    "id": "238ee93b",
    "outputId": "40bfbc6f-1b81-4524-e484-8b48593e8616"
   },
   "outputs": [],
   "source": [
    "# making targets and features for `rougher.output.recovery` prediction\n",
    "\n",
    "# train targets and features\n",
    "features_rougher_train =  gold_recovery_train[features_rougher].drop('rougher.output.recovery', axis=1).reset_index(drop=True)\n",
    "target_rougher_train = gold_recovery_train['rougher.output.recovery'].reset_index(drop=True)\n",
    "\n",
    "# test targets and features\n",
    "features_rougher_test = gold_recovery_test[features_rougher].drop('rougher.output.recovery', axis=1).reset_index(drop=True)\n",
    "target_rougher_test = gold_recovery_test['rougher.output.recovery'].reset_index(drop=True)\n",
    "\n",
    "\n",
    "# making targets and features for `final.output.recovery` prediction\n",
    "\n",
    "# train targets and features\n",
    "features_final_train = gold_recovery_train[features_final].drop('final.output.recovery', axis=1).reset_index(drop=True)\n",
    "target_final_train = gold_recovery_train['final.output.recovery'].reset_index(drop=True)\n",
    "\n",
    "# test targets and features\n",
    "features_final_test = gold_recovery_test[features_final].drop('final.output.recovery', axis=1).reset_index(drop=True)\n",
    "target_final_test = gold_recovery_test['final.output.recovery'].reset_index(drop=True)"
   ]
  },
  {
   "cell_type": "markdown",
   "id": "23e8095a",
   "metadata": {},
   "source": [
    "#### Establishing Pipeline and GridSearchCV parameters"
   ]
  },
  {
   "cell_type": "code",
   "execution_count": 24,
   "id": "299c8448",
   "metadata": {},
   "outputs": [],
   "source": [
    "# setting up testing range for models' parameters and the random state\n",
    "state = RandomState(42)\n",
    "test_range = list(range(1, 11))\n",
    "cv = 5\n",
    "\n",
    "# initializing StandartScaler()\n",
    "scaler = StandardScaler()\n",
    "\n",
    "# initializing models, which we will use for predictions\n",
    "model_1 = LinearRegression()\n",
    "model_2 = DecisionTreeRegressor(random_state = state)\n",
    "model_3 = RandomForestRegressor(random_state = state)\n",
    "\n",
    "# setting up the pipeline\n",
    "pipeline = Pipeline([('scaler', scaler), ('classifier', model_1)])\n",
    "\n",
    "# parameters for the model 1\n",
    "params_1 = {}\n",
    "params_1['classifier'] = [model_1]\n",
    "\n",
    "# parameters for the model 2\n",
    "params_2 = {}\n",
    "params_2['classifier__max_depth'] = test_range\n",
    "params_2['classifier'] = [model_2]\n",
    "\n",
    "# parameters for the model 3\n",
    "params_3 = {}\n",
    "params_3['classifier__n_estimators'] = test_range\n",
    "params_3['classifier__max_depth'] = test_range\n",
    "params_3['classifier'] = [model_3]\n",
    "\n",
    "# including all models' parameters to the list\n",
    "params = [params_1, params_2, params_3]"
   ]
  },
  {
   "cell_type": "markdown",
   "id": "444744d0",
   "metadata": {},
   "source": [
    "#### `rougher.output.recovery` prediction"
   ]
  },
  {
   "cell_type": "code",
   "execution_count": 25,
   "id": "80a20b92",
   "metadata": {},
   "outputs": [
    {
     "data": {
      "text/html": [
       "<div>\n",
       "<style scoped>\n",
       "    .dataframe tbody tr th:only-of-type {\n",
       "        vertical-align: middle;\n",
       "    }\n",
       "\n",
       "    .dataframe tbody tr th {\n",
       "        vertical-align: top;\n",
       "    }\n",
       "\n",
       "    .dataframe thead th {\n",
       "        text-align: right;\n",
       "    }\n",
       "</style>\n",
       "<table border=\"1\" class=\"dataframe\">\n",
       "  <thead>\n",
       "    <tr style=\"text-align: right;\">\n",
       "      <th></th>\n",
       "      <th>mean_test_score</th>\n",
       "      <th>std_test_score</th>\n",
       "      <th>params</th>\n",
       "      <th>rank_test_score</th>\n",
       "    </tr>\n",
       "  </thead>\n",
       "  <tbody>\n",
       "    <tr>\n",
       "      <th>0</th>\n",
       "      <td>-6.465766</td>\n",
       "      <td>1.224090</td>\n",
       "      <td>{'classifier': LinearRegression(copy_X=True, f...</td>\n",
       "      <td>1</td>\n",
       "    </tr>\n",
       "    <tr>\n",
       "      <th>34</th>\n",
       "      <td>-6.798960</td>\n",
       "      <td>0.999430</td>\n",
       "      <td>{'classifier': RandomForestRegressor(bootstrap...</td>\n",
       "      <td>2</td>\n",
       "    </tr>\n",
       "    <tr>\n",
       "      <th>44</th>\n",
       "      <td>-6.805756</td>\n",
       "      <td>0.907807</td>\n",
       "      <td>{'classifier': RandomForestRegressor(bootstrap...</td>\n",
       "      <td>3</td>\n",
       "    </tr>\n",
       "    <tr>\n",
       "      <th>33</th>\n",
       "      <td>-6.870288</td>\n",
       "      <td>1.058457</td>\n",
       "      <td>{'classifier': RandomForestRegressor(bootstrap...</td>\n",
       "      <td>4</td>\n",
       "    </tr>\n",
       "    <tr>\n",
       "      <th>43</th>\n",
       "      <td>-6.874998</td>\n",
       "      <td>0.916816</td>\n",
       "      <td>{'classifier': RandomForestRegressor(bootstrap...</td>\n",
       "      <td>5</td>\n",
       "    </tr>\n",
       "  </tbody>\n",
       "</table>\n",
       "</div>"
      ],
      "text/plain": [
       "    mean_test_score  std_test_score  \\\n",
       "0         -6.465766        1.224090   \n",
       "34        -6.798960        0.999430   \n",
       "44        -6.805756        0.907807   \n",
       "33        -6.870288        1.058457   \n",
       "43        -6.874998        0.916816   \n",
       "\n",
       "                                               params  rank_test_score  \n",
       "0   {'classifier': LinearRegression(copy_X=True, f...                1  \n",
       "34  {'classifier': RandomForestRegressor(bootstrap...                2  \n",
       "44  {'classifier': RandomForestRegressor(bootstrap...                3  \n",
       "33  {'classifier': RandomForestRegressor(bootstrap...                4  \n",
       "43  {'classifier': RandomForestRegressor(bootstrap...                5  "
      ]
     },
     "execution_count": 25,
     "metadata": {},
     "output_type": "execute_result"
    }
   ],
   "source": [
    "grid_rougher = GridSearchCV(pipeline, params, cv=cv, n_jobs=-1, scoring=smape_scorer)\n",
    "grid_rougher.fit(features_rougher_train, target_rougher_train)\n",
    "pd.DataFrame(grid_rougher.cv_results_)[['mean_test_score', 'std_test_score', 'params', 'rank_test_score']].sort_values('rank_test_score').head()"
   ]
  },
  {
   "cell_type": "code",
   "execution_count": 26,
   "id": "822ff8a7",
   "metadata": {},
   "outputs": [
    {
     "name": "stdout",
     "output_type": "stream",
     "text": [
      "Best model parameters for predicting \"rougher.output.recovery\":\n",
      "{'classifier': LinearRegression(copy_X=True, fit_intercept=True, n_jobs=None, normalize=False)}\n"
     ]
    }
   ],
   "source": [
    "print(f'Best model parameters for predicting \"rougher.output.recovery\":\\n{grid_rougher.best_params_}')"
   ]
  },
  {
   "cell_type": "markdown",
   "id": "6afe488d",
   "metadata": {},
   "source": [
    "#### `final.output.recovery` prediction"
   ]
  },
  {
   "cell_type": "code",
   "execution_count": 27,
   "id": "ad782613",
   "metadata": {},
   "outputs": [
    {
     "data": {
      "text/html": [
       "<div>\n",
       "<style scoped>\n",
       "    .dataframe tbody tr th:only-of-type {\n",
       "        vertical-align: middle;\n",
       "    }\n",
       "\n",
       "    .dataframe tbody tr th {\n",
       "        vertical-align: top;\n",
       "    }\n",
       "\n",
       "    .dataframe thead th {\n",
       "        text-align: right;\n",
       "    }\n",
       "</style>\n",
       "<table border=\"1\" class=\"dataframe\">\n",
       "  <thead>\n",
       "    <tr style=\"text-align: right;\">\n",
       "      <th></th>\n",
       "      <th>mean_test_score</th>\n",
       "      <th>std_test_score</th>\n",
       "      <th>params</th>\n",
       "      <th>rank_test_score</th>\n",
       "    </tr>\n",
       "  </thead>\n",
       "  <tbody>\n",
       "    <tr>\n",
       "      <th>38</th>\n",
       "      <td>-8.393856</td>\n",
       "      <td>0.539119</td>\n",
       "      <td>{'classifier': RandomForestRegressor(bootstrap...</td>\n",
       "      <td>1</td>\n",
       "    </tr>\n",
       "    <tr>\n",
       "      <th>46</th>\n",
       "      <td>-8.396150</td>\n",
       "      <td>0.315525</td>\n",
       "      <td>{'classifier': RandomForestRegressor(bootstrap...</td>\n",
       "      <td>2</td>\n",
       "    </tr>\n",
       "    <tr>\n",
       "      <th>37</th>\n",
       "      <td>-8.397401</td>\n",
       "      <td>0.529215</td>\n",
       "      <td>{'classifier': RandomForestRegressor(bootstrap...</td>\n",
       "      <td>3</td>\n",
       "    </tr>\n",
       "    <tr>\n",
       "      <th>48</th>\n",
       "      <td>-8.404139</td>\n",
       "      <td>0.254632</td>\n",
       "      <td>{'classifier': RandomForestRegressor(bootstrap...</td>\n",
       "      <td>4</td>\n",
       "    </tr>\n",
       "    <tr>\n",
       "      <th>36</th>\n",
       "      <td>-8.415617</td>\n",
       "      <td>0.515438</td>\n",
       "      <td>{'classifier': RandomForestRegressor(bootstrap...</td>\n",
       "      <td>5</td>\n",
       "    </tr>\n",
       "  </tbody>\n",
       "</table>\n",
       "</div>"
      ],
      "text/plain": [
       "    mean_test_score  std_test_score  \\\n",
       "38        -8.393856        0.539119   \n",
       "46        -8.396150        0.315525   \n",
       "37        -8.397401        0.529215   \n",
       "48        -8.404139        0.254632   \n",
       "36        -8.415617        0.515438   \n",
       "\n",
       "                                               params  rank_test_score  \n",
       "38  {'classifier': RandomForestRegressor(bootstrap...                1  \n",
       "46  {'classifier': RandomForestRegressor(bootstrap...                2  \n",
       "37  {'classifier': RandomForestRegressor(bootstrap...                3  \n",
       "48  {'classifier': RandomForestRegressor(bootstrap...                4  \n",
       "36  {'classifier': RandomForestRegressor(bootstrap...                5  "
      ]
     },
     "execution_count": 27,
     "metadata": {},
     "output_type": "execute_result"
    }
   ],
   "source": [
    "grid_final = GridSearchCV(pipeline, params, cv=cv, n_jobs=-1, scoring=smape_scorer)\n",
    "grid_final.fit(features_final_train, target_final_train)\n",
    "pd.DataFrame(grid_final.cv_results_)[['mean_test_score', 'std_test_score', 'params', 'rank_test_score']].sort_values('rank_test_score').head()"
   ]
  },
  {
   "cell_type": "code",
   "execution_count": 28,
   "id": "e1a3654d",
   "metadata": {},
   "outputs": [
    {
     "name": "stdout",
     "output_type": "stream",
     "text": [
      "Best model parameters for predicting \"final.output.recovery\":\n",
      "{'classifier': RandomForestRegressor(bootstrap=True, ccp_alpha=0.0, criterion='mse',\n",
      "                      max_depth=3, max_features='auto', max_leaf_nodes=None,\n",
      "                      max_samples=None, min_impurity_decrease=0.0,\n",
      "                      min_impurity_split=None, min_samples_leaf=1,\n",
      "                      min_samples_split=2, min_weight_fraction_leaf=0.0,\n",
      "                      n_estimators=8, n_jobs=None, oob_score=False,\n",
      "                      random_state=RandomState(MT19937) at 0x1B32DFCD7B8,\n",
      "                      verbose=0, warm_start=False), 'classifier__max_depth': 3, 'classifier__n_estimators': 8}\n"
     ]
    }
   ],
   "source": [
    "print(f'Best model parameters for predicting \"final.output.recovery\":\\n{grid_final.best_params_}')"
   ]
  },
  {
   "cell_type": "markdown",
   "id": "f42f9096",
   "metadata": {},
   "source": [
    "**Conclusion:** we have found out that `LinearRegression()` is the best model for predicting `rougher.output.recovery` and `RandomForestRegressor()` with (`max_depth=3`, and `n_estimators=8`) is the best model for predicting `final.output.recovery`."
   ]
  },
  {
   "cell_type": "markdown",
   "id": "78103f11",
   "metadata": {},
   "source": [
    "## Final model training and evaluation using the test set\n",
    "Let's use these two best models for our final predictions."
   ]
  },
  {
   "cell_type": "markdown",
   "id": "11d94990",
   "metadata": {},
   "source": [
    "### `rougher.output.recovery` prediction"
   ]
  },
  {
   "cell_type": "code",
   "execution_count": 29,
   "id": "5273d1e8",
   "metadata": {},
   "outputs": [],
   "source": [
    "# initializing and fitting the best model for `rougher.output.recovery` \n",
    "rougher_model = LinearRegression()\n",
    "rougher_model.fit(features_rougher_train, target_rougher_train)\n",
    "\n",
    "# making predictions for the test dataset\n",
    "rougher_predictions = rougher_model.predict(features_rougher_test)\n",
    "\n",
    "#calculating SMAPE score\n",
    "rougher_score = smape(target_rougher_test, rougher_predictions)"
   ]
  },
  {
   "cell_type": "markdown",
   "id": "b789d62d",
   "metadata": {},
   "source": [
    "### `final.output.recovery` prediction"
   ]
  },
  {
   "cell_type": "code",
   "execution_count": 30,
   "id": "b6b14976",
   "metadata": {},
   "outputs": [],
   "source": [
    "# initializing and fitting the best model for `rougher.output.recovery` \n",
    "final_model = RandomForestRegressor(random_state=state, n_estimators=8, max_depth=8)\n",
    "final_model.fit(features_final_train, target_final_train)\n",
    "\n",
    "# making predictions for the test dataset\n",
    "final_predictions = final_model.predict(features_final_test)\n",
    "\n",
    "#calculating SMAPE score\n",
    "final_score = smape(target_final_test, final_predictions)"
   ]
  },
  {
   "cell_type": "code",
   "execution_count": 31,
   "id": "40a1e534",
   "metadata": {},
   "outputs": [
    {
     "data": {
      "image/png": "[encoded data removed]",
      "text/plain": [
       "<Figure size 1296x432 with 1 Axes>"
      ]
     },
     "metadata": {
      "needs_background": "light"
     },
     "output_type": "display_data"
    }
   ],
   "source": [
    "importances = pd.DataFrame(data={\n",
    "    'Attribute': features_final_train.columns,\n",
    "    'Importance': final_model.feature_importances_\n",
    "})\n",
    "importances = importances.sort_values(by='Importance', ascending=False)\n",
    "\n",
    "plt.figure(figsize=(18, 6))\n",
    "plt.bar(x=importances['Attribute'], height=importances['Importance'], color='#087E8B')\n",
    "plt.title('\"final.output.recovery\" prediction feature importances obtained from coefficients', size=20)\n",
    "plt.ylabel('Importance coefficient', fontsize=14)\n",
    "plt.xticks(rotation='vertical')\n",
    "plt.show()"
   ]
  },
  {
   "cell_type": "markdown",
   "id": "cce38de8",
   "metadata": {},
   "source": [
    "> We can see, that that `rougher.output.recovery` is the most important parameter for predicting the `final.output.recovery` with an importance coefficient more than 0.5."
   ]
  },
  {
   "cell_type": "markdown",
   "id": "bfd6703b",
   "metadata": {},
   "source": [
    "### Final sMAPE calculations"
   ]
  },
  {
   "cell_type": "code",
   "execution_count": 32,
   "id": "ebb0b8bc",
   "metadata": {},
   "outputs": [
    {
     "name": "stdout",
     "output_type": "stream",
     "text": [
      "sMAPE score of the \"rougher\" stage: 4.43\n",
      "sMAPE score of the \"final\" stage: 7.17\n",
      "Final sMAPE score for the selected models is: 6.48\n"
     ]
    }
   ],
   "source": [
    "result = final_smape(rougher_score, final_score)\n",
    "\n",
    "print(f'sMAPE score of the \"rougher\" stage: {round(rougher_score, 2)}')\n",
    "print(f'sMAPE score of the \"final\" stage: {round(final_score, 2)}')\n",
    "print(f'Final sMAPE score for the selected models is: {round(result, 2)}')"
   ]
  },
  {
   "cell_type": "markdown",
   "id": "72e0dad1",
   "metadata": {},
   "source": [
    "## Final conclusion\n",
    "\n",
    "In this project:\n",
    "1. We have analyzed 3 received datasets and understood, how are they connected to each other.\n",
    "2. Later, the gold recovery calculation has been performed in order to understand how the real data meets the calculations. It turns out that the real and calculated prediction match each other perfectly. \n",
    "3. Furthermore, the missing data in the datasets have have been interpolated. Additionally, we have found out, that the test dataset lack 35 columns. Those columns can't be used in the training dataset to prevent leakage. \n",
    "4. The metals and tails concentrations have been analyzed on the each cleaning step. We could observe that the gold concentration increases after each subsequent cleaning stage.\n",
    "5. Raw ore feed size distributions in the train and test datasets have been visualized. The mean values are `59` and `56`, respectively and do not posses significant differences in the distribution.\n",
    "6. Later, total metal concentrations (Au, Ag, and Pb) and their distributions have been visualized on the each cleaning step. We concluded, that the total concentrations increase and their distributions decrease with the each cleaning step (as it should be). Furthermore, the there have been issues with the total metal values which equal less than `0.1`. All these data are mistakes and have been deleted since they are useless for the further predictions. \n",
    "7. We have written 2 functions for a new metric calculation (`sMAPE `and `Final sMAPE`)\n",
    "8. The training and test data was split for both `rougher.output.recovery` and `final.output.recovery` calculations. Since the \"rougher\" stage is in the beginning, and the data from later stages couldn't influence this value, we have deleted all this data. On the other hand, the \"final\" stage included all the available data for training and testing.\n",
    "9. In order to make automatisation of the best model and hyper-parameters searching procedure + data normalization we applied Pipeline and GridSearchCV together to test LinearRegression, DecisionTreeRegressor, and RandomForestRegressor models. In turns out, that `LinearRegression` works best for `rougher.output.recovery` prediction, while `RandomForestRegressor` (with `max_depth=3`, and `n_estimators=8`) works best for prediction `final.output.recovery`. We have found best hyper-parameters for the RandomForestRegressor model and calculated the final metric using the two above-mentioned models. The `Final sMAPE` score for the selected models is: `6.48`, which is decent (we need to minimize this value).\n",
    "10. It turns out, that the most important parameter for predicting the `final.output.recovery` is `rougher.output.recovery` with an importance coefficient more than 0.5."
   ]
  }
 ],
 "metadata": {
  "colab": {
   "collapsed_sections": [],
   "name": "ML prediction of gold recovery for a mining company.ipynb",
   "provenance": [],
   "toc_visible": true
  },
  "hide_input": false,
  "kernelspec": {
   "display_name": "Python 3 (ipykernel)",
   "language": "python",
   "name": "python3"
  },
  "language_info": {
   "codemirror_mode": {
    "name": "ipython",
    "version": 3
   },
   "file_extension": ".py",
   "mimetype": "text/x-python",
   "name": "python",
   "nbconvert_exporter": "python",
   "pygments_lexer": "ipython3",
   "version": "3.9.7"
  },
  "toc": {
   "base_numbering": 1,
   "nav_menu": {},
   "number_sections": true,
   "sideBar": true,
   "skip_h1_title": false,
   "title_cell": "Table of Contents",
   "title_sidebar": "Contents",
   "toc_cell": false,
   "toc_position": {
    "height": "calc(100% - 180px)",
    "left": "10px",
    "top": "150px",
    "width": "259.475px"
   },
   "toc_section_display": true,
   "toc_window_display": true
  },
  "varInspector": {
   "cols": {
    "lenName": 16,
    "lenType": 16,
    "lenVar": 40
   },
   "kernels_config": {
    "python": {
     "delete_cmd_postfix": "",
     "delete_cmd_prefix": "del ",
     "library": "var_list.py",
     "varRefreshCmd": "print(var_dic_list())"
    },
    "r": {
     "delete_cmd_postfix": ") ",
     "delete_cmd_prefix": "rm(",
     "library": "var_list.r",
     "varRefreshCmd": "cat(var_dic_list()) "
    }
   },
   "types_to_exclude": [
    "module",
    "function",
    "builtin_function_or_method",
    "instance",
    "_Feature"
   ],
   "window_display": false
  }
 },
 "nbformat": 4,
 "nbformat_minor": 5
}
