{
 "cells": [
  {
   "cell_type": "markdown",
   "metadata": {},
   "source": [
    "# Description\n",
    "\n",
    "This project was created to automatize the data post-processing which I get from my gas sensing setup. The setup consists of a set of gas pumps that mix the gas to the desired concentrations and pumps it to a gas chamber which can work with up to 4 sensors at one time. The setup reads the resistance of each sensor with a frequency of 1 Hz and writes them to a .csv file. The script reads a .csv file (an output of the setup), calculates the sensors' response, and plots the graphs. However, one needs to make a correct input of the parameters:\n",
    "- set up the measurement temperature\n",
    "- set the correct gas concentrations and its units (`ppm` or `ppb`)\n",
    "- choose `separate concentrations` or `sequential concentrations` mode\n",
    "\n",
    "**Future features:**\n",
    "- Make code more efficient\n",
    "- Reading temperature, gas conc. and gas name from the file name\n",
    "- Implementation of ML approaches"
   ]
  },
  {
   "cell_type": "markdown",
   "metadata": {},
   "source": [
    "# Reading the data"
   ]
  },
  {
   "cell_type": "markdown",
   "metadata": {},
   "source": [
    "**Import necessary libraries**"
   ]
  },
  {
   "cell_type": "code",
   "execution_count": 56,
   "metadata": {},
   "outputs": [],
   "source": [
    "import matplotlib.pyplot as plt\n",
    "import numpy as np\n",
    "import pandas as pd\n",
    "import warnings\n",
    "import copy\n",
    "\n",
    "%matplotlib inline\n",
    "warnings.filterwarnings('ignore')"
   ]
  },
  {
   "cell_type": "markdown",
   "metadata": {},
   "source": [
    "**Set up correct parameters**"
   ]
  },
  {
   "cell_type": "code",
   "execution_count": 57,
   "metadata": {},
   "outputs": [],
   "source": [
    "temp = '50' # mesurement temperature\n",
    "conc = [100, 500, 1000, 5000, 10000, 40000] # gas concentrations\n",
    "conc_units = 'ppm' # gas concentration units\n",
    "path = 'data/'+str(temp)+'C' # a path to a file according to temperature (a file should be named e.g. \"50C\") (modify just a folder name)\n",
    "end = '.csv' # end of a file (do not modify)\n",
    "mode = 1 # 1 for \"Sequential concentrations\", and 2 for \"Separate concentrations\"\n",
    "mean_setting = 50 # a setting to calculate mean resistance based on last\n",
    "csv_df = pd.read_csv(path+end, sep='\\t+', skiprows=1, engine='python')"
   ]
  },
  {
   "cell_type": "markdown",
   "metadata": {},
   "source": [
    "**Examples of different concentrations:**"
   ]
  },
  {
   "cell_type": "markdown",
   "metadata": {},
   "source": [
    "- Aidin\n",
    "\n",
    "[5000, 5000, 5000, 1] H2 CO2 CH4 NO2\n",
    "\n",
    "[5000, 500, 1] H2 CO NO2\n",
    "\n",
    "- Oleks\n",
    "\n",
    "H2 (100, 500, 1000, 5000, 10000, 40000)\n",
    "\n",
    "CO (10, 50, 100, 250, 500)"
   ]
  },
  {
   "cell_type": "code",
   "execution_count": 58,
   "metadata": {},
   "outputs": [
    {
     "data": {
      "text/html": [
       "<div>\n",
       "<style scoped>\n",
       "    .dataframe tbody tr th:only-of-type {\n",
       "        vertical-align: middle;\n",
       "    }\n",
       "\n",
       "    .dataframe tbody tr th {\n",
       "        vertical-align: top;\n",
       "    }\n",
       "\n",
       "    .dataframe thead th {\n",
       "        text-align: right;\n",
       "    }\n",
       "</style>\n",
       "<table border=\"1\" class=\"dataframe\">\n",
       "  <thead>\n",
       "    <tr style=\"text-align: right;\">\n",
       "      <th></th>\n",
       "      <th>Time [s]</th>\n",
       "      <th>Sensor1 R [Ohm]</th>\n",
       "      <th>Sensor2 R [Ohm]</th>\n",
       "      <th>Sensor3 R [Ohm]</th>\n",
       "      <th>Sensor4 R [Ohm]</th>\n",
       "      <th>MFC 1 SP [mL/min]</th>\n",
       "      <th>MFC 2 SP [mL/min]</th>\n",
       "      <th>MFC 3 SP [mL/min]</th>\n",
       "      <th>MFC 1 MassFlow [mL/min]</th>\n",
       "      <th>MFC 2 MassFlow [mL/min]</th>\n",
       "      <th>MFC 3 MassFlow [mL/min]</th>\n",
       "      <th>MFC 1 MassFlow [vol%]</th>\n",
       "      <th>MFC 2 MassFlow [vol%]</th>\n",
       "      <th>MFC 3 MassFlow [vol%]</th>\n",
       "    </tr>\n",
       "  </thead>\n",
       "  <tbody>\n",
       "    <tr>\n",
       "      <th>0</th>\n",
       "      <td>1.0</td>\n",
       "      <td>3750.642</td>\n",
       "      <td>2008.44</td>\n",
       "      <td>2293.21</td>\n",
       "      <td>2176.71</td>\n",
       "      <td>NaN</td>\n",
       "      <td>NaN</td>\n",
       "      <td>NaN</td>\n",
       "      <td>NaN</td>\n",
       "      <td>NaN</td>\n",
       "      <td>NaN</td>\n",
       "      <td>NaN</td>\n",
       "      <td>NaN</td>\n",
       "      <td>NaN</td>\n",
       "    </tr>\n",
       "    <tr>\n",
       "      <th>1</th>\n",
       "      <td>2.0</td>\n",
       "      <td>3750.345</td>\n",
       "      <td>2009.71</td>\n",
       "      <td>2294.13</td>\n",
       "      <td>2176.75</td>\n",
       "      <td>150.0</td>\n",
       "      <td>0.0</td>\n",
       "      <td>0.0</td>\n",
       "      <td>0.144041</td>\n",
       "      <td>0.0</td>\n",
       "      <td>0.0</td>\n",
       "      <td>0.096028</td>\n",
       "      <td>0.0</td>\n",
       "      <td>0.0</td>\n",
       "    </tr>\n",
       "    <tr>\n",
       "      <th>2</th>\n",
       "      <td>3.0</td>\n",
       "      <td>3750.345</td>\n",
       "      <td>2009.52</td>\n",
       "      <td>2293.47</td>\n",
       "      <td>2176.58</td>\n",
       "      <td>150.0</td>\n",
       "      <td>0.0</td>\n",
       "      <td>0.0</td>\n",
       "      <td>148.895599</td>\n",
       "      <td>0.0</td>\n",
       "      <td>0.0</td>\n",
       "      <td>99.263733</td>\n",
       "      <td>0.0</td>\n",
       "      <td>0.0</td>\n",
       "    </tr>\n",
       "    <tr>\n",
       "      <th>3</th>\n",
       "      <td>4.0</td>\n",
       "      <td>3749.715</td>\n",
       "      <td>2009.83</td>\n",
       "      <td>2296.07</td>\n",
       "      <td>2176.45</td>\n",
       "      <td>150.0</td>\n",
       "      <td>0.0</td>\n",
       "      <td>0.0</td>\n",
       "      <td>149.310883</td>\n",
       "      <td>0.0</td>\n",
       "      <td>0.0</td>\n",
       "      <td>99.540588</td>\n",
       "      <td>0.0</td>\n",
       "      <td>0.0</td>\n",
       "    </tr>\n",
       "    <tr>\n",
       "      <th>4</th>\n",
       "      <td>5.0</td>\n",
       "      <td>3749.715</td>\n",
       "      <td>2009.36</td>\n",
       "      <td>2296.32</td>\n",
       "      <td>2176.50</td>\n",
       "      <td>150.0</td>\n",
       "      <td>0.0</td>\n",
       "      <td>0.0</td>\n",
       "      <td>149.519791</td>\n",
       "      <td>0.0</td>\n",
       "      <td>0.0</td>\n",
       "      <td>99.679860</td>\n",
       "      <td>0.0</td>\n",
       "      <td>0.0</td>\n",
       "    </tr>\n",
       "  </tbody>\n",
       "</table>\n",
       "</div>"
      ],
      "text/plain": [
       "   Time [s]  Sensor1 R [Ohm]  Sensor2 R [Ohm]  Sensor3 R [Ohm]  \\\n",
       "0       1.0         3750.642          2008.44          2293.21   \n",
       "1       2.0         3750.345          2009.71          2294.13   \n",
       "2       3.0         3750.345          2009.52          2293.47   \n",
       "3       4.0         3749.715          2009.83          2296.07   \n",
       "4       5.0         3749.715          2009.36          2296.32   \n",
       "\n",
       "   Sensor4 R [Ohm]  MFC 1 SP [mL/min]  MFC 2 SP [mL/min]  MFC 3 SP [mL/min]  \\\n",
       "0          2176.71                NaN                NaN                NaN   \n",
       "1          2176.75              150.0                0.0                0.0   \n",
       "2          2176.58              150.0                0.0                0.0   \n",
       "3          2176.45              150.0                0.0                0.0   \n",
       "4          2176.50              150.0                0.0                0.0   \n",
       "\n",
       "   MFC 1 MassFlow [mL/min]  MFC 2 MassFlow [mL/min]  MFC 3 MassFlow [mL/min]  \\\n",
       "0                      NaN                      NaN                      NaN   \n",
       "1                 0.144041                      0.0                      0.0   \n",
       "2               148.895599                      0.0                      0.0   \n",
       "3               149.310883                      0.0                      0.0   \n",
       "4               149.519791                      0.0                      0.0   \n",
       "\n",
       "   MFC 1 MassFlow [vol%]  MFC 2 MassFlow [vol%]  MFC 3 MassFlow [vol%]  \n",
       "0                    NaN                    NaN                    NaN  \n",
       "1               0.096028                    0.0                    0.0  \n",
       "2              99.263733                    0.0                    0.0  \n",
       "3              99.540588                    0.0                    0.0  \n",
       "4              99.679860                    0.0                    0.0  "
      ]
     },
     "execution_count": 58,
     "metadata": {},
     "output_type": "execute_result"
    }
   ],
   "source": [
    "csv_df.head()"
   ]
  },
  {
   "cell_type": "markdown",
   "metadata": {},
   "source": [
    "# Data cleaning"
   ]
  },
  {
   "cell_type": "code",
   "execution_count": 59,
   "metadata": {},
   "outputs": [],
   "source": [
    "# filling NaN values with zeros\n",
    "csv_df.fillna(0, inplace=True)\n",
    "\n",
    "# Changing seconds to hours and setting index column\n",
    "csv_df['Time [h]'] = csv_df['Time [s]']/3600\n",
    "#csv_df.set_index('Time [s]', inplace=True)"
   ]
  },
  {
   "cell_type": "markdown",
   "metadata": {},
   "source": [
    "# Getting the time stamps"
   ]
  },
  {
   "cell_type": "code",
   "execution_count": 60,
   "metadata": {},
   "outputs": [],
   "source": [
    "# experiment time\n",
    "exp_time = int(csv_df['Time [h]'].max())\n",
    "rows, columns = csv_df.shape\n",
    "first_row = csv_df.iloc[0,:]\n",
    "\n",
    "#setting the first time stamp and the SP value\n",
    "t_0 = first_row['Time [s]']\n",
    "SP_0 = first_row['MFC 1 SP [mL/min]']\n",
    "\n",
    "#print(f'time: {t_0}, SP: {SP_0}')\n",
    "#print('time: {}, SP: {}'.format(t_0, SP_0))\n",
    "\n",
    "#lists for time stamps and SP values\n",
    "list_t = []\n",
    "list_SP = []\n",
    "\n",
    "#putting the first values into the lists\n",
    "list_t.append(t_0)\n",
    "list_SP.append(SP_0)"
   ]
  },
  {
   "cell_type": "code",
   "execution_count": 61,
   "metadata": {},
   "outputs": [],
   "source": [
    "#going through all the values in Time and SP columns\n",
    "for row in range(1, rows):\n",
    "    t = csv_df.loc[row, 'Time [s]']\n",
    "    SP = csv_df.loc[row, 'MFC 1 SP [mL/min]']\n",
    "    #if current SP value is not equal to the last one in the SP_list, then write down new values into the time and sp lists\n",
    "    if SP != list_SP[-1]:\n",
    "        list_t.append(t)\n",
    "        list_SP.append(SP)"
   ]
  },
  {
   "cell_type": "code",
   "execution_count": 62,
   "metadata": {},
   "outputs": [],
   "source": [
    "#deleting some values coz we do not need them\n",
    "list_t = list_t[1:]\n",
    "list_SP = list_SP[1:]"
   ]
  },
  {
   "cell_type": "code",
   "execution_count": 63,
   "metadata": {
    "scrolled": true
   },
   "outputs": [],
   "source": [
    "#for a, b in zip(list_t, list_SP):\n",
    "    #print(f'{a:0.4f} s, SP {b:0.4f}')"
   ]
  },
  {
   "cell_type": "code",
   "execution_count": 64,
   "metadata": {},
   "outputs": [],
   "source": [
    "#Make a df out of the 2 lists\n",
    "time_df = pd.DataFrame(list(zip(list_t, list_SP)), \n",
    "               columns =['Time', 'SP'])"
   ]
  },
  {
   "cell_type": "markdown",
   "metadata": {},
   "source": [
    "# Some DataFrame modifications"
   ]
  },
  {
   "cell_type": "code",
   "execution_count": 65,
   "metadata": {},
   "outputs": [],
   "source": [
    "#if mode is == 1, adding zero concentrations before the first and the last one\n",
    "if mode==1:\n",
    "    conc2=copy.deepcopy(conc)\n",
    "    conc2.append(0)\n",
    "    conc2.insert(0,0)"
   ]
  },
  {
   "cell_type": "code",
   "execution_count": 66,
   "metadata": {},
   "outputs": [],
   "source": [
    "#if mode is == 2, adding zero concentrations between each gas concentration\n",
    "if mode==2:\n",
    "    \n",
    "    conc2=copy.deepcopy(conc)\n",
    "    i = 1\n",
    "    while i < len(conc2):\n",
    "        conc2.insert(i, 0)\n",
    "        i += 2\n",
    "    conc2.append(0)"
   ]
  },
  {
   "cell_type": "code",
   "execution_count": 67,
   "metadata": {},
   "outputs": [],
   "source": [
    "#Cutting out unnecessary cells (the first and the last ones)\n",
    "if mode==2:\n",
    "    time_df.drop(time_df.head(1).index,inplace=True)"
   ]
  },
  {
   "cell_type": "code",
   "execution_count": 68,
   "metadata": {},
   "outputs": [],
   "source": [
    "#Adding empty response columns to a df\n",
    "for i in range(4):\n",
    "    time_df['Sensor '+str(i+1)+' resp'] = 0"
   ]
  },
  {
   "cell_type": "code",
   "execution_count": 69,
   "metadata": {},
   "outputs": [],
   "source": [
    "# #Adding empty init.resist columns to a df\n",
    "# for i in range(4):\n",
    "#     time_df['Sensor '+str(i+1)+' init. resist'] = resist_list[i]"
   ]
  },
  {
   "cell_type": "code",
   "execution_count": 70,
   "metadata": {},
   "outputs": [],
   "source": [
    "# #Adding empty init. conc columns to a df\n",
    "# for i in range(4):\n",
    "#     time_df['Sensor '+str(i+1)+' init. conc.'] = 0"
   ]
  },
  {
   "cell_type": "code",
   "execution_count": 71,
   "metadata": {},
   "outputs": [],
   "source": [
    "# #if the SP in the last row equals to zero - delete it\n",
    "if time_df['SP'].iloc[-1]==0:\n",
    "    time_df.drop(index=time_df.index[-1], \n",
    "        axis=0, \n",
    "        inplace=True)"
   ]
  },
  {
   "cell_type": "code",
   "execution_count": 72,
   "metadata": {},
   "outputs": [],
   "source": [
    "#Adding gas concentrations to a df  # Previous version: time_df['Gas conc.'] = div_resist = conc2\n",
    "time_df['Gas conc.'] = conc2 "
   ]
  },
  {
   "cell_type": "markdown",
   "metadata": {},
   "source": [
    "# Initial resistivity calculation"
   ]
  },
  {
   "cell_type": "code",
   "execution_count": 73,
   "metadata": {},
   "outputs": [],
   "source": [
    "# initial resistivity list is the mean value of the last 500 values before the 1st change of the SP for the each sensor\n",
    "\n",
    "init_resist = []\n",
    "init_resist_list = []\n",
    "resp_resist = []\n",
    "resp_resist_list = []\n",
    "resist1 = 0\n",
    "resist2 = 0\n",
    "\n",
    "if mode == 1:\n",
    "    for i in range(1,5):\n",
    "        resist = csv_df.iloc[int(time_df['Time'][1]-mean_setting):int(time_df['Time'][1]),i].mean()\n",
    "        # avoiding infinity in initial resistivity \n",
    "        if resist < 1.2e+9:\n",
    "            init_resist.append(resist)\n",
    "        else:\n",
    "            resist = 1.2e+9\n",
    "            init_resist.append(resist)\n",
    "            \n",
    "# Calculating both initial resistivity and response resist for mode 2\n",
    "elif mode == 2:\n",
    "    for i in range(1,5):\n",
    "        init_resist = []\n",
    "        resp_resist = []\n",
    "        # going through all changes in SP\n",
    "        for j in range(len(conc2)+1):\n",
    "            # skipping the first row\n",
    "            if j==0:\n",
    "                continue\n",
    "            # going through all changes in SP except of the first row\n",
    "            else:\n",
    "                # Calculating the initial resistivity\n",
    "                if time_df['SP'][j]!=150:\n",
    "                    resist1 = csv_df.iloc[int(time_df['Time'][j]-mean_setting):int(time_df['Time'][j]),i].mean()\n",
    "                   #print('i =',i, ' j =',j, ' resist1 =',resist1)\n",
    "                    # avoiding infinity in initial resistivity \n",
    "                    if resist1 < 1.2e+9:\n",
    "                        init_resist.append(resist1)\n",
    "                    else:\n",
    "                        resist1 = 1.2e+9\n",
    "                        init_resist.append(resist1)\n",
    "                        \n",
    "                # Calculating the response resistivity\n",
    "                else:\n",
    "                    resist2 = csv_df.iloc[int(time_df['Time'][j]-mean_setting):int(time_df['Time'][j]),i].mean()\n",
    "                    #print('i =',i, ' j =',j, ' resist2 =',resist2)\n",
    "                    # avoiding infinity in response resistivity \n",
    "                    if resist2 < 1.2e+9:\n",
    "                        resp_resist.append(resist2)\n",
    "                    else:\n",
    "                        resist2 = 1.2e+9\n",
    "                        resp_resist.append(resist2)\n",
    "              \n",
    "        init_resist_list.append(init_resist)\n",
    "        resp_resist_list.append(resp_resist)"
   ]
  },
  {
   "cell_type": "markdown",
   "metadata": {},
   "source": [
    "# Resistivity changes calculation"
   ]
  },
  {
   "cell_type": "code",
   "execution_count": 74,
   "metadata": {},
   "outputs": [],
   "source": [
    "if mode==1:\n",
    "# we have 4 sensors and should give data to all of them\n",
    "    for i in range(1,5):\n",
    "        #print('Sensor', i, 'initial res. = ', init_resist[i-1])\n",
    "        # we need to go through all the changes in the resistivity\n",
    "        for n in range(len(time_df)):\n",
    "            #print('Gas conc. = ', time_df['H2 [ppm]'][n], 'ppm')\n",
    "            if n+1<len(time_df):\n",
    "                gas_res = round(csv_df.iloc[int(time_df['Time'][n+1]-mean_setting):int(time_df['Time'][n+1]),i].mean(), 3)\n",
    "                #print('gas_res. = ',gas_res)\n",
    "            else:\n",
    "                continue\n",
    "            #avoiding divison by zero\n",
    "            if gas_res!=0:\n",
    "                if init_resist[i-1]>gas_res:\n",
    "                    div_resist = round(int(init_resist[i-1]) / gas_res, 3)\n",
    "                    #print('div_resist = ',div_resist)\n",
    "                    time_df.iloc[[n], [i+1]] = div_resist\n",
    "                else:\n",
    "                    div_resist = round(gas_res / int(init_resist[i-1]), 3)\n",
    "                    time_df.iloc[[n], [i+1]] = div_resist\n",
    "            else:\n",
    "                time_df.iloc[[n], [i+1]] = 0\n",
    "\n",
    "            \n",
    "if mode==2:\n",
    "    calc_resp_list=[]\n",
    "    for i in range(len(init_resist_list)):\n",
    "        response=[]\n",
    "        for j in range(len(init_resist_list[1])):\n",
    "            #print('init_resist_list[',i,'][',j,'] =', init_resist_list[i][j])\n",
    "            #print('resp_resist_list[',i,'][',j,'] =', resp_resist_list[i][j])\n",
    "            if resp_resist_list[i][j]==0 and init_resist_list[i][j]==0:\n",
    "                response.append(0)\n",
    "                #print('Response = ',0)\n",
    "            else:\n",
    "                #print('Response = ',resp_resist_list[i][j]/init_resist_list[i][j])\n",
    "                response.append(round(resp_resist_list[i][j]/init_resist_list[i][j], 3))\n",
    "        calc_resp_list.append(response)\n",
    "    \n",
    "    "
   ]
  },
  {
   "cell_type": "code",
   "execution_count": 75,
   "metadata": {},
   "outputs": [],
   "source": [
    "if mode==2:\n",
    "    time_df2 = pd.DataFrame(conc, columns=['Gas conc.'])\n",
    "    for i in range(4):\n",
    "        time_df2['Sensor '+str(i+1)+' resp'] = calc_resp_list[i]"
   ]
  },
  {
   "cell_type": "code",
   "execution_count": 76,
   "metadata": {},
   "outputs": [],
   "source": [
    "# # Filling the time_df DataFrame with gas response values for each sensor\n",
    "# if mode==2:\n",
    "#     for i in range(len(calc_resp_list)):\n",
    "#         for j in range(len(time_df)):\n",
    "#             if time_df['Gas conc.'][j]!=0:\n",
    "#                 time_df['Sensor ',[i],' resp'][j]=calc_resp_list[i][j] #iloc?\n",
    "        "
   ]
  },
  {
   "cell_type": "code",
   "execution_count": 77,
   "metadata": {},
   "outputs": [],
   "source": [
    "#Dropping first 2 rows from a DataFrame to avoid strange MFC values in the beginning of the plot\n",
    "csv_df.drop([0, 1], inplace=True)"
   ]
  },
  {
   "cell_type": "code",
   "execution_count": 78,
   "metadata": {},
   "outputs": [],
   "source": [
    "#Cutting out unnecessary cells (the first and the last ones)\n",
    "if mode==1:\n",
    "    time_df.drop(time_df.tail(1).index,inplace=True)\n",
    "    time_df.drop(time_df.head(1).index,inplace=True)"
   ]
  },
  {
   "cell_type": "code",
   "execution_count": 79,
   "metadata": {},
   "outputs": [
    {
     "data": {
      "text/html": [
       "<div>\n",
       "<style scoped>\n",
       "    .dataframe tbody tr th:only-of-type {\n",
       "        vertical-align: middle;\n",
       "    }\n",
       "\n",
       "    .dataframe tbody tr th {\n",
       "        vertical-align: top;\n",
       "    }\n",
       "\n",
       "    .dataframe thead th {\n",
       "        text-align: right;\n",
       "    }\n",
       "</style>\n",
       "<table border=\"1\" class=\"dataframe\">\n",
       "  <thead>\n",
       "    <tr style=\"text-align: right;\">\n",
       "      <th></th>\n",
       "      <th>Time</th>\n",
       "      <th>SP</th>\n",
       "      <th>Sensor 1 resp</th>\n",
       "      <th>Sensor 2 resp</th>\n",
       "      <th>Sensor 3 resp</th>\n",
       "      <th>Sensor 4 resp</th>\n",
       "      <th>Gas conc.</th>\n",
       "    </tr>\n",
       "  </thead>\n",
       "  <tbody>\n",
       "    <tr>\n",
       "      <th>1</th>\n",
       "      <td>18001.0</td>\n",
       "      <td>149.597992</td>\n",
       "      <td>1.083</td>\n",
       "      <td>1.010</td>\n",
       "      <td>1.028</td>\n",
       "      <td>1.007</td>\n",
       "      <td>100</td>\n",
       "    </tr>\n",
       "    <tr>\n",
       "      <th>2</th>\n",
       "      <td>21601.0</td>\n",
       "      <td>148.098007</td>\n",
       "      <td>1.079</td>\n",
       "      <td>1.008</td>\n",
       "      <td>1.009</td>\n",
       "      <td>1.012</td>\n",
       "      <td>500</td>\n",
       "    </tr>\n",
       "    <tr>\n",
       "      <th>3</th>\n",
       "      <td>25201.0</td>\n",
       "      <td>146.199005</td>\n",
       "      <td>1.041</td>\n",
       "      <td>1.023</td>\n",
       "      <td>1.097</td>\n",
       "      <td>1.026</td>\n",
       "      <td>1000</td>\n",
       "    </tr>\n",
       "    <tr>\n",
       "      <th>4</th>\n",
       "      <td>28801.0</td>\n",
       "      <td>131.199005</td>\n",
       "      <td>1.151</td>\n",
       "      <td>1.104</td>\n",
       "      <td>1.191</td>\n",
       "      <td>1.035</td>\n",
       "      <td>5000</td>\n",
       "    </tr>\n",
       "    <tr>\n",
       "      <th>5</th>\n",
       "      <td>32401.0</td>\n",
       "      <td>112.500000</td>\n",
       "      <td>1.102</td>\n",
       "      <td>1.167</td>\n",
       "      <td>1.309</td>\n",
       "      <td>1.037</td>\n",
       "      <td>10000</td>\n",
       "    </tr>\n",
       "    <tr>\n",
       "      <th>6</th>\n",
       "      <td>36001.0</td>\n",
       "      <td>0.000000</td>\n",
       "      <td>1.088</td>\n",
       "      <td>1.269</td>\n",
       "      <td>1.368</td>\n",
       "      <td>1.034</td>\n",
       "      <td>40000</td>\n",
       "    </tr>\n",
       "  </tbody>\n",
       "</table>\n",
       "</div>"
      ],
      "text/plain": [
       "      Time          SP  Sensor 1 resp  Sensor 2 resp  Sensor 3 resp  \\\n",
       "1  18001.0  149.597992          1.083          1.010          1.028   \n",
       "2  21601.0  148.098007          1.079          1.008          1.009   \n",
       "3  25201.0  146.199005          1.041          1.023          1.097   \n",
       "4  28801.0  131.199005          1.151          1.104          1.191   \n",
       "5  32401.0  112.500000          1.102          1.167          1.309   \n",
       "6  36001.0    0.000000          1.088          1.269          1.368   \n",
       "\n",
       "   Sensor 4 resp  Gas conc.  \n",
       "1          1.007        100  \n",
       "2          1.012        500  \n",
       "3          1.026       1000  \n",
       "4          1.035       5000  \n",
       "5          1.037      10000  \n",
       "6          1.034      40000  "
      ]
     },
     "execution_count": 79,
     "metadata": {},
     "output_type": "execute_result"
    }
   ],
   "source": [
    "time_df"
   ]
  },
  {
   "cell_type": "markdown",
   "metadata": {},
   "source": [
    "# Plotting the data"
   ]
  },
  {
   "cell_type": "code",
   "execution_count": 80,
   "metadata": {},
   "outputs": [
    {
     "data": {
      "image/png": "[encoded data removed]",
      "text/plain": [
       "<Figure size 936x576 with 4 Axes>"
      ]
     },
     "metadata": {
      "needs_background": "light"
     },
     "output_type": "display_data"
    },
    {
     "data": {
      "image/png": "[encoded data removed]",
      "text/plain": [
       "<Figure size 432x288 with 1 Axes>"
      ]
     },
     "metadata": {
      "needs_background": "light"
     },
     "output_type": "display_data"
    }
   ],
   "source": [
    "fig, axes = plt.subplots(2, 2, figsize=(13,8))\n",
    "counter = 0\n",
    "for i in range(2):\n",
    "    for j in range(2):\n",
    "        if csv_df['Sensor'+str(counter+1)+' R [Ohm]'].mean() == 0:\n",
    "            axes[i][j].text(0.5, 0.5, 'No Data!', weight = 'ultralight', horizontalalignment='center',\n",
    "            verticalalignment='center', transform=axes[i][j].transAxes, fontsize=16)\n",
    "            axes[i][j].set_title('Sensor '+str(counter+1)+'', fontsize=14)\n",
    "            counter+=1\n",
    "            continue\n",
    "        else:\n",
    "            axes[i][j].plot(csv_df['Time [h]'], csv_df['Sensor'+str(counter+1)+' R [Ohm]'])\n",
    "            axes[i][j].set_ylabel('Resistance [Ohm]')\n",
    "            axes[i][j].set_xlabel('Time [h]')\n",
    "            axes[i][j].set_yscale('log')\n",
    "            axes[i][j].set_title('Sensor '+str(counter+1)+'', fontsize=14)\n",
    "            counter+=1\n",
    "\n",
    "\n",
    "fig.tight_layout()\n",
    "\n",
    "fig2 = plt.figure()\n",
    "axes = fig2.add_axes([0, 0, 2, 1])\n",
    "axes.plot(csv_df['Time [h]'], csv_df['MFC 1 SP [mL/min]'], 'black')\n",
    "plt.setp(axes, xticks=np.arange(0, exp_time+1, 1))\n",
    "plt.xlabel('Time [h]')\n",
    "plt.ylabel('vol [%]')\n",
    "plt.title('Main MFC SP [mL/min]', fontsize=18)\n",
    "\n",
    "plt.show()\n",
    "fig.savefig(path+'_Overall_result.png', dpi=fig.dpi)\n",
    "fig2.savefig(path+'_MFC_setup.png', dpi=fig.dpi, bbox_inches='tight')"
   ]
  },
  {
   "cell_type": "code",
   "execution_count": 81,
   "metadata": {},
   "outputs": [
    {
     "data": {
      "image/png": "[encoded data removed]",
      "text/plain": [
       "<Figure size 936x576 with 4 Axes>"
      ]
     },
     "metadata": {
      "needs_background": "light"
     },
     "output_type": "display_data"
    },
    {
     "data": {
      "image/png": "[encoded data removed]",
      "text/plain": [
       "<Figure size 432x288 with 1 Axes>"
      ]
     },
     "metadata": {
      "needs_background": "light"
     },
     "output_type": "display_data"
    }
   ],
   "source": [
    "fig, axes = plt.subplots(2, 2, figsize=(13,8))\n",
    "\n",
    "# Plotting the graphs\n",
    "counter = 0\n",
    "for i in range(2):\n",
    "    for j in range(2):\n",
    "        \n",
    "        # Plotting the graphs\n",
    "        if mode==1:\n",
    "            axes[i][j].scatter(time_df['Gas conc.'].astype('str'), time_df['Sensor '+str(counter+1)+' resp'])\n",
    "        if mode==2:\n",
    "            axes[i][j].scatter(time_df2['Gas conc.'].astype('str'), time_df2['Sensor '+str(counter+1)+' resp'])\n",
    "        #Removing graph's unnecessary  lines\n",
    "        axes[i][j].spines['right'].set_visible(False)\n",
    "        axes[i][j].spines['top'].set_visible(False)\n",
    "        \n",
    "        #Setting the labels and a titles\n",
    "        axes[i][j].set_ylabel('Response value')\n",
    "        axes[i][j].set_xlabel('Gas concentration ['+str(conc_units)+']')\n",
    "        axes[i][j].set_title('Sensor '+str(counter+1)+'', fontsize=14)\n",
    "        \n",
    "        #Setting the scale\n",
    "        axes[i][j].set_yscale('log')\n",
    "        \n",
    "        # Making response annotations for the scatter graphs\n",
    "        if mode==1:\n",
    "            for x,y in zip(time_df['Gas conc.'].astype('str'), time_df['Sensor '+str(counter+1)+' resp']):\n",
    "                if y == 0:\n",
    "                    axes[i][j].text(0.5, 0.5, 'No Data!', weight = 'ultralight', horizontalalignment='center',\n",
    "                        verticalalignment='center', transform=axes[i][j].transAxes, fontsize=16)\n",
    "                    continue\n",
    "                axes[i][j].annotate(y, # this is the text\n",
    "                    (x,y), # this is the point to label\n",
    "                    textcoords=\"offset points\", # how to position the text\n",
    "                    xytext=(0,10), # distance from text to points (x,y)\n",
    "                    ha='center') # horizontal alignment can be left, right or center\n",
    "            counter+=1\n",
    "        if mode==2:\n",
    "            for x,y in zip(time_df2['Gas conc.'].astype('str'), time_df2['Sensor '+str(counter+1)+' resp']):\n",
    "                if y == 0:\n",
    "                    axes[i][j].text(0.5, 0.5, 'No Data!', weight = 'ultralight', horizontalalignment='center',\n",
    "                        verticalalignment='center', transform=axes[i][j].transAxes, fontsize=16)\n",
    "                    continue\n",
    "                axes[i][j].annotate(y, # this is the text\n",
    "                    (x,y), # this is the point to label\n",
    "                    textcoords=\"offset points\", # how to position the text\n",
    "                    xytext=(0,10), # distance from text to points (x,y)\n",
    "                    ha='center') # horizontal alignment can be left, right or center\n",
    "            counter+=1\n",
    "\n",
    "fig.suptitle(\"Experiment post-processed results for \"+ str(temp) + \"°C\", fontsize=24, y=1.05)\n",
    "fig.tight_layout()\n",
    "\n",
    "\n",
    "# Making another graph\n",
    "fig2 = plt.figure()\n",
    "ax2 = fig2.add_axes([0, 0, 2, 1])\n",
    "ax2.set_yscale('linear')\n",
    "\n",
    "# Plotting the graph2\n",
    "counter = 0\n",
    "for i in range(4):\n",
    "    # Plotting another graph with all responces combined if their values are not just zeros\n",
    "    if mode==1:\n",
    "        if time_df['Sensor '+str(i+1)+' resp'].sum()!=0:\n",
    "            ax2.scatter(time_df['Gas conc.'].astype('str'),\n",
    "                    time_df['Sensor '+str(i+1)+' resp'], \n",
    "                    label='Sensor '+str(i+1)+' response')\n",
    "        # Making response annotations for the scatter graph (fig2)\n",
    "        for x,y in zip(time_df['Gas conc.'].astype('str'), time_df['Sensor '+str(counter+1)+' resp']):\n",
    "            if y == 0:\n",
    "                continue\n",
    "            ax2.annotate(y, # this is the text\n",
    "                (x,y), # this is the point to label\n",
    "                textcoords=\"offset points\", # how to position the text\n",
    "                xytext=(0,10), # distance from text to points (x,y)\n",
    "                ha='center') # horizontal alignment can be left, right or center\n",
    "        counter+=1\n",
    "    if mode==2:\n",
    "        if time_df2['Sensor '+str(i+1)+' resp'].sum()!=0:\n",
    "            ax2.scatter(time_df2['Gas conc.'].astype('str'),\n",
    "                    time_df2['Sensor '+str(i+1)+' resp'], \n",
    "                    label='Sensor '+str(i+1)+' response')\n",
    "        # Making response annotations for the scatter graph (fig2)\n",
    "        for x,y in zip(time_df2['Gas conc.'].astype('str'), time_df2['Sensor '+str(counter+1)+' resp']):\n",
    "            if y == 0:\n",
    "                continue\n",
    "            ax2.annotate(y, # this is the text\n",
    "                (x,y), # this is the point to label\n",
    "                textcoords=\"offset points\", # how to position the text\n",
    "                xytext=(0,10), # distance from text to points (x,y)\n",
    "                ha='center') # horizontal alignment can be left, right or center\n",
    "        counter+=1\n",
    "plt.legend();\n",
    "ax2.set_ylabel('Response value')\n",
    "ax2.set_xlabel('Gas concentration ['+str(conc_units)+']')\n",
    "\n",
    "fig.tight_layout()\n",
    "fig.savefig(path+'_Response_result.png', dpi=fig.dpi)\n",
    "fig2.savefig(path+'_Response_result_all.png', dpi=fig.dpi, bbox_inches = 'tight')"
   ]
  },
  {
   "cell_type": "markdown",
   "metadata": {},
   "source": [
    "# Saving the data"
   ]
  },
  {
   "cell_type": "code",
   "execution_count": 82,
   "metadata": {},
   "outputs": [],
   "source": [
    "if mode==1:\n",
    "    time_df.to_excel(path+' Excel Results.xlsx', index = False)\n",
    "if mode==2:\n",
    "    time_df2.to_excel(path+' Excel Results.xlsx', index = False)"
   ]
  }
 ],
 "metadata": {
  "kernelspec": {
   "display_name": "Python 3 (ipykernel)",
   "language": "python",
   "name": "python3"
  },
  "language_info": {
   "codemirror_mode": {
    "name": "ipython",
    "version": 3
   },
   "file_extension": ".py",
   "mimetype": "text/x-python",
   "name": "python",
   "nbconvert_exporter": "python",
   "pygments_lexer": "ipython3",
   "version": "3.9.7"
  },
  "toc": {
   "base_numbering": 1,
   "nav_menu": {},
   "number_sections": true,
   "sideBar": true,
   "skip_h1_title": false,
   "title_cell": "Table of Contents",
   "title_sidebar": "Contents",
   "toc_cell": false,
   "toc_position": {},
   "toc_section_display": true,
   "toc_window_display": true
  }
 },
 "nbformat": 4,
 "nbformat_minor": 2
}
