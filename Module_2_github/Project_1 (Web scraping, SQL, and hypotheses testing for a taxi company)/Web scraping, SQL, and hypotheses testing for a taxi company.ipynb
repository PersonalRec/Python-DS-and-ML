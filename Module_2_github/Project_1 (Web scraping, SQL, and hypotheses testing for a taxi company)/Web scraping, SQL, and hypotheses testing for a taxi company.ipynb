{
 "cells": [
  {
   "cell_type": "markdown",
   "id": "4bf51291",
   "metadata": {},
   "source": [
    "# Project description\n",
    "\n",
    "You're working as an analyst for Zuber, a new ride-sharing company that's launching in Chicago. Your task is to find patterns in the available information. You want to understand passenger preferences and the impact of external factors on rides.\n",
    "\n",
    "Working with a database, you'll analyze data from competitors and test a hypothesis about the impact of weather on ride frequency."
   ]
  },
  {
   "cell_type": "markdown",
   "id": "9ca47ecb",
   "metadata": {},
   "source": [
    "## Description of the data\n",
    "A database with info on taxi rides in Chicago:\n",
    "\n",
    "**`neighborhoods`** table: data on city neighborhoods\n",
    "- `name`: name of the neighborhood\n",
    "- `neighborhood_id`: neighborhood code\n",
    "    \n",
    "**`cabs`** table: data on taxis\n",
    "- `cab_id`: vehicle code\n",
    "- `vehicle_id`: the vehicle's technical ID\n",
    "- `company_name`: the company that owns the vehicle\n",
    "\n",
    "**`trips`** table: data on rides\n",
    "`- trip_id`: ride code\n",
    "- `cab_id`: code of the vehicle operating the ride\n",
    "- `start_ts`: date and time of the beginning of the ride (time rounded to the hour)\n",
    "- `end_ts`: date and time of the end of the ride (time rounded to the hour)\n",
    "- `duration_seconds`: ride duration in seconds\n",
    "- `distance_miles`: ride distance in miles\n",
    "- `pickup_location_id`: pickup neighborhood code\n",
    "- `dropoff_location_id`: dropoff neighborhood code\n",
    "\n",
    "**`weather_records table`**: data on weather\n",
    "- `record_id`: weather record code\n",
    "- `ts`: record date and time (time rounded to the hour)\n",
    "- `temperature`: temperature when the record was taken\n",
    "- `description`: brief description of weather conditions, e.g. \"light rain\" or \"scattered clouds\""
   ]
  },
  {
   "cell_type": "markdown",
   "id": "22a95458",
   "metadata": {},
   "source": [
    "## Table scheme\n",
    "\n",
    "<img src=\"img/1.png\" width=800, height=800>"
   ]
  },
  {
   "cell_type": "markdown",
   "id": "6901625f",
   "metadata": {},
   "source": [
    "# Instructions on completing the project\n",
    "\n",
    "**Step 1. Write a code to parse the data on weather in Chicago in November 2017 from the website:**\n",
    "\n",
    "https://code.s3.yandex.net/data-analyst-eng/chicago_weather_2017.html\n",
    "\n",
    "**Step 2. Exploratory data analysis**\n",
    "\n",
    "1. Find the number of taxi rides for each taxi company for November 15-16, 2017. Name the resulting field `trips_amount` and print it along with the `company_name` field. Sort the results by the `trips_amount` field in descending order.\n",
    "2. Find the number of rides for every taxi company whose name contains the words *\"Yellow\"* or *\"Blue\"* for November 1-7, 2017. Name the resulting variable `trips_amount`. Group the results by the `company_name` field.\n",
    "3. In November 2017, the most popular taxi companies were *Flash Cab* and *Taxi Affiliation Services*. Find the number of rides for these two companies and name the resulting variable `trips_amount`. Join the rides for all other companies in the group *\"Other\"*. Group the data by taxi company names. Name the field with taxi company names company. Sort the result in descending order by trips_amount.\n",
    "\n",
    "**Step 3. Test the hypothesis that the duration of rides from the the Loop to O'Hare International Airport changes on rainy Saturdays**\n",
    "\n",
    "1. For each hour, retrieve the weather condition records from the `weather_records` table. Using the `CASE` operator, break all hours into two groups: *\"Bad\"* if the description field contains the words *\"rain\"* or *\"storm\"*, and *\"Good\"* for others. Name the resulting field `weather_conditions`. The final table must include two fields: date and hour (`ts`) and `weather_conditions`.\n",
    "2. Retrieve from the trips table all the rides that started in the *Loop* (`neighborhood_id: 50`) and ended at *O'Hare* (`neighborhood_id: 63`) on a Saturday. Get the weather conditions for each ride. Use the method you applied in the previous task. Also retrieve the duration of each ride. Ignore rides for which data on weather conditions is not available.\n",
    "\n",
    "**Step 4. Exploratory data analysis (Python)**\n",
    "\n",
    "In addition to the data you retrieved in the previous tasks, you've been given a second file. You now have these two CSVs:\n",
    "\n",
    "`project_sql_result_01.csv`. It contains the following data:\n",
    "- `company_name`: taxi company name\n",
    "- `trips_amount`: the number of rides for each taxi company on November 15-16, 2017.\n",
    "\n",
    "`project_sql_result_04.csv`. It contains the following data:\n",
    "- `dropoff_location_name`: Chicago neighborhoods where rides ended\n",
    "- `average_trips`: the average number of rides that ended in each neighborhood in November 2017.\n",
    "\n",
    "For these two datasets you now need to:\n",
    "- import the files\n",
    "- study the data they contain\n",
    "- make sure the data types are correct\n",
    "- identify the top 10 neighborhoods in terms of drop-offs\n",
    "- make graphs: taxi companies and number of rides, top 10 neighborhoods by number of dropoffs\n",
    "- draw conclusions based on each graph and explain the results\n",
    "\n",
    "**Step 5. Testing hypotheses (Python)**\n",
    "\n",
    "`project_sql_result_07.csv` — the result of the last query. It contains data on rides from the Loop to O'Hare International Airport. \n",
    "\n",
    "Remember, these are the table's field values:\n",
    "- `start_ts` — pickup date and time\n",
    "- `weather_conditions` — weather conditions at the moment the ride started\n",
    "- `duration_seconds` — ride duration in seconds\n",
    "\n",
    "Test the hypothesis: **\"The average duration of rides from the Loop to O'Hare International Airport changes on rainy Saturdays.\"**\n",
    "\n",
    "Set the significance level (alpha) value on your own.\n",
    "\n",
    "**Explain**:\n",
    "- how you formed the null and alternative hypotheses\n",
    "- what criterion you used to test the hypotheses and why"
   ]
  },
  {
   "cell_type": "markdown",
   "id": "60499804",
   "metadata": {},
   "source": [
    "# Project implementation"
   ]
  },
  {
   "cell_type": "markdown",
   "id": "344f5ab3",
   "metadata": {},
   "source": [
    "## Step 1. Write a code to parse the data on weather in Chicago in November 2017 from the website:\n",
    "https://code.s3.yandex.net/data-analyst-eng/chicago_weather_2017.html"
   ]
  },
  {
   "cell_type": "code",
   "execution_count": 1,
   "id": "3910b22f",
   "metadata": {},
   "outputs": [
    {
     "data": {
      "text/html": [
       "<div>\n",
       "<style scoped>\n",
       "    .dataframe tbody tr th:only-of-type {\n",
       "        vertical-align: middle;\n",
       "    }\n",
       "\n",
       "    .dataframe tbody tr th {\n",
       "        vertical-align: top;\n",
       "    }\n",
       "\n",
       "    .dataframe thead th {\n",
       "        text-align: right;\n",
       "    }\n",
       "</style>\n",
       "<table border=\"1\" class=\"dataframe\">\n",
       "  <thead>\n",
       "    <tr style=\"text-align: right;\">\n",
       "      <th></th>\n",
       "      <th>Temperature</th>\n",
       "      <th>Description</th>\n",
       "    </tr>\n",
       "    <tr>\n",
       "      <th>Date and time</th>\n",
       "      <th></th>\n",
       "      <th></th>\n",
       "    </tr>\n",
       "  </thead>\n",
       "  <tbody>\n",
       "    <tr>\n",
       "      <th>2017-11-01 00:00:00</th>\n",
       "      <td>276.150</td>\n",
       "      <td>broken clouds</td>\n",
       "    </tr>\n",
       "    <tr>\n",
       "      <th>2017-11-01 01:00:00</th>\n",
       "      <td>275.700</td>\n",
       "      <td>scattered clouds</td>\n",
       "    </tr>\n",
       "    <tr>\n",
       "      <th>2017-11-01 02:00:00</th>\n",
       "      <td>275.610</td>\n",
       "      <td>overcast clouds</td>\n",
       "    </tr>\n",
       "    <tr>\n",
       "      <th>2017-11-01 03:00:00</th>\n",
       "      <td>275.350</td>\n",
       "      <td>broken clouds</td>\n",
       "    </tr>\n",
       "    <tr>\n",
       "      <th>2017-11-01 04:00:00</th>\n",
       "      <td>275.240</td>\n",
       "      <td>broken clouds</td>\n",
       "    </tr>\n",
       "  </tbody>\n",
       "</table>\n",
       "</div>"
      ],
      "text/plain": [
       "                    Temperature       Description\n",
       "Date and time                                    \n",
       "2017-11-01 00:00:00     276.150     broken clouds\n",
       "2017-11-01 01:00:00     275.700  scattered clouds\n",
       "2017-11-01 02:00:00     275.610   overcast clouds\n",
       "2017-11-01 03:00:00     275.350     broken clouds\n",
       "2017-11-01 04:00:00     275.240     broken clouds"
      ]
     },
     "metadata": {},
     "output_type": "display_data"
    }
   ],
   "source": [
    "import requests\n",
    "import re\n",
    "from bs4 import BeautifulSoup\n",
    "import pandas as pd\n",
    "\n",
    "URL = 'https://code.s3.yandex.net/data-analyst-eng/chicago_weather_2017.html'\n",
    "req = requests.get(URL)\n",
    "\n",
    "# use `lxml` parser\n",
    "soup = BeautifulSoup(req.text, 'lxml')\n",
    "\n",
    "# retrieving the entire table\n",
    "table = soup.find(attrs={'id': 'weather_records'})\n",
    "\n",
    "# finding columns' names\n",
    "col_names = []\n",
    "for row in table.find_all('th'):\n",
    "    col_names.append(row.text)\n",
    "\n",
    "# finding the table's content\n",
    "content=[]\n",
    "for row in table.find_all('tr'):\n",
    "    if not row.find_all('th'):\n",
    "    # We need this condition to ignore the first row of the table, with headings\n",
    "        content.append([element.text for element in row.find_all('td')])\n",
    "\n",
    "# making a data frame out of it\n",
    "weather_records = pd.DataFrame(content, columns=col_names).set_index('Date and time')\n",
    "display(weather_records.head())"
   ]
  },
  {
   "cell_type": "markdown",
   "id": "e86240ce",
   "metadata": {},
   "source": [
    "## Step 2. Exploratory data analysis (SQL)"
   ]
  },
  {
   "cell_type": "markdown",
   "id": "708475a0",
   "metadata": {},
   "source": [
    "### Task 1\n",
    "Find the number of taxi rides for each taxi company for `November 15-16, 2017`. Name the resulting field `trips_amount` and print it along with the `company_name` field. Sort the results by the `trips_amount` field in descending order.\n",
    "\n",
    "```SQLite\n",
    "SELECT\n",
    "    cabs.company_name AS name,\n",
    "    COUNT(trips.trip_id) AS trips_amount\n",
    "FROM\n",
    "    cabs\n",
    "    INNER JOIN trips ON cabs.cab_id = trips.cab_id\n",
    "WHERE\n",
    "    CAST(trips.start_ts AS date) BETWEEN '2017-11-15' AND '2017-11-16'\n",
    "GROUP BY\n",
    "    cabs.company_name\n",
    "ORDER BY\n",
    "    trips_amount DESC\n",
    "```\n",
    "<img src=\"img/2.png\" width=600, height=600>"
   ]
  },
  {
   "cell_type": "markdown",
   "id": "184c9624",
   "metadata": {},
   "source": [
    "### Task 2\n",
    "Find the number of rides for every taxi company whose name contains the words `\"Yellow\"` or `\"Blue\"` for `November 1-7, 2017`. Name the resulting variable `trips_amount`. Group the results by the `company_name` field.\n",
    "\n",
    "```SQLite\n",
    "SELECT\n",
    "    cabs.company_name,\n",
    "    COUNT(trips.trip_id) AS trips_amount\n",
    "FROM\n",
    "    cabs\n",
    "    INNER JOIN trips ON cabs.cab_id = trips.cab_id\n",
    "WHERE\n",
    "    CAST(trips.start_ts AS date) BETWEEN '2017-11-1' AND '2017-11-7'\n",
    "    AND cabs.company_name LIKE '%Yellow%'\n",
    "GROUP BY\n",
    "    cabs.company_name\n",
    "UNION\n",
    "SELECT\n",
    "    cabs.company_name,\n",
    "    COUNT(trips.trip_id) AS trips_amount\n",
    "FROM\n",
    "    cabs\n",
    "    INNER JOIN trips ON cabs.cab_id = trips.cab_id\n",
    "WHERE\n",
    "    CAST(trips.start_ts AS date) BETWEEN '2017-11-1' AND '2017-11-7'\n",
    "    AND cabs.company_name LIKE '%Blue%'\n",
    "GROUP BY\n",
    "    cabs.company_name\n",
    "```\n",
    "<img src=\"img/3.png\" width=600, height=600>"
   ]
  },
  {
   "cell_type": "markdown",
   "id": "a0d814cd",
   "metadata": {},
   "source": [
    "### Task 3\n",
    "\n",
    "For November 1-7, 2017, the most popular taxi companies were `Flash Cab` and `Taxi Affiliation Services`. Find the number of rides for these two companies and name the resulting variable trips_amount. Join the rides for all other companies in the group `\"Other\"`. Group the data by taxi company names. Name the field with taxi company names company. Sort the result in descending order by `trips_amount`.\n",
    "\n",
    "```SQLite\n",
    "SELECT\n",
    "    cabs.company_name AS company,\n",
    "    COUNT(trips.trip_id) AS trips_amount\n",
    "FROM\n",
    "    cabs\n",
    "    INNER JOIN trips ON cabs.cab_id = trips.cab_id\n",
    "WHERE \n",
    "    CAST(trips.start_ts AS date) BETWEEN '2017-11-1' AND '2017-11-7'\n",
    "    AND cabs.company_name IN('Flash Cab', 'Taxi Affiliation Services')\n",
    "GROUP BY\n",
    "    cabs.company_name\n",
    "    \n",
    "UNION ALL\n",
    "\n",
    "SELECT\n",
    "    'Other' AS company,\n",
    "    SUM(SUBQ.trips_amount) AS trips_amount\n",
    "FROM\n",
    "    (SELECT\n",
    "        cabs.company_name AS company,\n",
    "        COUNT(trips.trip_id) AS trips_amount\n",
    "    FROM\n",
    "        cabs\n",
    "        INNER JOIN trips ON cabs.cab_id = trips.cab_id\n",
    "    WHERE \n",
    "        CAST(trips.start_ts AS date) BETWEEN '2017-11-1' AND '2017-11-7'\n",
    "        AND cabs.company_name NOT IN('Flash Cab', 'Taxi Affiliation Services')\n",
    "    GROUP BY\n",
    "        cabs.company_name) AS SUBQ\n",
    "\n",
    "ORDER BY \n",
    "    trips_amount DESC\n",
    "```\n",
    "\n",
    "<img src=\"img/4.png\" width=600, height=600>"
   ]
  },
  {
   "cell_type": "markdown",
   "id": "9ef88d13",
   "metadata": {},
   "source": [
    "## Step 3. Test the hypothesis that the duration of rides from the the Loop to O'Hare International Airport changes on rainy Saturdays"
   ]
  },
  {
   "cell_type": "markdown",
   "id": "d54b286f",
   "metadata": {},
   "source": [
    "### Task 1\n",
    "\n",
    "For each hour, retrieve the weather condition records from the `weather_records` table. Using the `CASE` operator, break all hours into two groups: *\"Bad\"* if the description field contains the words *\"rain\"* or *\"storm\"*, and *\"Good\"* for others. Name the resulting field `weather_conditions`. The final table must include two fields: date and hour (`ts`) and `weather_conditions`.\n",
    "\n",
    "```SQLite\n",
    "SELECT\n",
    "    ts,\n",
    "    CASE WHEN description LIKE '%rain%' THEN 'Bad'\n",
    "    WHEN description LIKE '%storm%' THEN 'Bad'\n",
    "    ELSE 'Good' END AS weather_conditions\n",
    "FROM \n",
    "    weather_records\n",
    "```\n",
    "\n",
    "<img src=\"img/5.png\" width=600, height=600>"
   ]
  },
  {
   "cell_type": "markdown",
   "id": "4c3c0df9",
   "metadata": {},
   "source": [
    "### Task 2\n",
    "Retrieve from the trips table all the rides that started in the *Loop* (`neighborhood_id: 50`) and ended at *O'Hare* (`neighborhood_id: 63`) on a Saturday. Get the weather conditions for each ride. Use the method you applied in the previous task. Also retrieve the duration of each ride. Ignore rides for which data on weather conditions is not available.\n",
    "\n",
    "Sort by trip_id.\n",
    "\n",
    "```SQLite\n",
    "SELECT\n",
    "    trips.start_ts,\n",
    "    CASE WHEN weather_records.description LIKE '%rain%' THEN 'Bad'\n",
    "    WHEN weather_records.description LIKE '%storm%' THEN 'Bad'\n",
    "    ELSE 'Good' END AS weather_conditions,\n",
    "    trips.duration_seconds\n",
    "FROM\n",
    "    trips\n",
    "    INNER JOIN weather_records ON trips.start_ts = weather_records.ts\n",
    "WHERE\n",
    "    trips.pickup_location_id = 50 AND EXTRACT(DOW FROM trips.start_ts) = 6 AND trips.dropoff_location_id = 63 \n",
    "    AND weather_records.description IS NOT NULL\n",
    "ORDER BY\n",
    "    trip_id\n",
    "```\n",
    "\n",
    "<img src=\"img/6.png\" width=600, height=600>"
   ]
  },
  {
   "cell_type": "markdown",
   "id": "e133a097",
   "metadata": {},
   "source": [
    "## Step 4. Exploratory data analysis (Python)"
   ]
  },
  {
   "cell_type": "markdown",
   "id": "5cfffc99",
   "metadata": {},
   "source": [
    "### Importing necessary libraries, loading and preparing the datasets"
   ]
  },
  {
   "cell_type": "code",
   "execution_count": 2,
   "id": "cf4b7870",
   "metadata": {},
   "outputs": [],
   "source": [
    "import pandas as pd\n",
    "import numpy as np\n",
    "import matplotlib.pyplot as plt\n",
    "import seaborn as sns\n",
    "import scipy.stats as st\n",
    "import plotly.express as px\n",
    "import warnings\n",
    "import plotly.io as pio\n",
    "\n",
    "\n",
    "#pyo.init_notebook_mode()\n",
    "pio.renderers.default = \"svg\"\n",
    "%matplotlib inline\n",
    "warnings.filterwarnings('ignore')"
   ]
  },
  {
   "cell_type": "code",
   "execution_count": 3,
   "id": "9ce0c9e3",
   "metadata": {},
   "outputs": [],
   "source": [
    "try:\n",
    "    rides_df = pd.read_csv('datasets\\project_sql_result_01.csv')\n",
    "    neighbr_df = pd.read_csv('datasets\\project_sql_result_04.csv')\n",
    "    weather_df = pd.read_csv('datasets\\project_sql_result_07.csv')\n",
    "except:\n",
    "    print('Something went wrong!')"
   ]
  },
  {
   "cell_type": "markdown",
   "id": "e7770d44",
   "metadata": {},
   "source": [
    "### Working on the `rides_df` dataset"
   ]
  },
  {
   "cell_type": "code",
   "execution_count": 4,
   "id": "140e4967",
   "metadata": {},
   "outputs": [
    {
     "data": {
      "text/html": [
       "<div>\n",
       "<style scoped>\n",
       "    .dataframe tbody tr th:only-of-type {\n",
       "        vertical-align: middle;\n",
       "    }\n",
       "\n",
       "    .dataframe tbody tr th {\n",
       "        vertical-align: top;\n",
       "    }\n",
       "\n",
       "    .dataframe thead th {\n",
       "        text-align: right;\n",
       "    }\n",
       "</style>\n",
       "<table border=\"1\" class=\"dataframe\">\n",
       "  <thead>\n",
       "    <tr style=\"text-align: right;\">\n",
       "      <th></th>\n",
       "      <th>company_name</th>\n",
       "      <th>trips_amount</th>\n",
       "    </tr>\n",
       "  </thead>\n",
       "  <tbody>\n",
       "    <tr>\n",
       "      <th>0</th>\n",
       "      <td>Flash Cab</td>\n",
       "      <td>19558</td>\n",
       "    </tr>\n",
       "    <tr>\n",
       "      <th>1</th>\n",
       "      <td>Taxi Affiliation Services</td>\n",
       "      <td>11422</td>\n",
       "    </tr>\n",
       "    <tr>\n",
       "      <th>2</th>\n",
       "      <td>Medallion Leasin</td>\n",
       "      <td>10367</td>\n",
       "    </tr>\n",
       "    <tr>\n",
       "      <th>3</th>\n",
       "      <td>Yellow Cab</td>\n",
       "      <td>9888</td>\n",
       "    </tr>\n",
       "    <tr>\n",
       "      <th>4</th>\n",
       "      <td>Taxi Affiliation Service Yellow</td>\n",
       "      <td>9299</td>\n",
       "    </tr>\n",
       "  </tbody>\n",
       "</table>\n",
       "</div>"
      ],
      "text/plain": [
       "                      company_name  trips_amount\n",
       "0                        Flash Cab         19558\n",
       "1        Taxi Affiliation Services         11422\n",
       "2                 Medallion Leasin         10367\n",
       "3                       Yellow Cab          9888\n",
       "4  Taxi Affiliation Service Yellow          9299"
      ]
     },
     "execution_count": 4,
     "metadata": {},
     "output_type": "execute_result"
    }
   ],
   "source": [
    "# Looking at the dataset\n",
    "rides_df.head()"
   ]
  },
  {
   "cell_type": "code",
   "execution_count": 5,
   "id": "40824adf",
   "metadata": {},
   "outputs": [
    {
     "name": "stdout",
     "output_type": "stream",
     "text": [
      "<class 'pandas.core.frame.DataFrame'>\n",
      "RangeIndex: 64 entries, 0 to 63\n",
      "Data columns (total 2 columns):\n",
      " #   Column        Non-Null Count  Dtype \n",
      "---  ------        --------------  ----- \n",
      " 0   company_name  64 non-null     object\n",
      " 1   trips_amount  64 non-null     int64 \n",
      "dtypes: int64(1), object(1)\n",
      "memory usage: 1.1+ KB\n"
     ]
    }
   ],
   "source": [
    "# Getting info about the dataset\n",
    "rides_df.info()"
   ]
  },
  {
   "cell_type": "code",
   "execution_count": 6,
   "id": "29c0e700",
   "metadata": {},
   "outputs": [],
   "source": [
    "rides_df.trips_amount = rides_df.trips_amount.astype('int16')"
   ]
  },
  {
   "cell_type": "code",
   "execution_count": 7,
   "id": "19c30632",
   "metadata": {},
   "outputs": [
    {
     "data": {
      "text/plain": [
       "company_name    0\n",
       "trips_amount    0\n",
       "dtype: int64"
      ]
     },
     "execution_count": 7,
     "metadata": {},
     "output_type": "execute_result"
    }
   ],
   "source": [
    "# Searching the missing values\n",
    "rides_df.isna().sum()"
   ]
  },
  {
   "cell_type": "code",
   "execution_count": 8,
   "id": "de3946f6",
   "metadata": {
    "scrolled": true
   },
   "outputs": [
    {
     "data": {
      "text/plain": [
       "0"
      ]
     },
     "execution_count": 8,
     "metadata": {},
     "output_type": "execute_result"
    }
   ],
   "source": [
    "# Looking for duplicates\n",
    "rides_df.duplicated().sum()"
   ]
  },
  {
   "cell_type": "markdown",
   "id": "f88584e0",
   "metadata": {},
   "source": [
    "### Working on the `neighbr_df` dataset"
   ]
  },
  {
   "cell_type": "code",
   "execution_count": 9,
   "id": "c3df0877",
   "metadata": {},
   "outputs": [
    {
     "data": {
      "text/html": [
       "<div>\n",
       "<style scoped>\n",
       "    .dataframe tbody tr th:only-of-type {\n",
       "        vertical-align: middle;\n",
       "    }\n",
       "\n",
       "    .dataframe tbody tr th {\n",
       "        vertical-align: top;\n",
       "    }\n",
       "\n",
       "    .dataframe thead th {\n",
       "        text-align: right;\n",
       "    }\n",
       "</style>\n",
       "<table border=\"1\" class=\"dataframe\">\n",
       "  <thead>\n",
       "    <tr style=\"text-align: right;\">\n",
       "      <th></th>\n",
       "      <th>dropoff_location_name</th>\n",
       "      <th>average_trips</th>\n",
       "    </tr>\n",
       "  </thead>\n",
       "  <tbody>\n",
       "    <tr>\n",
       "      <th>0</th>\n",
       "      <td>Loop</td>\n",
       "      <td>10727.466667</td>\n",
       "    </tr>\n",
       "    <tr>\n",
       "      <th>1</th>\n",
       "      <td>River North</td>\n",
       "      <td>9523.666667</td>\n",
       "    </tr>\n",
       "    <tr>\n",
       "      <th>2</th>\n",
       "      <td>Streeterville</td>\n",
       "      <td>6664.666667</td>\n",
       "    </tr>\n",
       "    <tr>\n",
       "      <th>3</th>\n",
       "      <td>West Loop</td>\n",
       "      <td>5163.666667</td>\n",
       "    </tr>\n",
       "    <tr>\n",
       "      <th>4</th>\n",
       "      <td>O'Hare</td>\n",
       "      <td>2546.900000</td>\n",
       "    </tr>\n",
       "  </tbody>\n",
       "</table>\n",
       "</div>"
      ],
      "text/plain": [
       "  dropoff_location_name  average_trips\n",
       "0                  Loop   10727.466667\n",
       "1           River North    9523.666667\n",
       "2         Streeterville    6664.666667\n",
       "3             West Loop    5163.666667\n",
       "4                O'Hare    2546.900000"
      ]
     },
     "execution_count": 9,
     "metadata": {},
     "output_type": "execute_result"
    }
   ],
   "source": [
    "# Looking at the dataset\n",
    "neighbr_df.head()"
   ]
  },
  {
   "cell_type": "code",
   "execution_count": 10,
   "id": "491761e5",
   "metadata": {},
   "outputs": [
    {
     "name": "stdout",
     "output_type": "stream",
     "text": [
      "<class 'pandas.core.frame.DataFrame'>\n",
      "RangeIndex: 94 entries, 0 to 93\n",
      "Data columns (total 2 columns):\n",
      " #   Column                 Non-Null Count  Dtype  \n",
      "---  ------                 --------------  -----  \n",
      " 0   dropoff_location_name  94 non-null     object \n",
      " 1   average_trips          94 non-null     float64\n",
      "dtypes: float64(1), object(1)\n",
      "memory usage: 1.6+ KB\n"
     ]
    }
   ],
   "source": [
    "# Getting info about the dataset\n",
    "neighbr_df.info()"
   ]
  },
  {
   "cell_type": "code",
   "execution_count": 11,
   "id": "208b5672",
   "metadata": {},
   "outputs": [],
   "source": [
    "neighbr_df.average_trips = neighbr_df.average_trips.astype('int16')"
   ]
  },
  {
   "cell_type": "code",
   "execution_count": 12,
   "id": "47cf9747",
   "metadata": {},
   "outputs": [
    {
     "data": {
      "text/plain": [
       "dropoff_location_name    0\n",
       "average_trips            0\n",
       "dtype: int64"
      ]
     },
     "execution_count": 12,
     "metadata": {},
     "output_type": "execute_result"
    }
   ],
   "source": [
    "# Searching the missing values\n",
    "neighbr_df.isna().sum()"
   ]
  },
  {
   "cell_type": "code",
   "execution_count": 13,
   "id": "ca3aa253",
   "metadata": {
    "scrolled": true
   },
   "outputs": [
    {
     "data": {
      "text/plain": [
       "0"
      ]
     },
     "execution_count": 13,
     "metadata": {},
     "output_type": "execute_result"
    }
   ],
   "source": [
    "# Looking for duplicates\n",
    "neighbr_df.duplicated().sum()"
   ]
  },
  {
   "cell_type": "markdown",
   "id": "8a533d4e",
   "metadata": {},
   "source": [
    "### Working on the `weather_df` dataset"
   ]
  },
  {
   "cell_type": "code",
   "execution_count": 14,
   "id": "29d89eb8",
   "metadata": {},
   "outputs": [
    {
     "data": {
      "text/html": [
       "<div>\n",
       "<style scoped>\n",
       "    .dataframe tbody tr th:only-of-type {\n",
       "        vertical-align: middle;\n",
       "    }\n",
       "\n",
       "    .dataframe tbody tr th {\n",
       "        vertical-align: top;\n",
       "    }\n",
       "\n",
       "    .dataframe thead th {\n",
       "        text-align: right;\n",
       "    }\n",
       "</style>\n",
       "<table border=\"1\" class=\"dataframe\">\n",
       "  <thead>\n",
       "    <tr style=\"text-align: right;\">\n",
       "      <th></th>\n",
       "      <th>start_ts</th>\n",
       "      <th>weather_conditions</th>\n",
       "      <th>duration_seconds</th>\n",
       "    </tr>\n",
       "  </thead>\n",
       "  <tbody>\n",
       "    <tr>\n",
       "      <th>0</th>\n",
       "      <td>2017-11-25 16:00:00</td>\n",
       "      <td>Good</td>\n",
       "      <td>2410.0</td>\n",
       "    </tr>\n",
       "    <tr>\n",
       "      <th>1</th>\n",
       "      <td>2017-11-25 14:00:00</td>\n",
       "      <td>Good</td>\n",
       "      <td>1920.0</td>\n",
       "    </tr>\n",
       "    <tr>\n",
       "      <th>2</th>\n",
       "      <td>2017-11-25 12:00:00</td>\n",
       "      <td>Good</td>\n",
       "      <td>1543.0</td>\n",
       "    </tr>\n",
       "    <tr>\n",
       "      <th>3</th>\n",
       "      <td>2017-11-04 10:00:00</td>\n",
       "      <td>Good</td>\n",
       "      <td>2512.0</td>\n",
       "    </tr>\n",
       "    <tr>\n",
       "      <th>4</th>\n",
       "      <td>2017-11-11 07:00:00</td>\n",
       "      <td>Good</td>\n",
       "      <td>1440.0</td>\n",
       "    </tr>\n",
       "  </tbody>\n",
       "</table>\n",
       "</div>"
      ],
      "text/plain": [
       "              start_ts weather_conditions  duration_seconds\n",
       "0  2017-11-25 16:00:00               Good            2410.0\n",
       "1  2017-11-25 14:00:00               Good            1920.0\n",
       "2  2017-11-25 12:00:00               Good            1543.0\n",
       "3  2017-11-04 10:00:00               Good            2512.0\n",
       "4  2017-11-11 07:00:00               Good            1440.0"
      ]
     },
     "execution_count": 14,
     "metadata": {},
     "output_type": "execute_result"
    }
   ],
   "source": [
    "# Looking at the dataset\n",
    "weather_df.head()"
   ]
  },
  {
   "cell_type": "code",
   "execution_count": 15,
   "id": "15155ddb",
   "metadata": {},
   "outputs": [
    {
     "name": "stdout",
     "output_type": "stream",
     "text": [
      "<class 'pandas.core.frame.DataFrame'>\n",
      "RangeIndex: 1068 entries, 0 to 1067\n",
      "Data columns (total 3 columns):\n",
      " #   Column              Non-Null Count  Dtype  \n",
      "---  ------              --------------  -----  \n",
      " 0   start_ts            1068 non-null   object \n",
      " 1   weather_conditions  1068 non-null   object \n",
      " 2   duration_seconds    1068 non-null   float64\n",
      "dtypes: float64(1), object(2)\n",
      "memory usage: 25.2+ KB\n"
     ]
    }
   ],
   "source": [
    "# Getting info about the dataset\n",
    "weather_df.info()"
   ]
  },
  {
   "cell_type": "code",
   "execution_count": 16,
   "id": "464e54d8",
   "metadata": {},
   "outputs": [
    {
     "data": {
      "text/plain": [
       "start_ts              0\n",
       "weather_conditions    0\n",
       "duration_seconds      0\n",
       "dtype: int64"
      ]
     },
     "execution_count": 16,
     "metadata": {},
     "output_type": "execute_result"
    }
   ],
   "source": [
    "# Searching the missing values\n",
    "weather_df.isna().sum()"
   ]
  },
  {
   "cell_type": "code",
   "execution_count": 17,
   "id": "bda528b3",
   "metadata": {
    "scrolled": true
   },
   "outputs": [
    {
     "data": {
      "text/plain": [
       "197"
      ]
     },
     "execution_count": 17,
     "metadata": {},
     "output_type": "execute_result"
    }
   ],
   "source": [
    "# Looking for duplicates\n",
    "weather_df.duplicated().sum()"
   ]
  },
  {
   "cell_type": "code",
   "execution_count": 18,
   "id": "36e7e640",
   "metadata": {},
   "outputs": [
    {
     "data": {
      "text/html": [
       "<div>\n",
       "<style scoped>\n",
       "    .dataframe tbody tr th:only-of-type {\n",
       "        vertical-align: middle;\n",
       "    }\n",
       "\n",
       "    .dataframe tbody tr th {\n",
       "        vertical-align: top;\n",
       "    }\n",
       "\n",
       "    .dataframe thead th {\n",
       "        text-align: right;\n",
       "    }\n",
       "</style>\n",
       "<table border=\"1\" class=\"dataframe\">\n",
       "  <thead>\n",
       "    <tr style=\"text-align: right;\">\n",
       "      <th></th>\n",
       "      <th>start_ts</th>\n",
       "      <th>weather_conditions</th>\n",
       "      <th>duration_seconds</th>\n",
       "    </tr>\n",
       "  </thead>\n",
       "  <tbody>\n",
       "    <tr>\n",
       "      <th>462</th>\n",
       "      <td>2017-11-04 05:00:00</td>\n",
       "      <td>Good</td>\n",
       "      <td>1200.0</td>\n",
       "    </tr>\n",
       "    <tr>\n",
       "      <th>541</th>\n",
       "      <td>2017-11-04 05:00:00</td>\n",
       "      <td>Good</td>\n",
       "      <td>1200.0</td>\n",
       "    </tr>\n",
       "    <tr>\n",
       "      <th>681</th>\n",
       "      <td>2017-11-04 06:00:00</td>\n",
       "      <td>Good</td>\n",
       "      <td>1267.0</td>\n",
       "    </tr>\n",
       "    <tr>\n",
       "      <th>682</th>\n",
       "      <td>2017-11-04 06:00:00</td>\n",
       "      <td>Good</td>\n",
       "      <td>1267.0</td>\n",
       "    </tr>\n",
       "    <tr>\n",
       "      <th>332</th>\n",
       "      <td>2017-11-04 07:00:00</td>\n",
       "      <td>Good</td>\n",
       "      <td>1140.0</td>\n",
       "    </tr>\n",
       "    <tr>\n",
       "      <th>979</th>\n",
       "      <td>2017-11-04 07:00:00</td>\n",
       "      <td>Good</td>\n",
       "      <td>1140.0</td>\n",
       "    </tr>\n",
       "  </tbody>\n",
       "</table>\n",
       "</div>"
      ],
      "text/plain": [
       "                start_ts weather_conditions  duration_seconds\n",
       "462  2017-11-04 05:00:00               Good            1200.0\n",
       "541  2017-11-04 05:00:00               Good            1200.0\n",
       "681  2017-11-04 06:00:00               Good            1267.0\n",
       "682  2017-11-04 06:00:00               Good            1267.0\n",
       "332  2017-11-04 07:00:00               Good            1140.0\n",
       "979  2017-11-04 07:00:00               Good            1140.0"
      ]
     },
     "execution_count": 18,
     "metadata": {},
     "output_type": "execute_result"
    }
   ],
   "source": [
    "# closer look on the duplicated values\n",
    "weather_df[weather_df.duplicated(keep=False)].sort_values(['start_ts', 'weather_conditions', 'duration_seconds']).head(6)"
   ]
  },
  {
   "cell_type": "code",
   "execution_count": 19,
   "id": "212d0f31",
   "metadata": {},
   "outputs": [
    {
     "data": {
      "text/plain": [
       "0"
      ]
     },
     "execution_count": 19,
     "metadata": {},
     "output_type": "execute_result"
    }
   ],
   "source": [
    "# deleting the duplicates\n",
    "weather_df = weather_df.drop_duplicates(keep='first')\n",
    "weather_df.duplicated().sum()"
   ]
  },
  {
   "cell_type": "code",
   "execution_count": 20,
   "id": "c7c8b7e2",
   "metadata": {},
   "outputs": [],
   "source": [
    "# transforming string to datetime\n",
    "weather_df.start_ts = pd.to_datetime(weather_df.start_ts)"
   ]
  },
  {
   "cell_type": "code",
   "execution_count": 21,
   "id": "c8a1e166",
   "metadata": {},
   "outputs": [],
   "source": [
    "# chaning float64 to int16 the \"duration_seconds\" column\n",
    "weather_df.duration_seconds = weather_df.duration_seconds.astype('int16')"
   ]
  },
  {
   "cell_type": "code",
   "execution_count": 22,
   "id": "ba3cc2bf",
   "metadata": {},
   "outputs": [
    {
     "name": "stdout",
     "output_type": "stream",
     "text": [
      "<class 'pandas.core.frame.DataFrame'>\n",
      "Int64Index: 871 entries, 0 to 1067\n",
      "Data columns (total 3 columns):\n",
      " #   Column              Non-Null Count  Dtype         \n",
      "---  ------              --------------  -----         \n",
      " 0   start_ts            871 non-null    datetime64[ns]\n",
      " 1   weather_conditions  871 non-null    object        \n",
      " 2   duration_seconds    871 non-null    int16         \n",
      "dtypes: datetime64[ns](1), int16(1), object(1)\n",
      "memory usage: 22.1+ KB\n"
     ]
    }
   ],
   "source": [
    "weather_df.info()"
   ]
  },
  {
   "cell_type": "markdown",
   "id": "ece35736",
   "metadata": {},
   "source": [
    "### Conclusion\n",
    "\n",
    "The datasets have been successfully loaded and prepared for EDA. The data was mostly OK, despite some minor issues (e.g. improper dtype, some duplicates, etc.). Datasets didn't contain any missing values, columns' names have been written correctly."
   ]
  },
  {
   "cell_type": "markdown",
   "id": "bebb0249",
   "metadata": {},
   "source": [
    "### Exploratory data analysis (EDA)"
   ]
  },
  {
   "cell_type": "markdown",
   "id": "c96039ab",
   "metadata": {},
   "source": [
    "#### Top-10 companies by the amount of trips"
   ]
  },
  {
   "cell_type": "code",
   "execution_count": 23,
   "id": "490afe54",
   "metadata": {},
   "outputs": [
    {
     "data": {
      "image/png": "[encoded data removed]",
      "text/plain": [
       "<Figure size 1152x576 with 1 Axes>"
      ]
     },
     "metadata": {
      "needs_background": "light"
     },
     "output_type": "display_data"
    }
   ],
   "source": [
    "rides_data = rides_df.sort_values('trips_amount', ascending=False).head(10)\n",
    "plt.figure(figsize=(16,8))\n",
    "sns.barplot(y='company_name', x='trips_amount', data=rides_data, palette='Spectral')\n",
    "plt.title('Top-10 companies by the amount of trips on November 15-16, 2017', size=24)\n",
    "plt.xlabel('Amount of trips', size=18)\n",
    "plt.ylabel('Company name', size=18)\n",
    "plt.xticks(size=14)\n",
    "plt.yticks(size=14)\n",
    "plt.show()"
   ]
  },
  {
   "cell_type": "markdown",
   "id": "6441177e",
   "metadata": {},
   "source": [
    "#### Trips share by the companies"
   ]
  },
  {
   "cell_type": "code",
   "execution_count": 24,
   "id": "b22c9db1",
   "metadata": {},
   "outputs": [
    {
     "data": {
      "image/svg+xml": [
       "<svg class=\"main-svg\" xmlns=\"http://www.w3.org/2000/svg\" xmlns:xlink=\"http://www.w3.org/1999/xlink\" width=\"950\" height=\"600\" style=\"\" viewBox=\"0 0 950 600\"><rect x=\"0\" y=\"0\" width=\"950\" height=\"600\" style=\"fill: rgb(255, 255, 255); fill-opacity: 1;\"/><defs id=\"defs-abec81\"><g class=\"clips\"/><g class=\"gradients\"/><g class=\"patterns\"/></defs><g class=\"bglayer\"/><g class=\"layer-below\"><g class=\"imagelayer\"/><g class=\"shapelayer\"/></g><g class=\"cartesianlayer\"/><g class=\"polarlayer\"/><g class=\"smithlayer\"/><g class=\"ternarylayer\"/><g class=\"geolayer\"/><g class=\"funnelarealayer\"/><g class=\"pielayer\"><g class=\"trace\" stroke-linejoin=\"round\" style=\"opacity: 1;\"><g class=\"slice\"><path class=\"surface\" d=\"M467.4484978430512,259.9340936801013a92,92 0 0 0 -86.94849784305119,-61.934093680101284l0,-138a230,230 0 0 1 217.37124460762794,154.8352342002532Z\" style=\"pointer-events: all; stroke-width: 0; fill: rgb(99, 110, 250); fill-opacity: 1; stroke: rgb(68, 68, 68); stroke-opacity: 1;\"/><g class=\"slicetext\"><text data-notex=\"1\" class=\"slicetext\" transform=\"translate(473.86846100418177,163.36634851108687)\" text-anchor=\"middle\" x=\"0\" y=\"0\" style=\"font-family: 'Open Sans', verdana, arial, sans-serif; font-size: 12px; fill: rgb(255, 255, 255); fill-opacity: 1; white-space: pre;\">19.7%</text></g></g><g class=\"slice\"><path class=\"surface\" d=\"M380.5,198a92,92 0 0 0 -60.86567165408193,23.011812503172052l-91.29850748112288,-103.48228124524192a230,230 0 0 1 152.16417913520482,-57.52953125793013Z\" style=\"pointer-events: all; stroke-width: 0; fill: rgb(239, 85, 59); fill-opacity: 1; stroke: rgb(68, 68, 68); stroke-opacity: 1;\"/><g class=\"slicetext\"><text data-notex=\"1\" class=\"slicetext\" transform=\"translate(320.37265081332913,135.56797640459175)\" text-anchor=\"middle\" x=\"0\" y=\"0\" style=\"font-family: 'Open Sans', verdana, arial, sans-serif; font-size: 12px; fill: rgb(68, 68, 68); fill-opacity: 1; white-space: pre;\">11.5%</text></g></g><g class=\"slice\"><path class=\"surface\" d=\"M319.63432834591805,221.01181250317205a92,92 0 0 0 -29.448815789109872,51.458402618696894l-135.47173116478768,-26.29467731719658a230,230 0 0 1 73.62203947277467,-128.64600654674223Z\" style=\"pointer-events: all; stroke-width: 0; fill: rgb(0, 204, 150); fill-opacity: 1; stroke: rgb(68, 68, 68); stroke-opacity: 1;\"/><g class=\"slicetext\"><text data-notex=\"1\" class=\"slicetext\" transform=\"translate(229.4862107232207,208.0995932363989)\" text-anchor=\"middle\" x=\"0\" y=\"0\" style=\"font-family: 'Open Sans', verdana, arial, sans-serif; font-size: 12px; fill: rgb(68, 68, 68); fill-opacity: 1; white-space: pre;\">10.4%</text></g></g><g class=\"slice\"><path class=\"surface\" d=\"M290.1855125568082,272.47021512186893a92,92 0 0 0 6.848517273426262,56.22644912222076l-125.1989552546483,58.044996366134555a230,230 0 0 1 -17.121293183565655,-140.56612280555188Z\" style=\"pointer-events: all; stroke-width: 0; fill: rgb(171, 99, 250); fill-opacity: 1; stroke: rgb(68, 68, 68); stroke-opacity: 1;\"/><g class=\"slicetext\"><text data-notex=\"1\" class=\"slicetext\" transform=\"translate(205.8882325432322,315.76337700547913)\" text-anchor=\"middle\" x=\"0\" y=\"0\" style=\"font-family: 'Open Sans', verdana, arial, sans-serif; font-size: 12px; fill: rgb(68, 68, 68); fill-opacity: 1; white-space: pre;\">9.96%</text></g></g><g class=\"slice\"><path class=\"surface\" d=\"M297.03402983023443,328.6966642440897a92,92 0 0 0 35.52674448251977,39.82613907129962l-71.90883853086865,117.78420497308397a230,230 0 0 1 -88.81686120629942,-99.56534767824904Z\" style=\"pointer-events: all; stroke-width: 0; fill: rgb(255, 161, 90); fill-opacity: 1; stroke: rgb(68, 68, 68); stroke-opacity: 1;\"/><g class=\"slicetext\"><text data-notex=\"1\" class=\"slicetext\" transform=\"translate(247.4158448199034,413.1823308138644)\" text-anchor=\"middle\" x=\"0\" y=\"0\" style=\"font-family: 'Open Sans', verdana, arial, sans-serif; font-size: 12px; fill: rgb(68, 68, 68); fill-opacity: 1; white-space: pre;\">9.37%</text></g></g><g class=\"slice\"><path class=\"surface\" d=\"M332.56077431275423,368.5228033153893a92,92 0 0 0 50.972417935058985,13.42718170248768l4.549788371719814,137.9249775268155a230,230 0 0 1 -127.43104483764745,-33.567954256219195Z\" style=\"pointer-events: all; stroke-width: 0; fill: rgb(25, 211, 243); fill-opacity: 1; stroke: rgb(68, 68, 68); stroke-opacity: 1;\"/><g class=\"slicetext\"><text data-notex=\"1\" class=\"slicetext\" transform=\"translate(334.9193419560687,467.3855163302511)\" text-anchor=\"middle\" x=\"0\" y=\"0\" style=\"font-family: 'Open Sans', verdana, arial, sans-serif; font-size: 12px; fill: rgb(68, 68, 68); fill-opacity: 1; white-space: pre;\">9.25%</text></g></g><g class=\"slice\"><path class=\"surface\" d=\"M383.5331922478132,381.949985017877a92,92 0 0 0 46.43247112513868,-14.379706256783164l74.19849505942784,116.35541814164074a230,230 0 0 1 -116.0811778128467,35.94926564195791Z\" style=\"pointer-events: all; stroke-width: 0; fill: rgb(255, 102, 146); fill-opacity: 1; stroke: rgb(68, 68, 68); stroke-opacity: 1;\"/><g class=\"slicetext\"><text data-notex=\"1\" class=\"slicetext\" transform=\"translate(434.2831897385882,468.2935482360293)\" text-anchor=\"middle\" x=\"0\" y=\"0\" style=\"font-family: 'Open Sans', verdana, arial, sans-serif; font-size: 12px; fill: rgb(68, 68, 68); fill-opacity: 1; white-space: pre;\">8.51%</text></g></g><g class=\"slice\"><path class=\"surface\" d=\"M429.9656633729519,367.57027876109385a92,92 0 0 0 30.569151869871916,-32.20037299695259l120.05222286423572,68.05485864621187a230,230 0 0 1 -76.42287967467979,80.50093249238147Z\" style=\"pointer-events: all; stroke-width: 0; fill: rgb(182, 232, 128); fill-opacity: 1; stroke: rgb(68, 68, 68); stroke-opacity: 1;\"/><g class=\"slicetext\"><text data-notex=\"1\" class=\"slicetext\" transform=\"translate(514.8396602638729,422.0713043646112)\" text-anchor=\"middle\" x=\"0\" y=\"0\" style=\"font-family: 'Open Sans', verdana, arial, sans-serif; font-size: 12px; fill: rgb(68, 68, 68); fill-opacity: 1; white-space: pre;\">7.76%</text></g></g><g class=\"slice\"><path class=\"surface\" d=\"M460.5348152428238,335.36990576414127a92,92 0 0 0 11.876701547767357,-41.33591502879277l137.86727518588674,6.050986103022722a230,230 0 0 1 -29.691753869418392,103.33978757198192Z\" style=\"pointer-events: all; stroke-width: 0; fill: rgb(255, 151, 255); fill-opacity: 1; stroke: rgb(68, 68, 68); stroke-opacity: 1;\"/><g class=\"slicetext\"><text data-notex=\"1\" class=\"slicetext\" transform=\"translate(559.6366731019203,345.98106035304653)\" text-anchor=\"middle\" x=\"0\" y=\"0\" style=\"font-family: 'Open Sans', verdana, arial, sans-serif; font-size: 12px; fill: rgb(68, 68, 68); fill-opacity: 1; white-space: pre;\">7.51%</text></g></g><g class=\"slice\"><path class=\"surface\" d=\"M472.4115167905912,294.0339907353485a92,92 0 0 0 -4.963018947539968,-34.09989705524711l130.4227467645768,-45.098859479847945a230,230 0 0 1 12.407547368849919,85.24974263811778Z\" style=\"pointer-events: all; stroke-width: 0; fill: rgb(254, 203, 82); fill-opacity: 1; stroke: rgb(68, 68, 68); stroke-opacity: 1;\"/><g class=\"slicetext\"><text data-notex=\"1\" class=\"slicetext\" transform=\"translate(572.1615963774291,266.59921189136907)\" text-anchor=\"middle\" x=\"0\" y=\"0\" style=\"font-family: 'Open Sans', verdana, arial, sans-serif; font-size: 12px; fill: rgb(68, 68, 68); fill-opacity: 1; white-space: pre;\">6%</text></g></g></g></g><g class=\"iciclelayer\"/><g class=\"treemaplayer\"/><g class=\"sunburstlayer\"/><g class=\"glimages\"/><defs id=\"topdefs-abec81\"><g class=\"clips\"/><clipPath id=\"legendabec81\"><rect width=\"245\" height=\"200\" x=\"0\" y=\"0\"/></clipPath></defs><g class=\"layer-above\"><g class=\"imagelayer\"/><g class=\"shapelayer\"/></g><g class=\"infolayer\"><g class=\"legend\" pointer-events=\"all\" transform=\"translate(693.02,60)\"><rect class=\"bg\" shape-rendering=\"crispEdges\" style=\"stroke: rgb(68, 68, 68); stroke-opacity: 1; fill: rgb(255, 255, 255); fill-opacity: 1; stroke-width: 0px;\" width=\"245\" height=\"200\" x=\"0\" y=\"0\"/><g class=\"scrollbox\" transform=\"\" clip-path=\"url(#legendabec81)\"><g class=\"groups\"><g class=\"traces\" transform=\"translate(0,14.5)\" style=\"opacity: 1;\"><text class=\"legendtext\" text-anchor=\"start\" x=\"40\" y=\"4.680000000000001\" style=\"font-family: 'Open Sans', verdana, arial, sans-serif; font-size: 12px; fill: rgb(42, 63, 95); fill-opacity: 1; white-space: pre;\">Flash Cab</text><g class=\"layers\" style=\"opacity: 1;\"><g class=\"legendfill\"/><g class=\"legendlines\"/><g class=\"legendsymbols\"><g class=\"legendpoints\"><path class=\"legendpie\" d=\"M6,6H-6V-6H6Z\" transform=\"translate(20,0)\" style=\"stroke-width: 0; fill: rgb(99, 110, 250); fill-opacity: 1; stroke: rgb(68, 68, 68); stroke-opacity: 1;\"/></g></g></g><rect class=\"legendtoggle\" x=\"0\" y=\"-9.5\" width=\"239.109375\" height=\"19\" style=\"fill: rgb(0, 0, 0); fill-opacity: 0;\"/></g><g class=\"traces\" transform=\"translate(0,33.5)\" style=\"opacity: 1;\"><text class=\"legendtext\" text-anchor=\"start\" x=\"40\" y=\"4.680000000000001\" style=\"font-family: 'Open Sans', verdana, arial, sans-serif; font-size: 12px; fill: rgb(42, 63, 95); fill-opacity: 1; white-space: pre;\">Taxi Affiliation Services</text><g class=\"layers\" style=\"opacity: 1;\"><g class=\"legendfill\"/><g class=\"legendlines\"/><g class=\"legendsymbols\"><g class=\"legendpoints\"><path class=\"legendpie\" d=\"M6,6H-6V-6H6Z\" transform=\"translate(20,0)\" style=\"stroke-width: 0; fill: rgb(239, 85, 59); fill-opacity: 1; stroke: rgb(68, 68, 68); stroke-opacity: 1;\"/></g></g></g><rect class=\"legendtoggle\" x=\"0\" y=\"-9.5\" width=\"239.109375\" height=\"19\" style=\"fill: rgb(0, 0, 0); fill-opacity: 0;\"/></g><g class=\"traces\" transform=\"translate(0,52.5)\" style=\"opacity: 1;\"><text class=\"legendtext\" text-anchor=\"start\" x=\"40\" y=\"4.680000000000001\" style=\"font-family: 'Open Sans', verdana, arial, sans-serif; font-size: 12px; fill: rgb(42, 63, 95); fill-opacity: 1; white-space: pre;\">Medallion Leasin</text><g class=\"layers\" style=\"opacity: 1;\"><g class=\"legendfill\"/><g class=\"legendlines\"/><g class=\"legendsymbols\"><g class=\"legendpoints\"><path class=\"legendpie\" d=\"M6,6H-6V-6H6Z\" transform=\"translate(20,0)\" style=\"stroke-width: 0; fill: rgb(0, 204, 150); fill-opacity: 1; stroke: rgb(68, 68, 68); stroke-opacity: 1;\"/></g></g></g><rect class=\"legendtoggle\" x=\"0\" y=\"-9.5\" width=\"239.109375\" height=\"19\" style=\"fill: rgb(0, 0, 0); fill-opacity: 0;\"/></g><g class=\"traces\" transform=\"translate(0,71.5)\" style=\"opacity: 1;\"><text class=\"legendtext\" text-anchor=\"start\" x=\"40\" y=\"4.680000000000001\" style=\"font-family: 'Open Sans', verdana, arial, sans-serif; font-size: 12px; fill: rgb(42, 63, 95); fill-opacity: 1; white-space: pre;\">Yellow Cab</text><g class=\"layers\" style=\"opacity: 1;\"><g class=\"legendfill\"/><g class=\"legendlines\"/><g class=\"legendsymbols\"><g class=\"legendpoints\"><path class=\"legendpie\" d=\"M6,6H-6V-6H6Z\" transform=\"translate(20,0)\" style=\"stroke-width: 0; fill: rgb(171, 99, 250); fill-opacity: 1; stroke: rgb(68, 68, 68); stroke-opacity: 1;\"/></g></g></g><rect class=\"legendtoggle\" x=\"0\" y=\"-9.5\" width=\"239.109375\" height=\"19\" style=\"fill: rgb(0, 0, 0); fill-opacity: 0;\"/></g><g class=\"traces\" transform=\"translate(0,90.5)\" style=\"opacity: 1;\"><text class=\"legendtext\" text-anchor=\"start\" x=\"40\" y=\"4.680000000000001\" style=\"font-family: 'Open Sans', verdana, arial, sans-serif; font-size: 12px; fill: rgb(42, 63, 95); fill-opacity: 1; white-space: pre;\">Taxi Affiliation Service Yellow</text><g class=\"layers\" style=\"opacity: 1;\"><g class=\"legendfill\"/><g class=\"legendlines\"/><g class=\"legendsymbols\"><g class=\"legendpoints\"><path class=\"legendpie\" d=\"M6,6H-6V-6H6Z\" transform=\"translate(20,0)\" style=\"stroke-width: 0; fill: rgb(255, 161, 90); fill-opacity: 1; stroke: rgb(68, 68, 68); stroke-opacity: 1;\"/></g></g></g><rect class=\"legendtoggle\" x=\"0\" y=\"-9.5\" width=\"239.109375\" height=\"19\" style=\"fill: rgb(0, 0, 0); fill-opacity: 0;\"/></g><g class=\"traces\" transform=\"translate(0,109.5)\" style=\"opacity: 1;\"><text class=\"legendtext\" text-anchor=\"start\" x=\"40\" y=\"4.680000000000001\" style=\"font-family: 'Open Sans', verdana, arial, sans-serif; font-size: 12px; fill: rgb(42, 63, 95); fill-opacity: 1; white-space: pre;\">Chicago Carriage Cab Corp</text><g class=\"layers\" style=\"opacity: 1;\"><g class=\"legendfill\"/><g class=\"legendlines\"/><g class=\"legendsymbols\"><g class=\"legendpoints\"><path class=\"legendpie\" d=\"M6,6H-6V-6H6Z\" transform=\"translate(20,0)\" style=\"stroke-width: 0; fill: rgb(25, 211, 243); fill-opacity: 1; stroke: rgb(68, 68, 68); stroke-opacity: 1;\"/></g></g></g><rect class=\"legendtoggle\" x=\"0\" y=\"-9.5\" width=\"239.109375\" height=\"19\" style=\"fill: rgb(0, 0, 0); fill-opacity: 0;\"/></g><g class=\"traces\" transform=\"translate(0,128.5)\" style=\"opacity: 1;\"><text class=\"legendtext\" text-anchor=\"start\" x=\"40\" y=\"4.680000000000001\" style=\"font-family: 'Open Sans', verdana, arial, sans-serif; font-size: 12px; fill: rgb(42, 63, 95); fill-opacity: 1; white-space: pre;\">City Service</text><g class=\"layers\" style=\"opacity: 1;\"><g class=\"legendfill\"/><g class=\"legendlines\"/><g class=\"legendsymbols\"><g class=\"legendpoints\"><path class=\"legendpie\" d=\"M6,6H-6V-6H6Z\" transform=\"translate(20,0)\" style=\"stroke-width: 0; fill: rgb(255, 102, 146); fill-opacity: 1; stroke: rgb(68, 68, 68); stroke-opacity: 1;\"/></g></g></g><rect class=\"legendtoggle\" x=\"0\" y=\"-9.5\" width=\"239.109375\" height=\"19\" style=\"fill: rgb(0, 0, 0); fill-opacity: 0;\"/></g><g class=\"traces\" transform=\"translate(0,147.5)\" style=\"opacity: 1;\"><text class=\"legendtext\" text-anchor=\"start\" x=\"40\" y=\"4.680000000000001\" style=\"font-family: 'Open Sans', verdana, arial, sans-serif; font-size: 12px; fill: rgb(42, 63, 95); fill-opacity: 1; white-space: pre;\">Sun Taxi</text><g class=\"layers\" style=\"opacity: 1;\"><g class=\"legendfill\"/><g class=\"legendlines\"/><g class=\"legendsymbols\"><g class=\"legendpoints\"><path class=\"legendpie\" d=\"M6,6H-6V-6H6Z\" transform=\"translate(20,0)\" style=\"stroke-width: 0; fill: rgb(182, 232, 128); fill-opacity: 1; stroke: rgb(68, 68, 68); stroke-opacity: 1;\"/></g></g></g><rect class=\"legendtoggle\" x=\"0\" y=\"-9.5\" width=\"239.109375\" height=\"19\" style=\"fill: rgb(0, 0, 0); fill-opacity: 0;\"/></g><g class=\"traces\" transform=\"translate(0,166.5)\" style=\"opacity: 1;\"><text class=\"legendtext\" text-anchor=\"start\" x=\"40\" y=\"4.680000000000001\" style=\"font-family: 'Open Sans', verdana, arial, sans-serif; font-size: 12px; fill: rgb(42, 63, 95); fill-opacity: 1; white-space: pre;\">Star North Management LLC</text><g class=\"layers\" style=\"opacity: 1;\"><g class=\"legendfill\"/><g class=\"legendlines\"/><g class=\"legendsymbols\"><g class=\"legendpoints\"><path class=\"legendpie\" d=\"M6,6H-6V-6H6Z\" transform=\"translate(20,0)\" style=\"stroke-width: 0; fill: rgb(255, 151, 255); fill-opacity: 1; stroke: rgb(68, 68, 68); stroke-opacity: 1;\"/></g></g></g><rect class=\"legendtoggle\" x=\"0\" y=\"-9.5\" width=\"239.109375\" height=\"19\" style=\"fill: rgb(0, 0, 0); fill-opacity: 0;\"/></g><g class=\"traces\" transform=\"translate(0,185.5)\" style=\"opacity: 1;\"><text class=\"legendtext\" text-anchor=\"start\" x=\"40\" y=\"4.680000000000001\" style=\"font-family: 'Open Sans', verdana, arial, sans-serif; font-size: 12px; fill: rgb(42, 63, 95); fill-opacity: 1; white-space: pre;\">Blue Ribbon Taxi Association Inc.</text><g class=\"layers\" style=\"opacity: 1;\"><g class=\"legendfill\"/><g class=\"legendlines\"/><g class=\"legendsymbols\"><g class=\"legendpoints\"><path class=\"legendpie\" d=\"M6,6H-6V-6H6Z\" transform=\"translate(20,0)\" style=\"stroke-width: 0; fill: rgb(254, 203, 82); fill-opacity: 1; stroke: rgb(68, 68, 68); stroke-opacity: 1;\"/></g></g></g><rect class=\"legendtoggle\" x=\"0\" y=\"-9.5\" width=\"239.109375\" height=\"19\" style=\"fill: rgb(0, 0, 0); fill-opacity: 0;\"/></g></g></g><rect class=\"scrollbar\" rx=\"20\" ry=\"3\" width=\"0\" height=\"0\" style=\"fill: rgb(128, 139, 164); fill-opacity: 1;\" x=\"0\" y=\"0\"/></g><g class=\"g-gtitle\"><text class=\"gtitle\" x=\"47.5\" y=\"30\" text-anchor=\"start\" dy=\"0em\" style=\"font-family: 'Open Sans', verdana, arial, sans-serif; font-size: 17px; fill: rgb(42, 63, 95); opacity: 1; font-weight: normal; white-space: pre;\">Trips share by the companies on November 15-16, 2017</text></g><g class=\"annotation\" data-index=\"0\" style=\"opacity: 1;\"><g class=\"annotation-text-g\" transform=\"rotate(0,380.5,290)\"><g class=\"cursor-pointer\" transform=\"translate(316,277)\"><rect class=\"bg\" x=\"0.5\" y=\"0.5\" width=\"128\" height=\"25\" style=\"stroke-width: 1px; stroke: rgb(0, 0, 0); stroke-opacity: 0; fill: rgb(0, 0, 0); fill-opacity: 0;\"/><text class=\"annotation-text\" text-anchor=\"middle\" x=\"64.71875\" y=\"20\" style=\"font-family: 'Open Sans', verdana, arial, sans-serif; font-size: 18px; fill: rgb(42, 63, 95); fill-opacity: 1; white-space: pre;\">Taxi company</text></g></g></g></g></svg>"
      ]
     },
     "metadata": {},
     "output_type": "display_data"
    }
   ],
   "source": [
    "fig = px.pie(rides_data, values='trips_amount', names='company_name',\n",
    "             hover_name='company_name', hole=0.4, width=950, height=600)\n",
    "fig.update_layout(\n",
    "    title_text=\"Trips share by the companies on November 15-16, 2017\",\n",
    "    # Add annotations in the center of the donut pies.\n",
    "    annotations=[dict(text='Taxi company', x=0.5, y=0.5, font_size=18, showarrow=False)])\n",
    "fig.show()"
   ]
  },
  {
   "cell_type": "markdown",
   "id": "9ae8f02b",
   "metadata": {},
   "source": [
    "#### Top-10 neighborhoods by the amount of trips"
   ]
  },
  {
   "cell_type": "code",
   "execution_count": 25,
   "id": "197ba27c",
   "metadata": {},
   "outputs": [
    {
     "data": {
      "image/png": "[encoded data removed]",
      "text/plain": [
       "<Figure size 1152x576 with 1 Axes>"
      ]
     },
     "metadata": {
      "needs_background": "light"
     },
     "output_type": "display_data"
    }
   ],
   "source": [
    "dropoff_data = neighbr_df.sort_values('average_trips', ascending=False).head(10)\n",
    "\n",
    "plt.figure(figsize=(16,8))\n",
    "sns.barplot(y='dropoff_location_name', x='average_trips', data=dropoff_data, palette='Spectral')\n",
    "plt.title('Top-10 neighborhoods by the amount of trips on November 2017', size=24)\n",
    "plt.xlabel('Amount of trips', size=18)\n",
    "plt.ylabel('Neighborhood name', size=18)\n",
    "plt.xticks(size=14)\n",
    "plt.yticks(size=14)\n",
    "plt.show()"
   ]
  },
  {
   "cell_type": "markdown",
   "id": "21057eb2",
   "metadata": {},
   "source": [
    "#### Trips share by the neighborhoods"
   ]
  },
  {
   "cell_type": "code",
   "execution_count": 26,
   "id": "25dccfdf",
   "metadata": {},
   "outputs": [
    {
     "data": {
      "image/svg+xml": [
       "<svg class=\"main-svg\" xmlns=\"http://www.w3.org/2000/svg\" xmlns:xlink=\"http://www.w3.org/1999/xlink\" width=\"950\" height=\"600\" style=\"\" viewBox=\"0 0 950 600\"><rect x=\"0\" y=\"0\" width=\"950\" height=\"600\" style=\"fill: rgb(255, 255, 255); fill-opacity: 1;\"/><defs id=\"defs-fddade\"><g class=\"clips\"/><g class=\"gradients\"/><g class=\"patterns\"/></defs><g class=\"bglayer\"/><g class=\"layer-below\"><g class=\"imagelayer\"/><g class=\"shapelayer\"/></g><g class=\"cartesianlayer\"/><g class=\"polarlayer\"/><g class=\"smithlayer\"/><g class=\"ternarylayer\"/><g class=\"geolayer\"/><g class=\"funnelarealayer\"/><g class=\"pielayer\"><g class=\"trace\" stroke-linejoin=\"round\" style=\"opacity: 1;\"><g class=\"slice\"><path class=\"surface\" d=\"M507.99314797352775,288.87717947977893a92,92 0 0 0 -91.99314797352775,-90.87717947977892l0,-138a230,230 0 0 1 229.98286993381936,227.19294869944727Z\" style=\"pointer-events: all; stroke-width: 0; fill: rgb(99, 110, 250); fill-opacity: 1; stroke: rgb(68, 68, 68); stroke-opacity: 1;\"/><g class=\"slicetext\"><text data-notex=\"1\" class=\"slicetext\" transform=\"translate(529.1082868247361,172.15851779722274)\" text-anchor=\"middle\" x=\"0\" y=\"0\" style=\"font-family: 'Open Sans', verdana, arial, sans-serif; font-size: 12px; fill: rgb(255, 255, 255); fill-opacity: 1; white-space: pre;\"><tspan class=\"line\" dy=\"0em\" x=\"0\" y=\"0\">Loop</tspan><tspan class=\"line\" dy=\"1.3em\" x=\"0\" y=\"0\">24.8%</tspan></text></g></g><g class=\"slice\"><path class=\"surface\" d=\"M416,198a92,92 0 0 0 -90.39368867225424,74.88331082762856l-135.59053300838136,-25.675033758557145a230,230 0 0 1 225.98422168063559,-187.2082770690714Z\" style=\"pointer-events: all; stroke-width: 0; fill: rgb(239, 85, 59); fill-opacity: 1; stroke: rgb(68, 68, 68); stroke-opacity: 1;\"/><g class=\"slicetext\"><text data-notex=\"1\" class=\"slicetext\" transform=\"translate(313.29076763580514,162.71219434612465)\" text-anchor=\"middle\" x=\"0\" y=\"0\" style=\"font-family: 'Open Sans', verdana, arial, sans-serif; font-size: 12px; fill: rgb(68, 68, 68); fill-opacity: 1; white-space: pre;\"><tspan class=\"line\" dy=\"0em\" x=\"0\" y=\"0\">River North</tspan><tspan class=\"line\" dy=\"1.3em\" x=\"0\" y=\"0\">22%</tspan></text></g></g><g class=\"slice\"><path class=\"surface\" d=\"M325.60631132774574,272.8833108276286a92,92 0 0 0 25.061627227182854,81.89108031067097l-97.99809216760707,97.16158670744929a230,230 0 0 1 -62.65406806795713,-204.7277007766774Z\" style=\"pointer-events: all; stroke-width: 0; fill: rgb(0, 204, 150); fill-opacity: 1; stroke: rgb(68, 68, 68); stroke-opacity: 1;\"/><g class=\"slicetext\"><text data-notex=\"1\" class=\"slicetext\" transform=\"translate(262.04808705726424,333.8101562466612)\" text-anchor=\"middle\" x=\"0\" y=\"0\" style=\"font-family: 'Open Sans', verdana, arial, sans-serif; font-size: 12px; fill: rgb(68, 68, 68); fill-opacity: 1; white-space: pre;\"><tspan class=\"line\" dy=\"0em\" x=\"0\" y=\"0\">Streeterville</tspan><tspan class=\"line\" dy=\"1.3em\" x=\"0\" y=\"0\">15.4%</tspan></text></g></g><g class=\"slice\"><path class=\"surface\" d=\"M350.6679385549286,354.7743911382995a92,92 0 0 0 61.697117792333614,27.153772036221813l-5.452415479106663,137.892244761782a230,230 0 0 1 -154.24279448083402,-67.88443009055453Z\" style=\"pointer-events: all; stroke-width: 0; fill: rgb(171, 99, 250); fill-opacity: 1; stroke: rgb(68, 68, 68); stroke-opacity: 1;\"/><g class=\"slicetext\"><text data-notex=\"1\" class=\"slicetext\" transform=\"translate(347.933726939205,440.7654937240111)\" text-anchor=\"middle\" x=\"0\" y=\"0\" style=\"font-family: 'Open Sans', verdana, arial, sans-serif; font-size: 12px; fill: rgb(68, 68, 68); fill-opacity: 1; white-space: pre;\"><tspan class=\"line\" dy=\"0em\" x=\"0\" y=\"0\">West Loop</tspan><tspan class=\"line\" dy=\"1.3em\" x=\"0\" y=\"0\">11.9%</tspan></text></g></g><g class=\"slice\"><path class=\"surface\" d=\"M412.3650563472622,381.92816317452133a92,92 0 0 0 33.48200762120095,-4.904299938840587l44.77059595269476,130.53579485352114a230,230 0 0 1 -83.70501905300237,12.260749847101465Z\" style=\"pointer-events: all; stroke-width: 0; fill: rgb(255, 161, 90); fill-opacity: 1; stroke: rgb(68, 68, 68); stroke-opacity: 1;\"/><g class=\"slicetext\"><text data-notex=\"1\" class=\"slicetext\" transform=\"translate(444.1556364332252,478.91586291353576)\" text-anchor=\"middle\" x=\"0\" y=\"0\" style=\"font-family: 'Open Sans', verdana, arial, sans-serif; font-size: 12px; fill: rgb(68, 68, 68); fill-opacity: 1; white-space: pre;\"><tspan class=\"line\" dy=\"0em\" x=\"0\" y=\"0\">O'Hare</tspan><tspan class=\"line\" dy=\"1.3em\" x=\"0\" y=\"0\">5.89%</tspan></text></g></g><g class=\"slice\"><path class=\"surface\" d=\"M445.8470639684632,377.0238632356808a92,92 0 0 0 28.14627850262236,-15.604172470238588l86.99001370662829,107.12953614816325a230,230 0 0 1 -70.36569625655589,39.010431175596466Z\" style=\"pointer-events: all; stroke-width: 0; fill: rgb(25, 211, 243); fill-opacity: 1; stroke: rgb(68, 68, 68); stroke-opacity: 1;\"/><g class=\"slicetext\"><text data-notex=\"1\" class=\"slicetext\" transform=\"translate(510.8320506184409,457.90516893972404)\" text-anchor=\"middle\" x=\"0\" y=\"0\" style=\"font-family: 'Open Sans', verdana, arial, sans-serif; font-size: 12px; fill: rgb(68, 68, 68); fill-opacity: 1; white-space: pre;\"><tspan class=\"line\" dy=\"0em\" x=\"0\" y=\"0\">Lake View</tspan><tspan class=\"line\" dy=\"1.3em\" x=\"0\" y=\"0\">5.6%</tspan></text></g></g><g class=\"slice\"><path class=\"surface\" d=\"M473.99334247108555,361.41969076544217a92,92 0 0 0 18.539901165521087,-20.364205081141666l114.79986545490992,76.58322852645075a230,230 0 0 1 -46.34975291380272,50.91051270285416Z\" style=\"pointer-events: all; stroke-width: 0; fill: rgb(255, 102, 146); fill-opacity: 1; stroke: rgb(68, 68, 68); stroke-opacity: 1;\"/><g class=\"slicetext\"><text data-notex=\"1\" class=\"slicetext\" transform=\"translate(554.0356982166036,411.20082603764473)rotate(42.31523448339652)\" text-anchor=\"middle\" x=\"0\" y=\"0\" style=\"font-family: 'Open Sans', verdana, arial, sans-serif; font-size: 12px; fill: rgb(68, 68, 68); fill-opacity: 1; white-space: pre;\"><tspan class=\"line\" dy=\"0em\" x=\"0\" y=\"0\">Grant Park</tspan><tspan class=\"line\" dy=\"1.3em\" x=\"0\" y=\"0\">4.78%</tspan></text></g></g><g class=\"slice\"><path class=\"surface\" d=\"M492.53324363660664,341.0554856843005a92,92 0 0 0 9.27718874498953,-17.880650424973073l128.71564857239423,49.76225288899115a230,230 0 0 1 -23.192971862473826,44.70162606243268Z\" style=\"pointer-events: all; stroke-width: 0; fill: rgb(182, 232, 128); fill-opacity: 1; stroke: rgb(68, 68, 68); stroke-opacity: 1;\"/><g class=\"slicetext\"><text data-notex=\"1\" class=\"slicetext\" transform=\"translate(679.4028457305678,395.8660153982616)\" text-anchor=\"middle\" x=\"0\" y=\"0\" style=\"font-family: 'Open Sans', verdana, arial, sans-serif; font-size: 12px; fill: rgb(42, 63, 95); fill-opacity: 1; white-space: pre;\"><tspan class=\"line\" dy=\"0em\" x=\"0\" y=\"0\">Museum Campus</tspan><tspan class=\"line\" dy=\"1.3em\" x=\"0\" y=\"0\">3.49%</tspan></text></g></g><g class=\"slice\"><path class=\"surface\" d=\"M501.8104323815962,323.17483525932744a92,92 0 0 0 4.852090110272207,-17.54451167305883l135.99378373780252,23.4454853794029a230,230 0 0 1 -12.130225275680516,43.86127918264708Z\" style=\"pointer-events: all; stroke-width: 0; fill: rgb(255, 151, 255); fill-opacity: 1; stroke: rgb(68, 68, 68); stroke-opacity: 1;\"/><g class=\"slicetext\"><text data-notex=\"1\" class=\"slicetext\" transform=\"translate(604.8208129579784,338.7913299923662)rotate(15.459254463046818)\" text-anchor=\"middle\" x=\"0\" y=\"0\" style=\"font-family: 'Open Sans', verdana, arial, sans-serif; font-size: 12px; fill: rgb(68, 68, 68); fill-opacity: 1; white-space: pre;\"><tspan class=\"line\" dy=\"0em\" x=\"0\" y=\"0\">Gold Coast</tspan><tspan class=\"line\" dy=\"1.3em\" x=\"0\" y=\"0\">3.15%</tspan></text></g></g><g class=\"slice\"><path class=\"surface\" d=\"M506.66252249186834,305.6303235862686a92,92 0 0 0 1.3306254816593879,-16.753144106489838l137.9897219602916,-1.6842307803318541a230,230 0 0 1 -3.3265637041484695,41.88286026622459Z\" style=\"pointer-events: all; stroke-width: 0; fill: rgb(254, 203, 82); fill-opacity: 1; stroke: rgb(68, 68, 68); stroke-opacity: 1;\"/><g class=\"slicetext\"><text data-notex=\"1\" class=\"slicetext\" transform=\"translate(708.524042532341,305.001752333253)\" text-anchor=\"middle\" x=\"0\" y=\"0\" style=\"font-family: 'Open Sans', verdana, arial, sans-serif; font-size: 12px; fill: rgb(42, 63, 95); fill-opacity: 1; white-space: pre;\"><tspan class=\"line\" dy=\"0em\" x=\"0\" y=\"0\">Sheffield &amp; DePaul</tspan><tspan class=\"line\" dy=\"1.3em\" x=\"0\" y=\"0\">2.91%</tspan></text></g></g></g></g><g class=\"iciclelayer\"/><g class=\"treemaplayer\"/><g class=\"sunburstlayer\"/><g class=\"glimages\"/><defs id=\"topdefs-fddade\"><g class=\"clips\"/><clipPath id=\"legendfddade\"><rect width=\"157\" height=\"200\" x=\"0\" y=\"0\"/></clipPath></defs><g class=\"layer-above\"><g class=\"imagelayer\"/><g class=\"shapelayer\"/></g><g class=\"infolayer\"><g class=\"legend\" pointer-events=\"all\" transform=\"translate(749.84,60)\"><rect class=\"bg\" shape-rendering=\"crispEdges\" style=\"stroke: rgb(68, 68, 68); stroke-opacity: 1; fill: rgb(255, 255, 255); fill-opacity: 1; stroke-width: 0px;\" width=\"157\" height=\"200\" x=\"0\" y=\"0\"/><g class=\"scrollbox\" transform=\"\" clip-path=\"url(#legendfddade)\"><g class=\"groups\"><g class=\"traces\" transform=\"translate(0,14.5)\" style=\"opacity: 1;\"><text class=\"legendtext\" text-anchor=\"start\" x=\"40\" y=\"4.680000000000001\" style=\"font-family: 'Open Sans', verdana, arial, sans-serif; font-size: 12px; fill: rgb(42, 63, 95); fill-opacity: 1; white-space: pre;\">Loop</text><g class=\"layers\" style=\"opacity: 1;\"><g class=\"legendfill\"/><g class=\"legendlines\"/><g class=\"legendsymbols\"><g class=\"legendpoints\"><path class=\"legendpie\" d=\"M6,6H-6V-6H6Z\" transform=\"translate(20,0)\" style=\"stroke-width: 0; fill: rgb(99, 110, 250); fill-opacity: 1; stroke: rgb(68, 68, 68); stroke-opacity: 1;\"/></g></g></g><rect class=\"legendtoggle\" x=\"0\" y=\"-9.5\" width=\"151.1875\" height=\"19\" style=\"fill: rgb(0, 0, 0); fill-opacity: 0;\"/></g><g class=\"traces\" transform=\"translate(0,33.5)\" style=\"opacity: 1;\"><text class=\"legendtext\" text-anchor=\"start\" x=\"40\" y=\"4.680000000000001\" style=\"font-family: 'Open Sans', verdana, arial, sans-serif; font-size: 12px; fill: rgb(42, 63, 95); fill-opacity: 1; white-space: pre;\">River North</text><g class=\"layers\" style=\"opacity: 1;\"><g class=\"legendfill\"/><g class=\"legendlines\"/><g class=\"legendsymbols\"><g class=\"legendpoints\"><path class=\"legendpie\" d=\"M6,6H-6V-6H6Z\" transform=\"translate(20,0)\" style=\"stroke-width: 0; fill: rgb(239, 85, 59); fill-opacity: 1; stroke: rgb(68, 68, 68); stroke-opacity: 1;\"/></g></g></g><rect class=\"legendtoggle\" x=\"0\" y=\"-9.5\" width=\"151.1875\" height=\"19\" style=\"fill: rgb(0, 0, 0); fill-opacity: 0;\"/></g><g class=\"traces\" transform=\"translate(0,52.5)\" style=\"opacity: 1;\"><text class=\"legendtext\" text-anchor=\"start\" x=\"40\" y=\"4.680000000000001\" style=\"font-family: 'Open Sans', verdana, arial, sans-serif; font-size: 12px; fill: rgb(42, 63, 95); fill-opacity: 1; white-space: pre;\">Streeterville</text><g class=\"layers\" style=\"opacity: 1;\"><g class=\"legendfill\"/><g class=\"legendlines\"/><g class=\"legendsymbols\"><g class=\"legendpoints\"><path class=\"legendpie\" d=\"M6,6H-6V-6H6Z\" transform=\"translate(20,0)\" style=\"stroke-width: 0; fill: rgb(0, 204, 150); fill-opacity: 1; stroke: rgb(68, 68, 68); stroke-opacity: 1;\"/></g></g></g><rect class=\"legendtoggle\" x=\"0\" y=\"-9.5\" width=\"151.1875\" height=\"19\" style=\"fill: rgb(0, 0, 0); fill-opacity: 0;\"/></g><g class=\"traces\" transform=\"translate(0,71.5)\" style=\"opacity: 1;\"><text class=\"legendtext\" text-anchor=\"start\" x=\"40\" y=\"4.680000000000001\" style=\"font-family: 'Open Sans', verdana, arial, sans-serif; font-size: 12px; fill: rgb(42, 63, 95); fill-opacity: 1; white-space: pre;\">West Loop</text><g class=\"layers\" style=\"opacity: 1;\"><g class=\"legendfill\"/><g class=\"legendlines\"/><g class=\"legendsymbols\"><g class=\"legendpoints\"><path class=\"legendpie\" d=\"M6,6H-6V-6H6Z\" transform=\"translate(20,0)\" style=\"stroke-width: 0; fill: rgb(171, 99, 250); fill-opacity: 1; stroke: rgb(68, 68, 68); stroke-opacity: 1;\"/></g></g></g><rect class=\"legendtoggle\" x=\"0\" y=\"-9.5\" width=\"151.1875\" height=\"19\" style=\"fill: rgb(0, 0, 0); fill-opacity: 0;\"/></g><g class=\"traces\" transform=\"translate(0,90.5)\" style=\"opacity: 1;\"><text class=\"legendtext\" text-anchor=\"start\" x=\"40\" y=\"4.680000000000001\" style=\"font-family: 'Open Sans', verdana, arial, sans-serif; font-size: 12px; fill: rgb(42, 63, 95); fill-opacity: 1; white-space: pre;\">O'Hare</text><g class=\"layers\" style=\"opacity: 1;\"><g class=\"legendfill\"/><g class=\"legendlines\"/><g class=\"legendsymbols\"><g class=\"legendpoints\"><path class=\"legendpie\" d=\"M6,6H-6V-6H6Z\" transform=\"translate(20,0)\" style=\"stroke-width: 0; fill: rgb(255, 161, 90); fill-opacity: 1; stroke: rgb(68, 68, 68); stroke-opacity: 1;\"/></g></g></g><rect class=\"legendtoggle\" x=\"0\" y=\"-9.5\" width=\"151.1875\" height=\"19\" style=\"fill: rgb(0, 0, 0); fill-opacity: 0;\"/></g><g class=\"traces\" transform=\"translate(0,109.5)\" style=\"opacity: 1;\"><text class=\"legendtext\" text-anchor=\"start\" x=\"40\" y=\"4.680000000000001\" style=\"font-family: 'Open Sans', verdana, arial, sans-serif; font-size: 12px; fill: rgb(42, 63, 95); fill-opacity: 1; white-space: pre;\">Lake View</text><g class=\"layers\" style=\"opacity: 1;\"><g class=\"legendfill\"/><g class=\"legendlines\"/><g class=\"legendsymbols\"><g class=\"legendpoints\"><path class=\"legendpie\" d=\"M6,6H-6V-6H6Z\" transform=\"translate(20,0)\" style=\"stroke-width: 0; fill: rgb(25, 211, 243); fill-opacity: 1; stroke: rgb(68, 68, 68); stroke-opacity: 1;\"/></g></g></g><rect class=\"legendtoggle\" x=\"0\" y=\"-9.5\" width=\"151.1875\" height=\"19\" style=\"fill: rgb(0, 0, 0); fill-opacity: 0;\"/></g><g class=\"traces\" transform=\"translate(0,128.5)\" style=\"opacity: 1;\"><text class=\"legendtext\" text-anchor=\"start\" x=\"40\" y=\"4.680000000000001\" style=\"font-family: 'Open Sans', verdana, arial, sans-serif; font-size: 12px; fill: rgb(42, 63, 95); fill-opacity: 1; white-space: pre;\">Grant Park</text><g class=\"layers\" style=\"opacity: 1;\"><g class=\"legendfill\"/><g class=\"legendlines\"/><g class=\"legendsymbols\"><g class=\"legendpoints\"><path class=\"legendpie\" d=\"M6,6H-6V-6H6Z\" transform=\"translate(20,0)\" style=\"stroke-width: 0; fill: rgb(255, 102, 146); fill-opacity: 1; stroke: rgb(68, 68, 68); stroke-opacity: 1;\"/></g></g></g><rect class=\"legendtoggle\" x=\"0\" y=\"-9.5\" width=\"151.1875\" height=\"19\" style=\"fill: rgb(0, 0, 0); fill-opacity: 0;\"/></g><g class=\"traces\" transform=\"translate(0,147.5)\" style=\"opacity: 1;\"><text class=\"legendtext\" text-anchor=\"start\" x=\"40\" y=\"4.680000000000001\" style=\"font-family: 'Open Sans', verdana, arial, sans-serif; font-size: 12px; fill: rgb(42, 63, 95); fill-opacity: 1; white-space: pre;\">Museum Campus</text><g class=\"layers\" style=\"opacity: 1;\"><g class=\"legendfill\"/><g class=\"legendlines\"/><g class=\"legendsymbols\"><g class=\"legendpoints\"><path class=\"legendpie\" d=\"M6,6H-6V-6H6Z\" transform=\"translate(20,0)\" style=\"stroke-width: 0; fill: rgb(182, 232, 128); fill-opacity: 1; stroke: rgb(68, 68, 68); stroke-opacity: 1;\"/></g></g></g><rect class=\"legendtoggle\" x=\"0\" y=\"-9.5\" width=\"151.1875\" height=\"19\" style=\"fill: rgb(0, 0, 0); fill-opacity: 0;\"/></g><g class=\"traces\" transform=\"translate(0,166.5)\" style=\"opacity: 1;\"><text class=\"legendtext\" text-anchor=\"start\" x=\"40\" y=\"4.680000000000001\" style=\"font-family: 'Open Sans', verdana, arial, sans-serif; font-size: 12px; fill: rgb(42, 63, 95); fill-opacity: 1; white-space: pre;\">Gold Coast</text><g class=\"layers\" style=\"opacity: 1;\"><g class=\"legendfill\"/><g class=\"legendlines\"/><g class=\"legendsymbols\"><g class=\"legendpoints\"><path class=\"legendpie\" d=\"M6,6H-6V-6H6Z\" transform=\"translate(20,0)\" style=\"stroke-width: 0; fill: rgb(255, 151, 255); fill-opacity: 1; stroke: rgb(68, 68, 68); stroke-opacity: 1;\"/></g></g></g><rect class=\"legendtoggle\" x=\"0\" y=\"-9.5\" width=\"151.1875\" height=\"19\" style=\"fill: rgb(0, 0, 0); fill-opacity: 0;\"/></g><g class=\"traces\" transform=\"translate(0,185.5)\" style=\"opacity: 1;\"><text class=\"legendtext\" text-anchor=\"start\" x=\"40\" y=\"4.680000000000001\" style=\"font-family: 'Open Sans', verdana, arial, sans-serif; font-size: 12px; fill: rgb(42, 63, 95); fill-opacity: 1; white-space: pre;\">Sheffield &amp; DePaul</text><g class=\"layers\" style=\"opacity: 1;\"><g class=\"legendfill\"/><g class=\"legendlines\"/><g class=\"legendsymbols\"><g class=\"legendpoints\"><path class=\"legendpie\" d=\"M6,6H-6V-6H6Z\" transform=\"translate(20,0)\" style=\"stroke-width: 0; fill: rgb(254, 203, 82); fill-opacity: 1; stroke: rgb(68, 68, 68); stroke-opacity: 1;\"/></g></g></g><rect class=\"legendtoggle\" x=\"0\" y=\"-9.5\" width=\"151.1875\" height=\"19\" style=\"fill: rgb(0, 0, 0); fill-opacity: 0;\"/></g></g></g><rect class=\"scrollbar\" rx=\"20\" ry=\"3\" width=\"0\" height=\"0\" style=\"fill: rgb(128, 139, 164); fill-opacity: 1;\" x=\"0\" y=\"0\"/></g><g class=\"g-gtitle\"><text class=\"gtitle\" x=\"47.5\" y=\"30\" text-anchor=\"start\" dy=\"0em\" style=\"font-family: 'Open Sans', verdana, arial, sans-serif; font-size: 17px; fill: rgb(42, 63, 95); opacity: 1; font-weight: normal; white-space: pre;\">Trips share by the neighborhoods on November 2017</text></g><g class=\"annotation\" data-index=\"0\" style=\"opacity: 1;\"><g class=\"annotation-text-g\" transform=\"rotate(0,416,290)\"><g class=\"cursor-pointer\" transform=\"translate(351,277)\"><rect class=\"bg\" x=\"0.5\" y=\"0.5\" width=\"129\" height=\"25\" style=\"stroke-width: 1px; stroke: rgb(0, 0, 0); stroke-opacity: 0; fill: rgb(0, 0, 0); fill-opacity: 0;\"/><text class=\"annotation-text\" text-anchor=\"middle\" x=\"65.015625\" y=\"20\" style=\"font-family: 'Open Sans', verdana, arial, sans-serif; font-size: 18px; fill: rgb(42, 63, 95); fill-opacity: 1; white-space: pre;\">Neighborhood</text></g></g></g></g></svg>"
      ]
     },
     "metadata": {},
     "output_type": "display_data"
    }
   ],
   "source": [
    "fig = px.pie(dropoff_data, values='average_trips', names='dropoff_location_name',\n",
    "             hover_name='dropoff_location_name', hole=0.4, width=950, height=600)\n",
    "fig.update_traces(text = dropoff_data.dropoff_location_name)\n",
    "fig.update_layout(\n",
    "    title_text=\"Trips share by the neighborhoods on November 2017\",\n",
    "    # Add annotations in the center of the donut pies.\n",
    "    annotations=[dict(text='Neighborhood', x=0.5, y=0.5, font_size=18, showarrow=False)])\n",
    "fig.show()"
   ]
  },
  {
   "cell_type": "markdown",
   "id": "cade7d93",
   "metadata": {},
   "source": [
    "#### The number of taxi orders per time of the day"
   ]
  },
  {
   "cell_type": "code",
   "execution_count": 27,
   "id": "8f0cdc40",
   "metadata": {},
   "outputs": [],
   "source": [
    "# making a copy of the initial dataset\n",
    "weather_df_modified = weather_df.copy()\n",
    "\n",
    "#extracting hors and days of week\n",
    "weather_df_modified['hour'] = weather_df_modified.start_ts.dt.hour"
   ]
  },
  {
   "cell_type": "code",
   "execution_count": 28,
   "id": "688a5ed9",
   "metadata": {},
   "outputs": [
    {
     "data": {
      "image/png": "[encoded data removed]",
      "text/plain": [
       "<Figure size 1152x576 with 1 Axes>"
      ]
     },
     "metadata": {
      "needs_background": "light"
     },
     "output_type": "display_data"
    }
   ],
   "source": [
    "# counting the number of rides by each hor of the day\n",
    "hours_data = weather_df_modified.groupby('hour')['start_ts'].count().to_frame()\n",
    "\n",
    "# plotting the results\n",
    "plt.figure(figsize=(16,8))\n",
    "sns.barplot(data=hours_data, x=hours_data.index, y='start_ts', palette='rocket_r')\n",
    "plt.title('The number of taxi orders per time of the day', size=24)\n",
    "plt.xlabel('Hour', size=18)\n",
    "plt.ylabel('Number of rides', size=18)\n",
    "plt.xticks(size=14)\n",
    "plt.yticks(size=14)\n",
    "plt.show()"
   ]
  },
  {
   "cell_type": "markdown",
   "id": "21fa0bd9",
   "metadata": {},
   "source": [
    "#### Histogram of the rides' durations"
   ]
  },
  {
   "cell_type": "code",
   "execution_count": 29,
   "id": "5f52cf4a",
   "metadata": {},
   "outputs": [
    {
     "data": {
      "image/png": "[encoded data removed]",
      "text/plain": [
       "<Figure size 1152x576 with 1 Axes>"
      ]
     },
     "metadata": {
      "needs_background": "light"
     },
     "output_type": "display_data"
    }
   ],
   "source": [
    "# plotting the results\n",
    "plt.figure(figsize=(16,8))\n",
    "sns.histplot(data=weather_df_modified, x='duration_seconds', kde=True)\n",
    "plt.title(\"Histogram of the rides' durations\", size=24)\n",
    "plt.xlabel('Duration [sec]', size=18)\n",
    "plt.ylabel('Number of rides', size=18)\n",
    "plt.xticks(size=14)\n",
    "plt.yticks(size=14)\n",
    "plt.show()"
   ]
  },
  {
   "cell_type": "markdown",
   "id": "9957826a",
   "metadata": {},
   "source": [
    "#### Trips share by the weather conditions"
   ]
  },
  {
   "cell_type": "code",
   "execution_count": 30,
   "id": "3d27eada",
   "metadata": {},
   "outputs": [
    {
     "data": {
      "image/svg+xml": [
       "<svg class=\"main-svg\" xmlns=\"http://www.w3.org/2000/svg\" xmlns:xlink=\"http://www.w3.org/1999/xlink\" width=\"950\" height=\"600\" style=\"\" viewBox=\"0 0 950 600\"><rect x=\"0\" y=\"0\" width=\"950\" height=\"600\" style=\"fill: rgb(255, 255, 255); fill-opacity: 1;\"/><defs id=\"defs-44bc7a\"><g class=\"clips\"/><g class=\"gradients\"/><g class=\"patterns\"/></defs><g class=\"bglayer\"/><g class=\"layer-below\"><g class=\"imagelayer\"/><g class=\"shapelayer\"/></g><g class=\"cartesianlayer\"/><g class=\"polarlayer\"/><g class=\"smithlayer\"/><g class=\"ternarylayer\"/><g class=\"geolayer\"/><g class=\"funnelarealayer\"/><g class=\"pielayer\"><g class=\"trace\" stroke-linejoin=\"round\" style=\"opacity: 1;\"><g class=\"slice\"><path class=\"surface\" d=\"M382.40217635951143,245.63795739129338a92,92 0 1 0 80.59782364048857,-47.63795739129339l0,-138a230,230 0 1 1 -201.49455910122143,119.09489347823347Z\" style=\"pointer-events: all; stroke-width: 0; fill: rgb(99, 110, 250); fill-opacity: 1; stroke: rgb(68, 68, 68); stroke-opacity: 1;\"/><g class=\"slicetext\"><text data-notex=\"1\" class=\"slicetext\" transform=\"translate(544.920676556645,425.29546672971776)\" text-anchor=\"middle\" x=\"0\" y=\"0\" style=\"font-family: 'Open Sans', verdana, arial, sans-serif; font-size: 12px; fill: rgb(255, 255, 255); fill-opacity: 1; white-space: pre;\"><tspan class=\"line\" dy=\"0em\" x=\"0\" y=\"0\">Good</tspan><tspan class=\"line\" dy=\"1.3em\" x=\"0\" y=\"0\">83%</tspan></text></g></g><g class=\"slice\"><path class=\"surface\" d=\"M463,198a92,92 0 0 0 -80.59782364048857,47.63795739129337l-120.89673546073283,-66.54306391305995a230,230 0 0 1 201.4945591012214,-119.09489347823342Z\" style=\"pointer-events: all; stroke-width: 0; fill: rgb(239, 85, 59); fill-opacity: 1; stroke: rgb(68, 68, 68); stroke-opacity: 1;\"/><g class=\"slicetext\"><text data-notex=\"1\" class=\"slicetext\" transform=\"translate(381.04026094335495,148.09515827028227)\" text-anchor=\"middle\" x=\"0\" y=\"0\" style=\"font-family: 'Open Sans', verdana, arial, sans-serif; font-size: 12px; fill: rgb(68, 68, 68); fill-opacity: 1; white-space: pre;\"><tspan class=\"line\" dy=\"0em\" x=\"0\" y=\"0\">Bad</tspan><tspan class=\"line\" dy=\"1.3em\" x=\"0\" y=\"0\">17%</tspan></text></g></g></g></g><g class=\"iciclelayer\"/><g class=\"treemaplayer\"/><g class=\"sunburstlayer\"/><g class=\"glimages\"/><defs id=\"topdefs-44bc7a\"><g class=\"clips\"/><clipPath id=\"legend44bc7a\"><rect width=\"77\" height=\"48\" x=\"0\" y=\"0\"/></clipPath></defs><g class=\"layer-above\"><g class=\"imagelayer\"/><g class=\"shapelayer\"/></g><g class=\"infolayer\"><g class=\"legend\" pointer-events=\"all\" transform=\"translate(861.32,60)\"><rect class=\"bg\" shape-rendering=\"crispEdges\" style=\"stroke: rgb(68, 68, 68); stroke-opacity: 1; fill: rgb(255, 255, 255); fill-opacity: 1; stroke-width: 0px;\" width=\"77\" height=\"48\" x=\"0\" y=\"0\"/><g class=\"scrollbox\" transform=\"\" clip-path=\"url(#legend44bc7a)\"><g class=\"groups\"><g class=\"traces\" transform=\"translate(0,14.5)\" style=\"opacity: 1;\"><text class=\"legendtext\" text-anchor=\"start\" x=\"40\" y=\"4.680000000000001\" style=\"font-family: 'Open Sans', verdana, arial, sans-serif; font-size: 12px; fill: rgb(42, 63, 95); fill-opacity: 1; white-space: pre;\">Good</text><g class=\"layers\" style=\"opacity: 1;\"><g class=\"legendfill\"/><g class=\"legendlines\"/><g class=\"legendsymbols\"><g class=\"legendpoints\"><path class=\"legendpie\" d=\"M6,6H-6V-6H6Z\" transform=\"translate(20,0)\" style=\"stroke-width: 0; fill: rgb(99, 110, 250); fill-opacity: 1; stroke: rgb(68, 68, 68); stroke-opacity: 1;\"/></g></g></g><rect class=\"legendtoggle\" x=\"0\" y=\"-9.5\" width=\"71.359375\" height=\"19\" style=\"fill: rgb(0, 0, 0); fill-opacity: 0;\"/></g><g class=\"traces\" transform=\"translate(0,33.5)\" style=\"opacity: 1;\"><text class=\"legendtext\" text-anchor=\"start\" x=\"40\" y=\"4.680000000000001\" style=\"font-family: 'Open Sans', verdana, arial, sans-serif; font-size: 12px; fill: rgb(42, 63, 95); fill-opacity: 1; white-space: pre;\">Bad</text><g class=\"layers\" style=\"opacity: 1;\"><g class=\"legendfill\"/><g class=\"legendlines\"/><g class=\"legendsymbols\"><g class=\"legendpoints\"><path class=\"legendpie\" d=\"M6,6H-6V-6H6Z\" transform=\"translate(20,0)\" style=\"stroke-width: 0; fill: rgb(239, 85, 59); fill-opacity: 1; stroke: rgb(68, 68, 68); stroke-opacity: 1;\"/></g></g></g><rect class=\"legendtoggle\" x=\"0\" y=\"-9.5\" width=\"71.359375\" height=\"19\" style=\"fill: rgb(0, 0, 0); fill-opacity: 0;\"/></g></g></g><rect class=\"scrollbar\" rx=\"20\" ry=\"3\" width=\"0\" height=\"0\" style=\"fill: rgb(128, 139, 164); fill-opacity: 1;\" x=\"0\" y=\"0\"/></g><g class=\"g-gtitle\"><text class=\"gtitle\" x=\"47.5\" y=\"30\" text-anchor=\"start\" dy=\"0em\" style=\"font-family: 'Open Sans', verdana, arial, sans-serif; font-size: 17px; fill: rgb(42, 63, 95); opacity: 1; font-weight: normal; white-space: pre;\">Trips share by rge weather conditions on November 2017</text></g><g class=\"annotation\" data-index=\"0\" style=\"opacity: 1;\"><g class=\"annotation-text-g\" transform=\"rotate(0,463,290)\"><g class=\"cursor-pointer\" transform=\"translate(375,277)\"><rect class=\"bg\" x=\"0.5\" y=\"0.5\" width=\"176\" height=\"25\" style=\"stroke-width: 1px; stroke: rgb(0, 0, 0); stroke-opacity: 0; fill: rgb(0, 0, 0); fill-opacity: 0;\"/><text class=\"annotation-text\" text-anchor=\"middle\" x=\"88.625\" y=\"20\" style=\"font-family: 'Open Sans', verdana, arial, sans-serif; font-size: 18px; fill: rgb(42, 63, 95); fill-opacity: 1; white-space: pre;\">Weather conditions</text></g></g></g></g></svg>"
      ]
     },
     "metadata": {},
     "output_type": "display_data"
    }
   ],
   "source": [
    "data_weather = weather_df_modified.groupby('weather_conditions').hour.count().to_frame()\n",
    "\n",
    "fig = px.pie(data_weather, values='hour', names=data_weather.index, hover_name=data_weather.index,\n",
    "             hole=0.4, width=950, height=600)\n",
    "fig.update_traces(text = data_weather.index)\n",
    "fig.update_layout(\n",
    "    title_text=\"Trips share by rge weather conditions on November 2017\",\n",
    "    # Add annotations in the center of the donut pies.\n",
    "    annotations=[dict(text='Weather conditions', x=0.5, y=0.5, font_size=18, showarrow=False)])\n",
    "fig.show()"
   ]
  },
  {
   "cell_type": "markdown",
   "id": "40ae8578",
   "metadata": {},
   "source": [
    "### Conclusion\n",
    "\n",
    "We have found top-10 companies by rides and their share % on November 16-17 2017. The top-1 company by rides (by far) is \"Flash Cab\" with a ride share of 19.7%. Other companies top-10 hold from 11% to 6% of the rideshare. Moreover, we have found the top-10 neighborhoods by drop-offs. Among them, Loop, River North, Streeterville, and West Loop are the most popular ones. The most popular neighborhood, Loop holds 24.8% of all drop-offs.\n",
    "\n",
    "Furthermore, we have discovered that there are several hours in a day with most of the orders: 6 am, 10 am, 12 am (top time by the orders), 14 am, and 16 am. The ride duration histogram shows us a bimodal distribution with most of the rides about 1300 [sec] duration and 2200 [sec] duration. Finally, most of the rides (83%) take place in good weather, other 17% of the rides take place in bad weather."
   ]
  },
  {
   "cell_type": "markdown",
   "id": "54016730",
   "metadata": {},
   "source": [
    "## Step 5. Testing hypotheses (Python)\n",
    "\n",
    "1. \"The average duration of rides from the Loop to O'Hare International Airport changes on rainy Saturdays.\"\n",
    "\n",
    "`Null hypothesis:` The average duration of rides from the Loop to O'Hare International Airport NOT changes on rainy Saturdays.\n",
    "\n",
    "`Alternative hypothesis:` The average duration of rides from the Loop to O'Hare International Airport changes on rainy Saturdays.\n",
    "\n",
    "As a generally accepted limit, 95% confidence is enough for us, hence `alpha=0.05`"
   ]
  },
  {
   "cell_type": "markdown",
   "id": "13fe4958",
   "metadata": {},
   "source": [
    "### Visualization: histogram of the ride duration depending on the weather"
   ]
  },
  {
   "cell_type": "code",
   "execution_count": 31,
   "id": "590e69ff",
   "metadata": {},
   "outputs": [
    {
     "data": {
      "image/png": "[encoded data removed]",
      "text/plain": [
       "<Figure size 1152x576 with 1 Axes>"
      ]
     },
     "metadata": {
      "needs_background": "light"
     },
     "output_type": "display_data"
    }
   ],
   "source": [
    "good_weather = weather_df[weather_df['weather_conditions'] == 'Good']['duration_seconds']\n",
    "bad_weather = weather_df[weather_df['weather_conditions'] == 'Bad']['duration_seconds']\n",
    "\n",
    "plt.figure(figsize=(16,8))\n",
    "\n",
    "sns.distplot(good_weather, hist=False, kde_kws={'shade':True, 'color':'green', 'alpha':0.3}, label='Good weather')\n",
    "sns.distplot(bad_weather, hist=False, kde_kws={'shade':True, 'color':'orange', 'alpha':0.3}, label='Bad weather')\n",
    "\n",
    "plt.title(\"Histogram of the ride duration depending on the weather\", size=24)\n",
    "plt.xlabel('Duration [sec]', size=18)\n",
    "plt.ylabel('Distribution density [a.u.]', size=18)\n",
    "plt.xlim((0, 5000))\n",
    "plt.legend(fontsize=14)\n",
    "plt.xticks(size=14)\n",
    "plt.yticks(size=14)\n",
    "plt.show()"
   ]
  },
  {
   "cell_type": "code",
   "execution_count": 32,
   "id": "a49d9024",
   "metadata": {},
   "outputs": [
    {
     "name": "stdout",
     "output_type": "stream",
     "text": [
      "Variance of ride durations during good weather = 598217\n",
      "Variance of ride durations during bad weather  = 564819\n"
     ]
    }
   ],
   "source": [
    "var_good = round(np.var(good_weather, ddof=1))\n",
    "var_bad = round(np.var(bad_weather, ddof=1))\n",
    "\n",
    "print(f'Variance of ride durations during good weather = {var_good}')\n",
    "print(f'Variance of ride durations during bad weather  = {var_bad}')"
   ]
  },
  {
   "cell_type": "markdown",
   "id": "2569ad18",
   "metadata": {},
   "source": [
    "Let's compare the variance of the two populations. Variances of ride durations during good and bad weather are almost identical. We will use the `equal_var=True` parameter"
   ]
  },
  {
   "cell_type": "markdown",
   "id": "778fd895",
   "metadata": {},
   "source": [
    "### Checking the hypothesis"
   ]
  },
  {
   "cell_type": "code",
   "execution_count": 33,
   "id": "1edd14cb",
   "metadata": {},
   "outputs": [
    {
     "name": "stdout",
     "output_type": "stream",
     "text": [
      "p-value:  7.397770692813604e-08\n",
      "Reject the null hypothesis\n",
      "The average trip duration during good weather is: 2032 ± 773 [sec]\n",
      "The average trip duration during bad weather is: 2409 ± 752 [sec]\n"
     ]
    }
   ],
   "source": [
    "alpha = 0.05\n",
    "\n",
    "results = st.ttest_ind(good_weather, bad_weather, equal_var=True)\n",
    "\n",
    "print('p-value: ', results.pvalue)\n",
    "\n",
    "if results.pvalue < alpha:\n",
    "    print(\"Reject the null hypothesis\")\n",
    "    print(f'The average trip duration during good weather is: {int(good_weather.mean())} ± {round(good_weather.std())} [sec]')\n",
    "    print(f'The average trip duration during bad weather is: {int(bad_weather.mean())} ± {round(bad_weather.std())} [sec]')\n",
    "else:\n",
    "    print(\"Failed to reject the null hypothesis\")\n",
    "    print(f'The average trip duration during good weather is: {int(good_weather.mean())} ± {good_weather.std()} [sec]')\n",
    "    print(f'The average trip duration during bad weather is: {int(bad_weather.mean())} ± {bad_weather.std()} [sec]')"
   ]
  },
  {
   "cell_type": "markdown",
   "id": "27db4e94",
   "metadata": {},
   "source": [
    "### Conclusion\n",
    "\n",
    "As we can see, from the visualization, there are significant differences between trip durations during good and bad weather. Both show bimodal distributions but the durations during bad weather are shifted towards the higher values. The Student's t-test has proven that we have to reject the null-hypothesis, meaning that the average trip duration is different depending on the weather conditions. \n",
    "\n",
    "* The average trip duration during `good weather` is: 2032 ± 773 [sec] \n",
    "* The average trip duration during `bad weather` is: 2409 ± 752 [sec]"
   ]
  }
 ],
 "metadata": {
  "kernelspec": {
   "display_name": "Python 3 (ipykernel)",
   "language": "python",
   "name": "python3"
  },
  "language_info": {
   "codemirror_mode": {
    "name": "ipython",
    "version": 3
   },
   "file_extension": ".py",
   "mimetype": "text/x-python",
   "name": "python",
   "nbconvert_exporter": "python",
   "pygments_lexer": "ipython3",
   "version": "3.9.7"
  },
  "toc": {
   "base_numbering": 1,
   "nav_menu": {},
   "number_sections": true,
   "sideBar": true,
   "skip_h1_title": false,
   "title_cell": "Table of Contents",
   "title_sidebar": "Contents",
   "toc_cell": false,
   "toc_position": {
    "height": "calc(100% - 180px)",
    "left": "10px",
    "top": "150px",
    "width": "372.438px"
   },
   "toc_section_display": true,
   "toc_window_display": true
  }
 },
 "nbformat": 4,
 "nbformat_minor": 5
}
